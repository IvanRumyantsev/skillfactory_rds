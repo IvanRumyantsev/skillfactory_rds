{
 "cells": [
  {
   "cell_type": "markdown",
   "execution_count": null,
   "metadata": {},
   "source": [
    "# DST-10_Project3_Arcis_Predict TripAdvisor Rating\n",
    "В данном проекте нам предстоит предсказать рейтинг ресторана в TripAdvisor\n"
   ]
  },
  {
   "cell_type": "markdown",
   "execution_count": null,
   "metadata": {},
   "source": [
    "# import"
   ]
  },
  {
   "cell_type": "code",
   "execution_count": 1,
   "metadata": {
    "_cell_guid": "b1076dfc-b9ad-4769-8c92-a6c4dae69d19",
    "_uuid": "8f2839f25d086af736a60e9eeb907d3b93b6e0e5"
   },
   "outputs": [
    {
     "name": "stdout",
     "output_type": "stream",
     "text": [
      "/kaggle/input/sf-dst-restaurant-rating/main_task.csv\n",
      "/kaggle/input/sf-dst-restaurant-rating/kaggle_task.csv\n",
      "/kaggle/input/sf-dst-restaurant-rating/sample_submission.csv\n"
     ]
    }
   ],
   "source": [
    "# This Python 3 environment comes with many helpful analytics libraries installed\n",
    "# It is defined by the kaggle/python docker image: https://github.com/kaggle/docker-python\n",
    "# For example, here's several helpful packages to load in \n",
    "\n",
    "import numpy as np # linear algebra\n",
    "import pandas as pd # data processing, CSV file I/O (e.g. pd.read_csv)\n",
    "\n",
    "import matplotlib.pyplot as plt\n",
    "import seaborn as sns \n",
    "%matplotlib inline\n",
    "\n",
    "from sklearn.preprocessing import LabelEncoder, MultiLabelBinarizer\n",
    "from datetime import datetime, timedelta, date, time # для работы с датами отзывов\n",
    "import re # для работы с датами отзывов\n",
    "\n",
    "# Загружаем специальный удобный инструмент для разделения датасета:\n",
    "from sklearn.model_selection import train_test_split\n",
    "\n",
    "# Input data files are available in the \"../input/\" directory.\n",
    "# For example, running this (by clicking run or pressing Shift+Enter) will list all files under the input directory\n",
    "\n",
    "import os\n",
    "for dirname, _, filenames in os.walk('/kaggle/input'):\n",
    "    for filename in filenames:\n",
    "        print(os.path.join(dirname, filename))\n",
    "\n",
    "# Any results you write to the current directory are saved as output.\n",
    "\n",
    "# всегда фиксируйте RANDOM_SEED, чтобы ваши эксперименты были воспроизводимы!\n",
    "RANDOM_SEED = 42\n",
    "\n",
    "# зафиксируем версию пакетов, чтобы эксперименты были воспроизводимы:\n",
    "!pip freeze > requirements.txt"
   ]
  },
  {
   "cell_type": "markdown",
   "execution_count": null,
   "metadata": {},
   "source": [
    "# DATA"
   ]
  },
  {
   "cell_type": "code",
   "execution_count": 2,
   "metadata": {
    "_cell_guid": "79c7e3d0-c299-4dcb-8224-4455121ee9b0",
    "_uuid": "d629ff2d2480ee46fbb7e2d37f6b5fab8052498a"
   },
   "outputs": [],
   "source": [
    "DATA_DIR = '/kaggle/input/sf-dst-restaurant-rating/'\n",
    "df_train = pd.read_csv(DATA_DIR+'/main_task.csv')\n",
    "df_test = pd.read_csv(DATA_DIR+'kaggle_task.csv')\n",
    "sample_submission = pd.read_csv(DATA_DIR+'/sample_submission.csv')\n",
    "\n",
    "# ВАЖНО! для корректной обработки признаков объединяем трейн и тест в один датасет\n",
    "df_train['sample'] = 1 # помечаем где у нас трейн\n",
    "df_test['sample'] = 0 # помечаем где у нас тест\n",
    "df_test['Rating'] = 0 # в тесте у нас нет значения Rating, мы его должны предсказать, по этому пока просто заполняем нулями\n",
    "\n",
    "df = df_test.append(df_train, sort=False).reset_index(drop=True) # объединяем"
   ]
  },
  {
   "cell_type": "code",
   "execution_count": 3,
   "metadata": {},
   "outputs": [
    {
     "name": "stdout",
     "output_type": "stream",
     "text": [
      "<class 'pandas.core.frame.DataFrame'>\n",
      "RangeIndex: 50000 entries, 0 to 49999\n",
      "Data columns (total 11 columns):\n",
      "Restaurant_id        50000 non-null object\n",
      "City                 50000 non-null object\n",
      "Cuisine Style        38410 non-null object\n",
      "Ranking              50000 non-null float64\n",
      "Price Range          32639 non-null object\n",
      "Number of Reviews    46800 non-null float64\n",
      "Reviews              49998 non-null object\n",
      "URL_TA               50000 non-null object\n",
      "ID_TA                50000 non-null object\n",
      "sample               50000 non-null int64\n",
      "Rating               50000 non-null float64\n",
      "dtypes: float64(3), int64(1), object(7)\n",
      "memory usage: 4.2+ MB\n"
     ]
    }
   ],
   "source": [
    "df.info()"
   ]
  },
  {
   "cell_type": "markdown",
   "execution_count": null,
   "metadata": {},
   "source": [
    "Подробнее по признакам:\n",
    "* City: Город \n",
    "* Cuisine Style: Кухня\n",
    "* Ranking: Ранг ресторана относительно других ресторанов в этом городе\n",
    "* Price Range: Цены в ресторане в 3 категориях\n",
    "* Number of Reviews: Количество отзывов\n",
    "* Reviews: 2 последних отзыва и даты этих отзывов\n",
    "* URL_TA: страница ресторана на 'www.tripadvisor.com' \n",
    "* ID_TA: ID ресторана в TripAdvisor\n",
    "* Rating: Рейтинг ресторана"
   ]
  },
  {
   "cell_type": "markdown",
   "execution_count": null,
   "metadata": {},
   "source": [
    "# Restaurant_id"
   ]
  },
  {
   "cell_type": "markdown",
   "execution_count": null,
   "metadata": {},
   "source": [
    "Идентификатор ресторана. Не интересен с точки зрения обучения модели. Пропусков нет."
   ]
  },
  {
   "cell_type": "markdown",
   "execution_count": null,
   "metadata": {},
   "source": [
    "# City"
   ]
  },
  {
   "cell_type": "code",
   "execution_count": 4,
   "metadata": {},
   "outputs": [
    {
     "data": {
      "text/plain": [
       "<matplotlib.axes._subplots.AxesSubplot at 0x7eff3bbb6128>"
      ]
     },
     "execution_count": 4,
     "metadata": {},
     "output_type": "execute_result"
    },
    {
     "data": {
      "image/png": "[encoded data removed]",
      "text/plain": [
       "<Figure size 432x288 with 1 Axes>"
      ]
     },
     "metadata": {
      "needs_background": "light"
     },
     "output_type": "display_data"
    }
   ],
   "source": [
    "df_train['City'].value_counts(dropna = False, ascending=True).plot(kind='barh')"
   ]
  },
  {
   "cell_type": "code",
   "execution_count": 5,
   "metadata": {},
   "outputs": [
    {
     "data": {
      "text/plain": [
       "set()"
      ]
     },
     "execution_count": 5,
     "metadata": {},
     "output_type": "execute_result"
    }
   ],
   "source": [
    "train_city = set(df_train['City'].value_counts().index)\n",
    "test_city = set(df_test['City'].value_counts().index)\n",
    "test_city - train_city"
   ]
  },
  {
   "cell_type": "markdown",
   "execution_count": null,
   "metadata": {},
   "source": [
    "**В тестовом наборе данных содержатся те же города что и в обучающей выборке**"
   ]
  },
  {
   "cell_type": "markdown",
   "execution_count": null,
   "metadata": {},
   "source": [
    "Давайте найдём квантили 0.9 и 0.1 для рейтинга по каждому городу и добавим эту информацию в соотвествующие столбцы."
   ]
  },
  {
   "cell_type": "code",
   "execution_count": 6,
   "metadata": {},
   "outputs": [],
   "source": [
    "def city_rating_quantile_mean(df):\n",
    "    \n",
    "    quantile_09 = df_train.groupby(['City'])['Rating'].quantile(0.9)\n",
    "    quantile_01 = df_train.groupby(['City'])['Rating'].quantile(0.1)\n",
    "    mean_city = df_train.groupby(['City'])['Rating'].mean()\n",
    "    \n",
    "    df['city_rating_quantile_09'] = df['City'].apply(lambda x: quantile_09[x])\n",
    "    df['city_rating_quantile_01'] = df['City'].apply(lambda x: quantile_01[x])\n",
    "    df['city_rating_mean'] = df['City'].apply(lambda x: mean_city[x])\n",
    "    \n",
    "    return None    "
   ]
  },
  {
   "cell_type": "code",
   "execution_count": 7,
   "metadata": {},
   "outputs": [],
   "source": [
    "def city_dummies(df):\n",
    "    df['City2'] = df['City']\n",
    "   \n",
    "    return pd.get_dummies(df, columns=[ 'City2',], dummy_na=True)"
   ]
  },
  {
   "cell_type": "markdown",
   "execution_count": null,
   "metadata": {},
   "source": [
    "Добавим информацию о том является ли город столицей (бинарный признак)"
   ]
  },
  {
   "cell_type": "code",
   "execution_count": 8,
   "metadata": {},
   "outputs": [],
   "source": [
    "def capital_check(df):\n",
    "    not_capital_list = ['Barcelona', 'Milan', 'Hamburg',\n",
    "                        'Munich', 'Lyon', 'Zurich',\n",
    "                        'Oporto', 'Geneva', 'Krakow']\n",
    "    df['city_is_capital'] = df['City'].apply(lambda x: False if x in not_capital_list else True)\n",
    "    return None"
   ]
  },
  {
   "cell_type": "markdown",
   "execution_count": null,
   "metadata": {},
   "source": [
    "Добавим информацию о численности населения данного города. Данную информацию возьмём из открытых источников."
   ]
  },
  {
   "cell_type": "code",
   "execution_count": 9,
   "metadata": {},
   "outputs": [],
   "source": [
    "city_population = {\n",
    "    'London': 8173900, 'Paris': 2240621, 'Madrid': 3155360,\n",
    "    'Barcelona': 1593075, 'Berlin': 3326002, 'Milan': 1331586,\n",
    "    'Rome': 2870493, 'Prague': 1272690, 'Lisbon': 547733,\n",
    "    'Vienna': 1765649, 'Amsterdam': 825080, 'Brussels': 144784,\n",
    "    'Hamburg': 1718187, 'Munich': 1364920, 'Lyon': 496343,\n",
    "    'Stockholm': 1981263, 'Budapest': 1744665, 'Warsaw': 1720398,\n",
    "    'Dublin': 506211, 'Copenhagen': 1246611, 'Athens': 3168846,\n",
    "    'Edinburgh': 476100, 'Zurich': 402275, 'Oporto': 221800,\n",
    "    'Geneva': 196150, 'Krakow': 756183, 'Oslo': 673469,\n",
    "    'Helsinki': 574579, 'Bratislava': 413192, 'Luxembourg': 576249,\n",
    "    'Ljubljana': 277554\n",
    "}"
   ]
  },
  {
   "cell_type": "code",
   "execution_count": 10,
   "metadata": {},
   "outputs": [],
   "source": [
    "df['Population'] = df['City'].map(city_population)"
   ]
  },
  {
   "cell_type": "markdown",
   "execution_count": null,
   "metadata": {},
   "source": [
    "Добавим информацию по странам для каждого города. Информацию также возьмём из открытых источников."
   ]
  },
  {
   "cell_type": "code",
   "execution_count": 11,
   "metadata": {},
   "outputs": [],
   "source": [
    "city_country = {\n",
    "    'London': 'UK', 'Paris': 'France', 'Madrid': 'Spain',\n",
    "    'Barcelona': 'Spain', 'Berlin': 'Germany', 'Milan': 'Italy',\n",
    "    'Rome': 'Italy', 'Prague': 'Czech', 'Lisbon': 'Portugalia',\n",
    "    'Vienna': 'Austria', 'Amsterdam': 'Nederlands', 'Brussels': 'Belgium',\n",
    "    'Hamburg': 'Germany', 'Munich': 'Germany', 'Lyon': 'France',\n",
    "    'Stockholm': 'Sweden', 'Budapest': 'Hungary', 'Warsaw': 'Poland',\n",
    "    'Dublin': 'Ireland', 'Copenhagen': 'Denmark', 'Athens': 'Greece',\n",
    "    'Edinburgh': 'Schotland', 'Zurich': 'Switzerland', 'Oporto': 'Portugalia',\n",
    "    'Geneva': 'Switzerland', 'Krakow': 'Poland', 'Oslo': 'Norway',\n",
    "    'Helsinki': 'Finland', 'Bratislava': 'Slovakia', 'Luxembourg': 'Luxembourg',\n",
    "    'Ljubljana': 'Slovenija'\n",
    "}"
   ]
  },
  {
   "cell_type": "markdown",
   "execution_count": null,
   "metadata": {},
   "source": [
    "## Команды для Preprocessing\n"
   ]
  },
  {
   "cell_type": "code",
   "execution_count": 12,
   "metadata": {},
   "outputs": [],
   "source": [
    "city_rating_quantile_mean(df)\n",
    "df = city_dummies(df)\n",
    "capital_check(df)\n",
    "df['Population'] = df['City'].map(city_population)\n",
    "\n",
    "df['Country'] = df['City'].map(city_country)\n",
    "countries_le = LabelEncoder()\n",
    "countries_le.fit(df['Country'])\n",
    "df['country_code'] = countries_le.transform(df['Country'])\n",
    "df = pd.get_dummies(df, columns=[ 'Country',], dummy_na=True)"
   ]
  },
  {
   "cell_type": "markdown",
   "execution_count": null,
   "metadata": {},
   "source": [
    "## Резюме по параметру City: \n",
    "- категориальный признак\n",
    "- пропусков нет\n",
    "- параметр перекодирован по типу dummies\n",
    "- сгенерированы новые признаки в связке с rating:\n",
    "    - city_rating_quantile_09\n",
    "    - city_rating_quantile_01\n",
    "    - city_rating_mean\n",
    "    - city_is_capital"
   ]
  },
  {
   "cell_type": "markdown",
   "execution_count": null,
   "metadata": {},
   "source": []
  },
  {
   "cell_type": "markdown",
   "execution_count": null,
   "metadata": {},
   "source": []
  },
  {
   "cell_type": "markdown",
   "execution_count": null,
   "metadata": {},
   "source": [
    "# Cuisine Style"
   ]
  },
  {
   "cell_type": "code",
   "execution_count": 13,
   "metadata": {},
   "outputs": [
    {
     "data": {
      "text/plain": [
       "\"['Bar', 'Pub']\""
      ]
     },
     "execution_count": 13,
     "metadata": {},
     "output_type": "execute_result"
    }
   ],
   "source": [
    "df['Cuisine Style'][0]"
   ]
  },
  {
   "cell_type": "markdown",
   "execution_count": null,
   "metadata": {},
   "source": [
    "Тут явно требуется предобработка для того чтобы список кухонь стал именно списком. Вернёмся к этому чуть позже"
   ]
  },
  {
   "cell_type": "code",
   "execution_count": 14,
   "metadata": {},
   "outputs": [
    {
     "data": {
      "text/plain": [
       "0.2318"
      ]
     },
     "execution_count": 14,
     "metadata": {},
     "output_type": "execute_result"
    }
   ],
   "source": [
    "pd.isna(df['Cuisine Style']).sum()/50000"
   ]
  },
  {
   "cell_type": "markdown",
   "execution_count": null,
   "metadata": {},
   "source": [
    "Более 23% пропусков, давайте закодируем их в отдельный признак"
   ]
  },
  {
   "cell_type": "code",
   "execution_count": 15,
   "metadata": {},
   "outputs": [],
   "source": [
    "def cuisine_style_nans(df):\n",
    "    df['cuisine_style_nans'] = pd.isna(df['Cuisine Style']).astype('uint8')\n",
    "    return None"
   ]
  },
  {
   "cell_type": "code",
   "execution_count": 16,
   "metadata": {},
   "outputs": [],
   "source": [
    "def cuisine_list(x):\n",
    "    if type(x) is str:\n",
    "        return x.strip(\"[]\").replace(\"'\", '').split(', ')\n",
    "    else:\n",
    "        return ['other'] # Заменим пустые списки на отдельный тип кухни - 'other'"
   ]
  },
  {
   "cell_type": "code",
   "execution_count": 17,
   "metadata": {},
   "outputs": [],
   "source": [
    "def cuisine_count():\n",
    "    cuisine_dict = {}\n",
    "    for row in df['Cuisine Style']:\n",
    "            if len(row) > 0:\n",
    "                for i, v in enumerate(row):\n",
    "                    cuisine_dict.setdefault(row[i], 0)\n",
    "                    cuisine_dict[row[i]]+=1\n",
    "    df_cuisine_style = pd.DataFrame.from_dict(cuisine_dict, orient='index', columns = ['count'])\n",
    "    df_cuisine_style.sort_values(by='count', ascending=False, inplace = True)\n",
    "    df_cuisine_style.reset_index(inplace = True)\n",
    "    df_cuisine_style.columns = ['cuisine', 'count']\n",
    "    \n",
    "    return df_cuisine_style # возвращаем датафрейм с кухнями и их количеством по всем ресторанам"
   ]
  },
  {
   "cell_type": "markdown",
   "execution_count": null,
   "metadata": {},
   "source": [
    "Пока оставим эту информацию для разработки инсайтов позже"
   ]
  },
  {
   "cell_type": "markdown",
   "execution_count": null,
   "metadata": {},
   "source": [
    "## Команды для Preprocessing"
   ]
  },
  {
   "cell_type": "code",
   "execution_count": 18,
   "metadata": {},
   "outputs": [],
   "source": [
    "cuisine_style_nans(df) # генерация нового признака - кол.-во пропусков\n",
    "df['Cuisine Style'] = df['Cuisine Style'].apply(cuisine_list) # преобразование в списки\n",
    "df['count_cuisine_style'] = df['Cuisine Style'].apply(lambda x: len(x)).astype('uint8') # ген. нового признака   \n"
   ]
  },
  {
   "cell_type": "markdown",
   "execution_count": null,
   "metadata": {},
   "source": [
    "## Резюме по параметру Cuisine Style"
   ]
  },
  {
   "cell_type": "markdown",
   "execution_count": null,
   "metadata": {},
   "source": [
    "- категориальный признак\n",
    "- пропусков нет\n",
    "- параметр перекодирован по типу dummies\n",
    "- сгенерированы следующие параметры:\n",
    "    - count_cuisine_style - количество кухонь в ресторане\n",
    "    - cuisine_style_nans - индикатор отстуствия информации по кухням"
   ]
  },
  {
   "cell_type": "markdown",
   "execution_count": null,
   "metadata": {},
   "source": [
    "# Ranking"
   ]
  },
  {
   "cell_type": "code",
   "execution_count": 19,
   "metadata": {},
   "outputs": [
    {
     "data": {
      "image/png": "[encoded data removed]",
      "text/plain": [
       "<Figure size 432x288 with 1 Axes>"
      ]
     },
     "metadata": {
      "needs_background": "light"
     },
     "output_type": "display_data"
    }
   ],
   "source": [
    "for x in (df_train['City'].value_counts())[0:10].index:\n",
    "    df_train['Ranking'][df_train['City'] == x].hist(bins=100)\n",
    "plt.show()"
   ]
  },
  {
   "cell_type": "markdown",
   "execution_count": null,
   "metadata": {},
   "source": [
    "Получается, что Ranking имеет нормальное распределение, просто в больших городах больше ресторанов, из-за мы этого имеем смещение.\n",
    "\n",
    "Очевидно, что данный параметр напрямую зависит от количества ресторанов в городе. Чтобы этот параметр можно было соотносить с ranking в других города этот параметр нужно нормировать."
   ]
  },
  {
   "cell_type": "code",
   "execution_count": 20,
   "metadata": {},
   "outputs": [],
   "source": [
    "def norm_Ranking(df):\n",
    "    # найдём для каждого города максимальный и средний Ranking\n",
    "    max_ranking_on_city = df.groupby(['City'])['Ranking'].max() \n",
    "    mean_ranking_on_city = df.groupby(['City'])['Ranking'].mean()\n",
    "    std_ranking_on_city = df.groupby(['City'])['Ranking'].std()\n",
    "    \n",
    "    # в каждой строке пропишем соотвествующее значение максимального и среднего Ranking\n",
    "    df['max_ranking_on_city'] = df['City'].apply(lambda x: max_ranking_on_city[x])\n",
    "    df['mean_ranking_on_city'] = df['City'].apply(lambda x: mean_ranking_on_city[x])\n",
    "    \n",
    "    \n",
    "    df['std_restorant_in_city'] = df['City'].apply(lambda x: std_ranking_on_city[x])\n",
    "    \n",
    "    df['norm_ranking_min_max'] = df['Ranking'] / df['max_ranking_on_city']\n",
    "    df['norm_ranking_std'] = (df['Ranking'] - df['mean_ranking_on_city']) / df['std_restorant_in_city']\n",
    "    return None"
   ]
  },
  {
   "cell_type": "markdown",
   "execution_count": null,
   "metadata": {},
   "source": [
    "## Команды для Preprocessing"
   ]
  },
  {
   "cell_type": "code",
   "execution_count": 21,
   "metadata": {},
   "outputs": [],
   "source": [
    "norm_Ranking(df)"
   ]
  },
  {
   "cell_type": "markdown",
   "execution_count": null,
   "metadata": {},
   "source": [
    "## Резюме по параметру Ranking"
   ]
  },
  {
   "cell_type": "markdown",
   "execution_count": null,
   "metadata": {},
   "source": [
    "- числовой признак (выражен натуральными числами)\n",
    "- пропусков нет\n",
    "- сгенерированы признаки:\n",
    "    - нормализованные параметры ranking (minmax и std)\n",
    "    - max_ranking_on_city - количество ресторанов в городе\n",
    "    - mean_ranking_on_city - средний рейтинг в городе\n",
    "    - std_restorant_in_city - стандартное отклонение в рейтинга в городе\n",
    "    "
   ]
  },
  {
   "cell_type": "markdown",
   "execution_count": null,
   "metadata": {},
   "source": [
    "# Price Range"
   ]
  },
  {
   "cell_type": "code",
   "execution_count": 22,
   "metadata": {},
   "outputs": [
    {
     "data": {
      "text/plain": [
       "$$ - $$$    23041\n",
       "NaN         17361\n",
       "$            7816\n",
       "$$$$         1782\n",
       "Name: Price Range, dtype: int64"
      ]
     },
     "execution_count": 22,
     "metadata": {},
     "output_type": "execute_result"
    }
   ],
   "source": [
    "df['Price Range'].value_counts(dropna = False)"
   ]
  },
  {
   "cell_type": "markdown",
   "execution_count": null,
   "metadata": {},
   "source": [
    "Оценка стоимости среднего чека может быть заменена на числа: 1, 2, 3.\n",
    "\n",
    "Пропуски заменим пока средним значением - 2. "
   ]
  },
  {
   "cell_type": "code",
   "execution_count": 23,
   "metadata": {},
   "outputs": [],
   "source": [
    "def price_range(df):\n",
    "    df['price_range_nans'] = pd.isna(df['Price Range']).astype('uint8')\n",
    "    df['Price Range'].fillna(2, inplace = True)\n",
    "    df['Price Range'].replace(['$', '$$ - $$$', '$$$$'], [1, 2, 3], inplace = True)\n",
    "    return df['Price Range']"
   ]
  },
  {
   "cell_type": "markdown",
   "execution_count": null,
   "metadata": {},
   "source": [
    "## Команды для Preprocessing"
   ]
  },
  {
   "cell_type": "code",
   "execution_count": 24,
   "metadata": {},
   "outputs": [],
   "source": [
    "df['Price Range'] = price_range(df)"
   ]
  },
  {
   "cell_type": "markdown",
   "execution_count": null,
   "metadata": {},
   "source": [
    "## Резюме по параметру Price Range"
   ]
  },
  {
   "cell_type": "markdown",
   "execution_count": null,
   "metadata": {},
   "source": [
    "- изначально категориальный признак (заменили на числовой - уровень стоимости среднего чека)\n",
    "- очень много пропусков - почти 35%\n",
    "- пропуски вынесены в отдельный параметр\n",
    "- пропуски заменены на моду - 2\n",
    "- значения параметра заменены на числа: 1, 2, 3"
   ]
  },
  {
   "cell_type": "markdown",
   "execution_count": null,
   "metadata": {},
   "source": [
    "# Number of Reviews"
   ]
  },
  {
   "cell_type": "markdown",
   "execution_count": null,
   "metadata": {},
   "source": [
    "В данном параметре есть пропуски - окло 6%. Сохраним эту информаци в виде отдельного признака.\n",
    "А пропуски заполним нулями"
   ]
  },
  {
   "cell_type": "markdown",
   "execution_count": null,
   "metadata": {},
   "source": [
    "## Команды для Preprocessing"
   ]
  },
  {
   "cell_type": "code",
   "execution_count": 25,
   "metadata": {},
   "outputs": [],
   "source": [
    "df['number_of_reviews_nans'] = pd.isna(df['Number of Reviews']).astype('uint8')\n",
    "df['Number of Reviews'].fillna(0, inplace=True)"
   ]
  },
  {
   "cell_type": "markdown",
   "execution_count": null,
   "metadata": {},
   "source": [
    "## Резюме по параметру Number of Reviews"
   ]
  },
  {
   "cell_type": "markdown",
   "execution_count": null,
   "metadata": {},
   "source": [
    "# Reviews"
   ]
  },
  {
   "cell_type": "code",
   "execution_count": 26,
   "metadata": {},
   "outputs": [
    {
     "data": {
      "text/plain": [
       "\"[['Very good reviews!', 'Fine dining in Hakaniemi'], ['12/05/2017', '10/29/2017']]\""
      ]
     },
     "execution_count": 26,
     "metadata": {},
     "output_type": "execute_result"
    }
   ],
   "source": [
    "df['Reviews'][1]"
   ]
  },
  {
   "cell_type": "code",
   "execution_count": 27,
   "metadata": {},
   "outputs": [
    {
     "data": {
      "text/plain": [
       "2"
      ]
     },
     "execution_count": 27,
     "metadata": {},
     "output_type": "execute_result"
    }
   ],
   "source": [
    "pd.isna(df['Reviews']).sum()"
   ]
  },
  {
   "cell_type": "code",
   "execution_count": 28,
   "metadata": {},
   "outputs": [
    {
     "data": {
      "text/plain": [
       "8112"
      ]
     },
     "execution_count": 28,
     "metadata": {},
     "output_type": "execute_result"
    }
   ],
   "source": [
    "df['Reviews'][(df['Reviews'] == '[[], []]')].count()"
   ]
  },
  {
   "cell_type": "markdown",
   "execution_count": null,
   "metadata": {},
   "source": [
    "Приведём все пропуски данных к единой форме и по традиции выведем это в отдельный признак."
   ]
  },
  {
   "cell_type": "code",
   "execution_count": 29,
   "metadata": {},
   "outputs": [],
   "source": [
    "df['Reviews'].fillna('[[], []]', inplace = True)\n",
    "df['reviews_nans'] = (df['Reviews']=='[[], []]').astype('uint8')"
   ]
  },
  {
   "cell_type": "markdown",
   "execution_count": null,
   "metadata": {},
   "source": [
    "Поработаем с датами отзывов. Для начала вытащим их в отдельный столбец"
   ]
  },
  {
   "cell_type": "code",
   "execution_count": 30,
   "metadata": {},
   "outputs": [],
   "source": [
    "df['review_dates'] = df['Reviews'].str.findall('\\d+/\\d+/\\d+')"
   ]
  },
  {
   "cell_type": "code",
   "execution_count": 31,
   "metadata": {},
   "outputs": [],
   "source": [
    "def list_data_f(s):\n",
    "    pattern = re.compile('\\d\\d/\\d\\d/\\d\\d\\d\\d')\n",
    "    list_dates = []\n",
    "    if len(s) < 9:\n",
    "        return datetime(2016, 1, 1).day - datetime(2016, 1, 2).day\n",
    "    else:\n",
    "        list_date = pattern.findall(s)       \n",
    "        list_dates.extend([datetime.strptime(x, '%m/%d/%Y') for x in list_date])\n",
    "        if len(list_dates) == 2:\n",
    "            return abs(list_dates[0].day - list_dates[1].day)\n",
    "        else:\n",
    "            return datetime(2016, 1, 1).day - datetime(2016, 1, 1).day"
   ]
  },
  {
   "cell_type": "code",
   "execution_count": 32,
   "metadata": {},
   "outputs": [],
   "source": [
    "df['Time_delta'] = df.Reviews.apply(list_data_f)"
   ]
  },
  {
   "cell_type": "code",
   "execution_count": 33,
   "metadata": {},
   "outputs": [
    {
     "data": {
      "text/plain": [
       "<matplotlib.axes._subplots.AxesSubplot at 0x7eff3963efd0>"
      ]
     },
     "execution_count": 33,
     "metadata": {},
     "output_type": "execute_result"
    },
    {
     "data": {
      "image/png": "[encoded data removed]",
      "text/plain": [
       "<Figure size 432x288 with 1 Axes>"
      ]
     },
     "metadata": {
      "needs_background": "light"
     },
     "output_type": "display_data"
    }
   ],
   "source": [
    "df['Time_delta'].hist(bins = 30)"
   ]
  },
  {
   "cell_type": "markdown",
   "execution_count": null,
   "metadata": {},
   "source": [
    "## Команды для Preprocessing"
   ]
  },
  {
   "cell_type": "code",
   "execution_count": 34,
   "metadata": {},
   "outputs": [],
   "source": [
    "df['Reviews'].fillna('[[], []]', inplace = True)\n",
    "df['reviews_nans'] = (df['Reviews']=='[[], []]').astype('uint8')\n",
    "df['Time_delta'] = df.Reviews.apply(list_data_f)"
   ]
  },
  {
   "cell_type": "markdown",
   "execution_count": null,
   "metadata": {},
   "source": [
    "## Резюме по параметру Reviews"
   ]
  },
  {
   "cell_type": "markdown",
   "execution_count": null,
   "metadata": {},
   "source": [
    "# URL_TA"
   ]
  },
  {
   "cell_type": "markdown",
   "execution_count": null,
   "metadata": {},
   "source": [
    "Адрес странички рестарана на сайте TripAdvisor.\n",
    "Не думаю, что тут есть полезные для нас данные."
   ]
  },
  {
   "cell_type": "markdown",
   "execution_count": null,
   "metadata": {},
   "source": [
    "# ID_TA"
   ]
  },
  {
   "cell_type": "markdown",
   "execution_count": null,
   "metadata": {},
   "source": [
    "Очередной идентификатор, также не является полезным для нас."
   ]
  },
  {
   "cell_type": "markdown",
   "execution_count": null,
   "metadata": {},
   "source": [
    "# Rating - целевая переменная"
   ]
  },
  {
   "cell_type": "code",
   "execution_count": 35,
   "metadata": {},
   "outputs": [
    {
     "data": {
      "text/plain": [
       "<matplotlib.axes._subplots.AxesSubplot at 0x7eff393356a0>"
      ]
     },
     "execution_count": 35,
     "metadata": {},
     "output_type": "execute_result"
    },
    {
     "data": {
      "image/png": "[encoded data removed]",
      "text/plain": [
       "<Figure size 432x288 with 1 Axes>"
      ]
     },
     "metadata": {
      "needs_background": "light"
     },
     "output_type": "display_data"
    }
   ],
   "source": [
    "df['Rating'].hist()"
   ]
  },
  {
   "cell_type": "markdown",
   "execution_count": null,
   "metadata": {},
   "source": [
    "0 - это тестовая часть данных (их ровно 10 000)"
   ]
  },
  {
   "cell_type": "markdown",
   "execution_count": null,
   "metadata": {},
   "source": []
  },
  {
   "cell_type": "markdown",
   "execution_count": null,
   "metadata": {},
   "source": [
    "# Data Preprocessing\n",
    "Теперь, для удобства и воспроизводимости кода, завернем всю обработку в одну большую функцию."
   ]
  },
  {
   "cell_type": "code",
   "execution_count": 36,
   "metadata": {},
   "outputs": [
    {
     "name": "stdout",
     "output_type": "stream",
     "text": [
      "<class 'pandas.core.frame.DataFrame'>\n",
      "RangeIndex: 50000 entries, 0 to 49999\n",
      "Data columns (total 11 columns):\n",
      "Restaurant_id        50000 non-null object\n",
      "City                 50000 non-null object\n",
      "Cuisine Style        38410 non-null object\n",
      "Ranking              50000 non-null float64\n",
      "Price Range          32639 non-null object\n",
      "Number of Reviews    46800 non-null float64\n",
      "Reviews              49998 non-null object\n",
      "URL_TA               50000 non-null object\n",
      "ID_TA                50000 non-null object\n",
      "sample               50000 non-null int64\n",
      "Rating               50000 non-null float64\n",
      "dtypes: float64(3), int64(1), object(7)\n",
      "memory usage: 4.2+ MB\n"
     ]
    }
   ],
   "source": [
    "# на всякий случай, заново подгружаем данные\n",
    "df_train = pd.read_csv(DATA_DIR+'/main_task.csv')\n",
    "df_test = pd.read_csv(DATA_DIR+'/kaggle_task.csv')\n",
    "df_train['sample'] = 1 # помечаем где у нас трейн\n",
    "df_test['sample'] = 0 # помечаем где у нас тест\n",
    "df_test['Rating'] = 0 # в тесте у нас нет значения Rating, мы его должны предсказать, по этому пока просто заполняем нулями\n",
    "\n",
    "data = df_test.append(df_train, sort=False).reset_index(drop=True) # объединяем\n",
    "data.info()"
   ]
  },
  {
   "cell_type": "code",
   "execution_count": 37,
   "metadata": {},
   "outputs": [
    {
     "name": "stdout",
     "output_type": "stream",
     "text": [
      "11 число параметров в исходном датасете\n",
      "####################### Обработка параметра \"City\"\n",
      "61 добавлено параметров в датасет\n",
      "####################### Обработка параметра \"Cuisine Style\"\n",
      "2 добавлено параметров в датасет\n",
      "####################### Обработка параметра \"Ranking\"\n",
      "5 добавлено параметров в датасет\n",
      "####################### Обработка параметра \"Price Range\"\n",
      "1 добавлено параметров в датасет\n",
      "####################### Обработка параметра \"Number of Reviews\"\n",
      "1 добавлено параметров в датасет\n",
      "####################### Обработка параметра \"Reviews\"\n",
      "2 добавлено параметров в датасет\n",
      "Удалили эти столбцы ->  ['Restaurant_id', 'City', 'Cuisine Style', 'Reviews', 'URL_TA', 'ID_TA']\n",
      "<class 'pandas.core.frame.DataFrame'>\n",
      "RangeIndex: 50000 entries, 0 to 49999\n",
      "Data columns (total 77 columns):\n",
      "Ranking                    50000 non-null float64\n",
      "Price Range                50000 non-null int64\n",
      "Number of Reviews          50000 non-null float64\n",
      "sample                     50000 non-null int64\n",
      "Rating                     50000 non-null float64\n",
      "city_rating_quantile_09    50000 non-null float64\n",
      "city_rating_quantile_01    50000 non-null float64\n",
      "city_rating_mean           50000 non-null float64\n",
      "City2_Amsterdam            50000 non-null uint8\n",
      "City2_Athens               50000 non-null uint8\n",
      "City2_Barcelona            50000 non-null uint8\n",
      "City2_Berlin               50000 non-null uint8\n",
      "City2_Bratislava           50000 non-null uint8\n",
      "City2_Brussels             50000 non-null uint8\n",
      "City2_Budapest             50000 non-null uint8\n",
      "City2_Copenhagen           50000 non-null uint8\n",
      "City2_Dublin               50000 non-null uint8\n",
      "City2_Edinburgh            50000 non-null uint8\n",
      "City2_Geneva               50000 non-null uint8\n",
      "City2_Hamburg              50000 non-null uint8\n",
      "City2_Helsinki             50000 non-null uint8\n",
      "City2_Krakow               50000 non-null uint8\n",
      "City2_Lisbon               50000 non-null uint8\n",
      "City2_Ljubljana            50000 non-null uint8\n",
      "City2_London               50000 non-null uint8\n",
      "City2_Luxembourg           50000 non-null uint8\n",
      "City2_Lyon                 50000 non-null uint8\n",
      "City2_Madrid               50000 non-null uint8\n",
      "City2_Milan                50000 non-null uint8\n",
      "City2_Munich               50000 non-null uint8\n",
      "City2_Oporto               50000 non-null uint8\n",
      "City2_Oslo                 50000 non-null uint8\n",
      "City2_Paris                50000 non-null uint8\n",
      "City2_Prague               50000 non-null uint8\n",
      "City2_Rome                 50000 non-null uint8\n",
      "City2_Stockholm            50000 non-null uint8\n",
      "City2_Vienna               50000 non-null uint8\n",
      "City2_Warsaw               50000 non-null uint8\n",
      "City2_Zurich               50000 non-null uint8\n",
      "City2_nan                  50000 non-null uint8\n",
      "city_is_capital            50000 non-null bool\n",
      "country_code               50000 non-null int64\n",
      "Country_Austria            50000 non-null uint8\n",
      "Country_Belgium            50000 non-null uint8\n",
      "Country_Czech              50000 non-null uint8\n",
      "Country_Denmark            50000 non-null uint8\n",
      "Country_Finland            50000 non-null uint8\n",
      "Country_France             50000 non-null uint8\n",
      "Country_Germany            50000 non-null uint8\n",
      "Country_Greece             50000 non-null uint8\n",
      "Country_Hungary            50000 non-null uint8\n",
      "Country_Ireland            50000 non-null uint8\n",
      "Country_Italy              50000 non-null uint8\n",
      "Country_Luxembourg         50000 non-null uint8\n",
      "Country_Nederlands         50000 non-null uint8\n",
      "Country_Norway             50000 non-null uint8\n",
      "Country_Poland             50000 non-null uint8\n",
      "Country_Portugalia         50000 non-null uint8\n",
      "Country_Schotland          50000 non-null uint8\n",
      "Country_Slovakia           50000 non-null uint8\n",
      "Country_Slovenija          50000 non-null uint8\n",
      "Country_Spain              50000 non-null uint8\n",
      "Country_Sweden             50000 non-null uint8\n",
      "Country_Switzerland        50000 non-null uint8\n",
      "Country_UK                 50000 non-null uint8\n",
      "Country_nan                50000 non-null uint8\n",
      "cuisine_style_nans         50000 non-null uint8\n",
      "count_cuisine_style        50000 non-null uint8\n",
      "max_ranking_on_city        50000 non-null float64\n",
      "mean_ranking_on_city       50000 non-null float64\n",
      "std_restorant_in_city      50000 non-null float64\n",
      "norm_ranking_min_max       50000 non-null float64\n",
      "norm_ranking_std           50000 non-null float64\n",
      "price_range_nans           50000 non-null uint8\n",
      "number_of_reviews_nans     50000 non-null uint8\n",
      "reviews_nans               50000 non-null uint8\n",
      "Time_delta                 50000 non-null int64\n",
      "dtypes: bool(1), float64(11), int64(4), uint8(61)\n",
      "memory usage: 8.7 MB\n"
     ]
    }
   ],
   "source": [
    "def preproc_data(df_input):\n",
    "    '''includes several functions to pre-process the predictor data.'''\n",
    "    df = df_input.copy()\n",
    "    k0 = len(df.columns)\n",
    "    print(k0, 'число параметров в исходном датасете')\n",
    "    ### ПРЕДОБРАБОТКА И СОЗДАНИЕ НОВЫХ ПАРАМЕТРОВ ###\n",
    "    \n",
    "       #-->  1. Сity  <--#\n",
    "    print('####################### Обработка параметра \"City\"')    \n",
    "    city_rating_quantile_mean(df)\n",
    "    df = city_dummies(df)\n",
    "    capital_check(df)\n",
    "    \n",
    "    df['Country'] = df['City'].map(city_country)\n",
    "    countries_le = LabelEncoder()\n",
    "    countries_le.fit(df['Country'])\n",
    "    df['country_code'] = countries_le.transform(df['Country'])\n",
    "    df = pd.get_dummies(df, columns=['Country',], dummy_na=True)\n",
    "    \n",
    "    ki = len(df.columns)\n",
    "    print(ki-k0, 'добавлено параметров в датасет')\n",
    "       \n",
    "        #--> 2. Cuisine Style <--#\n",
    "    print('####################### Обработка параметра \"Cuisine Style\"')\n",
    "    cuisine_style_nans(df) # генерация нового признака - кол.-во пропусков\n",
    "    df['Cuisine Style'] = df['Cuisine Style'].apply(cuisine_list) # преобразование в списки\n",
    "    # ген. нового признака - количетво кухонь в ресторане\n",
    "    df['count_cuisine_style'] = df['Cuisine Style'].apply(lambda x: len(x)).astype('uint8')\n",
    "    print(len(df.columns)-ki, 'добавлено параметров в датасет')\n",
    "    ki = len(df.columns)\n",
    "       \n",
    "        #--> 3. Ranking <--#\n",
    "    print('####################### Обработка параметра \"Ranking\"')\n",
    "    norm_Ranking(df)\n",
    "    print(len(df.columns)-ki, 'добавлено параметров в датасет')\n",
    "    ki = len(df.columns)\n",
    "       \n",
    "        #--> 4. Price Range <--#\n",
    "    print('####################### Обработка параметра \"Price Range\"')    \n",
    "    df['Price Range'] = price_range(df)\n",
    "    print(len(df.columns)-ki, 'добавлено параметров в датасет')\n",
    "    ki = len(df.columns)    \n",
    "       \n",
    "        #--> 5. Number of Reviews <--#\n",
    "    print('####################### Обработка параметра \"Number of Reviews\"')\n",
    "    df['number_of_reviews_nans'] = pd.isna(df['Number of Reviews']).astype('uint8')\n",
    "    df['Number of Reviews'].fillna(0, inplace=True)\n",
    "    print(len(df.columns)-ki, 'добавлено параметров в датасет')\n",
    "    ki = len(df.columns)\n",
    "       \n",
    "        #--> 6. Reviews <--#\n",
    "    print('####################### Обработка параметра \"Reviews\"')   \n",
    "    df['Reviews'].fillna('[[], []]', inplace = True)\n",
    "    df['reviews_nans'] = (df['Reviews']=='[[], []]').astype('uint8')\n",
    "    df['Time_delta'] = df.Reviews.apply(list_data_f)\n",
    "    print(len(df.columns)-ki, 'добавлено параметров в датасет')\n",
    "    ki = len(df.columns)   \n",
    "        \n",
    "        #-->  <--#\n",
    "    \n",
    "    ### УДАЛЯЕМ ВСЕ НЕЧИСЛОВЫЕ ПАРАМЕТРЫ ###\n",
    "    \n",
    "    # убираем признаки которые еще не успели обработать, \n",
    "    # модель на признаках с dtypes \"object\" обучаться не будет, просто выберим их и удалим\n",
    "    object_columns = [s for s in df.columns if df[s].dtypes == 'object']\n",
    "    df.drop(object_columns, axis = 1, inplace=True)\n",
    "    \n",
    "    print('Удалили эти столбцы -> ', object_columns)\n",
    "\n",
    "    return df\n",
    "\n",
    "df_preproc = preproc_data(data)\n",
    "df_preproc.info()"
   ]
  },
  {
   "cell_type": "code",
   "execution_count": 38,
   "metadata": {},
   "outputs": [
    {
     "data": {
      "text/plain": [
       "((10000, 76), (40000, 76), (40000, 75), (32000, 75), (8000, 75))"
      ]
     },
     "execution_count": 38,
     "metadata": {},
     "output_type": "execute_result"
    }
   ],
   "source": [
    "# Теперь выделим тестовую часть\n",
    "train_data = df_preproc.query('sample == 1').drop(['sample'], axis=1)\n",
    "test_data = df_preproc.query('sample == 0').drop(['sample'], axis=1)\n",
    "\n",
    "y = train_data.Rating.values            # наш таргет\n",
    "X = train_data.drop(['Rating'], axis=1)\n",
    "\n",
    "'''\n",
    "Перед тем как отправлять наши данные на обучение, \n",
    "разделим данные на еще один тест и трейн, для валидации. \n",
    "Это поможет нам проверить, как хорошо наша модель работает, \n",
    "до отправки submissiona на kaggle.\n",
    "'''\n",
    "\n",
    "# Воспользуемся специальной функцие train_test_split для разбивки тестовых данных\n",
    "# выделим 20% данных на валидацию (параметр test_size)\n",
    "X_train, X_test, y_train, y_test = train_test_split(X, y, test_size=0.2, random_state=RANDOM_SEED)\n",
    "\n",
    "# проверяем\n",
    "test_data.shape, train_data.shape, X.shape, X_train.shape, X_test.shape"
   ]
  },
  {
   "cell_type": "markdown",
   "execution_count": null,
   "metadata": {},
   "source": [
    "# Model \n",
    "Сам ML"
   ]
  },
  {
   "cell_type": "code",
   "execution_count": 39,
   "metadata": {},
   "outputs": [
    {
     "name": "stderr",
     "output_type": "stream",
     "text": [
      "[Parallel(n_jobs=-1)]: Using backend ThreadingBackend with 4 concurrent workers.\n",
      "[Parallel(n_jobs=-1)]: Done  42 tasks      | elapsed:    5.3s\n",
      "[Parallel(n_jobs=-1)]: Done 100 out of 100 | elapsed:   12.2s finished\n",
      "[Parallel(n_jobs=4)]: Using backend ThreadingBackend with 4 concurrent workers.\n",
      "[Parallel(n_jobs=4)]: Done  42 tasks      | elapsed:    0.1s\n"
     ]
    },
    {
     "name": "stdout",
     "output_type": "stream",
     "text": [
      "MAE: 0.174\n"
     ]
    },
    {
     "name": "stderr",
     "output_type": "stream",
     "text": [
      "[Parallel(n_jobs=4)]: Done 100 out of 100 | elapsed:    0.1s finished\n"
     ]
    }
   ],
   "source": [
    "# Импортируем необходимые библиотеки:\n",
    "from sklearn.ensemble import RandomForestRegressor # инструмент для создания и обучения модели\n",
    "from sklearn import metrics # инструменты для оценки точности модели\n",
    "\n",
    "# Создаём модель (НАСТРОЙКИ НЕ ТРОГАЕМ)\n",
    "model = RandomForestRegressor(n_estimators=100, verbose=1, n_jobs=-1, random_state=RANDOM_SEED)\n",
    "\n",
    "# Обучаем модель на тестовом наборе данных\n",
    "model.fit(X_train, y_train)\n",
    "\n",
    "# Используем обученную модель для предсказания рейтинга ресторанов в тестовой выборке.\n",
    "# Предсказанные значения записываем в переменную y_pred\n",
    "y_pred = model.predict(X_test)\n",
    "y_pred = np.around(y_pred/0.5, decimals=0, out=None)*0.5\n",
    "\n",
    "\n",
    "# Сравниваем предсказанные значения (y_pred) с реальными (y_test), и смотрим насколько они в среднем отличаются\n",
    "# Метрика называется Mean Absolute Error (MAE) и показывает среднее отклонение предсказанных значений от фактических.\n",
    "print('MAE:', metrics.mean_absolute_error(y_test, y_pred))"
   ]
  },
  {
   "cell_type": "code",
   "execution_count": 40,
   "metadata": {},
   "outputs": [
    {
     "data": {
      "text/plain": [
       "<matplotlib.axes._subplots.AxesSubplot at 0x7eff3bbb6080>"
      ]
     },
     "execution_count": 40,
     "metadata": {},
     "output_type": "execute_result"
    },
    {
     "data": {
      "image/png": "[encoded data removed]",
      "text/plain": [
       "<Figure size 720x720 with 1 Axes>"
      ]
     },
     "metadata": {
      "needs_background": "light"
     },
     "output_type": "display_data"
    }
   ],
   "source": [
    "# в RandomForestRegressor есть возможность вывести самые важные признаки для модели\n",
    "plt.rcParams['figure.figsize'] = (10,10)\n",
    "feat_importances = pd.Series(model.feature_importances_, index=X.columns)\n",
    "feat_importances.nlargest(20).plot(kind='barh')"
   ]
  },
  {
   "cell_type": "markdown",
   "execution_count": null,
   "metadata": {},
   "source": [
    "# Submission\n",
    "Если все устраевает - готовим Submission на кагл"
   ]
  },
  {
   "cell_type": "code",
   "execution_count": 41,
   "metadata": {},
   "outputs": [
    {
     "name": "stderr",
     "output_type": "stream",
     "text": [
      "[Parallel(n_jobs=-1)]: Using backend ThreadingBackend with 4 concurrent workers.\n",
      "[Parallel(n_jobs=-1)]: Done  42 tasks      | elapsed:    7.0s\n",
      "[Parallel(n_jobs=-1)]: Done 100 out of 100 | elapsed:   15.9s finished\n",
      "[Parallel(n_jobs=4)]: Using backend ThreadingBackend with 4 concurrent workers.\n",
      "[Parallel(n_jobs=4)]: Done  42 tasks      | elapsed:    0.0s\n",
      "[Parallel(n_jobs=4)]: Done 100 out of 100 | elapsed:    0.1s finished\n"
     ]
    }
   ],
   "source": [
    "# Переобучим модель на всех данных\n",
    "model.fit(X, y)\n",
    "\n",
    "test_data = test_data.drop(['Rating'], axis=1)\n",
    "\n",
    "predict_submission = model.predict(test_data)\n",
    "predict_submission = np.around(predict_submission/0.5, decimals=0, out=None)*0.5"
   ]
  },
  {
   "cell_type": "code",
   "execution_count": 42,
   "metadata": {},
   "outputs": [
    {
     "data": {
      "text/plain": [
       "array([3. , 4. , 4.5, ..., 3. , 4. , 4. ])"
      ]
     },
     "execution_count": 42,
     "metadata": {},
     "output_type": "execute_result"
    }
   ],
   "source": [
    "predict_submission"
   ]
  },
  {
   "cell_type": "code",
   "execution_count": 43,
   "metadata": {},
   "outputs": [
    {
     "data": {
      "text/html": [
       "<div>\n",
       "<style scoped>\n",
       "    .dataframe tbody tr th:only-of-type {\n",
       "        vertical-align: middle;\n",
       "    }\n",
       "\n",
       "    .dataframe tbody tr th {\n",
       "        vertical-align: top;\n",
       "    }\n",
       "\n",
       "    .dataframe thead th {\n",
       "        text-align: right;\n",
       "    }\n",
       "</style>\n",
       "<table border=\"1\" class=\"dataframe\">\n",
       "  <thead>\n",
       "    <tr style=\"text-align: right;\">\n",
       "      <th></th>\n",
       "      <th>Restaurant_id</th>\n",
       "      <th>Rating</th>\n",
       "    </tr>\n",
       "  </thead>\n",
       "  <tbody>\n",
       "    <tr>\n",
       "      <th>0</th>\n",
       "      <td>id_0</td>\n",
       "      <td>3.0</td>\n",
       "    </tr>\n",
       "    <tr>\n",
       "      <th>1</th>\n",
       "      <td>id_1</td>\n",
       "      <td>4.0</td>\n",
       "    </tr>\n",
       "    <tr>\n",
       "      <th>2</th>\n",
       "      <td>id_2</td>\n",
       "      <td>4.5</td>\n",
       "    </tr>\n",
       "    <tr>\n",
       "      <th>3</th>\n",
       "      <td>id_3</td>\n",
       "      <td>4.5</td>\n",
       "    </tr>\n",
       "    <tr>\n",
       "      <th>4</th>\n",
       "      <td>id_4</td>\n",
       "      <td>4.5</td>\n",
       "    </tr>\n",
       "    <tr>\n",
       "      <th>5</th>\n",
       "      <td>id_5</td>\n",
       "      <td>4.5</td>\n",
       "    </tr>\n",
       "    <tr>\n",
       "      <th>6</th>\n",
       "      <td>id_6</td>\n",
       "      <td>1.0</td>\n",
       "    </tr>\n",
       "    <tr>\n",
       "      <th>7</th>\n",
       "      <td>id_7</td>\n",
       "      <td>3.5</td>\n",
       "    </tr>\n",
       "    <tr>\n",
       "      <th>8</th>\n",
       "      <td>id_8</td>\n",
       "      <td>4.0</td>\n",
       "    </tr>\n",
       "    <tr>\n",
       "      <th>9</th>\n",
       "      <td>id_9</td>\n",
       "      <td>4.5</td>\n",
       "    </tr>\n",
       "  </tbody>\n",
       "</table>\n",
       "</div>"
      ],
      "text/plain": [
       "  Restaurant_id  Rating\n",
       "0          id_0     3.0\n",
       "1          id_1     4.0\n",
       "2          id_2     4.5\n",
       "3          id_3     4.5\n",
       "4          id_4     4.5\n",
       "5          id_5     4.5\n",
       "6          id_6     1.0\n",
       "7          id_7     3.5\n",
       "8          id_8     4.0\n",
       "9          id_9     4.5"
      ]
     },
     "execution_count": 43,
     "metadata": {},
     "output_type": "execute_result"
    }
   ],
   "source": [
    "sample_submission['Rating'] = predict_submission\n",
    "sample_submission.to_csv('submission.csv', index=False)\n",
    "sample_submission.head(10)"
   ]
  },
  {
   "cell_type": "markdown",
   "execution_count": null,
   "metadata": {},
   "source": [
    "# What's next?\n",
    "Или что делать, чтоб улучшить результат:\n",
    "* Обработать оставшиеся признаки в понятный для машины формат\n",
    "* Посмотреть, что еще можно извлечь из признаков\n",
    "* Сгенерировать новые признаки\n",
    "* Подгрузить дополнительные данные, например: по населению или благосостоянию городов\n",
    "* Подобрать состав признаков\n",
    "\n",
    "В общем, процесс творческий и весьма увлекательный! Удачи в соревновании!\n"
   ]
  },
  {
   "cell_type": "code",
   "execution_count": null,
   "metadata": {},
   "outputs": [],
   "source": []
  }
 ],
 "metadata": {
  "kernelspec": {
   "display_name": "Python 3",
   "language": "python",
   "name": "python3"
  },
  "language_info": {
   "codemirror_mode": {
    "name": "ipython",
    "version": 3
   },
   "file_extension": ".py",
   "mimetype": "text/x-python",
   "name": "python",
   "nbconvert_exporter": "python",
   "pygments_lexer": "ipython3",
   "version": "3.6.6"
  }
 },
 "nbformat": 4,
 "nbformat_minor": 4
}

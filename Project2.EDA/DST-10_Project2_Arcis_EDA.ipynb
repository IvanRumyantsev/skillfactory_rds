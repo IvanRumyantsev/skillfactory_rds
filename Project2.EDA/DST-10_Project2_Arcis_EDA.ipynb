{
 "cells": [
  {
   "cell_type": "markdown",
   "metadata": {},
   "source": [
    "#### Описание датасета\n",
    "Посмотрим на переменные, которые содержит датасет:\n",
    "\n",
    "- 1 school — аббревиатура школы, в которой учится ученик\n",
    "- 2 sex — пол ученика ('F' - женский, 'M' - мужской)\n",
    "- 3 age — возраст ученика (от 15 до 22)\n",
    "- 4 address — тип адреса ученика ('U' - городской, 'R' - за городом)\n",
    "- 5 famsize — размер семьи('LE3' <= 3, 'GT3' >3)\n",
    "- 6 Pstatus — статус совместного жилья родителей ('T' - живут вместе 'A' - раздельно)\n",
    "- 7 Medu — образование матери (0 - нет, 1 - 4 класса, 2 - 5-9 классы, 3 - среднее специальное или 11 классов, 4 - высшее)\n",
    "- 8 Fedu — образование отца (0 - нет, 1 - 4 класса, 2 - 5-9 классы, 3 - среднее специальное или 11 классов, 4 - высшее)\n",
    "- 9 Mjob — работа матери ('teacher' - учитель, 'health' - сфера здравоохранения, 'services' - гос служба, 'at_home' - не работает, 'other' - другое)\n",
    "- 10 Fjob — работа отца ('teacher' - учитель, 'health' - сфера здравоохранения, 'services' - гос служба, 'at_home' - не работает, 'other' - другое)\n",
    "- 11 reason — причина выбора школы ('home' - близость к дому, 'reputation' - репутация школы, 'course' - образовательная программа, 'other' - другое)\n",
    "- 12 guardian — опекун ('mother' - мать, 'father' - отец, 'other' - другое)\n",
    "- 13 traveltime — время в пути до школы (1 - <15 мин., 2 - 15-30 мин., 3 - 30-60 мин., 4 - >60 мин.)\n",
    "- 14 studytime — время на учёбу помимо школы в неделю (1 - <2 часов, 2 - 2-5 часов, 3 - 5-10 часов, 4 - >10 часов)\n",
    "- 15 failures — количество внеучебных неудач (n, если 1<=n<3, иначе 4)\n",
    "- 16 schoolsup — дополнительная образовательная поддержка (yes или no)\n",
    "- 17 famsup — семейная образовательная поддержка (yes или no)\n",
    "- 18 paid — дополнительные платные занятия по математике (yes или no)\n",
    "- 19 activities — дополнительные внеучебные занятия (yes или no)\n",
    "- 20 nursery — посещал детский сад (yes или no)\n",
    "- 21 higher — хочет получить высшее образование (yes или no)\n",
    "- 22 internet — наличие интернета дома (yes или no)\n",
    "- 23 romantic — в романтических отношениях (yes или no)\n",
    "- 24 famrel — семейные отношения (от 1 - очень плохо до 5 - очень хорошо)\n",
    "- 25 freetime — свободное время после школы (от 1 - очень мало до 5 - очень мого)\n",
    "- 26 goout — проведение времени с друзьями (от 1 - очень мало до 5 - очень много)\n",
    "- 27 health — текущее состояние здоровья (от 1 - очень плохо до 5 - очень хорошо)\n",
    "- 28 absences — количество пропущенных занятий\n",
    "- 29 score — баллы по госэкзамену по математике"
   ]
  },
  {
   "cell_type": "markdown",
   "metadata": {},
   "source": [
    "# Загружаем библиотеки"
   ]
  },
  {
   "cell_type": "code",
   "execution_count": 1,
   "metadata": {},
   "outputs": [],
   "source": [
    "import pandas as pd\n",
    "import matplotlib.pyplot as plt\n",
    "import seaborn as sns\n",
    "from itertools import combinations\n",
    "from scipy.stats import ttest_ind"
   ]
  },
  {
   "cell_type": "code",
   "execution_count": 2,
   "metadata": {},
   "outputs": [],
   "source": [
    "import my_lib_rds2 as ml2 # моя библиотека для данного проекта"
   ]
  },
  {
   "cell_type": "code",
   "execution_count": 3,
   "metadata": {
    "scrolled": true
   },
   "outputs": [],
   "source": [
    "pd.set_option('display.max_rows', 50) # выведем больше строк\n",
    "pd.set_option('display.max_columns', 50) # выведем больше колонок"
   ]
  },
  {
   "cell_type": "markdown",
   "metadata": {},
   "source": [
    "# Загружаем датасет. Общий обзор"
   ]
  },
  {
   "cell_type": "code",
   "execution_count": 4,
   "metadata": {},
   "outputs": [],
   "source": [
    "df = pd.read_csv('stud_math.csv')"
   ]
  },
  {
   "cell_type": "markdown",
   "metadata": {},
   "source": [
    "## Оценка количества пропусков"
   ]
  },
  {
   "cell_type": "code",
   "execution_count": 5,
   "metadata": {
    "scrolled": true
   },
   "outputs": [
    {
     "name": "stdout",
     "output_type": "stream",
     "text": [
      "<class 'pandas.core.frame.DataFrame'>\n",
      "RangeIndex: 395 entries, 0 to 394\n",
      "Data columns (total 30 columns):\n",
      "school                 395 non-null object\n",
      "sex                    395 non-null object\n",
      "age                    395 non-null int64\n",
      "address                378 non-null object\n",
      "famsize                368 non-null object\n",
      "Pstatus                350 non-null object\n",
      "Medu                   392 non-null float64\n",
      "Fedu                   371 non-null float64\n",
      "Mjob                   376 non-null object\n",
      "Fjob                   359 non-null object\n",
      "reason                 378 non-null object\n",
      "guardian               364 non-null object\n",
      "traveltime             367 non-null float64\n",
      "studytime              388 non-null float64\n",
      "failures               373 non-null float64\n",
      "schoolsup              386 non-null object\n",
      "famsup                 356 non-null object\n",
      "paid                   355 non-null object\n",
      "activities             381 non-null object\n",
      "nursery                379 non-null object\n",
      "studytime, granular    388 non-null float64\n",
      "higher                 375 non-null object\n",
      "internet               361 non-null object\n",
      "romantic               364 non-null object\n",
      "famrel                 368 non-null float64\n",
      "freetime               384 non-null float64\n",
      "goout                  387 non-null float64\n",
      "health                 380 non-null float64\n",
      "absences               383 non-null float64\n",
      "score                  389 non-null float64\n",
      "dtypes: float64(12), int64(1), object(17)\n",
      "memory usage: 92.7+ KB\n"
     ]
    }
   ],
   "source": [
    "df.info()"
   ]
  },
  {
   "cell_type": "markdown",
   "metadata": {},
   "source": [
    "В датасете **30 столбцов** (в описании 29!) и **395 строк**. Почти все столбцы содержат незначительноее количество пропусков (**пропусков не более 11%**). Только 3 столбца не содержат пропусков."
   ]
  },
  {
   "cell_type": "code",
   "execution_count": 6,
   "metadata": {},
   "outputs": [
    {
     "data": {
      "text/plain": [
       "97"
      ]
     },
     "execution_count": 6,
     "metadata": {},
     "output_type": "execute_result"
    }
   ],
   "source": [
    "len(df.dropna(axis = 0, how = 'any'))"
   ]
  },
  {
   "cell_type": "markdown",
   "metadata": {},
   "source": [
    "#### Только 97 строк не содержат пропусков. Это менее 25%."
   ]
  },
  {
   "cell_type": "markdown",
   "metadata": {},
   "source": [
    "## Работа с именами столбцов"
   ]
  },
  {
   "cell_type": "code",
   "execution_count": 7,
   "metadata": {},
   "outputs": [
    {
     "data": {
      "text/plain": [
       "Index(['school', 'sex', 'age', 'address', 'famsize', 'Pstatus', 'Medu', 'Fedu',\n",
       "       'Mjob', 'Fjob', 'reason', 'guardian', 'traveltime', 'studytime',\n",
       "       'failures', 'schoolsup', 'famsup', 'paid', 'activities', 'nursery',\n",
       "       'studytime, granular', 'higher', 'internet', 'romantic', 'famrel',\n",
       "       'freetime', 'goout', 'health', 'absences', 'score'],\n",
       "      dtype='object')"
      ]
     },
     "execution_count": 7,
     "metadata": {},
     "output_type": "execute_result"
    }
   ],
   "source": [
    "df.columns"
   ]
  },
  {
   "cell_type": "markdown",
   "metadata": {},
   "source": [
    "**Переименуем столбцы** (избавимся от заглавных букв и сложных названий)"
   ]
  },
  {
   "cell_type": "code",
   "execution_count": 8,
   "metadata": {},
   "outputs": [],
   "source": [
    "df.rename(columns={'Pstatus': 'p_status', 'Medu':'m_edu', 'Fedu':'f_edu',\n",
    "       'Mjob':'m_job', 'Fjob':'f_job', 'studytime, granular': 'studytime_gr'}, inplace=True)"
   ]
  },
  {
   "cell_type": "markdown",
   "metadata": {},
   "source": [
    "## Лишний столбец?('studytime, granular')"
   ]
  },
  {
   "cell_type": "markdown",
   "metadata": {},
   "source": [
    "В датасете есть 1 столбец, который отсутствует в описании - **\"studytime, granular\"**, и его название очень схоже со столбцом **\"studytime\"**. Давайте проанализируем их."
   ]
  },
  {
   "cell_type": "code",
   "execution_count": 9,
   "metadata": {},
   "outputs": [
    {
     "data": {
      "image/png": "[encoded data removed]",
      "text/plain": [
       "<Figure size 432x288 with 1 Axes>"
      ]
     },
     "metadata": {
      "needs_background": "light"
     },
     "output_type": "display_data"
    }
   ],
   "source": [
    "(df['studytime_gr']*(1/3)).hist()\n",
    "df['studytime'].hist()\n",
    "plt.show()"
   ]
  },
  {
   "cell_type": "code",
   "execution_count": 10,
   "metadata": {},
   "outputs": [
    {
     "data": {
      "text/plain": [
       "2.0    194\n",
       "1.0    103\n",
       "3.0     64\n",
       "4.0     27\n",
       "NaN      7\n",
       "Name: studytime_gr, dtype: int64"
      ]
     },
     "execution_count": 10,
     "metadata": {},
     "output_type": "execute_result"
    }
   ],
   "source": [
    "(df['studytime_gr']*(-1/3)).value_counts(dropna = False)"
   ]
  },
  {
   "cell_type": "code",
   "execution_count": 11,
   "metadata": {},
   "outputs": [
    {
     "data": {
      "text/plain": [
       "2.0    194\n",
       "1.0    103\n",
       "3.0     64\n",
       "4.0     27\n",
       "NaN      7\n",
       "Name: studytime, dtype: int64"
      ]
     },
     "execution_count": 11,
     "metadata": {},
     "output_type": "execute_result"
    }
   ],
   "source": [
    "df['studytime'].value_counts(dropna = False)"
   ]
  },
  {
   "cell_type": "code",
   "execution_count": 12,
   "metadata": {},
   "outputs": [
    {
     "data": {
      "text/html": [
       "<div>\n",
       "<style scoped>\n",
       "    .dataframe tbody tr th:only-of-type {\n",
       "        vertical-align: middle;\n",
       "    }\n",
       "\n",
       "    .dataframe tbody tr th {\n",
       "        vertical-align: top;\n",
       "    }\n",
       "\n",
       "    .dataframe thead th {\n",
       "        text-align: right;\n",
       "    }\n",
       "</style>\n",
       "<table border=\"1\" class=\"dataframe\">\n",
       "  <thead>\n",
       "    <tr style=\"text-align: right;\">\n",
       "      <th></th>\n",
       "      <th>studytime_gr</th>\n",
       "      <th>studytime</th>\n",
       "    </tr>\n",
       "  </thead>\n",
       "  <tbody>\n",
       "    <tr>\n",
       "      <td>studytime_gr</td>\n",
       "      <td>1.0</td>\n",
       "      <td>-1.0</td>\n",
       "    </tr>\n",
       "    <tr>\n",
       "      <td>studytime</td>\n",
       "      <td>-1.0</td>\n",
       "      <td>1.0</td>\n",
       "    </tr>\n",
       "  </tbody>\n",
       "</table>\n",
       "</div>"
      ],
      "text/plain": [
       "              studytime_gr  studytime\n",
       "studytime_gr           1.0       -1.0\n",
       "studytime             -1.0        1.0"
      ]
     },
     "execution_count": 12,
     "metadata": {},
     "output_type": "execute_result"
    }
   ],
   "source": [
    "df[['studytime_gr', 'studytime']].corr()"
   ]
  },
  {
   "cell_type": "markdown",
   "metadata": {},
   "source": [
    "Данные столбцы явно линейно зависимы, **удалим столбец 'studytime, granular'** ('studytime_gr'), т.к. он отсутствует в описании, а при необходимости легко восстановим."
   ]
  },
  {
   "cell_type": "code",
   "execution_count": 13,
   "metadata": {},
   "outputs": [],
   "source": [
    "df.drop(['studytime_gr'], axis = 'columns', inplace = True)"
   ]
  },
  {
   "cell_type": "markdown",
   "metadata": {},
   "source": [
    "## Промежуточное резюме"
   ]
  },
  {
   "cell_type": "markdown",
   "metadata": {},
   "source": [
    "- удалили столбец 'studytime, granular', т.к. эти данные дублируют данные 'studytime' (с коэф. -1/3)\n",
    "- общее количесвто пропусков невелико (менее 10%), но их распределение по данным не позволяет избавиться от пропусков простым удалением строк или столбцов\n",
    "\n",
    "##### В датасете осталось\n",
    "- 395 строк, 97 из которых не содержат пропусков\n",
    "- 29 параметров (столбцов), 3 из которых не содержат пропусков (age, school, sex)\n",
    "\n",
    "##### Параметры можно разделить на группы\n",
    "- **количественные (3 шт.)**: age, absences, score\n",
    "- **номинативные (26 шт.)**, в т.ч.\n",
    "    - **бинарные (13 шт.)**: sex, address, famsize, p_status, schoolsup, famsup, paid, activities, nursery, higher, internet, romantic, school\n",
    "    - **ранговые (13 шт.)**: m_edu, f_edu, m_job, f_job, reason, guardian, traveltime, studytime, failures, famrel, freetime, goout, health"
   ]
  },
  {
   "cell_type": "markdown",
   "metadata": {},
   "source": [
    "# Рассмотрим количественные параметры"
   ]
  },
  {
   "cell_type": "markdown",
   "metadata": {},
   "source": [
    "## Общий обзор"
   ]
  },
  {
   "cell_type": "code",
   "execution_count": 14,
   "metadata": {},
   "outputs": [
    {
     "name": "stdout",
     "output_type": "stream",
     "text": [
      "<class 'pandas.core.frame.DataFrame'>\n",
      "RangeIndex: 395 entries, 0 to 394\n",
      "Data columns (total 3 columns):\n",
      "age         395 non-null int64\n",
      "absences    383 non-null float64\n",
      "score       389 non-null float64\n",
      "dtypes: float64(2), int64(1)\n",
      "memory usage: 9.4 KB\n"
     ]
    }
   ],
   "source": [
    "df[['age', 'absences', 'score']].info()"
   ]
  },
  {
   "cell_type": "markdown",
   "metadata": {},
   "source": [
    "В первую очередь мы видим **пропуски в данных по целевой переменной - 'score'**.\n",
    "**Мы не имеем возможности восстановить эти данные**, а заполненние пропусков на основании разных гипотез скорее навредит нашей моделе, поэтому **следует удалить строки данных с пропусками в столбце 'score'.**"
   ]
  },
  {
   "cell_type": "code",
   "execution_count": 15,
   "metadata": {},
   "outputs": [],
   "source": [
    "df.dropna(subset = ['score'], how = 'any', inplace = True)"
   ]
  },
  {
   "cell_type": "markdown",
   "metadata": {},
   "source": [
    "## age - возраст"
   ]
  },
  {
   "cell_type": "code",
   "execution_count": 16,
   "metadata": {
    "scrolled": false
   },
   "outputs": [
    {
     "name": "stdout",
     "output_type": "stream",
     "text": [
      "16    103\n",
      "17     98\n",
      "15     82\n",
      "18     80\n",
      "19     21\n",
      "20      3\n",
      "22      1\n",
      "21      1\n",
      "Name: age, dtype: int64\n"
     ]
    }
   ],
   "source": [
    "print(df.age.value_counts(dropna = False))"
   ]
  },
  {
   "cell_type": "code",
   "execution_count": 17,
   "metadata": {},
   "outputs": [
    {
     "data": {
      "image/png": "[encoded data removed]",
      "text/plain": [
       "<Figure size 864x288 with 2 Axes>"
      ]
     },
     "metadata": {
      "needs_background": "light"
     },
     "output_type": "display_data"
    }
   ],
   "source": [
    "ml2.hist_and_box(df.age)"
   ]
  },
  {
   "cell_type": "markdown",
   "metadata": {},
   "source": [
    "- пропусков нет\n",
    "- распределение имеет один выброс (согласно межквартильному интервалу), но значение 22 года входит в возрастной диапазон (16-22), указанный в описании к данным и к тому же это значение не сильно выше верхней границы межквартильного диапозона (21).\n",
    "- оставляем данные как есть"
   ]
  },
  {
   "cell_type": "markdown",
   "metadata": {},
   "source": [
    "## score - баллы по госэкзамену по математике"
   ]
  },
  {
   "cell_type": "code",
   "execution_count": 18,
   "metadata": {
    "scrolled": true
   },
   "outputs": [
    {
     "data": {
      "image/png": "[encoded data removed]",
      "text/plain": [
       "<Figure size 864x288 with 2 Axes>"
      ]
     },
     "metadata": {
      "needs_background": "light"
     },
     "output_type": "display_data"
    }
   ],
   "source": [
    "ml2.hist_and_box(df.score)"
   ]
  },
  {
   "cell_type": "markdown",
   "metadata": {},
   "source": [
    "Диапазон значений в ожидаемых пределах (от 0 до 100). Пропуски мы удалили ранее. Выбросов нет.\n",
    "\n",
    "Имеем два значительных пика в 0 и в диапозоне 50-55 баллов.\n",
    "\n",
    "Ученики, которые получили 0 баллов за экзамен явно выделяются на фоне остальных учеников. Те кто получил 0 баллов, скорее всего не сдавали экзамен по каким-то причинам."
   ]
  },
  {
   "cell_type": "markdown",
   "metadata": {},
   "source": [
    "## absences - пропуски занятий"
   ]
  },
  {
   "cell_type": "code",
   "execution_count": 19,
   "metadata": {},
   "outputs": [
    {
     "data": {
      "image/png": "[encoded data removed]",
      "text/plain": [
       "<Figure size 864x288 with 2 Axes>"
      ]
     },
     "metadata": {
      "needs_background": "light"
     },
     "output_type": "display_data"
    }
   ],
   "source": [
    "ml2.hist_and_box(df.absences)"
   ]
  },
  {
   "cell_type": "markdown",
   "metadata": {},
   "source": [
    "Данные имеют явно много выбросов, согласно межквартильному интервалу. Посмотрим на эти гранцы и постараемся найти компромисс."
   ]
  },
  {
   "cell_type": "code",
   "execution_count": 20,
   "metadata": {},
   "outputs": [
    {
     "name": "stdout",
     "output_type": "stream",
     "text": [
      "Нижняя граница:  -12.0  и таких значений  0\n",
      "Верхняя граница:  20.0  и таких значений  17\n"
     ]
    }
   ],
   "source": [
    "ml2.outliers(df.absences)"
   ]
  },
  {
   "cell_type": "code",
   "execution_count": 21,
   "metadata": {},
   "outputs": [
    {
     "name": "stdout",
     "output_type": "stream",
     "text": [
      "[0.0, 1.0, 2.0, 3.0, 4.0, 5.0, 6.0, 7.0, 8.0, 9.0, 10.0, 11.0, 12.0, 13.0, 14.0, 15.0, 16.0, 17.0, 18.0, 19.0, 20.0, 21.0, 22.0, 23.0, 24.0, 25.0, 26.0, 28.0, 30.0, 38.0, 40.0, 54.0, 56.0, 75.0, 212.0, 385.0]\n"
     ]
    }
   ],
   "source": [
    "ind = list(df.absences.value_counts(dropna = True).index)\n",
    "ind.sort()\n",
    "print(ind)"
   ]
  },
  {
   "cell_type": "markdown",
   "metadata": {},
   "source": [
    "Данные имееют очень большой размах, что может негативно отразиться на нашей моделе. Попробуем избавиться от \"хвостов\". А точнее от \"хвоста\" справа"
   ]
  },
  {
   "cell_type": "markdown",
   "metadata": {},
   "source": [
    "Межквартильная проверка отбрасывает очень много значений. Думаю стоит отбросить значения которые идут с большими гэпами относительно соседей. Например значения выше 30."
   ]
  },
  {
   "cell_type": "code",
   "execution_count": 22,
   "metadata": {},
   "outputs": [
    {
     "data": {
      "text/plain": [
       "<matplotlib.axes._subplots.AxesSubplot at 0x1be8b8ee0c8>"
      ]
     },
     "execution_count": 22,
     "metadata": {},
     "output_type": "execute_result"
    },
    {
     "data": {
      "image/png": "[encoded data removed]",
      "text/plain": [
       "<Figure size 432x288 with 1 Axes>"
      ]
     },
     "metadata": {
      "needs_background": "light"
     },
     "output_type": "display_data"
    }
   ],
   "source": [
    "df.absences[(df.absences <= 30)].hist() # Грфик без хвоста > 30"
   ]
  },
  {
   "cell_type": "markdown",
   "metadata": {},
   "source": [
    "Заменим значения выше 30 на значения 30."
   ]
  },
  {
   "cell_type": "code",
   "execution_count": 23,
   "metadata": {},
   "outputs": [],
   "source": [
    "more_then_30 = df[df.absences > 30].index\n",
    "df.loc[more_then_30, 'absences'] = 30"
   ]
  },
  {
   "cell_type": "code",
   "execution_count": 24,
   "metadata": {},
   "outputs": [
    {
     "data": {
      "text/plain": [
       "<matplotlib.axes._subplots.AxesSubplot at 0x1be8b89a6c8>"
      ]
     },
     "execution_count": 24,
     "metadata": {},
     "output_type": "execute_result"
    },
    {
     "data": {
      "image/png": "[encoded data removed]",
      "text/plain": [
       "<Figure size 432x288 with 1 Axes>"
      ]
     },
     "metadata": {
      "needs_background": "light"
     },
     "output_type": "display_data"
    }
   ],
   "source": [
    "df.absences.hist()"
   ]
  },
  {
   "cell_type": "markdown",
   "metadata": {},
   "source": [
    "Небольшой образовавшийся пик в значении 30 смотриться в пределах статистической погрешности."
   ]
  },
  {
   "cell_type": "markdown",
   "metadata": {},
   "source": [
    "##### Рассмотрим пропуски в данных."
   ]
  },
  {
   "cell_type": "code",
   "execution_count": 25,
   "metadata": {},
   "outputs": [
    {
     "data": {
      "text/plain": [
       "11"
      ]
     },
     "execution_count": 25,
     "metadata": {},
     "output_type": "execute_result"
    }
   ],
   "source": [
    "len(df[df.absences.isnull()])"
   ]
  },
  {
   "cell_type": "markdown",
   "metadata": {},
   "source": [
    "Заменим пропуски на модовские значения с аналогичным баллом."
   ]
  },
  {
   "cell_type": "code",
   "execution_count": 26,
   "metadata": {},
   "outputs": [
    {
     "name": "stdout",
     "output_type": "stream",
     "text": [
      "24 nan  ->  0.0\n",
      "101 nan  ->  0.0\n",
      "120 nan  ->  0.0\n",
      "129 nan  ->  0.0\n",
      "150 nan  ->  0.0\n",
      "172 nan  ->  4.0\n",
      "215 nan  ->  0.0\n",
      "227 nan  ->  0.0\n",
      "254 nan  ->  0.0\n",
      "265 nan  ->  0.0\n",
      "352 nan  ->  0.0\n"
     ]
    }
   ],
   "source": [
    "ml2.mode_change(df, 'absences', 'score')"
   ]
  },
  {
   "cell_type": "markdown",
   "metadata": {},
   "source": [
    "## Корреляционный анализ"
   ]
  },
  {
   "cell_type": "code",
   "execution_count": 27,
   "metadata": {},
   "outputs": [
    {
     "data": {
      "text/html": [
       "<div>\n",
       "<style scoped>\n",
       "    .dataframe tbody tr th:only-of-type {\n",
       "        vertical-align: middle;\n",
       "    }\n",
       "\n",
       "    .dataframe tbody tr th {\n",
       "        vertical-align: top;\n",
       "    }\n",
       "\n",
       "    .dataframe thead th {\n",
       "        text-align: right;\n",
       "    }\n",
       "</style>\n",
       "<table border=\"1\" class=\"dataframe\">\n",
       "  <thead>\n",
       "    <tr style=\"text-align: right;\">\n",
       "      <th></th>\n",
       "      <th>score</th>\n",
       "      <th>age</th>\n",
       "      <th>absences</th>\n",
       "    </tr>\n",
       "  </thead>\n",
       "  <tbody>\n",
       "    <tr>\n",
       "      <td>score</td>\n",
       "      <td>1.000000</td>\n",
       "      <td>-0.155726</td>\n",
       "      <td>0.049953</td>\n",
       "    </tr>\n",
       "    <tr>\n",
       "      <td>age</td>\n",
       "      <td>-0.155726</td>\n",
       "      <td>1.000000</td>\n",
       "      <td>0.191898</td>\n",
       "    </tr>\n",
       "    <tr>\n",
       "      <td>absences</td>\n",
       "      <td>0.049953</td>\n",
       "      <td>0.191898</td>\n",
       "      <td>1.000000</td>\n",
       "    </tr>\n",
       "  </tbody>\n",
       "</table>\n",
       "</div>"
      ],
      "text/plain": [
       "             score       age  absences\n",
       "score     1.000000 -0.155726  0.049953\n",
       "age      -0.155726  1.000000  0.191898\n",
       "absences  0.049953  0.191898  1.000000"
      ]
     },
     "execution_count": 27,
     "metadata": {},
     "output_type": "execute_result"
    }
   ],
   "source": [
    "df[['score', 'age', 'absences']].corr()"
   ]
  },
  {
   "cell_type": "markdown",
   "metadata": {},
   "source": [
    "**Явно скорреллированных параметров нет.** К дальнейшему рассмотрению допущены все параметры."
   ]
  },
  {
   "cell_type": "markdown",
   "metadata": {},
   "source": [
    "# Рассмотрим номинативные параметры"
   ]
  },
  {
   "cell_type": "markdown",
   "metadata": {},
   "source": [
    "- бинарные (13 шт.): sex, address, famsize, p_status, schoolsup, famsup, paid, activities, nursery, higher, internet, romantic, school\n",
    "- ранговые (13 шт.): m_edu, f_edu, m_job, f_job, reason, guardian, traveltime, studytime, failures, famrel, freetime, goout, health"
   ]
  },
  {
   "cell_type": "markdown",
   "metadata": {},
   "source": [
    "и начнём с бинарных параметров"
   ]
  },
  {
   "cell_type": "markdown",
   "metadata": {},
   "source": [
    "## Бинарные параметры"
   ]
  },
  {
   "cell_type": "markdown",
   "metadata": {},
   "source": [
    "### Параметры yes/no \n",
    "(schoolsup, famsup, paid, activities, nursery, higher, \tinternet, romantic)"
   ]
  },
  {
   "cell_type": "markdown",
   "metadata": {},
   "source": [
    "Проверим эти данные на корректность значений. Пропуски разумнее всего заменить на 'no' (по принципу скрытого нуля)"
   ]
  },
  {
   "cell_type": "code",
   "execution_count": 28,
   "metadata": {},
   "outputs": [],
   "source": [
    "bin_list = ['schoolsup','famsup','paid','activities','nursery',\n",
    "            'higher','internet','romantic']"
   ]
  },
  {
   "cell_type": "code",
   "execution_count": 29,
   "metadata": {
    "scrolled": true
   },
   "outputs": [
    {
     "data": {
      "text/html": [
       "<div>\n",
       "<style scoped>\n",
       "    .dataframe tbody tr th:only-of-type {\n",
       "        vertical-align: middle;\n",
       "    }\n",
       "\n",
       "    .dataframe tbody tr th {\n",
       "        vertical-align: top;\n",
       "    }\n",
       "\n",
       "    .dataframe thead th {\n",
       "        text-align: right;\n",
       "    }\n",
       "</style>\n",
       "<table border=\"1\" class=\"dataframe\">\n",
       "  <thead>\n",
       "    <tr style=\"text-align: right;\">\n",
       "      <th></th>\n",
       "      <th>schoolsup</th>\n",
       "      <th>famsup</th>\n",
       "      <th>paid</th>\n",
       "      <th>activities</th>\n",
       "      <th>nursery</th>\n",
       "      <th>higher</th>\n",
       "      <th>internet</th>\n",
       "      <th>romantic</th>\n",
       "    </tr>\n",
       "  </thead>\n",
       "  <tbody>\n",
       "    <tr>\n",
       "      <td>count</td>\n",
       "      <td>380</td>\n",
       "      <td>351</td>\n",
       "      <td>350</td>\n",
       "      <td>375</td>\n",
       "      <td>374</td>\n",
       "      <td>369</td>\n",
       "      <td>355</td>\n",
       "      <td>358</td>\n",
       "    </tr>\n",
       "    <tr>\n",
       "      <td>unique</td>\n",
       "      <td>2</td>\n",
       "      <td>2</td>\n",
       "      <td>2</td>\n",
       "      <td>2</td>\n",
       "      <td>2</td>\n",
       "      <td>2</td>\n",
       "      <td>2</td>\n",
       "      <td>2</td>\n",
       "    </tr>\n",
       "    <tr>\n",
       "      <td>top</td>\n",
       "      <td>no</td>\n",
       "      <td>yes</td>\n",
       "      <td>no</td>\n",
       "      <td>yes</td>\n",
       "      <td>yes</td>\n",
       "      <td>yes</td>\n",
       "      <td>yes</td>\n",
       "      <td>no</td>\n",
       "    </tr>\n",
       "    <tr>\n",
       "      <td>freq</td>\n",
       "      <td>331</td>\n",
       "      <td>216</td>\n",
       "      <td>197</td>\n",
       "      <td>192</td>\n",
       "      <td>297</td>\n",
       "      <td>350</td>\n",
       "      <td>300</td>\n",
       "      <td>235</td>\n",
       "    </tr>\n",
       "  </tbody>\n",
       "</table>\n",
       "</div>"
      ],
      "text/plain": [
       "       schoolsup famsup paid activities nursery higher internet romantic\n",
       "count        380    351  350        375     374    369      355      358\n",
       "unique         2      2    2          2       2      2        2        2\n",
       "top           no    yes   no        yes     yes    yes      yes       no\n",
       "freq         331    216  197        192     297    350      300      235"
      ]
     },
     "execution_count": 29,
     "metadata": {},
     "output_type": "execute_result"
    }
   ],
   "source": [
    "df[bin_list].describe()"
   ]
  },
  {
   "cell_type": "markdown",
   "metadata": {},
   "source": [
    "Данные корректны, т.к. везде по два уникальных значения. Посмотрим на количество пропусков."
   ]
  },
  {
   "cell_type": "code",
   "execution_count": 30,
   "metadata": {},
   "outputs": [
    {
     "data": {
      "text/html": [
       "<div>\n",
       "<style scoped>\n",
       "    .dataframe tbody tr th:only-of-type {\n",
       "        vertical-align: middle;\n",
       "    }\n",
       "\n",
       "    .dataframe tbody tr th {\n",
       "        vertical-align: top;\n",
       "    }\n",
       "\n",
       "    .dataframe thead th {\n",
       "        text-align: right;\n",
       "    }\n",
       "</style>\n",
       "<table border=\"1\" class=\"dataframe\">\n",
       "  <thead>\n",
       "    <tr style=\"text-align: right;\">\n",
       "      <th></th>\n",
       "      <th>col</th>\n",
       "      <th>miss</th>\n",
       "      <th>percent</th>\n",
       "      <th>nunique</th>\n",
       "    </tr>\n",
       "  </thead>\n",
       "  <tbody>\n",
       "    <tr>\n",
       "      <td>0</td>\n",
       "      <td>schoolsup</td>\n",
       "      <td>9</td>\n",
       "      <td>2.3</td>\n",
       "      <td>2</td>\n",
       "    </tr>\n",
       "    <tr>\n",
       "      <td>1</td>\n",
       "      <td>famsup</td>\n",
       "      <td>38</td>\n",
       "      <td>9.8</td>\n",
       "      <td>2</td>\n",
       "    </tr>\n",
       "    <tr>\n",
       "      <td>2</td>\n",
       "      <td>paid</td>\n",
       "      <td>39</td>\n",
       "      <td>10.0</td>\n",
       "      <td>2</td>\n",
       "    </tr>\n",
       "    <tr>\n",
       "      <td>3</td>\n",
       "      <td>activities</td>\n",
       "      <td>14</td>\n",
       "      <td>3.6</td>\n",
       "      <td>2</td>\n",
       "    </tr>\n",
       "    <tr>\n",
       "      <td>4</td>\n",
       "      <td>nursery</td>\n",
       "      <td>15</td>\n",
       "      <td>3.9</td>\n",
       "      <td>2</td>\n",
       "    </tr>\n",
       "    <tr>\n",
       "      <td>5</td>\n",
       "      <td>higher</td>\n",
       "      <td>20</td>\n",
       "      <td>5.1</td>\n",
       "      <td>2</td>\n",
       "    </tr>\n",
       "    <tr>\n",
       "      <td>6</td>\n",
       "      <td>internet</td>\n",
       "      <td>34</td>\n",
       "      <td>8.7</td>\n",
       "      <td>2</td>\n",
       "    </tr>\n",
       "    <tr>\n",
       "      <td>7</td>\n",
       "      <td>romantic</td>\n",
       "      <td>31</td>\n",
       "      <td>8.0</td>\n",
       "      <td>2</td>\n",
       "    </tr>\n",
       "  </tbody>\n",
       "</table>\n",
       "</div>"
      ],
      "text/plain": [
       "          col  miss  percent  nunique\n",
       "0   schoolsup     9      2.3        2\n",
       "1      famsup    38      9.8        2\n",
       "2        paid    39     10.0        2\n",
       "3  activities    14      3.6        2\n",
       "4     nursery    15      3.9        2\n",
       "5      higher    20      5.1        2\n",
       "6    internet    34      8.7        2\n",
       "7    romantic    31      8.0        2"
      ]
     },
     "execution_count": 30,
     "metadata": {},
     "output_type": "execute_result"
    }
   ],
   "source": [
    "ml2.miss_count(df, bin_list)"
   ]
  },
  {
   "cell_type": "markdown",
   "metadata": {},
   "source": [
    "Пропуски составляют не более 10%. Заполним их значением 'no'. Затем поменяем значения на бинарные (0 и 1)"
   ]
  },
  {
   "cell_type": "code",
   "execution_count": 31,
   "metadata": {},
   "outputs": [],
   "source": [
    "for col in bin_list:\n",
    "    df[col].fillna('no', inplace=True)\n",
    "    df[col].replace('yes', 1, inplace=True)\n",
    "    df[col].replace('no', 0, inplace=True)"
   ]
  },
  {
   "cell_type": "markdown",
   "metadata": {},
   "source": [
    "### Прочие бинарные параметры (sex, address, famsize, p_status)"
   ]
  },
  {
   "cell_type": "code",
   "execution_count": 32,
   "metadata": {},
   "outputs": [],
   "source": [
    "bin_list2 = ['sex', 'address', 'famsize', 'p_status']"
   ]
  },
  {
   "cell_type": "code",
   "execution_count": 35,
   "metadata": {},
   "outputs": [
    {
     "data": {
      "text/html": [
       "<div>\n",
       "<style scoped>\n",
       "    .dataframe tbody tr th:only-of-type {\n",
       "        vertical-align: middle;\n",
       "    }\n",
       "\n",
       "    .dataframe tbody tr th {\n",
       "        vertical-align: top;\n",
       "    }\n",
       "\n",
       "    .dataframe thead th {\n",
       "        text-align: right;\n",
       "    }\n",
       "</style>\n",
       "<table border=\"1\" class=\"dataframe\">\n",
       "  <thead>\n",
       "    <tr style=\"text-align: right;\">\n",
       "      <th></th>\n",
       "      <th>col</th>\n",
       "      <th>miss</th>\n",
       "      <th>percent</th>\n",
       "      <th>nunique</th>\n",
       "    </tr>\n",
       "  </thead>\n",
       "  <tbody>\n",
       "    <tr>\n",
       "      <td>0</td>\n",
       "      <td>sex</td>\n",
       "      <td>0</td>\n",
       "      <td>0.0</td>\n",
       "      <td>2</td>\n",
       "    </tr>\n",
       "    <tr>\n",
       "      <td>1</td>\n",
       "      <td>address</td>\n",
       "      <td>15</td>\n",
       "      <td>3.9</td>\n",
       "      <td>2</td>\n",
       "    </tr>\n",
       "    <tr>\n",
       "      <td>2</td>\n",
       "      <td>famsize</td>\n",
       "      <td>27</td>\n",
       "      <td>6.9</td>\n",
       "      <td>2</td>\n",
       "    </tr>\n",
       "    <tr>\n",
       "      <td>3</td>\n",
       "      <td>p_status</td>\n",
       "      <td>45</td>\n",
       "      <td>11.6</td>\n",
       "      <td>2</td>\n",
       "    </tr>\n",
       "  </tbody>\n",
       "</table>\n",
       "</div>"
      ],
      "text/plain": [
       "        col  miss  percent  nunique\n",
       "0       sex     0      0.0        2\n",
       "1   address    15      3.9        2\n",
       "2   famsize    27      6.9        2\n",
       "3  p_status    45     11.6        2"
      ]
     },
     "execution_count": 35,
     "metadata": {},
     "output_type": "execute_result"
    }
   ],
   "source": [
    "ml2.miss_count(df, bin_list2)"
   ]
  },
  {
   "cell_type": "markdown",
   "metadata": {},
   "source": [
    "### sex - пол ученика ('F' - женский, 'M' - мужской)"
   ]
  },
  {
   "cell_type": "code",
   "execution_count": 36,
   "metadata": {},
   "outputs": [
    {
     "data": {
      "text/plain": [
       "F    204\n",
       "M    185\n",
       "Name: sex, dtype: int64"
      ]
     },
     "execution_count": 36,
     "metadata": {},
     "output_type": "execute_result"
    }
   ],
   "source": [
    "df.sex.value_counts(dropna = False)"
   ]
  },
  {
   "cell_type": "markdown",
   "metadata": {},
   "source": [
    "Все значения корректны, пропусков нет. Мальчиков и девочек учиться примерно одинаковое количество с небольшим перевесом по количеству девочек."
   ]
  },
  {
   "cell_type": "markdown",
   "metadata": {},
   "source": [
    "### address - тип адреса ученика \n",
    "('U' - городской, 'R' - за городом)"
   ]
  },
  {
   "cell_type": "code",
   "execution_count": 37,
   "metadata": {},
   "outputs": [
    {
     "data": {
      "text/plain": [
       "U      291\n",
       "R       83\n",
       "NaN     15\n",
       "Name: address, dtype: int64"
      ]
     },
     "execution_count": 37,
     "metadata": {},
     "output_type": "execute_result"
    }
   ],
   "source": [
    "df.address.value_counts(dropna = False)"
   ]
  },
  {
   "cell_type": "markdown",
   "metadata": {},
   "source": [
    "Все значения корректны. Имеем 15 пропусков. Подавляющая часть учеников живёт в городе."
   ]
  },
  {
   "cell_type": "markdown",
   "metadata": {},
   "source": [
    "Есть предположение, что адрес ученика находится в зависимости traveltime. Проверим это предположение."
   ]
  },
  {
   "cell_type": "code",
   "execution_count": 38,
   "metadata": {},
   "outputs": [
    {
     "data": {
      "text/plain": [
       "traveltime  address\n",
       "1.0         U          198\n",
       "            R           34\n",
       "2.0         U           63\n",
       "            R           26\n",
       "3.0         R           12\n",
       "            U            9\n",
       "4.0         R            4\n",
       "            U            3\n",
       "Name: address, dtype: int64"
      ]
     },
     "execution_count": 38,
     "metadata": {},
     "output_type": "execute_result"
    }
   ],
   "source": [
    "df.groupby(['traveltime'])['address'].value_counts()"
   ]
  },
  {
   "cell_type": "markdown",
   "metadata": {},
   "source": [
    "Как видим ученики, которые живут в городе быстрее добираются до школы. Заполним пропуски исходя из этой гипотезы (в соответствии с частотой распределения параметра в зависимости от времени в пути)."
   ]
  },
  {
   "cell_type": "code",
   "execution_count": 39,
   "metadata": {},
   "outputs": [
    {
     "name": "stdout",
     "output_type": "stream",
     "text": [
      "6 nan  ->  U\n",
      "52 nan  ->  U\n",
      "75 nan  ->  U\n",
      "92 nan  ->  U\n",
      "96 nan  ->  U\n",
      "159 nan  ->  U\n",
      "168 nan  ->  U\n",
      "254 nan  ->  U\n",
      "292 nan  ->  U\n",
      "354 nan  ->  U\n",
      "359 nan  ->  U\n",
      "376 nan  ->  U\n",
      "241 nan  ->  U\n",
      "348 nan  ->  U\n",
      "372 nan  ->  U\n"
     ]
    }
   ],
   "source": [
    "ml2.mode_change(df, 'address', 'traveltime')"
   ]
  },
  {
   "cell_type": "markdown",
   "metadata": {},
   "source": [
    "### famsize - размер семьи\n",
    "('LE3' <= 3, 'GT3' >3)"
   ]
  },
  {
   "cell_type": "code",
   "execution_count": 40,
   "metadata": {},
   "outputs": [
    {
     "data": {
      "text/plain": [
       "GT3    255\n",
       "LE3    107\n",
       "NaN     27\n",
       "Name: famsize, dtype: int64"
      ]
     },
     "execution_count": 40,
     "metadata": {},
     "output_type": "execute_result"
    }
   ],
   "source": [
    "df.famsize.value_counts(dropna = False)"
   ]
  },
  {
   "cell_type": "markdown",
   "metadata": {},
   "source": [
    "Заполним пропуски по частотному распределению (рандомно, в той же пропорции что и заполненная часть)"
   ]
  },
  {
   "cell_type": "code",
   "execution_count": 41,
   "metadata": {},
   "outputs": [],
   "source": [
    "df['famsize'].fillna(ml2.fill_by_prop(df, 'famsize'), inplace=True)"
   ]
  },
  {
   "cell_type": "markdown",
   "metadata": {},
   "source": [
    "### p_status - статус совместного жилья родителей\n",
    "('T' - живут вместе 'A' - раздельно)"
   ]
  },
  {
   "cell_type": "code",
   "execution_count": 42,
   "metadata": {
    "scrolled": true
   },
   "outputs": [
    {
     "data": {
      "text/plain": [
       "T      308\n",
       "NaN     45\n",
       "A       36\n",
       "Name: p_status, dtype: int64"
      ]
     },
     "execution_count": 42,
     "metadata": {},
     "output_type": "execute_result"
    }
   ],
   "source": [
    "df.p_status.value_counts(dropna = False)"
   ]
  },
  {
   "cell_type": "markdown",
   "metadata": {},
   "source": [
    "Заполним пропуски по частотному распределению (рандомно, в той же пропорции что и заполненная часть)"
   ]
  },
  {
   "cell_type": "code",
   "execution_count": 48,
   "metadata": {},
   "outputs": [],
   "source": [
    "df['p_status'].fillna(ml2.fill_by_prop(df,'p_status'), inplace=True)"
   ]
  },
  {
   "cell_type": "markdown",
   "metadata": {},
   "source": [
    "## Рассмотрим оставшиеся номинативные параметры\n",
    "А именно ранговые (13 шт.): m_edu, f_edu, m_job, f_job, reason, guardian, traveltime, studytime, failures, famrel, freetime, goout, health"
   ]
  },
  {
   "cell_type": "markdown",
   "metadata": {},
   "source": [
    "### traveltime - время в пути до школы \n",
    "(1 - <15 мин., 2 - 15-30 мин., 3 - 30-60 мин., 4 - >60 мин.)"
   ]
  },
  {
   "cell_type": "code",
   "execution_count": 49,
   "metadata": {},
   "outputs": [
    {
     "data": {
      "text/plain": [
       "1.0    239\n",
       "2.0     94\n",
       "NaN     28\n",
       "3.0     21\n",
       "4.0      7\n",
       "Name: traveltime, dtype: int64"
      ]
     },
     "execution_count": 49,
     "metadata": {},
     "output_type": "execute_result"
    }
   ],
   "source": [
    "df.traveltime.value_counts(dropna = False)"
   ]
  },
  {
   "cell_type": "markdown",
   "metadata": {},
   "source": [
    "Ранее мы заполняли пропуски в 'address' по самым частотным значениям во 'traveltime'. Аналогично выполним обратное заполнение пропусков в 'traveltime'."
   ]
  },
  {
   "cell_type": "code",
   "execution_count": 50,
   "metadata": {},
   "outputs": [
    {
     "name": "stdout",
     "output_type": "stream",
     "text": [
      "26 nan  ->  1.0\n",
      "30 nan  ->  1.0\n",
      "35 nan  ->  1.0\n",
      "37 nan  ->  1.0\n",
      "59 nan  ->  1.0\n",
      "68 nan  ->  1.0\n",
      "70 nan  ->  1.0\n",
      "104 nan  ->  1.0\n",
      "112 nan  ->  1.0\n",
      "132 nan  ->  1.0\n",
      "134 nan  ->  1.0\n",
      "137 nan  ->  1.0\n",
      "142 nan  ->  1.0\n",
      "147 nan  ->  1.0\n",
      "157 nan  ->  1.0\n",
      "160 nan  ->  1.0\n",
      "182 nan  ->  1.0\n",
      "226 nan  ->  1.0\n",
      "234 nan  ->  1.0\n",
      "241 nan  ->  1.0\n",
      "261 nan  ->  1.0\n",
      "268 nan  ->  1.0\n",
      "310 nan  ->  1.0\n",
      "348 nan  ->  1.0\n",
      "372 nan  ->  1.0\n",
      "384 nan  ->  1.0\n",
      "385 nan  ->  1.0\n",
      "389 nan  ->  1.0\n"
     ]
    }
   ],
   "source": [
    "ml2.mode_change(df, 'traveltime', 'address')"
   ]
  },
  {
   "cell_type": "markdown",
   "metadata": {},
   "source": [
    "### failures - количество внеучебных неудач"
   ]
  },
  {
   "cell_type": "markdown",
   "metadata": {},
   "source": [
    "Согласно описанию диапазон значений: (n, если 1<=n<3, иначе 4)"
   ]
  },
  {
   "cell_type": "code",
   "execution_count": 51,
   "metadata": {
    "scrolled": false
   },
   "outputs": [
    {
     "data": {
      "text/plain": [
       "0.0    290\n",
       "1.0     48\n",
       "NaN     22\n",
       "2.0     15\n",
       "3.0     14\n",
       "Name: failures, dtype: int64"
      ]
     },
     "execution_count": 51,
     "metadata": {},
     "output_type": "execute_result"
    }
   ],
   "source": [
    "df.failures.value_counts(dropna = False)"
   ]
  },
  {
   "cell_type": "markdown",
   "metadata": {},
   "source": [
    "Среди значений параметра нет 4, хотя это предусмотрено описанием, и много 0, что описанием не предусмотрено. Думаю тут самое очевидное объясние - сдвижка в значениях описания относительно самих данных. Думаю стоит откорректировать описание на следующее: **\"n, если n <= 2, иначе 3\"**"
   ]
  },
  {
   "cell_type": "code",
   "execution_count": 52,
   "metadata": {
    "scrolled": true
   },
   "outputs": [
    {
     "data": {
      "image/png": "[encoded data removed]",
      "text/plain": [
       "<Figure size 864x288 with 2 Axes>"
      ]
     },
     "metadata": {
      "needs_background": "light"
     },
     "output_type": "display_data"
    }
   ],
   "source": [
    "ml2.hist_and_box(df.failures)"
   ]
  },
  {
   "cell_type": "markdown",
   "metadata": {},
   "source": [
    "\"0\" - самое частое значение и вероятнее всего пропуски в данном случае - \"скрытый 0\". ЗАполним пропуски согласно данной гипотизе."
   ]
  },
  {
   "cell_type": "code",
   "execution_count": 53,
   "metadata": {},
   "outputs": [],
   "source": [
    "df['failures'].fillna(0, inplace=True)"
   ]
  },
  {
   "cell_type": "markdown",
   "metadata": {},
   "source": [
    "### m_edu - образование матери\n",
    "(0 - нет, 1 - 4 класса, 2 - 5-9 классы, 3 - среднее специальное или 11 классов, 4 - высшее)"
   ]
  },
  {
   "cell_type": "code",
   "execution_count": 54,
   "metadata": {},
   "outputs": [
    {
     "data": {
      "text/plain": [
       "4.0    131\n",
       "2.0    100\n",
       "3.0     96\n",
       "1.0     56\n",
       "0.0      3\n",
       "NaN      3\n",
       "Name: m_edu, dtype: int64"
      ]
     },
     "execution_count": 54,
     "metadata": {},
     "output_type": "execute_result"
    }
   ],
   "source": [
    "df.m_edu.value_counts(dropna = False)"
   ]
  },
  {
   "cell_type": "markdown",
   "metadata": {},
   "source": [
    "Имеем всего лишь 3 пропуска. Можно заполнить по модовским значениям типа работы."
   ]
  },
  {
   "cell_type": "code",
   "execution_count": 55,
   "metadata": {
    "scrolled": true
   },
   "outputs": [
    {
     "name": "stdout",
     "output_type": "stream",
     "text": [
      "92 nan  ->  2.0\n",
      "193 nan  ->  3.0\n",
      "239 nan  ->  2.0\n"
     ]
    }
   ],
   "source": [
    "ml2.mode_change(df, 'm_edu', 'm_job')"
   ]
  },
  {
   "cell_type": "markdown",
   "metadata": {},
   "source": [
    "### f_edu - образование отцов\n",
    "(0 - нет, 1 - 4 класса, 2 - 5-9 классы, 3 - среднее специальное или 11 классов, 4 - высшее)"
   ]
  },
  {
   "cell_type": "code",
   "execution_count": 56,
   "metadata": {
    "scrolled": true
   },
   "outputs": [
    {
     "data": {
      "text/plain": [
       "2.0     105\n",
       "3.0      94\n",
       "4.0      88\n",
       "1.0      75\n",
       "NaN      24\n",
       "0.0       2\n",
       "40.0      1\n",
       "Name: f_edu, dtype: int64"
      ]
     },
     "execution_count": 56,
     "metadata": {},
     "output_type": "execute_result"
    }
   ],
   "source": [
    "df.f_edu.value_counts(dropna = False)"
   ]
  },
  {
   "cell_type": "markdown",
   "metadata": {},
   "source": [
    "Есть значение, которое явно некорректно. Значение - 40. Предполагаю, что это ошибка и значение должно быть равно 4."
   ]
  },
  {
   "cell_type": "code",
   "execution_count": 57,
   "metadata": {},
   "outputs": [],
   "source": [
    "df['f_edu'].replace(40, 4, inplace=True)"
   ]
  },
  {
   "cell_type": "markdown",
   "metadata": {},
   "source": [
    "Есть предположение, что образование родителей кореллируют друг с другом, проверим это предположение"
   ]
  },
  {
   "cell_type": "code",
   "execution_count": 58,
   "metadata": {},
   "outputs": [
    {
     "data": {
      "text/plain": [
       "m_edu  f_edu\n",
       "0.0    2.0       2\n",
       "       1.0       1\n",
       "1.0    1.0      34\n",
       "       2.0      12\n",
       "       3.0       5\n",
       "       0.0       1\n",
       "       4.0       1\n",
       "2.0    2.0      48\n",
       "       1.0      27\n",
       "       3.0      16\n",
       "       4.0       7\n",
       "3.0    3.0      34\n",
       "       2.0      25\n",
       "       4.0      18\n",
       "       1.0      13\n",
       "4.0    4.0      63\n",
       "       3.0      39\n",
       "       2.0      18\n",
       "       0.0       1\n",
       "Name: f_edu, dtype: int64"
      ]
     },
     "execution_count": 58,
     "metadata": {},
     "output_type": "execute_result"
    }
   ],
   "source": [
    "df.groupby(['m_edu'])['f_edu'].value_counts()"
   ]
  },
  {
   "cell_type": "markdown",
   "metadata": {},
   "source": [
    "Так и есть. Заменим пропуски в f_edu на соотвествующие значения моды для m_edu"
   ]
  },
  {
   "cell_type": "code",
   "execution_count": 59,
   "metadata": {},
   "outputs": [
    {
     "name": "stdout",
     "output_type": "stream",
     "text": [
      "21 nan  ->  4.0\n",
      "42 nan  ->  4.0\n",
      "46 nan  ->  3.0\n",
      "57 nan  ->  4.0\n",
      "58 nan  ->  1.0\n",
      "67 nan  ->  3.0\n",
      "137 nan  ->  3.0\n",
      "142 nan  ->  4.0\n",
      "159 nan  ->  3.0\n",
      "161 nan  ->  3.0\n",
      "180 nan  ->  4.0\n",
      "195 nan  ->  2.0\n",
      "232 nan  ->  4.0\n",
      "236 nan  ->  2.0\n",
      "259 nan  ->  2.0\n",
      "280 nan  ->  4.0\n",
      "281 nan  ->  3.0\n",
      "286 nan  ->  2.0\n",
      "287 nan  ->  1.0\n",
      "290 nan  ->  4.0\n",
      "310 nan  ->  1.0\n",
      "328 nan  ->  4.0\n",
      "349 nan  ->  3.0\n",
      "374 nan  ->  4.0\n"
     ]
    }
   ],
   "source": [
    "ml2.mode_change(df, 'f_edu', 'm_edu')"
   ]
  },
  {
   "cell_type": "markdown",
   "metadata": {},
   "source": [
    "### m_job - работа матери\n",
    "### f_job - работа отца\n",
    "('teacher' - учитель, 'health' - сфера здравоохранения, 'services' - гос служба, 'at_home' - не работает, 'other' - другое)"
   ]
  },
  {
   "cell_type": "code",
   "execution_count": 60,
   "metadata": {},
   "outputs": [
    {
     "data": {
      "text/plain": [
       "other       127\n",
       "services     98\n",
       "at_home      58\n",
       "teacher      55\n",
       "health       32\n",
       "NaN          19\n",
       "Name: m_job, dtype: int64"
      ]
     },
     "execution_count": 60,
     "metadata": {},
     "output_type": "execute_result"
    }
   ],
   "source": [
    "df.m_job.value_counts(dropna = False)"
   ]
  },
  {
   "cell_type": "code",
   "execution_count": 61,
   "metadata": {},
   "outputs": [
    {
     "data": {
      "text/plain": [
       "other       194\n",
       "services     99\n",
       "NaN          36\n",
       "teacher      29\n",
       "at_home      16\n",
       "health       15\n",
       "Name: f_job, dtype: int64"
      ]
     },
     "execution_count": 61,
     "metadata": {},
     "output_type": "execute_result"
    }
   ],
   "source": [
    "df.f_job.value_counts(dropna = False)"
   ]
  },
  {
   "cell_type": "code",
   "execution_count": 62,
   "metadata": {},
   "outputs": [
    {
     "data": {
      "text/plain": [
       "m_edu  m_job   \n",
       "0.0    at_home      2\n",
       "       other        1\n",
       "1.0    at_home     25\n",
       "       other       23\n",
       "       services     5\n",
       "       health       1\n",
       "2.0    other       45\n",
       "       services    30\n",
       "       at_home     21\n",
       "       health       2\n",
       "3.0    services    39\n",
       "       other       36\n",
       "       at_home      8\n",
       "       health       5\n",
       "       teacher      3\n",
       "4.0    teacher     52\n",
       "       health      24\n",
       "       services    24\n",
       "       other       22\n",
       "       at_home      2\n",
       "Name: m_job, dtype: int64"
      ]
     },
     "execution_count": 62,
     "metadata": {},
     "output_type": "execute_result"
    }
   ],
   "source": [
    "df.groupby(['m_edu'])['m_job'].value_counts()"
   ]
  },
  {
   "cell_type": "code",
   "execution_count": 63,
   "metadata": {},
   "outputs": [
    {
     "data": {
      "text/plain": [
       "f_edu  f_job   \n",
       "0.0    other        2\n",
       "1.0    other       46\n",
       "       services    19\n",
       "       at_home      4\n",
       "       health       1\n",
       "       teacher      1\n",
       "2.0    other       59\n",
       "       services    28\n",
       "       at_home      7\n",
       "       health       1\n",
       "3.0    other       53\n",
       "       services    33\n",
       "       at_home      3\n",
       "       health       3\n",
       "       teacher      1\n",
       "4.0    other       34\n",
       "       teacher     27\n",
       "       services    19\n",
       "       health      10\n",
       "       at_home      2\n",
       "Name: f_job, dtype: int64"
      ]
     },
     "execution_count": 63,
     "metadata": {},
     "output_type": "execute_result"
    }
   ],
   "source": [
    "df.groupby(['f_edu'])['f_job'].value_counts()"
   ]
  },
  {
   "cell_type": "markdown",
   "metadata": {},
   "source": [
    "Предполагаю, что есть некотаря связь образования и места работы. Заполним пропуски в работе исходя из образования."
   ]
  },
  {
   "cell_type": "code",
   "execution_count": 64,
   "metadata": {},
   "outputs": [
    {
     "name": "stdout",
     "output_type": "stream",
     "text": [
      "29 nan  ->  teacher\n",
      "54 nan  ->  services\n",
      "59 nan  ->  teacher\n",
      "88 nan  ->  other\n",
      "104 nan  ->  services\n",
      "128 nan  ->  other\n",
      "145 nan  ->  at_home\n",
      "156 nan  ->  at_home\n",
      "166 nan  ->  other\n",
      "174 nan  ->  services\n",
      "177 nan  ->  services\n",
      "219 nan  ->  other\n",
      "224 nan  ->  teacher\n",
      "260 nan  ->  teacher\n",
      "265 nan  ->  services\n",
      "268 nan  ->  teacher\n",
      "277 nan  ->  teacher\n",
      "291 nan  ->  teacher\n",
      "337 nan  ->  services\n"
     ]
    }
   ],
   "source": [
    "ml2.mode_change(df, 'm_job', 'm_edu')"
   ]
  },
  {
   "cell_type": "code",
   "execution_count": 65,
   "metadata": {},
   "outputs": [
    {
     "name": "stdout",
     "output_type": "stream",
     "text": [
      "3 nan  ->  other\n",
      "17 nan  ->  other\n",
      "22 nan  ->  other\n",
      "26 nan  ->  other\n",
      "31 nan  ->  other\n",
      "44 nan  ->  other\n",
      "47 nan  ->  other\n",
      "52 nan  ->  other\n",
      "59 nan  ->  other\n",
      "68 nan  ->  other\n",
      "107 nan  ->  other\n",
      "118 nan  ->  other\n",
      "120 nan  ->  other\n",
      "135 nan  ->  other\n",
      "151 nan  ->  other\n",
      "152 nan  ->  other\n",
      "160 nan  ->  other\n",
      "161 nan  ->  other\n",
      "169 nan  ->  other\n",
      "182 nan  ->  other\n",
      "216 nan  ->  other\n",
      "229 nan  ->  other\n",
      "250 nan  ->  other\n",
      "266 nan  ->  other\n",
      "294 nan  ->  other\n",
      "303 nan  ->  other\n",
      "309 nan  ->  other\n",
      "316 nan  ->  other\n",
      "336 nan  ->  other\n",
      "341 nan  ->  other\n",
      "345 nan  ->  other\n",
      "363 nan  ->  other\n",
      "365 nan  ->  other\n",
      "373 nan  ->  other\n",
      "374 nan  ->  other\n",
      "384 nan  ->  other\n"
     ]
    }
   ],
   "source": [
    "ml2.mode_change(df, 'f_job', 'f_edu')"
   ]
  },
  {
   "cell_type": "markdown",
   "metadata": {},
   "source": [
    "### 'studytime' - время на учёбу помимо школы в неделю \n",
    "(1 - <2 часов, 2 - 2-5 часов, 3 - 5-10 часов, 4 - >10 часов)"
   ]
  },
  {
   "cell_type": "code",
   "execution_count": 66,
   "metadata": {},
   "outputs": [
    {
     "data": {
      "text/plain": [
       "2.0    189\n",
       "1.0    103\n",
       "3.0     63\n",
       "4.0     27\n",
       "NaN      7\n",
       "Name: studytime, dtype: int64"
      ]
     },
     "execution_count": 66,
     "metadata": {},
     "output_type": "execute_result"
    }
   ],
   "source": [
    "df.studytime.value_counts(dropna = False)"
   ]
  },
  {
   "cell_type": "code",
   "execution_count": 67,
   "metadata": {},
   "outputs": [
    {
     "data": {
      "image/png": "[encoded data removed]",
      "text/plain": [
       "<Figure size 432x288 with 1 Axes>"
      ]
     },
     "metadata": {
      "needs_background": "light"
     },
     "output_type": "display_data"
    }
   ],
   "source": [
    "df.studytime.hist(bins = 4)\n",
    "plt.show()"
   ]
  },
  {
   "cell_type": "markdown",
   "metadata": {},
   "source": [
    "Довольно плавное распределение и всего лишь 7 пропусков. Заполним пропуски модой (она же медиана в данном случае)"
   ]
  },
  {
   "cell_type": "code",
   "execution_count": 68,
   "metadata": {},
   "outputs": [
    {
     "name": "stdout",
     "output_type": "stream",
     "text": [
      "17 nan  ->  2.0\n",
      "91 nan  ->  2.0\n",
      "112 nan  ->  2.0\n",
      "129 nan  ->  2.0\n",
      "227 nan  ->  2.0\n",
      "266 nan  ->  2.0\n",
      "314 nan  ->  2.0\n"
     ]
    }
   ],
   "source": [
    "ml2.mode_change(df, 'studytime', 'studytime')"
   ]
  },
  {
   "cell_type": "markdown",
   "metadata": {},
   "source": [
    "### famrel -  семейные отношения \n",
    "(от 1 - очень плохо до 5 - очень хорошо)"
   ]
  },
  {
   "cell_type": "code",
   "execution_count": 69,
   "metadata": {},
   "outputs": [
    {
     "data": {
      "text/plain": [
       " 4.0    178\n",
       " 5.0     97\n",
       " 3.0     62\n",
       " NaN     27\n",
       " 2.0     17\n",
       " 1.0      7\n",
       "-1.0      1\n",
       "Name: famrel, dtype: int64"
      ]
     },
     "execution_count": 69,
     "metadata": {},
     "output_type": "execute_result"
    }
   ],
   "source": [
    "df.famrel.value_counts(dropna = False)"
   ]
  },
  {
   "cell_type": "markdown",
   "metadata": {},
   "source": [
    "Значение \"-1\" - явная опечатка, заменим его на \"1\""
   ]
  },
  {
   "cell_type": "code",
   "execution_count": 70,
   "metadata": {},
   "outputs": [],
   "source": [
    "df['famrel'].replace(-1, 1, inplace=True)"
   ]
  },
  {
   "cell_type": "markdown",
   "metadata": {},
   "source": [
    "Пропуски замолним медианой"
   ]
  },
  {
   "cell_type": "code",
   "execution_count": 71,
   "metadata": {},
   "outputs": [],
   "source": [
    "median = df['famrel'].median()\n",
    "df['famrel'] = df['famrel'].fillna(median)"
   ]
  },
  {
   "cell_type": "markdown",
   "metadata": {},
   "source": [
    "### freetime - свободное время после школы \n",
    "(от 1 - очень мало до 5 - очень мого)"
   ]
  },
  {
   "cell_type": "code",
   "execution_count": 72,
   "metadata": {},
   "outputs": [
    {
     "data": {
      "text/plain": [
       "3.0    152\n",
       "4.0    110\n",
       "2.0     63\n",
       "5.0     37\n",
       "1.0     18\n",
       "NaN      9\n",
       "Name: freetime, dtype: int64"
      ]
     },
     "execution_count": 72,
     "metadata": {},
     "output_type": "execute_result"
    }
   ],
   "source": [
    "df.freetime.value_counts(dropna = False)"
   ]
  },
  {
   "cell_type": "markdown",
   "metadata": {},
   "source": [
    "Пропуски замолним медианой"
   ]
  },
  {
   "cell_type": "code",
   "execution_count": 73,
   "metadata": {},
   "outputs": [],
   "source": [
    "median = df['freetime'].median()\n",
    "df['freetime'] = df['freetime'].fillna(median)"
   ]
  },
  {
   "cell_type": "markdown",
   "metadata": {},
   "source": [
    "### goout - проведение времени с друзьями\n",
    "(от 1 - очень мало до 5 - очень много)"
   ]
  },
  {
   "cell_type": "code",
   "execution_count": 74,
   "metadata": {},
   "outputs": [
    {
     "data": {
      "text/plain": [
       "3.0    126\n",
       "2.0    101\n",
       "4.0     81\n",
       "5.0     51\n",
       "1.0     23\n",
       "NaN      7\n",
       "Name: goout, dtype: int64"
      ]
     },
     "execution_count": 74,
     "metadata": {},
     "output_type": "execute_result"
    }
   ],
   "source": [
    "df.goout.value_counts(dropna = False)"
   ]
  },
  {
   "cell_type": "markdown",
   "metadata": {},
   "source": [
    "Пропуски замолним медианой"
   ]
  },
  {
   "cell_type": "code",
   "execution_count": 75,
   "metadata": {},
   "outputs": [],
   "source": [
    "median = df['goout'].median()\n",
    "df['goout'] = df['goout'].fillna(median)"
   ]
  },
  {
   "cell_type": "markdown",
   "metadata": {},
   "source": [
    "### health - текущее состояние здоровья \n",
    "(от 1 - очень плохо до 5 - очень хорошо)"
   ]
  },
  {
   "cell_type": "code",
   "execution_count": 76,
   "metadata": {},
   "outputs": [
    {
     "data": {
      "text/plain": [
       "5.0    137\n",
       "3.0     88\n",
       "4.0     60\n",
       "1.0     47\n",
       "2.0     42\n",
       "NaN     15\n",
       "Name: health, dtype: int64"
      ]
     },
     "execution_count": 76,
     "metadata": {},
     "output_type": "execute_result"
    }
   ],
   "source": [
    "df.health.value_counts(dropna = False)"
   ]
  },
  {
   "cell_type": "markdown",
   "metadata": {},
   "source": [
    "Пропуски замолним медианой"
   ]
  },
  {
   "cell_type": "code",
   "execution_count": 77,
   "metadata": {},
   "outputs": [],
   "source": [
    "median = df['health'].median()\n",
    "df['health'] = df['health'].fillna(median)"
   ]
  },
  {
   "cell_type": "markdown",
   "metadata": {},
   "source": [
    "### guardian - опекун\n",
    "('mother' - мать, 'father' - отец, 'other' - другое)\n",
    "### reason - причина выбора школы \n",
    "('home' - близость к дому, 'reputation' - репутация школы, 'course' - образовательная программа, 'other' - другое)"
   ]
  },
  {
   "cell_type": "code",
   "execution_count": 79,
   "metadata": {},
   "outputs": [
    {
     "data": {
      "text/html": [
       "<div>\n",
       "<style scoped>\n",
       "    .dataframe tbody tr th:only-of-type {\n",
       "        vertical-align: middle;\n",
       "    }\n",
       "\n",
       "    .dataframe tbody tr th {\n",
       "        vertical-align: top;\n",
       "    }\n",
       "\n",
       "    .dataframe thead th {\n",
       "        text-align: right;\n",
       "    }\n",
       "</style>\n",
       "<table border=\"1\" class=\"dataframe\">\n",
       "  <thead>\n",
       "    <tr style=\"text-align: right;\">\n",
       "      <th></th>\n",
       "      <th>col</th>\n",
       "      <th>miss</th>\n",
       "      <th>percent</th>\n",
       "      <th>nunique</th>\n",
       "    </tr>\n",
       "  </thead>\n",
       "  <tbody>\n",
       "    <tr>\n",
       "      <td>0</td>\n",
       "      <td>guardian</td>\n",
       "      <td>31</td>\n",
       "      <td>8.0</td>\n",
       "      <td>3</td>\n",
       "    </tr>\n",
       "    <tr>\n",
       "      <td>1</td>\n",
       "      <td>reason</td>\n",
       "      <td>17</td>\n",
       "      <td>4.4</td>\n",
       "      <td>4</td>\n",
       "    </tr>\n",
       "  </tbody>\n",
       "</table>\n",
       "</div>"
      ],
      "text/plain": [
       "        col  miss  percent  nunique\n",
       "0  guardian    31      8.0        3\n",
       "1    reason    17      4.4        4"
      ]
     },
     "execution_count": 79,
     "metadata": {},
     "output_type": "execute_result"
    }
   ],
   "source": [
    "ml2.miss_count(df, ['guardian', 'reason'])"
   ]
  },
  {
   "cell_type": "code",
   "execution_count": 80,
   "metadata": {},
   "outputs": [
    {
     "data": {
      "text/plain": [
       "mother    248\n",
       "father     86\n",
       "NaN        31\n",
       "other      24\n",
       "Name: guardian, dtype: int64"
      ]
     },
     "execution_count": 80,
     "metadata": {},
     "output_type": "execute_result"
    }
   ],
   "source": [
    "df['guardian'].value_counts(dropna = False)"
   ]
  },
  {
   "cell_type": "code",
   "execution_count": 81,
   "metadata": {},
   "outputs": [
    {
     "data": {
      "text/plain": [
       "course        135\n",
       "reputation    102\n",
       "home          101\n",
       "other          34\n",
       "NaN            17\n",
       "Name: reason, dtype: int64"
      ]
     },
     "execution_count": 81,
     "metadata": {},
     "output_type": "execute_result"
    }
   ],
   "source": [
    "df['reason'].value_counts(dropna = False)"
   ]
  },
  {
   "cell_type": "markdown",
   "metadata": {},
   "source": [
    "Заменим пропуски у данных параметров по принципу скрытого нуля, где пропуск будет означать 'other'"
   ]
  },
  {
   "cell_type": "code",
   "execution_count": 82,
   "metadata": {},
   "outputs": [],
   "source": [
    "df['guardian'].fillna('other', inplace=True)\n",
    "df['reason'].fillna('other', inplace=True)"
   ]
  },
  {
   "cell_type": "markdown",
   "metadata": {},
   "source": [
    "# Анализ номинативных параметров (тест Стьюдента)"
   ]
  },
  {
   "cell_type": "code",
   "execution_count": 88,
   "metadata": {},
   "outputs": [],
   "source": [
    "list_columns = ['school','sex','age',\n",
    "                'address','famsize','p_status',\n",
    "                'm_edu', 'f_edu', 'm_job',\n",
    "                'f_job', 'reason', 'guardian',\n",
    "                'traveltime', 'studytime', 'failures',\n",
    "                'schoolsup', 'famsup', 'paid', \n",
    "                'activities', 'nursery', 'higher',\n",
    "                'internet', 'romantic', 'famrel',\n",
    "                'freetime', 'goout', 'health', \n",
    "                'absences']"
   ]
  },
  {
   "cell_type": "code",
   "execution_count": 89,
   "metadata": {
    "scrolled": true
   },
   "outputs": [
    {
     "name": "stdout",
     "output_type": "stream",
     "text": [
      "Походу столбец  score  взаимосвязан со столбцом  address\n",
      "Походу столбец  score  взаимосвязан со столбцом  m_edu\n",
      "Походу столбец  score  взаимосвязан со столбцом  f_edu\n",
      "Походу столбец  score  взаимосвязан со столбцом  m_job\n",
      "Походу столбец  score  взаимосвязан со столбцом  failures\n",
      "Походу столбец  score  взаимосвязан со столбцом  higher\n",
      "Походу столбец  score  взаимосвязан со столбцом  romantic\n"
     ]
    }
   ],
   "source": [
    "for col in list_columns:\n",
    "    ml2.get_stat_dif(df, col, 'score')"
   ]
  },
  {
   "cell_type": "markdown",
   "metadata": {},
   "source": [
    "Итак в победителях следующие параметры:\n",
    "- address - адресс\n",
    "- m_edu - образование матери\n",
    "- f_edu - образование отца\n",
    "- m_job - работа матери, также добавим и f_job - работа отца\n",
    "- failures - внеучебные неудачи\n",
    "- higher - желание поступать в ВУЗ\n",
    "- romantic - наличие романтических отношений"
   ]
  },
  {
   "cell_type": "code",
   "execution_count": 94,
   "metadata": {},
   "outputs": [],
   "source": [
    "after_eda_columns = ['address', 'm_edu', 'f_edu', 'm_job', 'f_job', 'failures', 'higher', 'romantic']"
   ]
  },
  {
   "cell_type": "markdown",
   "metadata": {},
   "source": [
    "# Корреляционный анализ"
   ]
  },
  {
   "cell_type": "code",
   "execution_count": 90,
   "metadata": {},
   "outputs": [
    {
     "data": {
      "text/html": [
       "<div>\n",
       "<style scoped>\n",
       "    .dataframe tbody tr th:only-of-type {\n",
       "        vertical-align: middle;\n",
       "    }\n",
       "\n",
       "    .dataframe tbody tr th {\n",
       "        vertical-align: top;\n",
       "    }\n",
       "\n",
       "    .dataframe thead th {\n",
       "        text-align: right;\n",
       "    }\n",
       "</style>\n",
       "<table border=\"1\" class=\"dataframe\">\n",
       "  <thead>\n",
       "    <tr style=\"text-align: right;\">\n",
       "      <th></th>\n",
       "      <th>score</th>\n",
       "      <th>age</th>\n",
       "      <th>absences</th>\n",
       "    </tr>\n",
       "  </thead>\n",
       "  <tbody>\n",
       "    <tr>\n",
       "      <td>score</td>\n",
       "      <td>1.000000</td>\n",
       "      <td>-0.155726</td>\n",
       "      <td>0.049953</td>\n",
       "    </tr>\n",
       "    <tr>\n",
       "      <td>age</td>\n",
       "      <td>-0.155726</td>\n",
       "      <td>1.000000</td>\n",
       "      <td>0.191898</td>\n",
       "    </tr>\n",
       "    <tr>\n",
       "      <td>absences</td>\n",
       "      <td>0.049953</td>\n",
       "      <td>0.191898</td>\n",
       "      <td>1.000000</td>\n",
       "    </tr>\n",
       "  </tbody>\n",
       "</table>\n",
       "</div>"
      ],
      "text/plain": [
       "             score       age  absences\n",
       "score     1.000000 -0.155726  0.049953\n",
       "age      -0.155726  1.000000  0.191898\n",
       "absences  0.049953  0.191898  1.000000"
      ]
     },
     "execution_count": 90,
     "metadata": {},
     "output_type": "execute_result"
    }
   ],
   "source": [
    "df[['score', 'age', 'absences']].corr()"
   ]
  },
  {
   "cell_type": "code",
   "execution_count": 93,
   "metadata": {},
   "outputs": [
    {
     "data": {
      "image/png": "[encoded data removed]",
      "text/plain": [
       "<Figure size 864x864 with 12 Axes>"
      ]
     },
     "metadata": {
      "needs_background": "light"
     },
     "output_type": "display_data"
    }
   ],
   "source": [
    "sns.pairplot(df[['score','age', 'absences']] ,kind = 'reg', height=4)\n",
    "plt.show()"
   ]
  },
  {
   "cell_type": "markdown",
   "metadata": {},
   "source": [
    "Занчительных корреляций невыявлено, ни между парамаетрами, ни между параметрами и целевой переменной. Тем не менее стоит оставить эти параметры ('age', 'absences'). Удалить всегда успеем. "
   ]
  },
  {
   "cell_type": "code",
   "execution_count": 95,
   "metadata": {},
   "outputs": [],
   "source": [
    "after_eda_columns += ['age', 'absences']"
   ]
  },
  {
   "cell_type": "code",
   "execution_count": 96,
   "metadata": {},
   "outputs": [
    {
     "name": "stdout",
     "output_type": "stream",
     "text": [
      "<class 'pandas.core.frame.DataFrame'>\n",
      "Int64Index: 389 entries, 0 to 394\n",
      "Data columns (total 10 columns):\n",
      "address     389 non-null object\n",
      "m_edu       389 non-null float64\n",
      "f_edu       389 non-null float64\n",
      "m_job       389 non-null object\n",
      "f_job       389 non-null object\n",
      "failures    389 non-null float64\n",
      "higher      389 non-null int64\n",
      "romantic    389 non-null int64\n",
      "age         389 non-null int64\n",
      "absences    389 non-null float64\n",
      "dtypes: float64(4), int64(3), object(3)\n",
      "memory usage: 43.4+ KB\n"
     ]
    }
   ],
   "source": [
    "# сохраним новый датасет в новый файл\n",
    "\n",
    "df[after_eda_columns].to_csv('stud_math_after_EDA.csv')\n",
    "df[after_eda_columns].info()"
   ]
  },
  {
   "cell_type": "markdown",
   "metadata": {},
   "source": [
    "# Выводы"
   ]
  },
  {
   "cell_type": "code",
   "execution_count": 97,
   "metadata": {},
   "outputs": [
    {
     "data": {
      "text/plain": [
       "['address',\n",
       " 'm_edu',\n",
       " 'f_edu',\n",
       " 'm_job',\n",
       " 'f_job',\n",
       " 'failures',\n",
       " 'higher',\n",
       " 'romantic',\n",
       " 'age',\n",
       " 'absences']"
      ]
     },
     "execution_count": 97,
     "metadata": {},
     "output_type": "execute_result"
    }
   ],
   "source": [
    "after_eda_columns"
   ]
  },
  {
   "cell_type": "markdown",
   "metadata": {},
   "source": [
    "Мы заполнили все пропуски в данных. К дальнейшему построению модели рекомендуеться следующий набор параметров (10 шт.): \n",
    "- address - адресс\n",
    "- m_edu - образование матери\n",
    "- f_edu - образование отца\n",
    "- m_job - работа матери, также добавим и f_job - работа отца\n",
    "- failures - внеучебные неудачи\n",
    "- higher - желание поступать в ВУЗ\n",
    "- romantic - наличие романтических отношений\n",
    "- age - возраст\n",
    "- absences - прогулы\n",
    "Мы значительно сократили датасет (с 30 параметров до 10, с 395 строк до 389).\n",
    "Учитывая, что все пропуски в данных были заполнены, при построении модели стоит попопробовать добавлять отбракованные параметры и убирать те что изначально рекомендованы."
   ]
  }
 ],
 "metadata": {
  "kernelspec": {
   "display_name": "Python 3",
   "language": "python",
   "name": "python3"
  },
  "language_info": {
   "codemirror_mode": {
    "name": "ipython",
    "version": 3
   },
   "file_extension": ".py",
   "mimetype": "text/x-python",
   "name": "python",
   "nbconvert_exporter": "python",
   "pygments_lexer": "ipython3",
   "version": "3.7.4"
  }
 },
 "nbformat": 4,
 "nbformat_minor": 2
}

{
 "cells": [
  {
   "cell_type": "markdown",
   "metadata": {},
   "source": [
    "#### Описание датасета\n",
    "Посмотрим на переменные, которые содержит датасет:\n",
    "\n",
    "- 1 school — аббревиатура школы, в которой учится ученик\n",
    "- 2 sex — пол ученика ('F' - женский, 'M' - мужской)\n",
    "- 3 age — возраст ученика (от 15 до 22)\n",
    "- 4 address — тип адреса ученика ('U' - городской, 'R' - за городом)\n",
    "- 5 famsize — размер семьи('LE3' <= 3, 'GT3' >3)\n",
    "- 6 Pstatus — статус совместного жилья родителей ('T' - живут вместе 'A' - раздельно)\n",
    "- 7 Medu — образование матери (0 - нет, 1 - 4 класса, 2 - 5-9 классы, 3 - среднее специальное или 11 классов, 4 - высшее)\n",
    "- 8 Fedu — образование отца (0 - нет, 1 - 4 класса, 2 - 5-9 классы, 3 - среднее специальное или 11 классов, 4 - высшее)\n",
    "- 9 Mjob — работа матери ('teacher' - учитель, 'health' - сфера здравоохранения, 'services' - гос служба, 'at_home' - не работает, 'other' - другое)\n",
    "- 10 Fjob — работа отца ('teacher' - учитель, 'health' - сфера здравоохранения, 'services' - гос служба, 'at_home' - не работает, 'other' - другое)\n",
    "- 11 reason — причина выбора школы ('home' - близость к дому, 'reputation' - репутация школы, 'course' - образовательная программа, 'other' - другое)\n",
    "- 12 guardian — опекун ('mother' - мать, 'father' - отец, 'other' - другое)\n",
    "- 13 traveltime — время в пути до школы (1 - <15 мин., 2 - 15-30 мин., 3 - 30-60 мин., 4 - >60 мин.)\n",
    "- 14 studytime — время на учёбу помимо школы в неделю (1 - <2 часов, 2 - 2-5 часов, 3 - 5-10 часов, 4 - >10 часов)\n",
    "- 15 failures — количество внеучебных неудач (n, если 1<=n<3, иначе 4)\n",
    "- 16 schoolsup — дополнительная образовательная поддержка (yes или no)\n",
    "- 17 famsup — семейная образовательная поддержка (yes или no)\n",
    "- 18 paid — дополнительные платные занятия по математике (yes или no)\n",
    "- 19 activities — дополнительные внеучебные занятия (yes или no)\n",
    "- 20 nursery — посещал детский сад (yes или no)\n",
    "- 21 higher — хочет получить высшее образование (yes или no)\n",
    "- 22 internet — наличие интернета дома (yes или no)\n",
    "- 23 romantic — в романтических отношениях (yes или no)\n",
    "- 24 famrel — семейные отношения (от 1 - очень плохо до 5 - очень хорошо)\n",
    "- 25 freetime — свободное время после школы (от 1 - очень мало до 5 - очень мого)\n",
    "- 26 goout — проведение времени с друзьями (от 1 - очень мало до 5 - очень много)\n",
    "- 27 health — текущее состояние здоровья (от 1 - очень плохо до 5 - очень хорошо)\n",
    "- 28 absences — количество пропущенных занятий\n",
    "- 29 score — баллы по госэкзамену по математике"
   ]
  },
  {
   "cell_type": "markdown",
   "metadata": {},
   "source": [
    "# 1. Загружаем библиотеки"
   ]
  },
  {
   "cell_type": "code",
   "execution_count": 280,
   "metadata": {},
   "outputs": [],
   "source": [
    "import pandas as pd\n",
    "import matplotlib.pyplot as plt\n",
    "import seaborn as sns\n",
    "from itertools import combinations\n",
    "from scipy.stats import ttest_ind"
   ]
  },
  {
   "cell_type": "code",
   "execution_count": 281,
   "metadata": {
    "scrolled": true
   },
   "outputs": [],
   "source": [
    "pd.set_option('display.max_rows', 50) # выведем больше строк\n",
    "pd.set_option('display.max_columns', 50) # выведем больше колонок"
   ]
  },
  {
   "cell_type": "markdown",
   "metadata": {},
   "source": [
    "## 1.1. Пишем полезные функции"
   ]
  },
  {
   "cell_type": "code",
   "execution_count": 282,
   "metadata": {},
   "outputs": [],
   "source": [
    "def percent(a,c):\n",
    "    result = str(round(a/c*100,1)) + '%'\n",
    "    return result"
   ]
  },
  {
   "cell_type": "code",
   "execution_count": 283,
   "metadata": {},
   "outputs": [],
   "source": [
    "def outliers(s, outliers, k = 1.5):\n",
    "    median = s.median()\n",
    "    IQR = s.quantile(0.75) - s.quantile(0.25)\n",
    "    Q1 = s.quantile(0.25)\n",
    "    Q3 = s.quantile(0.75)\n",
    "    top = Q3 + k*IQR\n",
    "    down = Q1 - k*IQR\n",
    "    out_top = s[s > top]\n",
    "    out_down = s[s < down]\n",
    "    \n",
    "    if outliers == 'top':\n",
    "        result = out_top\n",
    "    elif outliers == 'down':\n",
    "        result = out_down\n",
    "\n",
    "    return result"
   ]
  },
  {
   "cell_type": "code",
   "execution_count": 284,
   "metadata": {},
   "outputs": [],
   "source": [
    "def mode_change(df, A, B):\n",
    "    # находим уникальные значения в столбце B\n",
    "    keys = list(df[B].value_counts().index)\n",
    "    \n",
    "    #создаём словарь где ключ это уникальное значение из столбца B, а значение - мода по столбцу А\n",
    "    dict_mode = {}\n",
    "    for key in keys:\n",
    "        dict_mode[key] = df[df[B] == key][A].mode()[0]\n",
    "\n",
    "    #найдём моду в B\n",
    "    mode_B = df[B].mode()[0]    \n",
    "        \n",
    "    #разбираемся с пропусками в А, где в B пропусков нет\n",
    "    index_1 = [x[0] for x in df[(df[A].isnull())&(df[B].notnull())].iterrows()]\n",
    "         \n",
    "    for i in index_1:\n",
    "        print(i, df.loc[i, A],' -> ', dict_mode[df[B][i]])\n",
    "        df.loc[i, A] = dict_mode[df[B][i]]\n",
    "    \n",
    "    #разбираемся с пропусками в А, где в B пропуски\n",
    "    index_2 = [x[0] for x in df[(df[A].isnull())&(df[B].isnull())].iterrows()]\n",
    "    for i in index_2:\n",
    "        print(i, df.loc[i, A],' -> ', dict_mode[mode_B])\n",
    "        df.loc[i, A] = dict_mode[mode_B]"
   ]
  },
  {
   "cell_type": "code",
   "execution_count": 285,
   "metadata": {},
   "outputs": [],
   "source": [
    "# Функция для проверки статистической разницы в распределении оценок по номинативным признакам\n",
    "# с помощью теста Стьюдента встроенного в функцию ttest_ind()\n",
    "\n",
    "def get_stat_dif(column, score):\n",
    "    # На входе имеем имя столбца с нечисловыми (номинативными) данными\n",
    "    # Проверяем характер распределения оценок в зависимости от значений в этом столбце\n",
    "    \n",
    "    # Выбираем 10 самых частотных варианта для текущего столбца\n",
    "    cols = df.loc[:, column].value_counts().index #[:10] \n",
    "    \n",
    "    # Создаём все возможные парные комбинации из элементов списка cols \n",
    "    # Например пара компаний:'Soma', 'Fresco'\n",
    "    combinations_all = list(combinations(cols, 2))\n",
    "    \n",
    "    # Для каждой пары номинативных значений рассматриваемого столбца\n",
    "    # выполняем тест Стьюдента с поправкой Бонферони\n",
    "    for comb in combinations_all:\n",
    "                \n",
    "        # Готовим аргументы для функции ttest_ind()\n",
    "        argument0 = df.loc[df.loc[:, column] == comb[0], score] #Например: оценки по продукции компании 'Soma'\n",
    "        argument1 = df.loc[df.loc[:, column] == comb[1], score] #Например: оценки по продукции компании 'Fresco'\n",
    "        \n",
    "        \n",
    "        if ttest_ind(argument0, argument1, nan_policy = 'omit').pvalue <= 0.05/len(combinations_all): # Учли поправку Бонферони\n",
    "            \n",
    "            # Выводим наименования интересующих нас столбцов\n",
    "            print('Походу столбец ', score,' взаимосвязан со столбцом ', column)\n",
    "            break"
   ]
  },
  {
   "cell_type": "markdown",
   "metadata": {},
   "source": [
    "### Замена некорректных данных на None"
   ]
  },
  {
   "cell_type": "code",
   "execution_count": 286,
   "metadata": {},
   "outputs": [],
   "source": [
    "def nn(column):\n",
    "    df[column] = df[column].apply(lambda x: None if pd.isnull(x)  # заменяем все виды нулей на None\n",
    "                                  else None if x == 'nan'         # заменяем nan на None   \n",
    "                                  else x                          # остальное оставляем как есть\n",
    "                                  )"
   ]
  },
  {
   "cell_type": "code",
   "execution_count": 287,
   "metadata": {},
   "outputs": [],
   "source": [
    "def change_this(column, arg1, arg2):\n",
    "    df[column] = df[column].apply(lambda x: arg2 if x == arg1  \n",
    "                                   else x                          \n",
    "                                  )"
   ]
  },
  {
   "cell_type": "markdown",
   "metadata": {},
   "source": [
    "# 2. Загружаем датасет"
   ]
  },
  {
   "cell_type": "code",
   "execution_count": 288,
   "metadata": {},
   "outputs": [],
   "source": [
    "df = pd.read_csv('stud_math.csv')"
   ]
  },
  {
   "cell_type": "code",
   "execution_count": 289,
   "metadata": {
    "scrolled": true
   },
   "outputs": [
    {
     "name": "stdout",
     "output_type": "stream",
     "text": [
      "<class 'pandas.core.frame.DataFrame'>\n",
      "RangeIndex: 395 entries, 0 to 394\n",
      "Data columns (total 30 columns):\n",
      "school                 395 non-null object\n",
      "sex                    395 non-null object\n",
      "age                    395 non-null int64\n",
      "address                378 non-null object\n",
      "famsize                368 non-null object\n",
      "Pstatus                350 non-null object\n",
      "Medu                   392 non-null float64\n",
      "Fedu                   371 non-null float64\n",
      "Mjob                   376 non-null object\n",
      "Fjob                   359 non-null object\n",
      "reason                 378 non-null object\n",
      "guardian               364 non-null object\n",
      "traveltime             367 non-null float64\n",
      "studytime              388 non-null float64\n",
      "failures               373 non-null float64\n",
      "schoolsup              386 non-null object\n",
      "famsup                 356 non-null object\n",
      "paid                   355 non-null object\n",
      "activities             381 non-null object\n",
      "nursery                379 non-null object\n",
      "studytime, granular    388 non-null float64\n",
      "higher                 375 non-null object\n",
      "internet               361 non-null object\n",
      "romantic               364 non-null object\n",
      "famrel                 368 non-null float64\n",
      "freetime               384 non-null float64\n",
      "goout                  387 non-null float64\n",
      "health                 380 non-null float64\n",
      "absences               383 non-null float64\n",
      "score                  389 non-null float64\n",
      "dtypes: float64(12), int64(1), object(17)\n",
      "memory usage: 92.7+ KB\n"
     ]
    }
   ],
   "source": [
    "df.info()"
   ]
  },
  {
   "cell_type": "markdown",
   "metadata": {},
   "source": [
    "## 2.1 Лишний столбец? ('studytime, granular')"
   ]
  },
  {
   "cell_type": "markdown",
   "metadata": {},
   "source": [
    "##### В описании указывалось 29 столбцов данных. В загружаемом массиве - 30. Проанализируем столбцы: 'studytime' и 'studytime, granular'"
   ]
  },
  {
   "cell_type": "code",
   "execution_count": 290,
   "metadata": {
    "scrolled": false
   },
   "outputs": [
    {
     "data": {
      "text/plain": [
       "<matplotlib.axes._subplots.AxesSubplot at 0x21f87260688>"
      ]
     },
     "execution_count": 290,
     "metadata": {},
     "output_type": "execute_result"
    },
    {
     "data": {
      "image/png": "[encoded data removed]",
      "text/plain": [
       "<Figure size 432x288 with 1 Axes>"
      ]
     },
     "metadata": {
      "needs_background": "light"
     },
     "output_type": "display_data"
    }
   ],
   "source": [
    "df['studytime, granular'].hist()"
   ]
  },
  {
   "cell_type": "code",
   "execution_count": 291,
   "metadata": {},
   "outputs": [
    {
     "data": {
      "text/plain": [
       "<matplotlib.axes._subplots.AxesSubplot at 0x21f872f3648>"
      ]
     },
     "execution_count": 291,
     "metadata": {},
     "output_type": "execute_result"
    },
    {
     "data": {
      "image/png": "[encoded data removed]",
      "text/plain": [
       "<Figure size 432x288 with 1 Axes>"
      ]
     },
     "metadata": {
      "needs_background": "light"
     },
     "output_type": "display_data"
    }
   ],
   "source": [
    "df['studytime'].hist()"
   ]
  },
  {
   "cell_type": "markdown",
   "metadata": {},
   "source": [
    "##### Данные очень схожи. Умножим один из столбцов на -1/3 и сверим данные по гистограммам"
   ]
  },
  {
   "cell_type": "code",
   "execution_count": 292,
   "metadata": {
    "scrolled": true
   },
   "outputs": [
    {
     "data": {
      "text/plain": [
       "<matplotlib.axes._subplots.AxesSubplot at 0x21f86bfa748>"
      ]
     },
     "execution_count": 292,
     "metadata": {},
     "output_type": "execute_result"
    },
    {
     "data": {
      "image/png": "[encoded data removed]",
      "text/plain": [
       "<Figure size 432x288 with 1 Axes>"
      ]
     },
     "metadata": {
      "needs_background": "light"
     },
     "output_type": "display_data"
    }
   ],
   "source": [
    "(df['studytime, granular']*(-1/3)).hist()"
   ]
  },
  {
   "cell_type": "markdown",
   "metadata": {},
   "source": [
    "##### Визуально данные идентичны, найдём коэффициент корреляции"
   ]
  },
  {
   "cell_type": "code",
   "execution_count": 293,
   "metadata": {},
   "outputs": [
    {
     "data": {
      "text/html": [
       "<div>\n",
       "<style scoped>\n",
       "    .dataframe tbody tr th:only-of-type {\n",
       "        vertical-align: middle;\n",
       "    }\n",
       "\n",
       "    .dataframe tbody tr th {\n",
       "        vertical-align: top;\n",
       "    }\n",
       "\n",
       "    .dataframe thead th {\n",
       "        text-align: right;\n",
       "    }\n",
       "</style>\n",
       "<table border=\"1\" class=\"dataframe\">\n",
       "  <thead>\n",
       "    <tr style=\"text-align: right;\">\n",
       "      <th></th>\n",
       "      <th>studytime, granular</th>\n",
       "      <th>studytime</th>\n",
       "    </tr>\n",
       "  </thead>\n",
       "  <tbody>\n",
       "    <tr>\n",
       "      <td>studytime, granular</td>\n",
       "      <td>1.0</td>\n",
       "      <td>-1.0</td>\n",
       "    </tr>\n",
       "    <tr>\n",
       "      <td>studytime</td>\n",
       "      <td>-1.0</td>\n",
       "      <td>1.0</td>\n",
       "    </tr>\n",
       "  </tbody>\n",
       "</table>\n",
       "</div>"
      ],
      "text/plain": [
       "                     studytime, granular  studytime\n",
       "studytime, granular                  1.0       -1.0\n",
       "studytime                           -1.0        1.0"
      ]
     },
     "execution_count": 293,
     "metadata": {},
     "output_type": "execute_result"
    }
   ],
   "source": [
    "df[['studytime, granular', 'studytime']].corr()"
   ]
  },
  {
   "cell_type": "markdown",
   "metadata": {},
   "source": [
    "##### Удалим столбец df['studytime, granular'], т.к. эти данные дублируют данные df['studytime'] (с коэф. -1/3)"
   ]
  },
  {
   "cell_type": "code",
   "execution_count": 294,
   "metadata": {},
   "outputs": [],
   "source": [
    "df.drop(['studytime, granular'], axis = 'columns', inplace = True)"
   ]
  },
  {
   "cell_type": "code",
   "execution_count": 295,
   "metadata": {},
   "outputs": [
    {
     "name": "stdout",
     "output_type": "stream",
     "text": [
      "<class 'pandas.core.frame.DataFrame'>\n",
      "RangeIndex: 395 entries, 0 to 394\n",
      "Data columns (total 29 columns):\n",
      "school        395 non-null object\n",
      "sex           395 non-null object\n",
      "age           395 non-null int64\n",
      "address       378 non-null object\n",
      "famsize       368 non-null object\n",
      "Pstatus       350 non-null object\n",
      "Medu          392 non-null float64\n",
      "Fedu          371 non-null float64\n",
      "Mjob          376 non-null object\n",
      "Fjob          359 non-null object\n",
      "reason        378 non-null object\n",
      "guardian      364 non-null object\n",
      "traveltime    367 non-null float64\n",
      "studytime     388 non-null float64\n",
      "failures      373 non-null float64\n",
      "schoolsup     386 non-null object\n",
      "famsup        356 non-null object\n",
      "paid          355 non-null object\n",
      "activities    381 non-null object\n",
      "nursery       379 non-null object\n",
      "higher        375 non-null object\n",
      "internet      361 non-null object\n",
      "romantic      364 non-null object\n",
      "famrel        368 non-null float64\n",
      "freetime      384 non-null float64\n",
      "goout         387 non-null float64\n",
      "health        380 non-null float64\n",
      "absences      383 non-null float64\n",
      "score         389 non-null float64\n",
      "dtypes: float64(11), int64(1), object(17)\n",
      "memory usage: 89.6+ KB\n"
     ]
    }
   ],
   "source": [
    "df.info()"
   ]
  },
  {
   "cell_type": "markdown",
   "metadata": {},
   "source": [
    "## 2.2 Работа с пропусками в первом приближении"
   ]
  },
  {
   "cell_type": "markdown",
   "metadata": {},
   "source": [
    "##### Проверим самый простой способ очистки данных - удалить все строки с пропусками"
   ]
  },
  {
   "cell_type": "code",
   "execution_count": 296,
   "metadata": {},
   "outputs": [
    {
     "name": "stdout",
     "output_type": "stream",
     "text": [
      "<class 'pandas.core.frame.DataFrame'>\n",
      "Int64Index: 97 entries, 4 to 391\n",
      "Data columns (total 29 columns):\n",
      "school        97 non-null object\n",
      "sex           97 non-null object\n",
      "age           97 non-null int64\n",
      "address       97 non-null object\n",
      "famsize       97 non-null object\n",
      "Pstatus       97 non-null object\n",
      "Medu          97 non-null float64\n",
      "Fedu          97 non-null float64\n",
      "Mjob          97 non-null object\n",
      "Fjob          97 non-null object\n",
      "reason        97 non-null object\n",
      "guardian      97 non-null object\n",
      "traveltime    97 non-null float64\n",
      "studytime     97 non-null float64\n",
      "failures      97 non-null float64\n",
      "schoolsup     97 non-null object\n",
      "famsup        97 non-null object\n",
      "paid          97 non-null object\n",
      "activities    97 non-null object\n",
      "nursery       97 non-null object\n",
      "higher        97 non-null object\n",
      "internet      97 non-null object\n",
      "romantic      97 non-null object\n",
      "famrel        97 non-null float64\n",
      "freetime      97 non-null float64\n",
      "goout         97 non-null float64\n",
      "health        97 non-null float64\n",
      "absences      97 non-null float64\n",
      "score         97 non-null float64\n",
      "dtypes: float64(11), int64(1), object(17)\n",
      "memory usage: 22.7+ KB\n"
     ]
    }
   ],
   "source": [
    "df.dropna(axis = 0, how = 'any', inplace = False).info()"
   ]
  },
  {
   "cell_type": "code",
   "execution_count": 297,
   "metadata": {},
   "outputs": [
    {
     "data": {
      "text/plain": [
       "'24.6%'"
      ]
     },
     "execution_count": 297,
     "metadata": {},
     "output_type": "execute_result"
    }
   ],
   "source": [
    "percent(97,395)"
   ]
  },
  {
   "cell_type": "markdown",
   "metadata": {},
   "source": [
    "##### Остаётся меньше четверти данных. Значит сначала нужно избавиться от лишних столбцов и рассмотреть возможность заполнения пропусков."
   ]
  },
  {
   "cell_type": "markdown",
   "metadata": {},
   "source": [
    "## 2.3 Проанализируем имена столбцов"
   ]
  },
  {
   "cell_type": "code",
   "execution_count": 298,
   "metadata": {
    "scrolled": true
   },
   "outputs": [
    {
     "data": {
      "text/plain": [
       "Index(['school', 'sex', 'age', 'address', 'famsize', 'Pstatus', 'Medu', 'Fedu',\n",
       "       'Mjob', 'Fjob', 'reason', 'guardian', 'traveltime', 'studytime',\n",
       "       'failures', 'schoolsup', 'famsup', 'paid', 'activities', 'nursery',\n",
       "       'higher', 'internet', 'romantic', 'famrel', 'freetime', 'goout',\n",
       "       'health', 'absences', 'score'],\n",
       "      dtype='object')"
      ]
     },
     "execution_count": 298,
     "metadata": {},
     "output_type": "execute_result"
    }
   ],
   "source": [
    "df.columns"
   ]
  },
  {
   "cell_type": "markdown",
   "metadata": {},
   "source": [
    "#### Имена столбцов не требуют редактирования и будут удобны для работы в том виде в котором есть."
   ]
  },
  {
   "cell_type": "markdown",
   "metadata": {},
   "source": [
    "## 2.4 Разделим данные на количественные и номинативные"
   ]
  },
  {
   "cell_type": "code",
   "execution_count": 299,
   "metadata": {},
   "outputs": [
    {
     "data": {
      "text/html": [
       "<div>\n",
       "<style scoped>\n",
       "    .dataframe tbody tr th:only-of-type {\n",
       "        vertical-align: middle;\n",
       "    }\n",
       "\n",
       "    .dataframe tbody tr th {\n",
       "        vertical-align: top;\n",
       "    }\n",
       "\n",
       "    .dataframe thead th {\n",
       "        text-align: right;\n",
       "    }\n",
       "</style>\n",
       "<table border=\"1\" class=\"dataframe\">\n",
       "  <thead>\n",
       "    <tr style=\"text-align: right;\">\n",
       "      <th></th>\n",
       "      <th>school</th>\n",
       "      <th>sex</th>\n",
       "      <th>age</th>\n",
       "      <th>address</th>\n",
       "      <th>famsize</th>\n",
       "      <th>Pstatus</th>\n",
       "      <th>Medu</th>\n",
       "      <th>Fedu</th>\n",
       "      <th>Mjob</th>\n",
       "      <th>Fjob</th>\n",
       "      <th>reason</th>\n",
       "      <th>guardian</th>\n",
       "      <th>traveltime</th>\n",
       "      <th>studytime</th>\n",
       "      <th>failures</th>\n",
       "      <th>schoolsup</th>\n",
       "      <th>famsup</th>\n",
       "      <th>paid</th>\n",
       "      <th>activities</th>\n",
       "      <th>nursery</th>\n",
       "      <th>higher</th>\n",
       "      <th>internet</th>\n",
       "      <th>romantic</th>\n",
       "      <th>famrel</th>\n",
       "      <th>freetime</th>\n",
       "      <th>goout</th>\n",
       "      <th>health</th>\n",
       "      <th>absences</th>\n",
       "      <th>score</th>\n",
       "    </tr>\n",
       "  </thead>\n",
       "  <tbody>\n",
       "    <tr>\n",
       "      <td>0</td>\n",
       "      <td>GP</td>\n",
       "      <td>F</td>\n",
       "      <td>18</td>\n",
       "      <td>U</td>\n",
       "      <td>NaN</td>\n",
       "      <td>A</td>\n",
       "      <td>4.0</td>\n",
       "      <td>4.0</td>\n",
       "      <td>at_home</td>\n",
       "      <td>teacher</td>\n",
       "      <td>course</td>\n",
       "      <td>mother</td>\n",
       "      <td>2.0</td>\n",
       "      <td>2.0</td>\n",
       "      <td>0.0</td>\n",
       "      <td>yes</td>\n",
       "      <td>no</td>\n",
       "      <td>no</td>\n",
       "      <td>no</td>\n",
       "      <td>yes</td>\n",
       "      <td>yes</td>\n",
       "      <td>NaN</td>\n",
       "      <td>no</td>\n",
       "      <td>4.0</td>\n",
       "      <td>3.0</td>\n",
       "      <td>4.0</td>\n",
       "      <td>3.0</td>\n",
       "      <td>6.0</td>\n",
       "      <td>30.0</td>\n",
       "    </tr>\n",
       "    <tr>\n",
       "      <td>1</td>\n",
       "      <td>GP</td>\n",
       "      <td>F</td>\n",
       "      <td>17</td>\n",
       "      <td>U</td>\n",
       "      <td>GT3</td>\n",
       "      <td>NaN</td>\n",
       "      <td>1.0</td>\n",
       "      <td>1.0</td>\n",
       "      <td>at_home</td>\n",
       "      <td>other</td>\n",
       "      <td>course</td>\n",
       "      <td>father</td>\n",
       "      <td>1.0</td>\n",
       "      <td>2.0</td>\n",
       "      <td>0.0</td>\n",
       "      <td>no</td>\n",
       "      <td>yes</td>\n",
       "      <td>no</td>\n",
       "      <td>no</td>\n",
       "      <td>no</td>\n",
       "      <td>yes</td>\n",
       "      <td>yes</td>\n",
       "      <td>no</td>\n",
       "      <td>5.0</td>\n",
       "      <td>3.0</td>\n",
       "      <td>3.0</td>\n",
       "      <td>3.0</td>\n",
       "      <td>4.0</td>\n",
       "      <td>30.0</td>\n",
       "    </tr>\n",
       "    <tr>\n",
       "      <td>2</td>\n",
       "      <td>GP</td>\n",
       "      <td>F</td>\n",
       "      <td>15</td>\n",
       "      <td>U</td>\n",
       "      <td>LE3</td>\n",
       "      <td>T</td>\n",
       "      <td>1.0</td>\n",
       "      <td>1.0</td>\n",
       "      <td>at_home</td>\n",
       "      <td>other</td>\n",
       "      <td>other</td>\n",
       "      <td>mother</td>\n",
       "      <td>1.0</td>\n",
       "      <td>2.0</td>\n",
       "      <td>3.0</td>\n",
       "      <td>yes</td>\n",
       "      <td>no</td>\n",
       "      <td>NaN</td>\n",
       "      <td>no</td>\n",
       "      <td>yes</td>\n",
       "      <td>yes</td>\n",
       "      <td>yes</td>\n",
       "      <td>NaN</td>\n",
       "      <td>4.0</td>\n",
       "      <td>3.0</td>\n",
       "      <td>2.0</td>\n",
       "      <td>3.0</td>\n",
       "      <td>10.0</td>\n",
       "      <td>50.0</td>\n",
       "    </tr>\n",
       "    <tr>\n",
       "      <td>3</td>\n",
       "      <td>GP</td>\n",
       "      <td>F</td>\n",
       "      <td>15</td>\n",
       "      <td>U</td>\n",
       "      <td>GT3</td>\n",
       "      <td>T</td>\n",
       "      <td>4.0</td>\n",
       "      <td>2.0</td>\n",
       "      <td>health</td>\n",
       "      <td>NaN</td>\n",
       "      <td>home</td>\n",
       "      <td>mother</td>\n",
       "      <td>1.0</td>\n",
       "      <td>3.0</td>\n",
       "      <td>0.0</td>\n",
       "      <td>no</td>\n",
       "      <td>yes</td>\n",
       "      <td>yes</td>\n",
       "      <td>yes</td>\n",
       "      <td>yes</td>\n",
       "      <td>yes</td>\n",
       "      <td>yes</td>\n",
       "      <td>yes</td>\n",
       "      <td>3.0</td>\n",
       "      <td>2.0</td>\n",
       "      <td>2.0</td>\n",
       "      <td>5.0</td>\n",
       "      <td>2.0</td>\n",
       "      <td>75.0</td>\n",
       "    </tr>\n",
       "    <tr>\n",
       "      <td>4</td>\n",
       "      <td>GP</td>\n",
       "      <td>F</td>\n",
       "      <td>16</td>\n",
       "      <td>U</td>\n",
       "      <td>GT3</td>\n",
       "      <td>T</td>\n",
       "      <td>3.0</td>\n",
       "      <td>3.0</td>\n",
       "      <td>other</td>\n",
       "      <td>other</td>\n",
       "      <td>home</td>\n",
       "      <td>father</td>\n",
       "      <td>1.0</td>\n",
       "      <td>2.0</td>\n",
       "      <td>0.0</td>\n",
       "      <td>no</td>\n",
       "      <td>yes</td>\n",
       "      <td>yes</td>\n",
       "      <td>no</td>\n",
       "      <td>yes</td>\n",
       "      <td>yes</td>\n",
       "      <td>no</td>\n",
       "      <td>no</td>\n",
       "      <td>4.0</td>\n",
       "      <td>3.0</td>\n",
       "      <td>2.0</td>\n",
       "      <td>5.0</td>\n",
       "      <td>4.0</td>\n",
       "      <td>50.0</td>\n",
       "    </tr>\n",
       "  </tbody>\n",
       "</table>\n",
       "</div>"
      ],
      "text/plain": [
       "  school sex  age address famsize Pstatus  Medu  Fedu     Mjob     Fjob  \\\n",
       "0     GP   F   18       U     NaN       A   4.0   4.0  at_home  teacher   \n",
       "1     GP   F   17       U     GT3     NaN   1.0   1.0  at_home    other   \n",
       "2     GP   F   15       U     LE3       T   1.0   1.0  at_home    other   \n",
       "3     GP   F   15       U     GT3       T   4.0   2.0   health      NaN   \n",
       "4     GP   F   16       U     GT3       T   3.0   3.0    other    other   \n",
       "\n",
       "   reason guardian  traveltime  studytime  failures schoolsup famsup paid  \\\n",
       "0  course   mother         2.0        2.0       0.0       yes     no   no   \n",
       "1  course   father         1.0        2.0       0.0        no    yes   no   \n",
       "2   other   mother         1.0        2.0       3.0       yes     no  NaN   \n",
       "3    home   mother         1.0        3.0       0.0        no    yes  yes   \n",
       "4    home   father         1.0        2.0       0.0        no    yes  yes   \n",
       "\n",
       "  activities nursery higher internet romantic  famrel  freetime  goout  \\\n",
       "0         no     yes    yes      NaN       no     4.0       3.0    4.0   \n",
       "1         no      no    yes      yes       no     5.0       3.0    3.0   \n",
       "2         no     yes    yes      yes      NaN     4.0       3.0    2.0   \n",
       "3        yes     yes    yes      yes      yes     3.0       2.0    2.0   \n",
       "4         no     yes    yes       no       no     4.0       3.0    2.0   \n",
       "\n",
       "   health  absences  score  \n",
       "0     3.0       6.0   30.0  \n",
       "1     3.0       4.0   30.0  \n",
       "2     3.0      10.0   50.0  \n",
       "3     5.0       2.0   75.0  \n",
       "4     5.0       4.0   50.0  "
      ]
     },
     "execution_count": 299,
     "metadata": {},
     "output_type": "execute_result"
    }
   ],
   "source": [
    "df.head()"
   ]
  },
  {
   "cell_type": "code",
   "execution_count": 300,
   "metadata": {},
   "outputs": [],
   "source": [
    "all_columns = list(df.columns)"
   ]
  },
  {
   "cell_type": "code",
   "execution_count": 301,
   "metadata": {},
   "outputs": [
    {
     "data": {
      "text/plain": [
       "['age', 'absences', 'score', 'failures']"
      ]
     },
     "execution_count": 301,
     "metadata": {},
     "output_type": "execute_result"
    }
   ],
   "source": [
    "num_columns = (['age',\n",
    "                'absences',\n",
    "                'score',\n",
    "                'failures'])\n",
    "num_columns"
   ]
  },
  {
   "cell_type": "code",
   "execution_count": 302,
   "metadata": {},
   "outputs": [],
   "source": [
    "nonn_columns = set(df.columns) - set(num_columns)"
   ]
  },
  {
   "cell_type": "code",
   "execution_count": 303,
   "metadata": {},
   "outputs": [
    {
     "data": {
      "text/plain": [
       "['sex',\n",
       " 'romantic',\n",
       " 'school',\n",
       " 'higher',\n",
       " 'guardian',\n",
       " 'goout',\n",
       " 'famsize',\n",
       " 'address',\n",
       " 'Medu',\n",
       " 'internet',\n",
       " 'Fjob',\n",
       " 'health',\n",
       " 'freetime',\n",
       " 'Fedu',\n",
       " 'activities',\n",
       " 'schoolsup',\n",
       " 'Mjob',\n",
       " 'studytime',\n",
       " 'famsup',\n",
       " 'traveltime',\n",
       " 'reason',\n",
       " 'famrel',\n",
       " 'paid',\n",
       " 'nursery',\n",
       " 'Pstatus']"
      ]
     },
     "execution_count": 303,
     "metadata": {},
     "output_type": "execute_result"
    }
   ],
   "source": [
    "nonn_columns = list(nonn_columns)\n",
    "nonn_columns"
   ]
  },
  {
   "cell_type": "code",
   "execution_count": 304,
   "metadata": {},
   "outputs": [
    {
     "data": {
      "text/plain": [
       "25"
      ]
     },
     "execution_count": 304,
     "metadata": {},
     "output_type": "execute_result"
    }
   ],
   "source": [
    "len(nonn_columns)"
   ]
  },
  {
   "cell_type": "markdown",
   "metadata": {},
   "source": [
    "##### Также можно выделить ранговые переменные"
   ]
  },
  {
   "cell_type": "code",
   "execution_count": 305,
   "metadata": {},
   "outputs": [],
   "source": [
    "rank_columns = (['famsize',\n",
    "                 'Medu',\n",
    "                 'Fedu',\n",
    "                 'traveltime',\n",
    "                 'studytime',\n",
    "                 'famrel',\n",
    "                 'freetime',\n",
    "                 'goout',\n",
    "                 'health'             \n",
    "                 ])"
   ]
  },
  {
   "cell_type": "code",
   "execution_count": 306,
   "metadata": {},
   "outputs": [
    {
     "data": {
      "text/plain": [
       "9"
      ]
     },
     "execution_count": 306,
     "metadata": {},
     "output_type": "execute_result"
    }
   ],
   "source": [
    "len(rank_columns)"
   ]
  },
  {
   "cell_type": "code",
   "execution_count": 307,
   "metadata": {},
   "outputs": [],
   "source": [
    "nonr_columns = list(set(nonn_columns) - set(rank_columns))"
   ]
  },
  {
   "cell_type": "markdown",
   "metadata": {},
   "source": [
    "#### Заменим все пропуски на None"
   ]
  },
  {
   "cell_type": "code",
   "execution_count": 308,
   "metadata": {},
   "outputs": [],
   "source": [
    "for col in all_columns:\n",
    "    nn(col)"
   ]
  },
  {
   "cell_type": "markdown",
   "metadata": {},
   "source": [
    "## 2.5 Резюме по разделу 2"
   ]
  },
  {
   "cell_type": "markdown",
   "metadata": {},
   "source": [
    "- удалили столбец df['studytime, granular'], т.к. эти данные дублируют данные df['studytime'] (с коэф. -1/3)\n",
    "- удаление строк с пустыми ячейками на данном этапе не целоесообразно\n",
    "\n",
    "В датасете осталось\n",
    "- 395 строк, 97 из которых не содержат пропусков\n",
    "- 4 количественных столбцов, 1 из которых не содержит пропусков (age). Создали спсисок имён этих столбцов (num_columns)\n",
    "- 25 номинативных, 2 из которых не содержат пропусков (school, sex). Создали спсисок имён этих столбцов (nonn_columns)\n",
    "- 9 ранговых (из числа номинативных). Создали спсисок имён этих столбцов (rank_columns)\n",
    "- все имена столбцов в удобном для работы виде\n"
   ]
  },
  {
   "cell_type": "markdown",
   "metadata": {},
   "source": [
    "# 3. Рассмотрим количественные данные"
   ]
  },
  {
   "cell_type": "code",
   "execution_count": 309,
   "metadata": {},
   "outputs": [
    {
     "name": "stdout",
     "output_type": "stream",
     "text": [
      "<class 'pandas.core.frame.DataFrame'>\n",
      "RangeIndex: 395 entries, 0 to 394\n",
      "Data columns (total 4 columns):\n",
      "age         395 non-null int64\n",
      "absences    383 non-null float64\n",
      "score       389 non-null float64\n",
      "failures    373 non-null float64\n",
      "dtypes: float64(3), int64(1)\n",
      "memory usage: 12.5 KB\n"
     ]
    }
   ],
   "source": [
    "df_n = df[num_columns] # количественные данные\n",
    "\n",
    "df_n.info()"
   ]
  },
  {
   "cell_type": "markdown",
   "metadata": {},
   "source": [
    "## 3.1 Работа с пропусками удалением"
   ]
  },
  {
   "cell_type": "code",
   "execution_count": 310,
   "metadata": {
    "scrolled": true
   },
   "outputs": [
    {
     "name": "stdout",
     "output_type": "stream",
     "text": [
      "<class 'pandas.core.frame.DataFrame'>\n",
      "Int64Index: 356 entries, 0 to 394\n",
      "Data columns (total 4 columns):\n",
      "age         356 non-null int64\n",
      "absences    356 non-null float64\n",
      "score       356 non-null float64\n",
      "failures    356 non-null float64\n",
      "dtypes: float64(3), int64(1)\n",
      "memory usage: 13.9 KB\n"
     ]
    }
   ],
   "source": [
    "df_n_wn = df_n.dropna(axis = 0, how = 'any', inplace = False)\n",
    "df_n_wn.info()"
   ]
  },
  {
   "cell_type": "markdown",
   "metadata": {},
   "source": [
    "##### При слепом удалении потеряем 10% данных. Попробуем провести корреляционный анализ. \n",
    "##### Если сможем найти скоррелированные столбцы и удалить часть из них, то очистка исходных данных (df_n) скорее всего\n",
    "##### будет с меньшими потерями (менее 10 %)"
   ]
  },
  {
   "cell_type": "markdown",
   "metadata": {},
   "source": [
    "##### Однако думаю стоит удалить строки с пропусками в столбце 'score'. Так как это целевая переменная и заполняя пропуски по ней мы сильно исказим нашу модель. Потери данных после удаления составят 1,5%."
   ]
  },
  {
   "cell_type": "code",
   "execution_count": 311,
   "metadata": {
    "scrolled": true
   },
   "outputs": [
    {
     "name": "stdout",
     "output_type": "stream",
     "text": [
      "<class 'pandas.core.frame.DataFrame'>\n",
      "Int64Index: 389 entries, 0 to 394\n",
      "Data columns (total 4 columns):\n",
      "age         389 non-null int64\n",
      "absences    378 non-null float64\n",
      "score       389 non-null float64\n",
      "failures    367 non-null float64\n",
      "dtypes: float64(3), int64(1)\n",
      "memory usage: 15.2 KB\n"
     ]
    }
   ],
   "source": [
    "df_n_wn = df_n.dropna(subset = ['score'], how = 'any', inplace = False)\n",
    "df_n_wn.info()"
   ]
  },
  {
   "cell_type": "code",
   "execution_count": 312,
   "metadata": {},
   "outputs": [],
   "source": [
    "df.dropna(subset = ['score'], how = 'any', inplace = True)"
   ]
  },
  {
   "cell_type": "code",
   "execution_count": 313,
   "metadata": {},
   "outputs": [
    {
     "name": "stdout",
     "output_type": "stream",
     "text": [
      "<class 'pandas.core.frame.DataFrame'>\n",
      "Int64Index: 389 entries, 0 to 394\n",
      "Data columns (total 29 columns):\n",
      "school        389 non-null object\n",
      "sex           389 non-null object\n",
      "age           389 non-null int64\n",
      "address       374 non-null object\n",
      "famsize       362 non-null object\n",
      "Pstatus       344 non-null object\n",
      "Medu          386 non-null float64\n",
      "Fedu          365 non-null float64\n",
      "Mjob          370 non-null object\n",
      "Fjob          353 non-null object\n",
      "reason        372 non-null object\n",
      "guardian      358 non-null object\n",
      "traveltime    361 non-null float64\n",
      "studytime     382 non-null float64\n",
      "failures      367 non-null float64\n",
      "schoolsup     380 non-null object\n",
      "famsup        351 non-null object\n",
      "paid          350 non-null object\n",
      "activities    375 non-null object\n",
      "nursery       374 non-null object\n",
      "higher        369 non-null object\n",
      "internet      355 non-null object\n",
      "romantic      358 non-null object\n",
      "famrel        362 non-null float64\n",
      "freetime      380 non-null float64\n",
      "goout         382 non-null float64\n",
      "health        374 non-null float64\n",
      "absences      378 non-null float64\n",
      "score         389 non-null float64\n",
      "dtypes: float64(11), int64(1), object(17)\n",
      "memory usage: 91.2+ KB\n"
     ]
    }
   ],
   "source": [
    "df.info()"
   ]
  },
  {
   "cell_type": "markdown",
   "metadata": {},
   "source": [
    "## 3.2 Рассмотрим все 4 количественных столбца по одному"
   ]
  },
  {
   "cell_type": "markdown",
   "metadata": {},
   "source": [
    "### 3.2.1 'age' - возраст"
   ]
  },
  {
   "cell_type": "code",
   "execution_count": 314,
   "metadata": {
    "scrolled": true
   },
   "outputs": [
    {
     "name": "stdout",
     "output_type": "stream",
     "text": [
      "16    103\n",
      "17     98\n",
      "15     82\n",
      "18     80\n",
      "19     21\n",
      "20      3\n",
      "22      1\n",
      "21      1\n",
      "Name: age, dtype: int64\n"
     ]
    }
   ],
   "source": [
    "print(df.age.value_counts(dropna = False))"
   ]
  },
  {
   "cell_type": "code",
   "execution_count": 315,
   "metadata": {},
   "outputs": [
    {
     "data": {
      "text/plain": [
       "array([[<matplotlib.axes._subplots.AxesSubplot object at 0x0000021F84EF5C48>]],\n",
       "      dtype=object)"
      ]
     },
     "execution_count": 315,
     "metadata": {},
     "output_type": "execute_result"
    },
    {
     "data": {
      "image/png": "[encoded data removed]",
      "text/plain": [
       "<Figure size 432x288 with 1 Axes>"
      ]
     },
     "metadata": {
      "needs_background": "light"
     },
     "output_type": "display_data"
    }
   ],
   "source": [
    "df.hist(column = 'age', bins = len(df.age.value_counts()))"
   ]
  },
  {
   "cell_type": "markdown",
   "metadata": {},
   "source": [
    "##### Данные выглядят хорошо: пропусков нет, распределение без выбросов, возрастной диапазон (16-22) адекватен."
   ]
  },
  {
   "cell_type": "markdown",
   "metadata": {},
   "source": [
    "### 3.2.2 'absences' - пропуски занятий"
   ]
  },
  {
   "cell_type": "code",
   "execution_count": 316,
   "metadata": {
    "scrolled": true
   },
   "outputs": [
    {
     "data": {
      "text/plain": [
       "11"
      ]
     },
     "execution_count": 316,
     "metadata": {},
     "output_type": "execute_result"
    }
   ],
   "source": [
    "len(df[df.absences.isnull()])"
   ]
  },
  {
   "cell_type": "markdown",
   "metadata": {},
   "source": [
    "##### Имеем 11 пропусков данных. Посмотрим на распределение данных"
   ]
  },
  {
   "cell_type": "code",
   "execution_count": 317,
   "metadata": {
    "scrolled": false
   },
   "outputs": [
    {
     "data": {
      "text/plain": [
       "<matplotlib.axes._subplots.AxesSubplot at 0x21f884802c8>"
      ]
     },
     "execution_count": 317,
     "metadata": {},
     "output_type": "execute_result"
    },
    {
     "data": {
      "image/png": "[encoded data removed]",
      "text/plain": [
       "<Figure size 432x288 with 1 Axes>"
      ]
     },
     "metadata": {
      "needs_background": "light"
     },
     "output_type": "display_data"
    }
   ],
   "source": [
    "df.absences.hist()"
   ]
  },
  {
   "cell_type": "code",
   "execution_count": 318,
   "metadata": {},
   "outputs": [
    {
     "name": "stdout",
     "output_type": "stream",
     "text": [
      "[0.0, 1.0, 2.0, 3.0, 4.0, 5.0, 6.0, 7.0, 8.0, 9.0, 10.0, 11.0, 12.0, 13.0, 14.0, 15.0, 16.0, 17.0, 18.0, 19.0, 20.0, 21.0, 22.0, 23.0, 24.0, 25.0, 26.0, 28.0, 30.0, 38.0, 40.0, 54.0, 56.0, 75.0, 212.0, 385.0]\n"
     ]
    }
   ],
   "source": [
    "ind = list(df.absences.value_counts(dropna = True).index)\n",
    "ind.sort()\n",
    "print(ind)"
   ]
  },
  {
   "cell_type": "markdown",
   "metadata": {},
   "source": [
    "##### Данные имееют очень большой размах, что может негативно отразиться на нашей моделе. Попробуем избавиться от \"хвостов\". А точнее от \"хвоста\" справа"
   ]
  },
  {
   "cell_type": "markdown",
   "metadata": {},
   "source": [
    "##### Воспользуемся формулой интерквартильного расстояния для определения выбросов"
   ]
  },
  {
   "cell_type": "code",
   "execution_count": 319,
   "metadata": {
    "scrolled": true
   },
   "outputs": [
    {
     "data": {
      "text/plain": [
       "40      25.0\n",
       "74      54.0\n",
       "103     26.0\n",
       "183     56.0\n",
       "198     24.0\n",
       "205     28.0\n",
       "216     22.0\n",
       "222    385.0\n",
       "260     21.0\n",
       "276     75.0\n",
       "277     22.0\n",
       "280     30.0\n",
       "307     38.0\n",
       "313     22.0\n",
       "315     40.0\n",
       "320     23.0\n",
       "390    212.0\n",
       "Name: absences, dtype: float64"
      ]
     },
     "execution_count": 319,
     "metadata": {},
     "output_type": "execute_result"
    }
   ],
   "source": [
    "outliers(df.absences, 'top', k = 1.5)"
   ]
  },
  {
   "cell_type": "code",
   "execution_count": 320,
   "metadata": {
    "scrolled": true
   },
   "outputs": [
    {
     "data": {
      "text/plain": [
       "21.0"
      ]
     },
     "execution_count": 320,
     "metadata": {},
     "output_type": "execute_result"
    }
   ],
   "source": [
    "outliers(df.absences, 'top', k = 1.5).min()"
   ]
  },
  {
   "cell_type": "code",
   "execution_count": 321,
   "metadata": {},
   "outputs": [
    {
     "data": {
      "text/plain": [
       "17"
      ]
     },
     "execution_count": 321,
     "metadata": {},
     "output_type": "execute_result"
    }
   ],
   "source": [
    "len(outliers(df.absences, 'top', k = 1.5))"
   ]
  },
  {
   "cell_type": "code",
   "execution_count": 322,
   "metadata": {},
   "outputs": [
    {
     "data": {
      "text/plain": [
       "'4.4%'"
      ]
     },
     "execution_count": 322,
     "metadata": {},
     "output_type": "execute_result"
    }
   ],
   "source": [
    "percent(17, len(df.absences))"
   ]
  },
  {
   "cell_type": "markdown",
   "metadata": {},
   "source": [
    "##### По формуле интерквартильного размаха получаем довольно много выбросов - 4.4 %. Думаю стоит отсечь минимальный хвост, без которого график распределения прогулов будет выглядет относительно плавно."
   ]
  },
  {
   "cell_type": "code",
   "execution_count": 323,
   "metadata": {},
   "outputs": [
    {
     "data": {
      "text/plain": [
       "<matplotlib.axes._subplots.AxesSubplot at 0x21f88550e08>"
      ]
     },
     "execution_count": 323,
     "metadata": {},
     "output_type": "execute_result"
    },
    {
     "data": {
      "image/png": "[encoded data removed]",
      "text/plain": [
       "<Figure size 432x288 with 1 Axes>"
      ]
     },
     "metadata": {
      "needs_background": "light"
     },
     "output_type": "display_data"
    }
   ],
   "source": [
    "df.absences[(df.absences <= 21)].hist() # Грфик без хвоста > 21 пропусков"
   ]
  },
  {
   "cell_type": "code",
   "execution_count": 324,
   "metadata": {},
   "outputs": [
    {
     "data": {
      "text/plain": [
       "75.0"
      ]
     },
     "execution_count": 324,
     "metadata": {},
     "output_type": "execute_result"
    }
   ],
   "source": [
    "outliers(df.absences, 'top', k = 6).min()"
   ]
  },
  {
   "cell_type": "code",
   "execution_count": 325,
   "metadata": {
    "scrolled": false
   },
   "outputs": [
    {
     "data": {
      "text/plain": [
       "<matplotlib.axes._subplots.AxesSubplot at 0x21f885cb9c8>"
      ]
     },
     "execution_count": 325,
     "metadata": {},
     "output_type": "execute_result"
    },
    {
     "data": {
      "image/png": "[encoded data removed]",
      "text/plain": [
       "<Figure size 432x288 with 1 Axes>"
      ]
     },
     "metadata": {
      "needs_background": "light"
     },
     "output_type": "display_data"
    }
   ],
   "source": [
    "df.absences[(df.absences < 75)].hist()"
   ]
  },
  {
   "cell_type": "code",
   "execution_count": 326,
   "metadata": {
    "scrolled": false
   },
   "outputs": [
    {
     "data": {
      "text/html": [
       "<div>\n",
       "<style scoped>\n",
       "    .dataframe tbody tr th:only-of-type {\n",
       "        vertical-align: middle;\n",
       "    }\n",
       "\n",
       "    .dataframe tbody tr th {\n",
       "        vertical-align: top;\n",
       "    }\n",
       "\n",
       "    .dataframe thead th {\n",
       "        text-align: right;\n",
       "    }\n",
       "</style>\n",
       "<table border=\"1\" class=\"dataframe\">\n",
       "  <thead>\n",
       "    <tr style=\"text-align: right;\">\n",
       "      <th></th>\n",
       "      <th>age</th>\n",
       "      <th>schoolsup</th>\n",
       "      <th>famsup</th>\n",
       "      <th>absences</th>\n",
       "      <th>score</th>\n",
       "    </tr>\n",
       "  </thead>\n",
       "  <tbody>\n",
       "    <tr>\n",
       "      <td>222</td>\n",
       "      <td>16</td>\n",
       "      <td>yes</td>\n",
       "      <td>None</td>\n",
       "      <td>385.0</td>\n",
       "      <td>85.0</td>\n",
       "    </tr>\n",
       "    <tr>\n",
       "      <td>276</td>\n",
       "      <td>18</td>\n",
       "      <td>no</td>\n",
       "      <td>None</td>\n",
       "      <td>75.0</td>\n",
       "      <td>45.0</td>\n",
       "    </tr>\n",
       "    <tr>\n",
       "      <td>390</td>\n",
       "      <td>20</td>\n",
       "      <td>no</td>\n",
       "      <td>yes</td>\n",
       "      <td>212.0</td>\n",
       "      <td>45.0</td>\n",
       "    </tr>\n",
       "  </tbody>\n",
       "</table>\n",
       "</div>"
      ],
      "text/plain": [
       "     age schoolsup famsup  absences  score\n",
       "222   16       yes   None     385.0   85.0\n",
       "276   18        no   None      75.0   45.0\n",
       "390   20        no    yes     212.0   45.0"
      ]
     },
     "execution_count": 326,
     "metadata": {},
     "output_type": "execute_result"
    }
   ],
   "source": [
    "df[['age','schoolsup','famsup','absences', 'score']][(df.absences >=75)]"
   ]
  },
  {
   "cell_type": "markdown",
   "metadata": {},
   "source": [
    "##### Строка 222 явно выбивается из общих данных. Довольно высокий балл за экзамен и очень много прогулов. Видимо данный ученик на специальных условиях (домашнее обучение или т.п.). Данную строчку следует удалить."
   ]
  },
  {
   "cell_type": "code",
   "execution_count": 327,
   "metadata": {},
   "outputs": [],
   "source": [
    "df.drop([222], inplace = True)"
   ]
  },
  {
   "cell_type": "code",
   "execution_count": 328,
   "metadata": {},
   "outputs": [
    {
     "data": {
      "text/html": [
       "<div>\n",
       "<style scoped>\n",
       "    .dataframe tbody tr th:only-of-type {\n",
       "        vertical-align: middle;\n",
       "    }\n",
       "\n",
       "    .dataframe tbody tr th {\n",
       "        vertical-align: top;\n",
       "    }\n",
       "\n",
       "    .dataframe thead th {\n",
       "        text-align: right;\n",
       "    }\n",
       "</style>\n",
       "<table border=\"1\" class=\"dataframe\">\n",
       "  <thead>\n",
       "    <tr style=\"text-align: right;\">\n",
       "      <th></th>\n",
       "      <th>age</th>\n",
       "      <th>schoolsup</th>\n",
       "      <th>famsup</th>\n",
       "      <th>absences</th>\n",
       "      <th>score</th>\n",
       "    </tr>\n",
       "  </thead>\n",
       "  <tbody>\n",
       "    <tr>\n",
       "      <td>74</td>\n",
       "      <td>16</td>\n",
       "      <td>yes</td>\n",
       "      <td>yes</td>\n",
       "      <td>54.0</td>\n",
       "      <td>55.0</td>\n",
       "    </tr>\n",
       "    <tr>\n",
       "      <td>183</td>\n",
       "      <td>17</td>\n",
       "      <td>no</td>\n",
       "      <td>yes</td>\n",
       "      <td>56.0</td>\n",
       "      <td>40.0</td>\n",
       "    </tr>\n",
       "    <tr>\n",
       "      <td>276</td>\n",
       "      <td>18</td>\n",
       "      <td>no</td>\n",
       "      <td>None</td>\n",
       "      <td>75.0</td>\n",
       "      <td>45.0</td>\n",
       "    </tr>\n",
       "    <tr>\n",
       "      <td>390</td>\n",
       "      <td>20</td>\n",
       "      <td>no</td>\n",
       "      <td>yes</td>\n",
       "      <td>212.0</td>\n",
       "      <td>45.0</td>\n",
       "    </tr>\n",
       "  </tbody>\n",
       "</table>\n",
       "</div>"
      ],
      "text/plain": [
       "     age schoolsup famsup  absences  score\n",
       "74    16       yes    yes      54.0   55.0\n",
       "183   17        no    yes      56.0   40.0\n",
       "276   18        no   None      75.0   45.0\n",
       "390   20        no    yes     212.0   45.0"
      ]
     },
     "execution_count": 328,
     "metadata": {},
     "output_type": "execute_result"
    }
   ],
   "source": [
    "df[['age','schoolsup','famsup','absences', 'score']][(df.absences >= 54)]"
   ]
  },
  {
   "cell_type": "code",
   "execution_count": 329,
   "metadata": {},
   "outputs": [],
   "source": [
    "df.drop([390, 276], inplace = True)"
   ]
  },
  {
   "cell_type": "markdown",
   "metadata": {},
   "source": [
    "##### Также удалим оставшиеся два крайних значения. Строки 390 и 276."
   ]
  },
  {
   "cell_type": "code",
   "execution_count": 330,
   "metadata": {},
   "outputs": [
    {
     "data": {
      "text/plain": [
       "<matplotlib.axes._subplots.AxesSubplot at 0x21f88644148>"
      ]
     },
     "execution_count": 330,
     "metadata": {},
     "output_type": "execute_result"
    },
    {
     "data": {
      "image/png": "[encoded data removed]",
      "text/plain": [
       "<Figure size 432x288 with 1 Axes>"
      ]
     },
     "metadata": {
      "needs_background": "light"
     },
     "output_type": "display_data"
    }
   ],
   "source": [
    "df.absences.hist()"
   ]
  },
  {
   "cell_type": "markdown",
   "metadata": {},
   "source": [
    "##### Рассмотрим пропуски в данных."
   ]
  },
  {
   "cell_type": "code",
   "execution_count": 331,
   "metadata": {},
   "outputs": [
    {
     "data": {
      "text/html": [
       "<div>\n",
       "<style scoped>\n",
       "    .dataframe tbody tr th:only-of-type {\n",
       "        vertical-align: middle;\n",
       "    }\n",
       "\n",
       "    .dataframe tbody tr th {\n",
       "        vertical-align: top;\n",
       "    }\n",
       "\n",
       "    .dataframe thead th {\n",
       "        text-align: right;\n",
       "    }\n",
       "</style>\n",
       "<table border=\"1\" class=\"dataframe\">\n",
       "  <thead>\n",
       "    <tr style=\"text-align: right;\">\n",
       "      <th></th>\n",
       "      <th>school</th>\n",
       "      <th>sex</th>\n",
       "      <th>age</th>\n",
       "      <th>address</th>\n",
       "      <th>famsize</th>\n",
       "      <th>Pstatus</th>\n",
       "      <th>Medu</th>\n",
       "      <th>Fedu</th>\n",
       "      <th>Mjob</th>\n",
       "      <th>Fjob</th>\n",
       "      <th>reason</th>\n",
       "      <th>guardian</th>\n",
       "      <th>traveltime</th>\n",
       "      <th>studytime</th>\n",
       "      <th>failures</th>\n",
       "      <th>schoolsup</th>\n",
       "      <th>famsup</th>\n",
       "      <th>paid</th>\n",
       "      <th>activities</th>\n",
       "      <th>nursery</th>\n",
       "      <th>higher</th>\n",
       "      <th>internet</th>\n",
       "      <th>romantic</th>\n",
       "      <th>famrel</th>\n",
       "      <th>freetime</th>\n",
       "      <th>goout</th>\n",
       "      <th>health</th>\n",
       "      <th>absences</th>\n",
       "      <th>score</th>\n",
       "    </tr>\n",
       "  </thead>\n",
       "  <tbody>\n",
       "    <tr>\n",
       "      <td>24</td>\n",
       "      <td>GP</td>\n",
       "      <td>F</td>\n",
       "      <td>15</td>\n",
       "      <td>R</td>\n",
       "      <td>GT3</td>\n",
       "      <td>T</td>\n",
       "      <td>2.0</td>\n",
       "      <td>4.0</td>\n",
       "      <td>services</td>\n",
       "      <td>health</td>\n",
       "      <td>course</td>\n",
       "      <td>mother</td>\n",
       "      <td>1.0</td>\n",
       "      <td>3.0</td>\n",
       "      <td>0.0</td>\n",
       "      <td>yes</td>\n",
       "      <td>yes</td>\n",
       "      <td>yes</td>\n",
       "      <td>yes</td>\n",
       "      <td>yes</td>\n",
       "      <td>yes</td>\n",
       "      <td>yes</td>\n",
       "      <td>no</td>\n",
       "      <td>4.0</td>\n",
       "      <td>3.0</td>\n",
       "      <td>2.0</td>\n",
       "      <td>5.0</td>\n",
       "      <td>NaN</td>\n",
       "      <td>40.0</td>\n",
       "    </tr>\n",
       "    <tr>\n",
       "      <td>101</td>\n",
       "      <td>GP</td>\n",
       "      <td>M</td>\n",
       "      <td>16</td>\n",
       "      <td>U</td>\n",
       "      <td>GT3</td>\n",
       "      <td>T</td>\n",
       "      <td>4.0</td>\n",
       "      <td>4.0</td>\n",
       "      <td>services</td>\n",
       "      <td>teacher</td>\n",
       "      <td>other</td>\n",
       "      <td>father</td>\n",
       "      <td>1.0</td>\n",
       "      <td>3.0</td>\n",
       "      <td>0.0</td>\n",
       "      <td>no</td>\n",
       "      <td>yes</td>\n",
       "      <td>no</td>\n",
       "      <td>yes</td>\n",
       "      <td>yes</td>\n",
       "      <td>yes</td>\n",
       "      <td>yes</td>\n",
       "      <td>yes</td>\n",
       "      <td>4.0</td>\n",
       "      <td>4.0</td>\n",
       "      <td>3.0</td>\n",
       "      <td>4.0</td>\n",
       "      <td>NaN</td>\n",
       "      <td>85.0</td>\n",
       "    </tr>\n",
       "    <tr>\n",
       "      <td>120</td>\n",
       "      <td>GP</td>\n",
       "      <td>F</td>\n",
       "      <td>15</td>\n",
       "      <td>U</td>\n",
       "      <td>GT3</td>\n",
       "      <td>T</td>\n",
       "      <td>1.0</td>\n",
       "      <td>2.0</td>\n",
       "      <td>at_home</td>\n",
       "      <td>None</td>\n",
       "      <td>course</td>\n",
       "      <td>mother</td>\n",
       "      <td>1.0</td>\n",
       "      <td>2.0</td>\n",
       "      <td>0.0</td>\n",
       "      <td>no</td>\n",
       "      <td>no</td>\n",
       "      <td>no</td>\n",
       "      <td>no</td>\n",
       "      <td>no</td>\n",
       "      <td>yes</td>\n",
       "      <td>yes</td>\n",
       "      <td>no</td>\n",
       "      <td>3.0</td>\n",
       "      <td>2.0</td>\n",
       "      <td>3.0</td>\n",
       "      <td>1.0</td>\n",
       "      <td>NaN</td>\n",
       "      <td>75.0</td>\n",
       "    </tr>\n",
       "    <tr>\n",
       "      <td>129</td>\n",
       "      <td>GP</td>\n",
       "      <td>M</td>\n",
       "      <td>16</td>\n",
       "      <td>R</td>\n",
       "      <td>None</td>\n",
       "      <td>T</td>\n",
       "      <td>4.0</td>\n",
       "      <td>4.0</td>\n",
       "      <td>teacher</td>\n",
       "      <td>teacher</td>\n",
       "      <td>course</td>\n",
       "      <td>mother</td>\n",
       "      <td>1.0</td>\n",
       "      <td>NaN</td>\n",
       "      <td>0.0</td>\n",
       "      <td>no</td>\n",
       "      <td>no</td>\n",
       "      <td>yes</td>\n",
       "      <td>yes</td>\n",
       "      <td>yes</td>\n",
       "      <td>yes</td>\n",
       "      <td>yes</td>\n",
       "      <td>no</td>\n",
       "      <td>3.0</td>\n",
       "      <td>5.0</td>\n",
       "      <td>5.0</td>\n",
       "      <td>4.0</td>\n",
       "      <td>NaN</td>\n",
       "      <td>90.0</td>\n",
       "    </tr>\n",
       "    <tr>\n",
       "      <td>150</td>\n",
       "      <td>GP</td>\n",
       "      <td>M</td>\n",
       "      <td>18</td>\n",
       "      <td>U</td>\n",
       "      <td>LE3</td>\n",
       "      <td>T</td>\n",
       "      <td>1.0</td>\n",
       "      <td>1.0</td>\n",
       "      <td>other</td>\n",
       "      <td>other</td>\n",
       "      <td>course</td>\n",
       "      <td>mother</td>\n",
       "      <td>1.0</td>\n",
       "      <td>1.0</td>\n",
       "      <td>3.0</td>\n",
       "      <td>no</td>\n",
       "      <td>no</td>\n",
       "      <td>no</td>\n",
       "      <td>no</td>\n",
       "      <td>yes</td>\n",
       "      <td>no</td>\n",
       "      <td>yes</td>\n",
       "      <td>yes</td>\n",
       "      <td>2.0</td>\n",
       "      <td>3.0</td>\n",
       "      <td>5.0</td>\n",
       "      <td>4.0</td>\n",
       "      <td>NaN</td>\n",
       "      <td>0.0</td>\n",
       "    </tr>\n",
       "    <tr>\n",
       "      <td>172</td>\n",
       "      <td>GP</td>\n",
       "      <td>M</td>\n",
       "      <td>17</td>\n",
       "      <td>U</td>\n",
       "      <td>None</td>\n",
       "      <td>T</td>\n",
       "      <td>4.0</td>\n",
       "      <td>4.0</td>\n",
       "      <td>teacher</td>\n",
       "      <td>other</td>\n",
       "      <td>reputation</td>\n",
       "      <td>mother</td>\n",
       "      <td>1.0</td>\n",
       "      <td>2.0</td>\n",
       "      <td>0.0</td>\n",
       "      <td>no</td>\n",
       "      <td>yes</td>\n",
       "      <td>yes</td>\n",
       "      <td>yes</td>\n",
       "      <td>yes</td>\n",
       "      <td>yes</td>\n",
       "      <td>yes</td>\n",
       "      <td>no</td>\n",
       "      <td>4.0</td>\n",
       "      <td>4.0</td>\n",
       "      <td>4.0</td>\n",
       "      <td>5.0</td>\n",
       "      <td>NaN</td>\n",
       "      <td>50.0</td>\n",
       "    </tr>\n",
       "    <tr>\n",
       "      <td>215</td>\n",
       "      <td>GP</td>\n",
       "      <td>F</td>\n",
       "      <td>17</td>\n",
       "      <td>U</td>\n",
       "      <td>LE3</td>\n",
       "      <td>T</td>\n",
       "      <td>3.0</td>\n",
       "      <td>2.0</td>\n",
       "      <td>other</td>\n",
       "      <td>other</td>\n",
       "      <td>reputation</td>\n",
       "      <td>mother</td>\n",
       "      <td>2.0</td>\n",
       "      <td>2.0</td>\n",
       "      <td>0.0</td>\n",
       "      <td>no</td>\n",
       "      <td>no</td>\n",
       "      <td>None</td>\n",
       "      <td>no</td>\n",
       "      <td>yes</td>\n",
       "      <td>yes</td>\n",
       "      <td>None</td>\n",
       "      <td>no</td>\n",
       "      <td>4.0</td>\n",
       "      <td>4.0</td>\n",
       "      <td>4.0</td>\n",
       "      <td>1.0</td>\n",
       "      <td>NaN</td>\n",
       "      <td>75.0</td>\n",
       "    </tr>\n",
       "    <tr>\n",
       "      <td>227</td>\n",
       "      <td>GP</td>\n",
       "      <td>M</td>\n",
       "      <td>17</td>\n",
       "      <td>U</td>\n",
       "      <td>LE3</td>\n",
       "      <td>None</td>\n",
       "      <td>2.0</td>\n",
       "      <td>3.0</td>\n",
       "      <td>services</td>\n",
       "      <td>services</td>\n",
       "      <td>reputation</td>\n",
       "      <td>father</td>\n",
       "      <td>1.0</td>\n",
       "      <td>NaN</td>\n",
       "      <td>0.0</td>\n",
       "      <td>no</td>\n",
       "      <td>yes</td>\n",
       "      <td>yes</td>\n",
       "      <td>no</td>\n",
       "      <td>no</td>\n",
       "      <td>None</td>\n",
       "      <td>yes</td>\n",
       "      <td>no</td>\n",
       "      <td>5.0</td>\n",
       "      <td>3.0</td>\n",
       "      <td>3.0</td>\n",
       "      <td>3.0</td>\n",
       "      <td>NaN</td>\n",
       "      <td>60.0</td>\n",
       "    </tr>\n",
       "    <tr>\n",
       "      <td>254</td>\n",
       "      <td>GP</td>\n",
       "      <td>M</td>\n",
       "      <td>17</td>\n",
       "      <td>None</td>\n",
       "      <td>None</td>\n",
       "      <td>T</td>\n",
       "      <td>2.0</td>\n",
       "      <td>1.0</td>\n",
       "      <td>other</td>\n",
       "      <td>other</td>\n",
       "      <td>course</td>\n",
       "      <td>mother</td>\n",
       "      <td>1.0</td>\n",
       "      <td>1.0</td>\n",
       "      <td>0.0</td>\n",
       "      <td>no</td>\n",
       "      <td>no</td>\n",
       "      <td>no</td>\n",
       "      <td>no</td>\n",
       "      <td>no</td>\n",
       "      <td>yes</td>\n",
       "      <td>yes</td>\n",
       "      <td>no</td>\n",
       "      <td>4.0</td>\n",
       "      <td>4.0</td>\n",
       "      <td>2.0</td>\n",
       "      <td>5.0</td>\n",
       "      <td>NaN</td>\n",
       "      <td>60.0</td>\n",
       "    </tr>\n",
       "    <tr>\n",
       "      <td>265</td>\n",
       "      <td>GP</td>\n",
       "      <td>M</td>\n",
       "      <td>18</td>\n",
       "      <td>R</td>\n",
       "      <td>LE3</td>\n",
       "      <td>None</td>\n",
       "      <td>3.0</td>\n",
       "      <td>4.0</td>\n",
       "      <td>None</td>\n",
       "      <td>other</td>\n",
       "      <td>reputation</td>\n",
       "      <td>mother</td>\n",
       "      <td>2.0</td>\n",
       "      <td>2.0</td>\n",
       "      <td>0.0</td>\n",
       "      <td>no</td>\n",
       "      <td>yes</td>\n",
       "      <td>yes</td>\n",
       "      <td>yes</td>\n",
       "      <td>yes</td>\n",
       "      <td>yes</td>\n",
       "      <td>yes</td>\n",
       "      <td>no</td>\n",
       "      <td>4.0</td>\n",
       "      <td>2.0</td>\n",
       "      <td>5.0</td>\n",
       "      <td>1.0</td>\n",
       "      <td>NaN</td>\n",
       "      <td>85.0</td>\n",
       "    </tr>\n",
       "    <tr>\n",
       "      <td>352</td>\n",
       "      <td>MS</td>\n",
       "      <td>M</td>\n",
       "      <td>18</td>\n",
       "      <td>U</td>\n",
       "      <td>LE3</td>\n",
       "      <td>T</td>\n",
       "      <td>1.0</td>\n",
       "      <td>3.0</td>\n",
       "      <td>at_home</td>\n",
       "      <td>services</td>\n",
       "      <td>course</td>\n",
       "      <td>mother</td>\n",
       "      <td>1.0</td>\n",
       "      <td>1.0</td>\n",
       "      <td>1.0</td>\n",
       "      <td>no</td>\n",
       "      <td>no</td>\n",
       "      <td>no</td>\n",
       "      <td>no</td>\n",
       "      <td>yes</td>\n",
       "      <td>no</td>\n",
       "      <td>yes</td>\n",
       "      <td>yes</td>\n",
       "      <td>4.0</td>\n",
       "      <td>3.0</td>\n",
       "      <td>3.0</td>\n",
       "      <td>3.0</td>\n",
       "      <td>NaN</td>\n",
       "      <td>40.0</td>\n",
       "    </tr>\n",
       "  </tbody>\n",
       "</table>\n",
       "</div>"
      ],
      "text/plain": [
       "    school sex  age address famsize Pstatus  Medu  Fedu      Mjob      Fjob  \\\n",
       "24      GP   F   15       R     GT3       T   2.0   4.0  services    health   \n",
       "101     GP   M   16       U     GT3       T   4.0   4.0  services   teacher   \n",
       "120     GP   F   15       U     GT3       T   1.0   2.0   at_home      None   \n",
       "129     GP   M   16       R    None       T   4.0   4.0   teacher   teacher   \n",
       "150     GP   M   18       U     LE3       T   1.0   1.0     other     other   \n",
       "172     GP   M   17       U    None       T   4.0   4.0   teacher     other   \n",
       "215     GP   F   17       U     LE3       T   3.0   2.0     other     other   \n",
       "227     GP   M   17       U     LE3    None   2.0   3.0  services  services   \n",
       "254     GP   M   17    None    None       T   2.0   1.0     other     other   \n",
       "265     GP   M   18       R     LE3    None   3.0   4.0      None     other   \n",
       "352     MS   M   18       U     LE3       T   1.0   3.0   at_home  services   \n",
       "\n",
       "         reason guardian  traveltime  studytime  failures schoolsup famsup  \\\n",
       "24       course   mother         1.0        3.0       0.0       yes    yes   \n",
       "101       other   father         1.0        3.0       0.0        no    yes   \n",
       "120      course   mother         1.0        2.0       0.0        no     no   \n",
       "129      course   mother         1.0        NaN       0.0        no     no   \n",
       "150      course   mother         1.0        1.0       3.0        no     no   \n",
       "172  reputation   mother         1.0        2.0       0.0        no    yes   \n",
       "215  reputation   mother         2.0        2.0       0.0        no     no   \n",
       "227  reputation   father         1.0        NaN       0.0        no    yes   \n",
       "254      course   mother         1.0        1.0       0.0        no     no   \n",
       "265  reputation   mother         2.0        2.0       0.0        no    yes   \n",
       "352      course   mother         1.0        1.0       1.0        no     no   \n",
       "\n",
       "     paid activities nursery higher internet romantic  famrel  freetime  \\\n",
       "24    yes        yes     yes    yes      yes       no     4.0       3.0   \n",
       "101    no        yes     yes    yes      yes      yes     4.0       4.0   \n",
       "120    no         no      no    yes      yes       no     3.0       2.0   \n",
       "129   yes        yes     yes    yes      yes       no     3.0       5.0   \n",
       "150    no         no     yes     no      yes      yes     2.0       3.0   \n",
       "172   yes        yes     yes    yes      yes       no     4.0       4.0   \n",
       "215  None         no     yes    yes     None       no     4.0       4.0   \n",
       "227   yes         no      no   None      yes       no     5.0       3.0   \n",
       "254    no         no      no    yes      yes       no     4.0       4.0   \n",
       "265   yes        yes     yes    yes      yes       no     4.0       2.0   \n",
       "352    no         no     yes     no      yes      yes     4.0       3.0   \n",
       "\n",
       "     goout  health  absences  score  \n",
       "24     2.0     5.0       NaN   40.0  \n",
       "101    3.0     4.0       NaN   85.0  \n",
       "120    3.0     1.0       NaN   75.0  \n",
       "129    5.0     4.0       NaN   90.0  \n",
       "150    5.0     4.0       NaN    0.0  \n",
       "172    4.0     5.0       NaN   50.0  \n",
       "215    4.0     1.0       NaN   75.0  \n",
       "227    3.0     3.0       NaN   60.0  \n",
       "254    2.0     5.0       NaN   60.0  \n",
       "265    5.0     1.0       NaN   85.0  \n",
       "352    3.0     3.0       NaN   40.0  "
      ]
     },
     "execution_count": 331,
     "metadata": {},
     "output_type": "execute_result"
    }
   ],
   "source": [
    "df[df.absences.isnull()]"
   ]
  },
  {
   "cell_type": "markdown",
   "metadata": {},
   "source": [
    "##### Заменим NaN на модовские значения с аналогичным баллом."
   ]
  },
  {
   "cell_type": "code",
   "execution_count": 332,
   "metadata": {},
   "outputs": [
    {
     "name": "stdout",
     "output_type": "stream",
     "text": [
      "24 nan  ->  0.0\n",
      "101 nan  ->  0.0\n",
      "120 nan  ->  0.0\n",
      "129 nan  ->  0.0\n",
      "150 nan  ->  0.0\n",
      "172 nan  ->  4.0\n",
      "215 nan  ->  0.0\n",
      "227 nan  ->  0.0\n",
      "254 nan  ->  0.0\n",
      "265 nan  ->  0.0\n",
      "352 nan  ->  0.0\n"
     ]
    }
   ],
   "source": [
    "mode_change(df, 'absences', 'score')"
   ]
  },
  {
   "cell_type": "code",
   "execution_count": 333,
   "metadata": {},
   "outputs": [
    {
     "data": {
      "text/html": [
       "<div>\n",
       "<style scoped>\n",
       "    .dataframe tbody tr th:only-of-type {\n",
       "        vertical-align: middle;\n",
       "    }\n",
       "\n",
       "    .dataframe tbody tr th {\n",
       "        vertical-align: top;\n",
       "    }\n",
       "\n",
       "    .dataframe thead th {\n",
       "        text-align: right;\n",
       "    }\n",
       "</style>\n",
       "<table border=\"1\" class=\"dataframe\">\n",
       "  <thead>\n",
       "    <tr style=\"text-align: right;\">\n",
       "      <th></th>\n",
       "      <th>school</th>\n",
       "      <th>sex</th>\n",
       "      <th>age</th>\n",
       "      <th>address</th>\n",
       "      <th>famsize</th>\n",
       "      <th>Pstatus</th>\n",
       "      <th>Medu</th>\n",
       "      <th>Fedu</th>\n",
       "      <th>Mjob</th>\n",
       "      <th>Fjob</th>\n",
       "      <th>reason</th>\n",
       "      <th>guardian</th>\n",
       "      <th>traveltime</th>\n",
       "      <th>studytime</th>\n",
       "      <th>failures</th>\n",
       "      <th>schoolsup</th>\n",
       "      <th>famsup</th>\n",
       "      <th>paid</th>\n",
       "      <th>activities</th>\n",
       "      <th>nursery</th>\n",
       "      <th>higher</th>\n",
       "      <th>internet</th>\n",
       "      <th>romantic</th>\n",
       "      <th>famrel</th>\n",
       "      <th>freetime</th>\n",
       "      <th>goout</th>\n",
       "      <th>health</th>\n",
       "      <th>absences</th>\n",
       "      <th>score</th>\n",
       "    </tr>\n",
       "  </thead>\n",
       "  <tbody>\n",
       "  </tbody>\n",
       "</table>\n",
       "</div>"
      ],
      "text/plain": [
       "Empty DataFrame\n",
       "Columns: [school, sex, age, address, famsize, Pstatus, Medu, Fedu, Mjob, Fjob, reason, guardian, traveltime, studytime, failures, schoolsup, famsup, paid, activities, nursery, higher, internet, romantic, famrel, freetime, goout, health, absences, score]\n",
       "Index: []"
      ]
     },
     "execution_count": 333,
     "metadata": {},
     "output_type": "execute_result"
    }
   ],
   "source": [
    "df[df.absences.isnull()]"
   ]
  },
  {
   "cell_type": "code",
   "execution_count": 334,
   "metadata": {},
   "outputs": [
    {
     "data": {
      "text/plain": [
       "<matplotlib.axes._subplots.AxesSubplot at 0x21f886b7c88>"
      ]
     },
     "execution_count": 334,
     "metadata": {},
     "output_type": "execute_result"
    },
    {
     "data": {
      "image/png": "[encoded data removed]",
      "text/plain": [
       "<Figure size 432x288 with 1 Axes>"
      ]
     },
     "metadata": {
      "needs_background": "light"
     },
     "output_type": "display_data"
    }
   ],
   "source": [
    "df.absences.hist()"
   ]
  },
  {
   "cell_type": "code",
   "execution_count": 335,
   "metadata": {},
   "outputs": [
    {
     "data": {
      "text/plain": [
       "['age', 'absences', 'score', 'failures']"
      ]
     },
     "execution_count": 335,
     "metadata": {},
     "output_type": "execute_result"
    }
   ],
   "source": [
    "num_columns"
   ]
  },
  {
   "cell_type": "markdown",
   "metadata": {},
   "source": [
    "### 3.2.3 'failures' - количество внеучебных неудач (n, если 1<=n<3, иначе 4)"
   ]
  },
  {
   "cell_type": "code",
   "execution_count": 336,
   "metadata": {},
   "outputs": [
    {
     "data": {
      "text/plain": [
       "<matplotlib.axes._subplots.AxesSubplot at 0x21f886eb908>"
      ]
     },
     "execution_count": 336,
     "metadata": {},
     "output_type": "execute_result"
    },
    {
     "data": {
      "image/png": "[encoded data removed]",
      "text/plain": [
       "<Figure size 432x288 with 1 Axes>"
      ]
     },
     "metadata": {
      "needs_background": "light"
     },
     "output_type": "display_data"
    }
   ],
   "source": [
    "df.failures.hist()"
   ]
  },
  {
   "cell_type": "code",
   "execution_count": 337,
   "metadata": {},
   "outputs": [
    {
     "data": {
      "text/plain": [
       "0.0    288\n",
       "1.0     48\n",
       "NaN     22\n",
       "2.0     14\n",
       "3.0     14\n",
       "Name: failures, dtype: int64"
      ]
     },
     "execution_count": 337,
     "metadata": {},
     "output_type": "execute_result"
    }
   ],
   "source": [
    "df.failures.value_counts(dropna = False)"
   ]
  },
  {
   "cell_type": "code",
   "execution_count": 338,
   "metadata": {},
   "outputs": [
    {
     "data": {
      "text/html": [
       "<div>\n",
       "<style scoped>\n",
       "    .dataframe tbody tr th:only-of-type {\n",
       "        vertical-align: middle;\n",
       "    }\n",
       "\n",
       "    .dataframe tbody tr th {\n",
       "        vertical-align: top;\n",
       "    }\n",
       "\n",
       "    .dataframe thead th {\n",
       "        text-align: right;\n",
       "    }\n",
       "</style>\n",
       "<table border=\"1\" class=\"dataframe\">\n",
       "  <thead>\n",
       "    <tr style=\"text-align: right;\">\n",
       "      <th></th>\n",
       "      <th>failures</th>\n",
       "      <th>absences</th>\n",
       "      <th>score</th>\n",
       "    </tr>\n",
       "  </thead>\n",
       "  <tbody>\n",
       "    <tr>\n",
       "      <td>21</td>\n",
       "      <td>NaN</td>\n",
       "      <td>0.0</td>\n",
       "      <td>75.0</td>\n",
       "    </tr>\n",
       "    <tr>\n",
       "      <td>48</td>\n",
       "      <td>NaN</td>\n",
       "      <td>2.0</td>\n",
       "      <td>70.0</td>\n",
       "    </tr>\n",
       "    <tr>\n",
       "      <td>54</td>\n",
       "      <td>NaN</td>\n",
       "      <td>6.0</td>\n",
       "      <td>65.0</td>\n",
       "    </tr>\n",
       "    <tr>\n",
       "      <td>68</td>\n",
       "      <td>NaN</td>\n",
       "      <td>2.0</td>\n",
       "      <td>40.0</td>\n",
       "    </tr>\n",
       "    <tr>\n",
       "      <td>91</td>\n",
       "      <td>NaN</td>\n",
       "      <td>4.0</td>\n",
       "      <td>90.0</td>\n",
       "    </tr>\n",
       "    <tr>\n",
       "      <td>107</td>\n",
       "      <td>NaN</td>\n",
       "      <td>2.0</td>\n",
       "      <td>90.0</td>\n",
       "    </tr>\n",
       "    <tr>\n",
       "      <td>108</td>\n",
       "      <td>NaN</td>\n",
       "      <td>6.0</td>\n",
       "      <td>65.0</td>\n",
       "    </tr>\n",
       "    <tr>\n",
       "      <td>114</td>\n",
       "      <td>NaN</td>\n",
       "      <td>8.0</td>\n",
       "      <td>45.0</td>\n",
       "    </tr>\n",
       "    <tr>\n",
       "      <td>115</td>\n",
       "      <td>NaN</td>\n",
       "      <td>2.0</td>\n",
       "      <td>80.0</td>\n",
       "    </tr>\n",
       "    <tr>\n",
       "      <td>125</td>\n",
       "      <td>NaN</td>\n",
       "      <td>0.0</td>\n",
       "      <td>60.0</td>\n",
       "    </tr>\n",
       "    <tr>\n",
       "      <td>153</td>\n",
       "      <td>NaN</td>\n",
       "      <td>0.0</td>\n",
       "      <td>0.0</td>\n",
       "    </tr>\n",
       "    <tr>\n",
       "      <td>158</td>\n",
       "      <td>NaN</td>\n",
       "      <td>2.0</td>\n",
       "      <td>75.0</td>\n",
       "    </tr>\n",
       "    <tr>\n",
       "      <td>170</td>\n",
       "      <td>NaN</td>\n",
       "      <td>0.0</td>\n",
       "      <td>0.0</td>\n",
       "    </tr>\n",
       "    <tr>\n",
       "      <td>171</td>\n",
       "      <td>NaN</td>\n",
       "      <td>2.0</td>\n",
       "      <td>80.0</td>\n",
       "    </tr>\n",
       "    <tr>\n",
       "      <td>204</td>\n",
       "      <td>NaN</td>\n",
       "      <td>6.0</td>\n",
       "      <td>55.0</td>\n",
       "    </tr>\n",
       "    <tr>\n",
       "      <td>214</td>\n",
       "      <td>NaN</td>\n",
       "      <td>12.0</td>\n",
       "      <td>50.0</td>\n",
       "    </tr>\n",
       "    <tr>\n",
       "      <td>236</td>\n",
       "      <td>NaN</td>\n",
       "      <td>4.0</td>\n",
       "      <td>65.0</td>\n",
       "    </tr>\n",
       "    <tr>\n",
       "      <td>261</td>\n",
       "      <td>NaN</td>\n",
       "      <td>2.0</td>\n",
       "      <td>40.0</td>\n",
       "    </tr>\n",
       "    <tr>\n",
       "      <td>280</td>\n",
       "      <td>NaN</td>\n",
       "      <td>30.0</td>\n",
       "      <td>40.0</td>\n",
       "    </tr>\n",
       "    <tr>\n",
       "      <td>313</td>\n",
       "      <td>NaN</td>\n",
       "      <td>22.0</td>\n",
       "      <td>55.0</td>\n",
       "    </tr>\n",
       "    <tr>\n",
       "      <td>320</td>\n",
       "      <td>NaN</td>\n",
       "      <td>23.0</td>\n",
       "      <td>65.0</td>\n",
       "    </tr>\n",
       "    <tr>\n",
       "      <td>344</td>\n",
       "      <td>NaN</td>\n",
       "      <td>4.0</td>\n",
       "      <td>50.0</td>\n",
       "    </tr>\n",
       "  </tbody>\n",
       "</table>\n",
       "</div>"
      ],
      "text/plain": [
       "     failures  absences  score\n",
       "21        NaN       0.0   75.0\n",
       "48        NaN       2.0   70.0\n",
       "54        NaN       6.0   65.0\n",
       "68        NaN       2.0   40.0\n",
       "91        NaN       4.0   90.0\n",
       "107       NaN       2.0   90.0\n",
       "108       NaN       6.0   65.0\n",
       "114       NaN       8.0   45.0\n",
       "115       NaN       2.0   80.0\n",
       "125       NaN       0.0   60.0\n",
       "153       NaN       0.0    0.0\n",
       "158       NaN       2.0   75.0\n",
       "170       NaN       0.0    0.0\n",
       "171       NaN       2.0   80.0\n",
       "204       NaN       6.0   55.0\n",
       "214       NaN      12.0   50.0\n",
       "236       NaN       4.0   65.0\n",
       "261       NaN       2.0   40.0\n",
       "280       NaN      30.0   40.0\n",
       "313       NaN      22.0   55.0\n",
       "320       NaN      23.0   65.0\n",
       "344       NaN       4.0   50.0"
      ]
     },
     "execution_count": 338,
     "metadata": {},
     "output_type": "execute_result"
    }
   ],
   "source": [
    "df[['failures','absences','score']][df.failures.isnull()]"
   ]
  },
  {
   "cell_type": "markdown",
   "metadata": {},
   "source": [
    "##### Заменим пропуски на модовский значения пропусков среди учеников с тем же балом"
   ]
  },
  {
   "cell_type": "code",
   "execution_count": 339,
   "metadata": {
    "scrolled": true
   },
   "outputs": [
    {
     "name": "stdout",
     "output_type": "stream",
     "text": [
      "21 nan  ->  0.0\n",
      "48 nan  ->  0.0\n",
      "54 nan  ->  0.0\n",
      "68 nan  ->  0.0\n",
      "91 nan  ->  0.0\n",
      "107 nan  ->  0.0\n",
      "108 nan  ->  0.0\n",
      "114 nan  ->  0.0\n",
      "115 nan  ->  0.0\n",
      "125 nan  ->  0.0\n",
      "153 nan  ->  0.0\n",
      "158 nan  ->  0.0\n",
      "170 nan  ->  0.0\n",
      "171 nan  ->  0.0\n",
      "204 nan  ->  0.0\n",
      "214 nan  ->  0.0\n",
      "236 nan  ->  0.0\n",
      "261 nan  ->  0.0\n",
      "280 nan  ->  0.0\n",
      "313 nan  ->  0.0\n",
      "320 nan  ->  0.0\n",
      "344 nan  ->  0.0\n"
     ]
    }
   ],
   "source": [
    "mode_change(df, 'failures', 'score')"
   ]
  },
  {
   "cell_type": "code",
   "execution_count": 340,
   "metadata": {
    "scrolled": true
   },
   "outputs": [
    {
     "data": {
      "text/plain": [
       "0.0    310\n",
       "1.0     48\n",
       "2.0     14\n",
       "3.0     14\n",
       "Name: failures, dtype: int64"
      ]
     },
     "execution_count": 340,
     "metadata": {},
     "output_type": "execute_result"
    }
   ],
   "source": [
    "df.failures.value_counts(dropna = False)"
   ]
  },
  {
   "cell_type": "code",
   "execution_count": 341,
   "metadata": {},
   "outputs": [
    {
     "data": {
      "text/plain": [
       "<matplotlib.axes._subplots.AxesSubplot at 0x21f887e6588>"
      ]
     },
     "execution_count": 341,
     "metadata": {},
     "output_type": "execute_result"
    },
    {
     "data": {
      "image/png": "[encoded data removed]",
      "text/plain": [
       "<Figure size 432x288 with 1 Axes>"
      ]
     },
     "metadata": {
      "needs_background": "light"
     },
     "output_type": "display_data"
    }
   ],
   "source": [
    "df.failures.hist()"
   ]
  },
  {
   "cell_type": "markdown",
   "metadata": {},
   "source": [
    "### 3.2.4 'score' -  баллы по госэкзамену по математике"
   ]
  },
  {
   "cell_type": "code",
   "execution_count": 342,
   "metadata": {},
   "outputs": [
    {
     "data": {
      "text/html": [
       "<div>\n",
       "<style scoped>\n",
       "    .dataframe tbody tr th:only-of-type {\n",
       "        vertical-align: middle;\n",
       "    }\n",
       "\n",
       "    .dataframe tbody tr th {\n",
       "        vertical-align: top;\n",
       "    }\n",
       "\n",
       "    .dataframe thead th {\n",
       "        text-align: right;\n",
       "    }\n",
       "</style>\n",
       "<table border=\"1\" class=\"dataframe\">\n",
       "  <thead>\n",
       "    <tr style=\"text-align: right;\">\n",
       "      <th></th>\n",
       "      <th>school</th>\n",
       "      <th>sex</th>\n",
       "      <th>age</th>\n",
       "      <th>address</th>\n",
       "      <th>famsize</th>\n",
       "      <th>Pstatus</th>\n",
       "      <th>Medu</th>\n",
       "      <th>Fedu</th>\n",
       "      <th>Mjob</th>\n",
       "      <th>Fjob</th>\n",
       "      <th>reason</th>\n",
       "      <th>guardian</th>\n",
       "      <th>traveltime</th>\n",
       "      <th>studytime</th>\n",
       "      <th>failures</th>\n",
       "      <th>schoolsup</th>\n",
       "      <th>famsup</th>\n",
       "      <th>paid</th>\n",
       "      <th>activities</th>\n",
       "      <th>nursery</th>\n",
       "      <th>higher</th>\n",
       "      <th>internet</th>\n",
       "      <th>romantic</th>\n",
       "      <th>famrel</th>\n",
       "      <th>freetime</th>\n",
       "      <th>goout</th>\n",
       "      <th>health</th>\n",
       "      <th>absences</th>\n",
       "      <th>score</th>\n",
       "    </tr>\n",
       "  </thead>\n",
       "  <tbody>\n",
       "  </tbody>\n",
       "</table>\n",
       "</div>"
      ],
      "text/plain": [
       "Empty DataFrame\n",
       "Columns: [school, sex, age, address, famsize, Pstatus, Medu, Fedu, Mjob, Fjob, reason, guardian, traveltime, studytime, failures, schoolsup, famsup, paid, activities, nursery, higher, internet, romantic, famrel, freetime, goout, health, absences, score]\n",
       "Index: []"
      ]
     },
     "execution_count": 342,
     "metadata": {},
     "output_type": "execute_result"
    }
   ],
   "source": [
    "df[df.score.isnull()]"
   ]
  },
  {
   "cell_type": "code",
   "execution_count": 343,
   "metadata": {},
   "outputs": [
    {
     "data": {
      "text/plain": [
       "<matplotlib.axes._subplots.AxesSubplot at 0x21f887fb7c8>"
      ]
     },
     "execution_count": 343,
     "metadata": {},
     "output_type": "execute_result"
    },
    {
     "data": {
      "image/png": "[encoded data removed]",
      "text/plain": [
       "<Figure size 432x288 with 1 Axes>"
      ]
     },
     "metadata": {
      "needs_background": "light"
     },
     "output_type": "display_data"
    }
   ],
   "source": [
    "df.score.hist(bins = 20)"
   ]
  },
  {
   "cell_type": "code",
   "execution_count": 344,
   "metadata": {},
   "outputs": [
    {
     "data": {
      "text/plain": [
       "count    386.000000\n",
       "mean      52.215026\n",
       "std       22.941549\n",
       "min        0.000000\n",
       "25%       40.000000\n",
       "50%       55.000000\n",
       "75%       70.000000\n",
       "max      100.000000\n",
       "Name: score, dtype: float64"
      ]
     },
     "execution_count": 344,
     "metadata": {},
     "output_type": "execute_result"
    }
   ],
   "source": [
    "df.score.describe()"
   ]
  },
  {
   "cell_type": "markdown",
   "metadata": {},
   "source": [
    "##### Ученики, которые получили 0 баллов за экзамен явно выделяются на фоне остальных учеников. Те кто получил 0 баллов, скорее всего не сдавали экзамен по каким-то причинам. "
   ]
  },
  {
   "cell_type": "markdown",
   "metadata": {},
   "source": [
    "##### Диапазон значений в ожидаемых пределах (от 0 до 100). Пропуски мы удалили ранее"
   ]
  },
  {
   "cell_type": "code",
   "execution_count": 345,
   "metadata": {},
   "outputs": [
    {
     "data": {
      "text/html": [
       "<div>\n",
       "<style scoped>\n",
       "    .dataframe tbody tr th:only-of-type {\n",
       "        vertical-align: middle;\n",
       "    }\n",
       "\n",
       "    .dataframe tbody tr th {\n",
       "        vertical-align: top;\n",
       "    }\n",
       "\n",
       "    .dataframe thead th {\n",
       "        text-align: right;\n",
       "    }\n",
       "</style>\n",
       "<table border=\"1\" class=\"dataframe\">\n",
       "  <thead>\n",
       "    <tr style=\"text-align: right;\">\n",
       "      <th></th>\n",
       "      <th>age</th>\n",
       "      <th>absences</th>\n",
       "      <th>score</th>\n",
       "      <th>failures</th>\n",
       "    </tr>\n",
       "  </thead>\n",
       "  <tbody>\n",
       "    <tr>\n",
       "      <td>age</td>\n",
       "      <td>1.000000</td>\n",
       "      <td>0.161288</td>\n",
       "      <td>-0.152866</td>\n",
       "      <td>0.194331</td>\n",
       "    </tr>\n",
       "    <tr>\n",
       "      <td>absences</td>\n",
       "      <td>0.161288</td>\n",
       "      <td>1.000000</td>\n",
       "      <td>0.034301</td>\n",
       "      <td>0.077257</td>\n",
       "    </tr>\n",
       "    <tr>\n",
       "      <td>score</td>\n",
       "      <td>-0.152866</td>\n",
       "      <td>0.034301</td>\n",
       "      <td>1.000000</td>\n",
       "      <td>-0.337613</td>\n",
       "    </tr>\n",
       "    <tr>\n",
       "      <td>failures</td>\n",
       "      <td>0.194331</td>\n",
       "      <td>0.077257</td>\n",
       "      <td>-0.337613</td>\n",
       "      <td>1.000000</td>\n",
       "    </tr>\n",
       "  </tbody>\n",
       "</table>\n",
       "</div>"
      ],
      "text/plain": [
       "               age  absences     score  failures\n",
       "age       1.000000  0.161288 -0.152866  0.194331\n",
       "absences  0.161288  1.000000  0.034301  0.077257\n",
       "score    -0.152866  0.034301  1.000000 -0.337613\n",
       "failures  0.194331  0.077257 -0.337613  1.000000"
      ]
     },
     "execution_count": 345,
     "metadata": {},
     "output_type": "execute_result"
    }
   ],
   "source": [
    "df[num_columns].corr()"
   ]
  },
  {
   "cell_type": "markdown",
   "metadata": {},
   "source": [
    "##### Полностью скоррелированных данных среди количественных параметров нет."
   ]
  },
  {
   "cell_type": "markdown",
   "metadata": {},
   "source": [
    "# 4. Рассмотрим номинативные данные"
   ]
  },
  {
   "cell_type": "code",
   "execution_count": 346,
   "metadata": {},
   "outputs": [
    {
     "data": {
      "text/html": [
       "<div>\n",
       "<style scoped>\n",
       "    .dataframe tbody tr th:only-of-type {\n",
       "        vertical-align: middle;\n",
       "    }\n",
       "\n",
       "    .dataframe tbody tr th {\n",
       "        vertical-align: top;\n",
       "    }\n",
       "\n",
       "    .dataframe thead th {\n",
       "        text-align: right;\n",
       "    }\n",
       "</style>\n",
       "<table border=\"1\" class=\"dataframe\">\n",
       "  <thead>\n",
       "    <tr style=\"text-align: right;\">\n",
       "      <th></th>\n",
       "      <th>sex</th>\n",
       "      <th>romantic</th>\n",
       "      <th>school</th>\n",
       "      <th>higher</th>\n",
       "      <th>guardian</th>\n",
       "      <th>goout</th>\n",
       "      <th>famsize</th>\n",
       "      <th>address</th>\n",
       "      <th>Medu</th>\n",
       "      <th>internet</th>\n",
       "      <th>Fjob</th>\n",
       "      <th>health</th>\n",
       "      <th>freetime</th>\n",
       "      <th>Fedu</th>\n",
       "      <th>activities</th>\n",
       "      <th>schoolsup</th>\n",
       "      <th>Mjob</th>\n",
       "      <th>studytime</th>\n",
       "      <th>famsup</th>\n",
       "      <th>traveltime</th>\n",
       "      <th>reason</th>\n",
       "      <th>famrel</th>\n",
       "      <th>paid</th>\n",
       "      <th>nursery</th>\n",
       "      <th>Pstatus</th>\n",
       "    </tr>\n",
       "  </thead>\n",
       "  <tbody>\n",
       "    <tr>\n",
       "      <td>0</td>\n",
       "      <td>F</td>\n",
       "      <td>no</td>\n",
       "      <td>GP</td>\n",
       "      <td>yes</td>\n",
       "      <td>mother</td>\n",
       "      <td>4.0</td>\n",
       "      <td>None</td>\n",
       "      <td>U</td>\n",
       "      <td>4.0</td>\n",
       "      <td>None</td>\n",
       "      <td>teacher</td>\n",
       "      <td>3.0</td>\n",
       "      <td>3.0</td>\n",
       "      <td>4.0</td>\n",
       "      <td>no</td>\n",
       "      <td>yes</td>\n",
       "      <td>at_home</td>\n",
       "      <td>2.0</td>\n",
       "      <td>no</td>\n",
       "      <td>2.0</td>\n",
       "      <td>course</td>\n",
       "      <td>4.0</td>\n",
       "      <td>no</td>\n",
       "      <td>yes</td>\n",
       "      <td>A</td>\n",
       "    </tr>\n",
       "    <tr>\n",
       "      <td>1</td>\n",
       "      <td>F</td>\n",
       "      <td>no</td>\n",
       "      <td>GP</td>\n",
       "      <td>yes</td>\n",
       "      <td>father</td>\n",
       "      <td>3.0</td>\n",
       "      <td>GT3</td>\n",
       "      <td>U</td>\n",
       "      <td>1.0</td>\n",
       "      <td>yes</td>\n",
       "      <td>other</td>\n",
       "      <td>3.0</td>\n",
       "      <td>3.0</td>\n",
       "      <td>1.0</td>\n",
       "      <td>no</td>\n",
       "      <td>no</td>\n",
       "      <td>at_home</td>\n",
       "      <td>2.0</td>\n",
       "      <td>yes</td>\n",
       "      <td>1.0</td>\n",
       "      <td>course</td>\n",
       "      <td>5.0</td>\n",
       "      <td>no</td>\n",
       "      <td>no</td>\n",
       "      <td>None</td>\n",
       "    </tr>\n",
       "    <tr>\n",
       "      <td>2</td>\n",
       "      <td>F</td>\n",
       "      <td>None</td>\n",
       "      <td>GP</td>\n",
       "      <td>yes</td>\n",
       "      <td>mother</td>\n",
       "      <td>2.0</td>\n",
       "      <td>LE3</td>\n",
       "      <td>U</td>\n",
       "      <td>1.0</td>\n",
       "      <td>yes</td>\n",
       "      <td>other</td>\n",
       "      <td>3.0</td>\n",
       "      <td>3.0</td>\n",
       "      <td>1.0</td>\n",
       "      <td>no</td>\n",
       "      <td>yes</td>\n",
       "      <td>at_home</td>\n",
       "      <td>2.0</td>\n",
       "      <td>no</td>\n",
       "      <td>1.0</td>\n",
       "      <td>other</td>\n",
       "      <td>4.0</td>\n",
       "      <td>None</td>\n",
       "      <td>yes</td>\n",
       "      <td>T</td>\n",
       "    </tr>\n",
       "    <tr>\n",
       "      <td>3</td>\n",
       "      <td>F</td>\n",
       "      <td>yes</td>\n",
       "      <td>GP</td>\n",
       "      <td>yes</td>\n",
       "      <td>mother</td>\n",
       "      <td>2.0</td>\n",
       "      <td>GT3</td>\n",
       "      <td>U</td>\n",
       "      <td>4.0</td>\n",
       "      <td>yes</td>\n",
       "      <td>None</td>\n",
       "      <td>5.0</td>\n",
       "      <td>2.0</td>\n",
       "      <td>2.0</td>\n",
       "      <td>yes</td>\n",
       "      <td>no</td>\n",
       "      <td>health</td>\n",
       "      <td>3.0</td>\n",
       "      <td>yes</td>\n",
       "      <td>1.0</td>\n",
       "      <td>home</td>\n",
       "      <td>3.0</td>\n",
       "      <td>yes</td>\n",
       "      <td>yes</td>\n",
       "      <td>T</td>\n",
       "    </tr>\n",
       "    <tr>\n",
       "      <td>4</td>\n",
       "      <td>F</td>\n",
       "      <td>no</td>\n",
       "      <td>GP</td>\n",
       "      <td>yes</td>\n",
       "      <td>father</td>\n",
       "      <td>2.0</td>\n",
       "      <td>GT3</td>\n",
       "      <td>U</td>\n",
       "      <td>3.0</td>\n",
       "      <td>no</td>\n",
       "      <td>other</td>\n",
       "      <td>5.0</td>\n",
       "      <td>3.0</td>\n",
       "      <td>3.0</td>\n",
       "      <td>no</td>\n",
       "      <td>no</td>\n",
       "      <td>other</td>\n",
       "      <td>2.0</td>\n",
       "      <td>yes</td>\n",
       "      <td>1.0</td>\n",
       "      <td>home</td>\n",
       "      <td>4.0</td>\n",
       "      <td>yes</td>\n",
       "      <td>yes</td>\n",
       "      <td>T</td>\n",
       "    </tr>\n",
       "    <tr>\n",
       "      <td>...</td>\n",
       "      <td>...</td>\n",
       "      <td>...</td>\n",
       "      <td>...</td>\n",
       "      <td>...</td>\n",
       "      <td>...</td>\n",
       "      <td>...</td>\n",
       "      <td>...</td>\n",
       "      <td>...</td>\n",
       "      <td>...</td>\n",
       "      <td>...</td>\n",
       "      <td>...</td>\n",
       "      <td>...</td>\n",
       "      <td>...</td>\n",
       "      <td>...</td>\n",
       "      <td>...</td>\n",
       "      <td>...</td>\n",
       "      <td>...</td>\n",
       "      <td>...</td>\n",
       "      <td>...</td>\n",
       "      <td>...</td>\n",
       "      <td>...</td>\n",
       "      <td>...</td>\n",
       "      <td>...</td>\n",
       "      <td>...</td>\n",
       "      <td>...</td>\n",
       "    </tr>\n",
       "    <tr>\n",
       "      <td>389</td>\n",
       "      <td>F</td>\n",
       "      <td>no</td>\n",
       "      <td>MS</td>\n",
       "      <td>yes</td>\n",
       "      <td>mother</td>\n",
       "      <td>1.0</td>\n",
       "      <td>GT3</td>\n",
       "      <td>U</td>\n",
       "      <td>1.0</td>\n",
       "      <td>None</td>\n",
       "      <td>other</td>\n",
       "      <td>5.0</td>\n",
       "      <td>1.0</td>\n",
       "      <td>1.0</td>\n",
       "      <td>yes</td>\n",
       "      <td>no</td>\n",
       "      <td>other</td>\n",
       "      <td>2.0</td>\n",
       "      <td>no</td>\n",
       "      <td>NaN</td>\n",
       "      <td>course</td>\n",
       "      <td>1.0</td>\n",
       "      <td>no</td>\n",
       "      <td>yes</td>\n",
       "      <td>T</td>\n",
       "    </tr>\n",
       "    <tr>\n",
       "      <td>391</td>\n",
       "      <td>M</td>\n",
       "      <td>no</td>\n",
       "      <td>MS</td>\n",
       "      <td>yes</td>\n",
       "      <td>mother</td>\n",
       "      <td>5.0</td>\n",
       "      <td>LE3</td>\n",
       "      <td>U</td>\n",
       "      <td>3.0</td>\n",
       "      <td>yes</td>\n",
       "      <td>services</td>\n",
       "      <td>2.0</td>\n",
       "      <td>4.0</td>\n",
       "      <td>1.0</td>\n",
       "      <td>no</td>\n",
       "      <td>no</td>\n",
       "      <td>services</td>\n",
       "      <td>1.0</td>\n",
       "      <td>no</td>\n",
       "      <td>2.0</td>\n",
       "      <td>course</td>\n",
       "      <td>2.0</td>\n",
       "      <td>no</td>\n",
       "      <td>no</td>\n",
       "      <td>T</td>\n",
       "    </tr>\n",
       "    <tr>\n",
       "      <td>392</td>\n",
       "      <td>M</td>\n",
       "      <td>no</td>\n",
       "      <td>MS</td>\n",
       "      <td>None</td>\n",
       "      <td>None</td>\n",
       "      <td>3.0</td>\n",
       "      <td>GT3</td>\n",
       "      <td>R</td>\n",
       "      <td>1.0</td>\n",
       "      <td>no</td>\n",
       "      <td>other</td>\n",
       "      <td>3.0</td>\n",
       "      <td>5.0</td>\n",
       "      <td>1.0</td>\n",
       "      <td>no</td>\n",
       "      <td>None</td>\n",
       "      <td>other</td>\n",
       "      <td>1.0</td>\n",
       "      <td>no</td>\n",
       "      <td>1.0</td>\n",
       "      <td>course</td>\n",
       "      <td>5.0</td>\n",
       "      <td>no</td>\n",
       "      <td>no</td>\n",
       "      <td>T</td>\n",
       "    </tr>\n",
       "    <tr>\n",
       "      <td>393</td>\n",
       "      <td>M</td>\n",
       "      <td>no</td>\n",
       "      <td>MS</td>\n",
       "      <td>yes</td>\n",
       "      <td>mother</td>\n",
       "      <td>1.0</td>\n",
       "      <td>LE3</td>\n",
       "      <td>R</td>\n",
       "      <td>3.0</td>\n",
       "      <td>yes</td>\n",
       "      <td>other</td>\n",
       "      <td>5.0</td>\n",
       "      <td>4.0</td>\n",
       "      <td>2.0</td>\n",
       "      <td>None</td>\n",
       "      <td>no</td>\n",
       "      <td>services</td>\n",
       "      <td>1.0</td>\n",
       "      <td>no</td>\n",
       "      <td>3.0</td>\n",
       "      <td>course</td>\n",
       "      <td>4.0</td>\n",
       "      <td>no</td>\n",
       "      <td>no</td>\n",
       "      <td>T</td>\n",
       "    </tr>\n",
       "    <tr>\n",
       "      <td>394</td>\n",
       "      <td>M</td>\n",
       "      <td>no</td>\n",
       "      <td>MS</td>\n",
       "      <td>yes</td>\n",
       "      <td>father</td>\n",
       "      <td>3.0</td>\n",
       "      <td>LE3</td>\n",
       "      <td>U</td>\n",
       "      <td>1.0</td>\n",
       "      <td>yes</td>\n",
       "      <td>at_home</td>\n",
       "      <td>5.0</td>\n",
       "      <td>2.0</td>\n",
       "      <td>1.0</td>\n",
       "      <td>no</td>\n",
       "      <td>None</td>\n",
       "      <td>other</td>\n",
       "      <td>1.0</td>\n",
       "      <td>no</td>\n",
       "      <td>1.0</td>\n",
       "      <td>None</td>\n",
       "      <td>3.0</td>\n",
       "      <td>no</td>\n",
       "      <td>yes</td>\n",
       "      <td>T</td>\n",
       "    </tr>\n",
       "  </tbody>\n",
       "</table>\n",
       "<p>386 rows × 25 columns</p>\n",
       "</div>"
      ],
      "text/plain": [
       "    sex romantic school higher guardian  goout famsize address  Medu internet  \\\n",
       "0     F       no     GP    yes   mother    4.0    None       U   4.0     None   \n",
       "1     F       no     GP    yes   father    3.0     GT3       U   1.0      yes   \n",
       "2     F     None     GP    yes   mother    2.0     LE3       U   1.0      yes   \n",
       "3     F      yes     GP    yes   mother    2.0     GT3       U   4.0      yes   \n",
       "4     F       no     GP    yes   father    2.0     GT3       U   3.0       no   \n",
       "..   ..      ...    ...    ...      ...    ...     ...     ...   ...      ...   \n",
       "389   F       no     MS    yes   mother    1.0     GT3       U   1.0     None   \n",
       "391   M       no     MS    yes   mother    5.0     LE3       U   3.0      yes   \n",
       "392   M       no     MS   None     None    3.0     GT3       R   1.0       no   \n",
       "393   M       no     MS    yes   mother    1.0     LE3       R   3.0      yes   \n",
       "394   M       no     MS    yes   father    3.0     LE3       U   1.0      yes   \n",
       "\n",
       "         Fjob  health  freetime  Fedu activities schoolsup      Mjob  \\\n",
       "0     teacher     3.0       3.0   4.0         no       yes   at_home   \n",
       "1       other     3.0       3.0   1.0         no        no   at_home   \n",
       "2       other     3.0       3.0   1.0         no       yes   at_home   \n",
       "3        None     5.0       2.0   2.0        yes        no    health   \n",
       "4       other     5.0       3.0   3.0         no        no     other   \n",
       "..        ...     ...       ...   ...        ...       ...       ...   \n",
       "389     other     5.0       1.0   1.0        yes        no     other   \n",
       "391  services     2.0       4.0   1.0         no        no  services   \n",
       "392     other     3.0       5.0   1.0         no      None     other   \n",
       "393     other     5.0       4.0   2.0       None        no  services   \n",
       "394   at_home     5.0       2.0   1.0         no      None     other   \n",
       "\n",
       "     studytime famsup  traveltime  reason  famrel  paid nursery Pstatus  \n",
       "0          2.0     no         2.0  course     4.0    no     yes       A  \n",
       "1          2.0    yes         1.0  course     5.0    no      no    None  \n",
       "2          2.0     no         1.0   other     4.0  None     yes       T  \n",
       "3          3.0    yes         1.0    home     3.0   yes     yes       T  \n",
       "4          2.0    yes         1.0    home     4.0   yes     yes       T  \n",
       "..         ...    ...         ...     ...     ...   ...     ...     ...  \n",
       "389        2.0     no         NaN  course     1.0    no     yes       T  \n",
       "391        1.0     no         2.0  course     2.0    no      no       T  \n",
       "392        1.0     no         1.0  course     5.0    no      no       T  \n",
       "393        1.0     no         3.0  course     4.0    no      no       T  \n",
       "394        1.0     no         1.0    None     3.0    no     yes       T  \n",
       "\n",
       "[386 rows x 25 columns]"
      ]
     },
     "execution_count": 346,
     "metadata": {},
     "output_type": "execute_result"
    }
   ],
   "source": [
    "df[nonn_columns]"
   ]
  },
  {
   "cell_type": "markdown",
   "metadata": {},
   "source": [
    "##### Выполним первичную проверку Стьюденда"
   ]
  },
  {
   "cell_type": "code",
   "execution_count": 347,
   "metadata": {},
   "outputs": [
    {
     "name": "stdout",
     "output_type": "stream",
     "text": [
      "Походу столбец  score  взаимосвязан со столбцом  sex\n",
      "Походу столбец  score  взаимосвязан со столбцом  romantic\n",
      "Походу столбец  score  взаимосвязан со столбцом  higher\n",
      "Походу столбец  score  взаимосвязан со столбцом  goout\n",
      "Походу столбец  score  взаимосвязан со столбцом  address\n",
      "Походу столбец  score  взаимосвязан со столбцом  Medu\n",
      "Походу столбец  score  взаимосвязан со столбцом  Mjob\n"
     ]
    }
   ],
   "source": [
    "for col in nonn_columns:\n",
    "    get_stat_dif(col,'score')\n",
    "    "
   ]
  },
  {
   "cell_type": "code",
   "execution_count": 350,
   "metadata": {},
   "outputs": [
    {
     "name": "stdout",
     "output_type": "stream",
     "text": [
      "Походу столбец  score  взаимосвязан со столбцом  Medu\n",
      "Походу столбец  score  взаимосвязан со столбцом  goout\n"
     ]
    }
   ],
   "source": [
    "for col in rank_columns:\n",
    "    get_stat_dif(col,'score')"
   ]
  },
  {
   "cell_type": "markdown",
   "metadata": {},
   "source": [
    "##### Посмотрим на корреляци колличественных и ранговых параметров"
   ]
  },
  {
   "cell_type": "code",
   "execution_count": 351,
   "metadata": {},
   "outputs": [
    {
     "data": {
      "text/html": [
       "<div>\n",
       "<style scoped>\n",
       "    .dataframe tbody tr th:only-of-type {\n",
       "        vertical-align: middle;\n",
       "    }\n",
       "\n",
       "    .dataframe tbody tr th {\n",
       "        vertical-align: top;\n",
       "    }\n",
       "\n",
       "    .dataframe thead th {\n",
       "        text-align: right;\n",
       "    }\n",
       "</style>\n",
       "<table border=\"1\" class=\"dataframe\">\n",
       "  <thead>\n",
       "    <tr style=\"text-align: right;\">\n",
       "      <th></th>\n",
       "      <th>age</th>\n",
       "      <th>absences</th>\n",
       "      <th>score</th>\n",
       "      <th>failures</th>\n",
       "      <th>Medu</th>\n",
       "      <th>Fedu</th>\n",
       "      <th>traveltime</th>\n",
       "      <th>studytime</th>\n",
       "      <th>famrel</th>\n",
       "      <th>freetime</th>\n",
       "      <th>goout</th>\n",
       "      <th>health</th>\n",
       "    </tr>\n",
       "  </thead>\n",
       "  <tbody>\n",
       "    <tr>\n",
       "      <td>age</td>\n",
       "      <td>1.000000</td>\n",
       "      <td>0.161288</td>\n",
       "      <td>-0.152866</td>\n",
       "      <td>0.194331</td>\n",
       "      <td>-0.145246</td>\n",
       "      <td>-0.130636</td>\n",
       "      <td>0.075437</td>\n",
       "      <td>-0.018066</td>\n",
       "      <td>0.049916</td>\n",
       "      <td>0.009784</td>\n",
       "      <td>0.120651</td>\n",
       "      <td>-0.074919</td>\n",
       "    </tr>\n",
       "    <tr>\n",
       "      <td>absences</td>\n",
       "      <td>0.161288</td>\n",
       "      <td>1.000000</td>\n",
       "      <td>0.034301</td>\n",
       "      <td>0.077257</td>\n",
       "      <td>0.107271</td>\n",
       "      <td>0.014838</td>\n",
       "      <td>-0.028904</td>\n",
       "      <td>-0.067890</td>\n",
       "      <td>-0.051014</td>\n",
       "      <td>-0.016713</td>\n",
       "      <td>0.081597</td>\n",
       "      <td>-0.043981</td>\n",
       "    </tr>\n",
       "    <tr>\n",
       "      <td>score</td>\n",
       "      <td>-0.152866</td>\n",
       "      <td>0.034301</td>\n",
       "      <td>1.000000</td>\n",
       "      <td>-0.337613</td>\n",
       "      <td>0.216458</td>\n",
       "      <td>0.077687</td>\n",
       "      <td>-0.068226</td>\n",
       "      <td>0.116182</td>\n",
       "      <td>0.067082</td>\n",
       "      <td>0.019789</td>\n",
       "      <td>-0.125199</td>\n",
       "      <td>-0.068139</td>\n",
       "    </tr>\n",
       "    <tr>\n",
       "      <td>failures</td>\n",
       "      <td>0.194331</td>\n",
       "      <td>0.077257</td>\n",
       "      <td>-0.337613</td>\n",
       "      <td>1.000000</td>\n",
       "      <td>-0.238579</td>\n",
       "      <td>-0.148524</td>\n",
       "      <td>0.047989</td>\n",
       "      <td>-0.172130</td>\n",
       "      <td>-0.053118</td>\n",
       "      <td>0.075215</td>\n",
       "      <td>0.093364</td>\n",
       "      <td>0.084553</td>\n",
       "    </tr>\n",
       "    <tr>\n",
       "      <td>Medu</td>\n",
       "      <td>-0.145246</td>\n",
       "      <td>0.107271</td>\n",
       "      <td>0.216458</td>\n",
       "      <td>-0.238579</td>\n",
       "      <td>1.000000</td>\n",
       "      <td>0.271146</td>\n",
       "      <td>-0.169416</td>\n",
       "      <td>0.080995</td>\n",
       "      <td>-0.001229</td>\n",
       "      <td>0.043003</td>\n",
       "      <td>0.072202</td>\n",
       "      <td>-0.049122</td>\n",
       "    </tr>\n",
       "    <tr>\n",
       "      <td>Fedu</td>\n",
       "      <td>-0.130636</td>\n",
       "      <td>0.014838</td>\n",
       "      <td>0.077687</td>\n",
       "      <td>-0.148524</td>\n",
       "      <td>0.271146</td>\n",
       "      <td>1.000000</td>\n",
       "      <td>0.039490</td>\n",
       "      <td>0.059597</td>\n",
       "      <td>0.047920</td>\n",
       "      <td>-0.063359</td>\n",
       "      <td>-0.019521</td>\n",
       "      <td>0.026247</td>\n",
       "    </tr>\n",
       "    <tr>\n",
       "      <td>traveltime</td>\n",
       "      <td>0.075437</td>\n",
       "      <td>-0.028904</td>\n",
       "      <td>-0.068226</td>\n",
       "      <td>0.047989</td>\n",
       "      <td>-0.169416</td>\n",
       "      <td>0.039490</td>\n",
       "      <td>1.000000</td>\n",
       "      <td>-0.106190</td>\n",
       "      <td>-0.029468</td>\n",
       "      <td>-0.018472</td>\n",
       "      <td>0.035386</td>\n",
       "      <td>-0.014279</td>\n",
       "    </tr>\n",
       "    <tr>\n",
       "      <td>studytime</td>\n",
       "      <td>-0.018066</td>\n",
       "      <td>-0.067890</td>\n",
       "      <td>0.116182</td>\n",
       "      <td>-0.172130</td>\n",
       "      <td>0.080995</td>\n",
       "      <td>0.059597</td>\n",
       "      <td>-0.106190</td>\n",
       "      <td>1.000000</td>\n",
       "      <td>0.046498</td>\n",
       "      <td>-0.126573</td>\n",
       "      <td>-0.054699</td>\n",
       "      <td>-0.079237</td>\n",
       "    </tr>\n",
       "    <tr>\n",
       "      <td>famrel</td>\n",
       "      <td>0.049916</td>\n",
       "      <td>-0.051014</td>\n",
       "      <td>0.067082</td>\n",
       "      <td>-0.053118</td>\n",
       "      <td>-0.001229</td>\n",
       "      <td>0.047920</td>\n",
       "      <td>-0.029468</td>\n",
       "      <td>0.046498</td>\n",
       "      <td>1.000000</td>\n",
       "      <td>0.169244</td>\n",
       "      <td>0.063589</td>\n",
       "      <td>0.077436</td>\n",
       "    </tr>\n",
       "    <tr>\n",
       "      <td>freetime</td>\n",
       "      <td>0.009784</td>\n",
       "      <td>-0.016713</td>\n",
       "      <td>0.019789</td>\n",
       "      <td>0.075215</td>\n",
       "      <td>0.043003</td>\n",
       "      <td>-0.063359</td>\n",
       "      <td>-0.018472</td>\n",
       "      <td>-0.126573</td>\n",
       "      <td>0.169244</td>\n",
       "      <td>1.000000</td>\n",
       "      <td>0.286124</td>\n",
       "      <td>0.069828</td>\n",
       "    </tr>\n",
       "    <tr>\n",
       "      <td>goout</td>\n",
       "      <td>0.120651</td>\n",
       "      <td>0.081597</td>\n",
       "      <td>-0.125199</td>\n",
       "      <td>0.093364</td>\n",
       "      <td>0.072202</td>\n",
       "      <td>-0.019521</td>\n",
       "      <td>0.035386</td>\n",
       "      <td>-0.054699</td>\n",
       "      <td>0.063589</td>\n",
       "      <td>0.286124</td>\n",
       "      <td>1.000000</td>\n",
       "      <td>-0.015529</td>\n",
       "    </tr>\n",
       "    <tr>\n",
       "      <td>health</td>\n",
       "      <td>-0.074919</td>\n",
       "      <td>-0.043981</td>\n",
       "      <td>-0.068139</td>\n",
       "      <td>0.084553</td>\n",
       "      <td>-0.049122</td>\n",
       "      <td>0.026247</td>\n",
       "      <td>-0.014279</td>\n",
       "      <td>-0.079237</td>\n",
       "      <td>0.077436</td>\n",
       "      <td>0.069828</td>\n",
       "      <td>-0.015529</td>\n",
       "      <td>1.000000</td>\n",
       "    </tr>\n",
       "  </tbody>\n",
       "</table>\n",
       "</div>"
      ],
      "text/plain": [
       "                 age  absences     score  failures      Medu      Fedu  \\\n",
       "age         1.000000  0.161288 -0.152866  0.194331 -0.145246 -0.130636   \n",
       "absences    0.161288  1.000000  0.034301  0.077257  0.107271  0.014838   \n",
       "score      -0.152866  0.034301  1.000000 -0.337613  0.216458  0.077687   \n",
       "failures    0.194331  0.077257 -0.337613  1.000000 -0.238579 -0.148524   \n",
       "Medu       -0.145246  0.107271  0.216458 -0.238579  1.000000  0.271146   \n",
       "Fedu       -0.130636  0.014838  0.077687 -0.148524  0.271146  1.000000   \n",
       "traveltime  0.075437 -0.028904 -0.068226  0.047989 -0.169416  0.039490   \n",
       "studytime  -0.018066 -0.067890  0.116182 -0.172130  0.080995  0.059597   \n",
       "famrel      0.049916 -0.051014  0.067082 -0.053118 -0.001229  0.047920   \n",
       "freetime    0.009784 -0.016713  0.019789  0.075215  0.043003 -0.063359   \n",
       "goout       0.120651  0.081597 -0.125199  0.093364  0.072202 -0.019521   \n",
       "health     -0.074919 -0.043981 -0.068139  0.084553 -0.049122  0.026247   \n",
       "\n",
       "            traveltime  studytime    famrel  freetime     goout    health  \n",
       "age           0.075437  -0.018066  0.049916  0.009784  0.120651 -0.074919  \n",
       "absences     -0.028904  -0.067890 -0.051014 -0.016713  0.081597 -0.043981  \n",
       "score        -0.068226   0.116182  0.067082  0.019789 -0.125199 -0.068139  \n",
       "failures      0.047989  -0.172130 -0.053118  0.075215  0.093364  0.084553  \n",
       "Medu         -0.169416   0.080995 -0.001229  0.043003  0.072202 -0.049122  \n",
       "Fedu          0.039490   0.059597  0.047920 -0.063359 -0.019521  0.026247  \n",
       "traveltime    1.000000  -0.106190 -0.029468 -0.018472  0.035386 -0.014279  \n",
       "studytime    -0.106190   1.000000  0.046498 -0.126573 -0.054699 -0.079237  \n",
       "famrel       -0.029468   0.046498  1.000000  0.169244  0.063589  0.077436  \n",
       "freetime     -0.018472  -0.126573  0.169244  1.000000  0.286124  0.069828  \n",
       "goout         0.035386  -0.054699  0.063589  0.286124  1.000000 -0.015529  \n",
       "health       -0.014279  -0.079237  0.077436  0.069828 -0.015529  1.000000  "
      ]
     },
     "execution_count": 351,
     "metadata": {},
     "output_type": "execute_result"
    }
   ],
   "source": [
    "df[num_columns+rank_columns].corr()"
   ]
  },
  {
   "cell_type": "markdown",
   "metadata": {},
   "source": [
    "## 4.1. Рассмотрим ранговые параметры (rank_columns)"
   ]
  },
  {
   "cell_type": "code",
   "execution_count": 352,
   "metadata": {},
   "outputs": [
    {
     "data": {
      "text/html": [
       "<div>\n",
       "<style scoped>\n",
       "    .dataframe tbody tr th:only-of-type {\n",
       "        vertical-align: middle;\n",
       "    }\n",
       "\n",
       "    .dataframe tbody tr th {\n",
       "        vertical-align: top;\n",
       "    }\n",
       "\n",
       "    .dataframe thead th {\n",
       "        text-align: right;\n",
       "    }\n",
       "</style>\n",
       "<table border=\"1\" class=\"dataframe\">\n",
       "  <thead>\n",
       "    <tr style=\"text-align: right;\">\n",
       "      <th></th>\n",
       "      <th>famsize</th>\n",
       "      <th>Medu</th>\n",
       "      <th>Fedu</th>\n",
       "      <th>traveltime</th>\n",
       "      <th>studytime</th>\n",
       "      <th>famrel</th>\n",
       "      <th>freetime</th>\n",
       "      <th>goout</th>\n",
       "      <th>health</th>\n",
       "    </tr>\n",
       "  </thead>\n",
       "  <tbody>\n",
       "    <tr>\n",
       "      <td>0</td>\n",
       "      <td>None</td>\n",
       "      <td>4.0</td>\n",
       "      <td>4.0</td>\n",
       "      <td>2.0</td>\n",
       "      <td>2.0</td>\n",
       "      <td>4.0</td>\n",
       "      <td>3.0</td>\n",
       "      <td>4.0</td>\n",
       "      <td>3.0</td>\n",
       "    </tr>\n",
       "    <tr>\n",
       "      <td>1</td>\n",
       "      <td>GT3</td>\n",
       "      <td>1.0</td>\n",
       "      <td>1.0</td>\n",
       "      <td>1.0</td>\n",
       "      <td>2.0</td>\n",
       "      <td>5.0</td>\n",
       "      <td>3.0</td>\n",
       "      <td>3.0</td>\n",
       "      <td>3.0</td>\n",
       "    </tr>\n",
       "    <tr>\n",
       "      <td>2</td>\n",
       "      <td>LE3</td>\n",
       "      <td>1.0</td>\n",
       "      <td>1.0</td>\n",
       "      <td>1.0</td>\n",
       "      <td>2.0</td>\n",
       "      <td>4.0</td>\n",
       "      <td>3.0</td>\n",
       "      <td>2.0</td>\n",
       "      <td>3.0</td>\n",
       "    </tr>\n",
       "    <tr>\n",
       "      <td>3</td>\n",
       "      <td>GT3</td>\n",
       "      <td>4.0</td>\n",
       "      <td>2.0</td>\n",
       "      <td>1.0</td>\n",
       "      <td>3.0</td>\n",
       "      <td>3.0</td>\n",
       "      <td>2.0</td>\n",
       "      <td>2.0</td>\n",
       "      <td>5.0</td>\n",
       "    </tr>\n",
       "    <tr>\n",
       "      <td>4</td>\n",
       "      <td>GT3</td>\n",
       "      <td>3.0</td>\n",
       "      <td>3.0</td>\n",
       "      <td>1.0</td>\n",
       "      <td>2.0</td>\n",
       "      <td>4.0</td>\n",
       "      <td>3.0</td>\n",
       "      <td>2.0</td>\n",
       "      <td>5.0</td>\n",
       "    </tr>\n",
       "  </tbody>\n",
       "</table>\n",
       "</div>"
      ],
      "text/plain": [
       "  famsize  Medu  Fedu  traveltime  studytime  famrel  freetime  goout  health\n",
       "0    None   4.0   4.0         2.0        2.0     4.0       3.0    4.0     3.0\n",
       "1     GT3   1.0   1.0         1.0        2.0     5.0       3.0    3.0     3.0\n",
       "2     LE3   1.0   1.0         1.0        2.0     4.0       3.0    2.0     3.0\n",
       "3     GT3   4.0   2.0         1.0        3.0     3.0       2.0    2.0     5.0\n",
       "4     GT3   3.0   3.0         1.0        2.0     4.0       3.0    2.0     5.0"
      ]
     },
     "execution_count": 352,
     "metadata": {},
     "output_type": "execute_result"
    }
   ],
   "source": [
    "df[rank_columns].head()"
   ]
  },
  {
   "cell_type": "markdown",
   "metadata": {},
   "source": [
    "### 4.1.1. famsize - размер семьи('LE3' <= 3, 'GT3' >3)"
   ]
  },
  {
   "cell_type": "markdown",
   "metadata": {},
   "source": [
    "##### Заменим 'LE3' и 'GT3'  на 0 и 1 соотвественно"
   ]
  },
  {
   "cell_type": "code",
   "execution_count": 353,
   "metadata": {},
   "outputs": [],
   "source": [
    "change_this(column = 'famsize', arg1 = 'LE3', arg2 = 0)"
   ]
  },
  {
   "cell_type": "code",
   "execution_count": 354,
   "metadata": {},
   "outputs": [],
   "source": [
    "change_this(column = 'famsize', arg1 = 'GT3', arg2 = 1)"
   ]
  },
  {
   "cell_type": "code",
   "execution_count": 355,
   "metadata": {},
   "outputs": [
    {
     "data": {
      "text/plain": [
       "1.0    44\n",
       "0.0    17\n",
       "NaN     8\n",
       "Name: famsize, dtype: int64"
      ]
     },
     "execution_count": 355,
     "metadata": {},
     "output_type": "execute_result"
    }
   ],
   "source": [
    "df['famsize'][(df.Mjob == 'at_home')|(df.Fjob == 'at_home')].value_counts(dropna = False)"
   ]
  },
  {
   "cell_type": "code",
   "execution_count": 356,
   "metadata": {},
   "outputs": [
    {
     "data": {
      "text/plain": [
       "1.0    253\n",
       "0.0    106\n",
       "NaN     27\n",
       "Name: famsize, dtype: int64"
      ]
     },
     "execution_count": 356,
     "metadata": {},
     "output_type": "execute_result"
    }
   ],
   "source": [
    "df.famsize.value_counts(dropna = False)"
   ]
  },
  {
   "cell_type": "markdown",
   "metadata": {},
   "source": [
    "##### Имеем 27 пропусков. Заполнение пропусков в настоящий момент не представляется возможным"
   ]
  },
  {
   "cell_type": "markdown",
   "metadata": {},
   "source": [
    "### 4.1.2. Medu - образование матери"
   ]
  },
  {
   "cell_type": "code",
   "execution_count": 357,
   "metadata": {},
   "outputs": [
    {
     "data": {
      "text/plain": [
       "4.0    131\n",
       "2.0     98\n",
       "3.0     95\n",
       "1.0     56\n",
       "0.0      3\n",
       "NaN      3\n",
       "Name: Medu, dtype: int64"
      ]
     },
     "execution_count": 357,
     "metadata": {},
     "output_type": "execute_result"
    }
   ],
   "source": [
    "df.Medu.value_counts(dropna = False)"
   ]
  },
  {
   "cell_type": "markdown",
   "metadata": {},
   "source": [
    "##### Имеем всего лишь 3 пропуска. Можно заполнить по модовским значениям типа работы."
   ]
  },
  {
   "cell_type": "code",
   "execution_count": 358,
   "metadata": {},
   "outputs": [
    {
     "name": "stdout",
     "output_type": "stream",
     "text": [
      "92 nan  ->  2.0\n",
      "193 nan  ->  3.0\n",
      "239 nan  ->  2.0\n"
     ]
    }
   ],
   "source": [
    "mode_change(df, 'Medu', 'Mjob')"
   ]
  },
  {
   "cell_type": "code",
   "execution_count": 359,
   "metadata": {},
   "outputs": [
    {
     "data": {
      "text/plain": [
       "<matplotlib.axes._subplots.AxesSubplot at 0x21f884b5a88>"
      ]
     },
     "execution_count": 359,
     "metadata": {},
     "output_type": "execute_result"
    },
    {
     "data": {
      "image/png": "[encoded data removed]",
      "text/plain": [
       "<Figure size 432x288 with 1 Axes>"
      ]
     },
     "metadata": {
      "needs_background": "light"
     },
     "output_type": "display_data"
    }
   ],
   "source": [
    "df.Medu.hist()"
   ]
  },
  {
   "cell_type": "markdown",
   "metadata": {},
   "source": [
    "##### Распределение выглядит нормальным (без выбросов)"
   ]
  },
  {
   "cell_type": "markdown",
   "metadata": {},
   "source": [
    "### 4.1.2 'Fedu' - образование отцов"
   ]
  },
  {
   "cell_type": "code",
   "execution_count": 360,
   "metadata": {
    "scrolled": true
   },
   "outputs": [
    {
     "data": {
      "text/plain": [
       "2.0     103\n",
       "3.0      93\n",
       "4.0      88\n",
       "1.0      75\n",
       "NaN      24\n",
       "0.0       2\n",
       "40.0      1\n",
       "Name: Fedu, dtype: int64"
      ]
     },
     "execution_count": 360,
     "metadata": {},
     "output_type": "execute_result"
    }
   ],
   "source": [
    "df.Fedu.value_counts(dropna = False)"
   ]
  },
  {
   "cell_type": "markdown",
   "metadata": {},
   "source": [
    "##### Есть значение, которое явно некорректно. Значение - 40. Предполагаю, что это ошибка и значение должно быть равно 4."
   ]
  },
  {
   "cell_type": "code",
   "execution_count": 361,
   "metadata": {},
   "outputs": [],
   "source": [
    "change_this(column = 'Fedu', arg1 = 40, arg2 = 4)"
   ]
  },
  {
   "cell_type": "code",
   "execution_count": 362,
   "metadata": {},
   "outputs": [
    {
     "data": {
      "text/plain": [
       "2.0    103\n",
       "3.0     93\n",
       "4.0     89\n",
       "1.0     75\n",
       "NaN     24\n",
       "0.0      2\n",
       "Name: Fedu, dtype: int64"
      ]
     },
     "execution_count": 362,
     "metadata": {},
     "output_type": "execute_result"
    }
   ],
   "source": [
    "df.Fedu.value_counts(dropna = False)"
   ]
  },
  {
   "cell_type": "markdown",
   "metadata": {},
   "source": [
    "##### Имеем 24 пропуска"
   ]
  },
  {
   "cell_type": "code",
   "execution_count": 363,
   "metadata": {},
   "outputs": [
    {
     "data": {
      "text/html": [
       "<div>\n",
       "<style scoped>\n",
       "    .dataframe tbody tr th:only-of-type {\n",
       "        vertical-align: middle;\n",
       "    }\n",
       "\n",
       "    .dataframe tbody tr th {\n",
       "        vertical-align: top;\n",
       "    }\n",
       "\n",
       "    .dataframe thead th {\n",
       "        text-align: right;\n",
       "    }\n",
       "</style>\n",
       "<table border=\"1\" class=\"dataframe\">\n",
       "  <thead>\n",
       "    <tr style=\"text-align: right;\">\n",
       "      <th></th>\n",
       "      <th>Medu</th>\n",
       "      <th>Fedu</th>\n",
       "    </tr>\n",
       "  </thead>\n",
       "  <tbody>\n",
       "    <tr>\n",
       "      <td>Medu</td>\n",
       "      <td>1.000000</td>\n",
       "      <td>0.624543</td>\n",
       "    </tr>\n",
       "    <tr>\n",
       "      <td>Fedu</td>\n",
       "      <td>0.624543</td>\n",
       "      <td>1.000000</td>\n",
       "    </tr>\n",
       "  </tbody>\n",
       "</table>\n",
       "</div>"
      ],
      "text/plain": [
       "          Medu      Fedu\n",
       "Medu  1.000000  0.624543\n",
       "Fedu  0.624543  1.000000"
      ]
     },
     "execution_count": 363,
     "metadata": {},
     "output_type": "execute_result"
    }
   ],
   "source": [
    "df[['Medu', 'Fedu']].corr()"
   ]
  },
  {
   "cell_type": "markdown",
   "metadata": {},
   "source": [
    "##### Fedu довльно сильно скоррелировано с Medu. Заполним пропуски через модовские значения Medu"
   ]
  },
  {
   "cell_type": "code",
   "execution_count": 364,
   "metadata": {},
   "outputs": [
    {
     "name": "stdout",
     "output_type": "stream",
     "text": [
      "21 nan  ->  4.0\n",
      "42 nan  ->  4.0\n",
      "46 nan  ->  3.0\n",
      "57 nan  ->  4.0\n",
      "58 nan  ->  1.0\n",
      "67 nan  ->  3.0\n",
      "137 nan  ->  3.0\n",
      "142 nan  ->  4.0\n",
      "159 nan  ->  3.0\n",
      "161 nan  ->  3.0\n",
      "180 nan  ->  4.0\n",
      "195 nan  ->  2.0\n",
      "232 nan  ->  4.0\n",
      "236 nan  ->  2.0\n",
      "259 nan  ->  2.0\n",
      "280 nan  ->  4.0\n",
      "281 nan  ->  3.0\n",
      "286 nan  ->  2.0\n",
      "287 nan  ->  1.0\n",
      "290 nan  ->  4.0\n",
      "310 nan  ->  1.0\n",
      "328 nan  ->  4.0\n",
      "349 nan  ->  3.0\n",
      "374 nan  ->  4.0\n"
     ]
    }
   ],
   "source": [
    "mode_change(df, 'Fedu', 'Medu')"
   ]
  },
  {
   "cell_type": "code",
   "execution_count": 365,
   "metadata": {},
   "outputs": [
    {
     "data": {
      "text/html": [
       "<div>\n",
       "<style scoped>\n",
       "    .dataframe tbody tr th:only-of-type {\n",
       "        vertical-align: middle;\n",
       "    }\n",
       "\n",
       "    .dataframe tbody tr th {\n",
       "        vertical-align: top;\n",
       "    }\n",
       "\n",
       "    .dataframe thead th {\n",
       "        text-align: right;\n",
       "    }\n",
       "</style>\n",
       "<table border=\"1\" class=\"dataframe\">\n",
       "  <thead>\n",
       "    <tr style=\"text-align: right;\">\n",
       "      <th></th>\n",
       "      <th>Medu</th>\n",
       "      <th>Fedu</th>\n",
       "    </tr>\n",
       "  </thead>\n",
       "  <tbody>\n",
       "    <tr>\n",
       "      <td>Medu</td>\n",
       "      <td>1.000000</td>\n",
       "      <td>0.647106</td>\n",
       "    </tr>\n",
       "    <tr>\n",
       "      <td>Fedu</td>\n",
       "      <td>0.647106</td>\n",
       "      <td>1.000000</td>\n",
       "    </tr>\n",
       "  </tbody>\n",
       "</table>\n",
       "</div>"
      ],
      "text/plain": [
       "          Medu      Fedu\n",
       "Medu  1.000000  0.647106\n",
       "Fedu  0.647106  1.000000"
      ]
     },
     "execution_count": 365,
     "metadata": {},
     "output_type": "execute_result"
    }
   ],
   "source": [
    "df[['Medu', 'Fedu']].corr()"
   ]
  },
  {
   "cell_type": "code",
   "execution_count": 366,
   "metadata": {},
   "outputs": [
    {
     "data": {
      "text/plain": [
       "2.0    107\n",
       "3.0    100\n",
       "4.0     99\n",
       "1.0     78\n",
       "0.0      2\n",
       "Name: Fedu, dtype: int64"
      ]
     },
     "execution_count": 366,
     "metadata": {},
     "output_type": "execute_result"
    }
   ],
   "source": [
    "df.Fedu.value_counts(dropna = False)"
   ]
  },
  {
   "cell_type": "code",
   "execution_count": 367,
   "metadata": {
    "scrolled": true
   },
   "outputs": [
    {
     "data": {
      "text/plain": [
       "<matplotlib.axes._subplots.AxesSubplot at 0x21f889b8bc8>"
      ]
     },
     "execution_count": 367,
     "metadata": {},
     "output_type": "execute_result"
    },
    {
     "data": {
      "image/png": "[encoded data removed]",
      "text/plain": [
       "<Figure size 432x288 with 1 Axes>"
      ]
     },
     "metadata": {
      "needs_background": "light"
     },
     "output_type": "display_data"
    }
   ],
   "source": [
    "df.Fedu.hist()"
   ]
  },
  {
   "cell_type": "markdown",
   "metadata": {},
   "source": [
    "#### Пропуски заполнены. График распределения без выбросов."
   ]
  },
  {
   "cell_type": "markdown",
   "metadata": {},
   "source": [
    "### 4.2.4 'traveltime' - время в пути до школы (1 - <15 мин., 2 - 15-30 мин., 3 - 30-60 мин., 4 - >60 мин.)"
   ]
  },
  {
   "cell_type": "code",
   "execution_count": 368,
   "metadata": {},
   "outputs": [
    {
     "data": {
      "text/plain": [
       "1.0    237\n",
       "2.0     93\n",
       "NaN     28\n",
       "3.0     21\n",
       "4.0      7\n",
       "Name: traveltime, dtype: int64"
      ]
     },
     "execution_count": 368,
     "metadata": {},
     "output_type": "execute_result"
    }
   ],
   "source": [
    "df.traveltime.value_counts(dropna = False)"
   ]
  },
  {
   "cell_type": "code",
   "execution_count": 369,
   "metadata": {},
   "outputs": [
    {
     "data": {
      "text/plain": [
       "<matplotlib.axes._subplots.AxesSubplot at 0x21f889ced48>"
      ]
     },
     "execution_count": 369,
     "metadata": {},
     "output_type": "execute_result"
    },
    {
     "data": {
      "image/png": "[encoded data removed]",
      "text/plain": [
       "<Figure size 432x288 with 1 Axes>"
      ]
     },
     "metadata": {
      "needs_background": "light"
     },
     "output_type": "display_data"
    }
   ],
   "source": [
    "df.traveltime.hist()"
   ]
  },
  {
   "cell_type": "markdown",
   "metadata": {},
   "source": [
    "#### Имеем 28 пропусков, в остальном распределение кажется нормальным."
   ]
  },
  {
   "cell_type": "code",
   "execution_count": 370,
   "metadata": {},
   "outputs": [
    {
     "data": {
      "text/html": [
       "<div>\n",
       "<style scoped>\n",
       "    .dataframe tbody tr th:only-of-type {\n",
       "        vertical-align: middle;\n",
       "    }\n",
       "\n",
       "    .dataframe tbody tr th {\n",
       "        vertical-align: top;\n",
       "    }\n",
       "\n",
       "    .dataframe thead th {\n",
       "        text-align: right;\n",
       "    }\n",
       "</style>\n",
       "<table border=\"1\" class=\"dataframe\">\n",
       "  <thead>\n",
       "    <tr style=\"text-align: right;\">\n",
       "      <th></th>\n",
       "      <th>famsize</th>\n",
       "      <th>Medu</th>\n",
       "      <th>Fedu</th>\n",
       "      <th>traveltime</th>\n",
       "      <th>studytime</th>\n",
       "      <th>famrel</th>\n",
       "      <th>freetime</th>\n",
       "      <th>goout</th>\n",
       "      <th>health</th>\n",
       "      <th>age</th>\n",
       "      <th>absences</th>\n",
       "      <th>score</th>\n",
       "      <th>failures</th>\n",
       "    </tr>\n",
       "  </thead>\n",
       "  <tbody>\n",
       "    <tr>\n",
       "      <td>famsize</td>\n",
       "      <td>1.000000</td>\n",
       "      <td>0.067521</td>\n",
       "      <td>0.115579</td>\n",
       "      <td>-0.050200</td>\n",
       "      <td>0.085358</td>\n",
       "      <td>0.021847</td>\n",
       "      <td>-0.020317</td>\n",
       "      <td>-0.026158</td>\n",
       "      <td>0.047812</td>\n",
       "      <td>-0.025705</td>\n",
       "      <td>-0.022409</td>\n",
       "      <td>-0.067196</td>\n",
       "      <td>-0.004488</td>\n",
       "    </tr>\n",
       "    <tr>\n",
       "      <td>Medu</td>\n",
       "      <td>0.067521</td>\n",
       "      <td>1.000000</td>\n",
       "      <td>0.647106</td>\n",
       "      <td>-0.166724</td>\n",
       "      <td>0.080213</td>\n",
       "      <td>-0.001465</td>\n",
       "      <td>0.039686</td>\n",
       "      <td>0.069927</td>\n",
       "      <td>-0.044021</td>\n",
       "      <td>-0.146000</td>\n",
       "      <td>0.108950</td>\n",
       "      <td>0.220311</td>\n",
       "      <td>-0.239084</td>\n",
       "    </tr>\n",
       "    <tr>\n",
       "      <td>Fedu</td>\n",
       "      <td>0.115579</td>\n",
       "      <td>0.647106</td>\n",
       "      <td>1.000000</td>\n",
       "      <td>-0.128635</td>\n",
       "      <td>0.008895</td>\n",
       "      <td>-0.004016</td>\n",
       "      <td>0.001054</td>\n",
       "      <td>0.061222</td>\n",
       "      <td>0.034254</td>\n",
       "      <td>-0.157204</td>\n",
       "      <td>0.066142</td>\n",
       "      <td>0.136716</td>\n",
       "      <td>-0.257594</td>\n",
       "    </tr>\n",
       "    <tr>\n",
       "      <td>traveltime</td>\n",
       "      <td>-0.050200</td>\n",
       "      <td>-0.166724</td>\n",
       "      <td>-0.128635</td>\n",
       "      <td>1.000000</td>\n",
       "      <td>-0.106190</td>\n",
       "      <td>-0.029468</td>\n",
       "      <td>-0.018472</td>\n",
       "      <td>0.035386</td>\n",
       "      <td>-0.014279</td>\n",
       "      <td>0.075437</td>\n",
       "      <td>-0.028904</td>\n",
       "      <td>-0.068226</td>\n",
       "      <td>0.047989</td>\n",
       "    </tr>\n",
       "    <tr>\n",
       "      <td>studytime</td>\n",
       "      <td>0.085358</td>\n",
       "      <td>0.080213</td>\n",
       "      <td>0.008895</td>\n",
       "      <td>-0.106190</td>\n",
       "      <td>1.000000</td>\n",
       "      <td>0.046498</td>\n",
       "      <td>-0.126573</td>\n",
       "      <td>-0.054699</td>\n",
       "      <td>-0.079237</td>\n",
       "      <td>-0.018066</td>\n",
       "      <td>-0.067890</td>\n",
       "      <td>0.116182</td>\n",
       "      <td>-0.172130</td>\n",
       "    </tr>\n",
       "    <tr>\n",
       "      <td>famrel</td>\n",
       "      <td>0.021847</td>\n",
       "      <td>-0.001465</td>\n",
       "      <td>-0.004016</td>\n",
       "      <td>-0.029468</td>\n",
       "      <td>0.046498</td>\n",
       "      <td>1.000000</td>\n",
       "      <td>0.169244</td>\n",
       "      <td>0.063589</td>\n",
       "      <td>0.077436</td>\n",
       "      <td>0.049916</td>\n",
       "      <td>-0.051014</td>\n",
       "      <td>0.067082</td>\n",
       "      <td>-0.053118</td>\n",
       "    </tr>\n",
       "    <tr>\n",
       "      <td>freetime</td>\n",
       "      <td>-0.020317</td>\n",
       "      <td>0.039686</td>\n",
       "      <td>0.001054</td>\n",
       "      <td>-0.018472</td>\n",
       "      <td>-0.126573</td>\n",
       "      <td>0.169244</td>\n",
       "      <td>1.000000</td>\n",
       "      <td>0.286124</td>\n",
       "      <td>0.069828</td>\n",
       "      <td>0.009784</td>\n",
       "      <td>-0.016713</td>\n",
       "      <td>0.019789</td>\n",
       "      <td>0.075215</td>\n",
       "    </tr>\n",
       "    <tr>\n",
       "      <td>goout</td>\n",
       "      <td>-0.026158</td>\n",
       "      <td>0.069927</td>\n",
       "      <td>0.061222</td>\n",
       "      <td>0.035386</td>\n",
       "      <td>-0.054699</td>\n",
       "      <td>0.063589</td>\n",
       "      <td>0.286124</td>\n",
       "      <td>1.000000</td>\n",
       "      <td>-0.015529</td>\n",
       "      <td>0.120651</td>\n",
       "      <td>0.081597</td>\n",
       "      <td>-0.125199</td>\n",
       "      <td>0.093364</td>\n",
       "    </tr>\n",
       "    <tr>\n",
       "      <td>health</td>\n",
       "      <td>0.047812</td>\n",
       "      <td>-0.044021</td>\n",
       "      <td>0.034254</td>\n",
       "      <td>-0.014279</td>\n",
       "      <td>-0.079237</td>\n",
       "      <td>0.077436</td>\n",
       "      <td>0.069828</td>\n",
       "      <td>-0.015529</td>\n",
       "      <td>1.000000</td>\n",
       "      <td>-0.074919</td>\n",
       "      <td>-0.043981</td>\n",
       "      <td>-0.068139</td>\n",
       "      <td>0.084553</td>\n",
       "    </tr>\n",
       "    <tr>\n",
       "      <td>age</td>\n",
       "      <td>-0.025705</td>\n",
       "      <td>-0.146000</td>\n",
       "      <td>-0.157204</td>\n",
       "      <td>0.075437</td>\n",
       "      <td>-0.018066</td>\n",
       "      <td>0.049916</td>\n",
       "      <td>0.009784</td>\n",
       "      <td>0.120651</td>\n",
       "      <td>-0.074919</td>\n",
       "      <td>1.000000</td>\n",
       "      <td>0.161288</td>\n",
       "      <td>-0.152866</td>\n",
       "      <td>0.194331</td>\n",
       "    </tr>\n",
       "    <tr>\n",
       "      <td>absences</td>\n",
       "      <td>-0.022409</td>\n",
       "      <td>0.108950</td>\n",
       "      <td>0.066142</td>\n",
       "      <td>-0.028904</td>\n",
       "      <td>-0.067890</td>\n",
       "      <td>-0.051014</td>\n",
       "      <td>-0.016713</td>\n",
       "      <td>0.081597</td>\n",
       "      <td>-0.043981</td>\n",
       "      <td>0.161288</td>\n",
       "      <td>1.000000</td>\n",
       "      <td>0.034301</td>\n",
       "      <td>0.077257</td>\n",
       "    </tr>\n",
       "    <tr>\n",
       "      <td>score</td>\n",
       "      <td>-0.067196</td>\n",
       "      <td>0.220311</td>\n",
       "      <td>0.136716</td>\n",
       "      <td>-0.068226</td>\n",
       "      <td>0.116182</td>\n",
       "      <td>0.067082</td>\n",
       "      <td>0.019789</td>\n",
       "      <td>-0.125199</td>\n",
       "      <td>-0.068139</td>\n",
       "      <td>-0.152866</td>\n",
       "      <td>0.034301</td>\n",
       "      <td>1.000000</td>\n",
       "      <td>-0.337613</td>\n",
       "    </tr>\n",
       "    <tr>\n",
       "      <td>failures</td>\n",
       "      <td>-0.004488</td>\n",
       "      <td>-0.239084</td>\n",
       "      <td>-0.257594</td>\n",
       "      <td>0.047989</td>\n",
       "      <td>-0.172130</td>\n",
       "      <td>-0.053118</td>\n",
       "      <td>0.075215</td>\n",
       "      <td>0.093364</td>\n",
       "      <td>0.084553</td>\n",
       "      <td>0.194331</td>\n",
       "      <td>0.077257</td>\n",
       "      <td>-0.337613</td>\n",
       "      <td>1.000000</td>\n",
       "    </tr>\n",
       "  </tbody>\n",
       "</table>\n",
       "</div>"
      ],
      "text/plain": [
       "             famsize      Medu      Fedu  traveltime  studytime    famrel  \\\n",
       "famsize     1.000000  0.067521  0.115579   -0.050200   0.085358  0.021847   \n",
       "Medu        0.067521  1.000000  0.647106   -0.166724   0.080213 -0.001465   \n",
       "Fedu        0.115579  0.647106  1.000000   -0.128635   0.008895 -0.004016   \n",
       "traveltime -0.050200 -0.166724 -0.128635    1.000000  -0.106190 -0.029468   \n",
       "studytime   0.085358  0.080213  0.008895   -0.106190   1.000000  0.046498   \n",
       "famrel      0.021847 -0.001465 -0.004016   -0.029468   0.046498  1.000000   \n",
       "freetime   -0.020317  0.039686  0.001054   -0.018472  -0.126573  0.169244   \n",
       "goout      -0.026158  0.069927  0.061222    0.035386  -0.054699  0.063589   \n",
       "health      0.047812 -0.044021  0.034254   -0.014279  -0.079237  0.077436   \n",
       "age        -0.025705 -0.146000 -0.157204    0.075437  -0.018066  0.049916   \n",
       "absences   -0.022409  0.108950  0.066142   -0.028904  -0.067890 -0.051014   \n",
       "score      -0.067196  0.220311  0.136716   -0.068226   0.116182  0.067082   \n",
       "failures   -0.004488 -0.239084 -0.257594    0.047989  -0.172130 -0.053118   \n",
       "\n",
       "            freetime     goout    health       age  absences     score  \\\n",
       "famsize    -0.020317 -0.026158  0.047812 -0.025705 -0.022409 -0.067196   \n",
       "Medu        0.039686  0.069927 -0.044021 -0.146000  0.108950  0.220311   \n",
       "Fedu        0.001054  0.061222  0.034254 -0.157204  0.066142  0.136716   \n",
       "traveltime -0.018472  0.035386 -0.014279  0.075437 -0.028904 -0.068226   \n",
       "studytime  -0.126573 -0.054699 -0.079237 -0.018066 -0.067890  0.116182   \n",
       "famrel      0.169244  0.063589  0.077436  0.049916 -0.051014  0.067082   \n",
       "freetime    1.000000  0.286124  0.069828  0.009784 -0.016713  0.019789   \n",
       "goout       0.286124  1.000000 -0.015529  0.120651  0.081597 -0.125199   \n",
       "health      0.069828 -0.015529  1.000000 -0.074919 -0.043981 -0.068139   \n",
       "age         0.009784  0.120651 -0.074919  1.000000  0.161288 -0.152866   \n",
       "absences   -0.016713  0.081597 -0.043981  0.161288  1.000000  0.034301   \n",
       "score       0.019789 -0.125199 -0.068139 -0.152866  0.034301  1.000000   \n",
       "failures    0.075215  0.093364  0.084553  0.194331  0.077257 -0.337613   \n",
       "\n",
       "            failures  \n",
       "famsize    -0.004488  \n",
       "Medu       -0.239084  \n",
       "Fedu       -0.257594  \n",
       "traveltime  0.047989  \n",
       "studytime  -0.172130  \n",
       "famrel     -0.053118  \n",
       "freetime    0.075215  \n",
       "goout       0.093364  \n",
       "health      0.084553  \n",
       "age         0.194331  \n",
       "absences    0.077257  \n",
       "score      -0.337613  \n",
       "failures    1.000000  "
      ]
     },
     "execution_count": 370,
     "metadata": {},
     "output_type": "execute_result"
    }
   ],
   "source": [
    "df[rank_columns + num_columns].corr()"
   ]
  },
  {
   "cell_type": "markdown",
   "metadata": {},
   "source": [
    "##### Явных корреляций не выявлено и заполнить эти пропуски не представляется возможным. Возможно стоит рассмотреть заполнение пропусков случайными значениями в исходной пропорции."
   ]
  },
  {
   "cell_type": "markdown",
   "metadata": {},
   "source": [
    "### 4.2.5. 'studytime' - время на учёбу помимо школы в неделю (1 - <2 часов, 2 - 2-5 часов, 3 - 5-10 часов, 4 - >10 часов)"
   ]
  },
  {
   "cell_type": "code",
   "execution_count": 371,
   "metadata": {},
   "outputs": [
    {
     "data": {
      "text/plain": [
       "2.0    186\n",
       "1.0    103\n",
       "3.0     63\n",
       "4.0     27\n",
       "NaN      7\n",
       "Name: studytime, dtype: int64"
      ]
     },
     "execution_count": 371,
     "metadata": {},
     "output_type": "execute_result"
    }
   ],
   "source": [
    "df.studytime.value_counts(dropna = False)"
   ]
  },
  {
   "cell_type": "code",
   "execution_count": 372,
   "metadata": {},
   "outputs": [
    {
     "data": {
      "text/plain": [
       "<matplotlib.axes._subplots.AxesSubplot at 0x21f88ab2f08>"
      ]
     },
     "execution_count": 372,
     "metadata": {},
     "output_type": "execute_result"
    },
    {
     "data": {
      "image/png": "[encoded data removed]",
      "text/plain": [
       "<Figure size 432x288 with 1 Axes>"
      ]
     },
     "metadata": {
      "needs_background": "light"
     },
     "output_type": "display_data"
    }
   ],
   "source": [
    "df.studytime.hist()"
   ]
  },
  {
   "cell_type": "markdown",
   "metadata": {},
   "source": [
    "##### Довольно плавное распределение и всего лишь 7 пропусков. Заполним пропуски модой"
   ]
  },
  {
   "cell_type": "code",
   "execution_count": 373,
   "metadata": {},
   "outputs": [
    {
     "name": "stdout",
     "output_type": "stream",
     "text": [
      "17 nan  ->  2.0\n",
      "91 nan  ->  2.0\n",
      "112 nan  ->  2.0\n",
      "129 nan  ->  2.0\n",
      "227 nan  ->  2.0\n",
      "266 nan  ->  2.0\n",
      "314 nan  ->  2.0\n"
     ]
    }
   ],
   "source": [
    "mode_change(df, 'studytime', 'studytime')"
   ]
  },
  {
   "cell_type": "code",
   "execution_count": 374,
   "metadata": {},
   "outputs": [
    {
     "data": {
      "text/plain": [
       "<matplotlib.axes._subplots.AxesSubplot at 0x21f88b42dc8>"
      ]
     },
     "execution_count": 374,
     "metadata": {},
     "output_type": "execute_result"
    },
    {
     "data": {
      "image/png": "[encoded data removed]",
      "text/plain": [
       "<Figure size 432x288 with 1 Axes>"
      ]
     },
     "metadata": {
      "needs_background": "light"
     },
     "output_type": "display_data"
    }
   ],
   "source": [
    "df.studytime.hist()"
   ]
  },
  {
   "cell_type": "markdown",
   "metadata": {},
   "source": [
    "### 4.2.6. 'famrel' -  семейные отношения (от 1 - очень плохо до 5 - очень хорошо)"
   ]
  },
  {
   "cell_type": "code",
   "execution_count": 375,
   "metadata": {},
   "outputs": [
    {
     "data": {
      "text/plain": [
       " 4.0    178\n",
       " 5.0     96\n",
       " 3.0     62\n",
       " NaN     26\n",
       " 2.0     16\n",
       " 1.0      7\n",
       "-1.0      1\n",
       "Name: famrel, dtype: int64"
      ]
     },
     "execution_count": 375,
     "metadata": {},
     "output_type": "execute_result"
    }
   ],
   "source": [
    "df.famrel.value_counts(dropna = False)"
   ]
  },
  {
   "cell_type": "markdown",
   "metadata": {},
   "source": [
    "##### Значение \"-1\" - явная опечатка, заменим его на \"1\""
   ]
  },
  {
   "cell_type": "code",
   "execution_count": 376,
   "metadata": {},
   "outputs": [],
   "source": [
    "change_this('famrel', -1, 1)"
   ]
  },
  {
   "cell_type": "code",
   "execution_count": 377,
   "metadata": {},
   "outputs": [
    {
     "data": {
      "text/plain": [
       "4.0    178\n",
       "5.0     96\n",
       "3.0     62\n",
       "NaN     26\n",
       "2.0     16\n",
       "1.0      8\n",
       "Name: famrel, dtype: int64"
      ]
     },
     "execution_count": 377,
     "metadata": {},
     "output_type": "execute_result"
    }
   ],
   "source": [
    "df.famrel.value_counts(dropna = False)"
   ]
  },
  {
   "cell_type": "code",
   "execution_count": 378,
   "metadata": {},
   "outputs": [
    {
     "data": {
      "text/plain": [
       "<matplotlib.axes._subplots.AxesSubplot at 0x21f88bb2a88>"
      ]
     },
     "execution_count": 378,
     "metadata": {},
     "output_type": "execute_result"
    },
    {
     "data": {
      "image/png": "[encoded data removed]",
      "text/plain": [
       "<Figure size 432x288 with 1 Axes>"
      ]
     },
     "metadata": {
      "needs_background": "light"
     },
     "output_type": "display_data"
    }
   ],
   "source": [
    "df.famrel.hist()"
   ]
  },
  {
   "cell_type": "markdown",
   "metadata": {},
   "source": [
    "##### Имеем 26 пропусков. Заполнить эти пропуски не представляется возможным. Возможно стоит рассмотреть заполнение пропусков случайными значениями в исходной пропорции."
   ]
  },
  {
   "cell_type": "markdown",
   "metadata": {},
   "source": [
    "### 4.2.7. 'freetime' - свободное время после школы (от 1 - очень мало до 5 - очень мого)"
   ]
  },
  {
   "cell_type": "code",
   "execution_count": 379,
   "metadata": {},
   "outputs": [
    {
     "data": {
      "text/plain": [
       "3.0    151\n",
       "4.0    110\n",
       "2.0     63\n",
       "5.0     36\n",
       "1.0     17\n",
       "NaN      9\n",
       "Name: freetime, dtype: int64"
      ]
     },
     "execution_count": 379,
     "metadata": {},
     "output_type": "execute_result"
    }
   ],
   "source": [
    "df.freetime.value_counts(dropna = False)"
   ]
  },
  {
   "cell_type": "code",
   "execution_count": 380,
   "metadata": {},
   "outputs": [
    {
     "data": {
      "text/plain": [
       "<matplotlib.axes._subplots.AxesSubplot at 0x21f88bd96c8>"
      ]
     },
     "execution_count": 380,
     "metadata": {},
     "output_type": "execute_result"
    },
    {
     "data": {
      "image/png": "[encoded data removed]",
      "text/plain": [
       "<Figure size 432x288 with 1 Axes>"
      ]
     },
     "metadata": {
      "needs_background": "light"
     },
     "output_type": "display_data"
    }
   ],
   "source": [
    "df.freetime.hist()"
   ]
  },
  {
   "cell_type": "markdown",
   "metadata": {},
   "source": [
    "##### Довольно плавное распределение и всего лишь 9 пропусков. Заполним пропуски модой"
   ]
  },
  {
   "cell_type": "code",
   "execution_count": 381,
   "metadata": {},
   "outputs": [
    {
     "name": "stdout",
     "output_type": "stream",
     "text": [
      "32 nan  ->  3.0\n",
      "74 nan  ->  3.0\n",
      "131 nan  ->  3.0\n",
      "280 nan  ->  3.0\n",
      "290 nan  ->  3.0\n",
      "291 nan  ->  3.0\n",
      "311 nan  ->  3.0\n",
      "314 nan  ->  3.0\n",
      "338 nan  ->  3.0\n"
     ]
    }
   ],
   "source": [
    "mode_change(df, 'freetime', 'freetime')"
   ]
  },
  {
   "cell_type": "markdown",
   "metadata": {},
   "source": [
    "### 4.2.8. 'goout' - проведение времени с друзьями (от 1 - очень мало до 5 - очень много)"
   ]
  },
  {
   "cell_type": "code",
   "execution_count": 382,
   "metadata": {},
   "outputs": [
    {
     "data": {
      "text/plain": [
       "3.0    126\n",
       "2.0    101\n",
       "4.0     80\n",
       "5.0     51\n",
       "1.0     21\n",
       "NaN      7\n",
       "Name: goout, dtype: int64"
      ]
     },
     "execution_count": 382,
     "metadata": {},
     "output_type": "execute_result"
    }
   ],
   "source": [
    "df.goout.value_counts(dropna = False)"
   ]
  },
  {
   "cell_type": "code",
   "execution_count": 383,
   "metadata": {},
   "outputs": [
    {
     "data": {
      "text/plain": [
       "<matplotlib.axes._subplots.AxesSubplot at 0x21f88b1a8c8>"
      ]
     },
     "execution_count": 383,
     "metadata": {},
     "output_type": "execute_result"
    },
    {
     "data": {
      "image/png": "[encoded data removed]",
      "text/plain": [
       "<Figure size 432x288 with 1 Axes>"
      ]
     },
     "metadata": {
      "needs_background": "light"
     },
     "output_type": "display_data"
    }
   ],
   "source": [
    "df.goout.hist()"
   ]
  },
  {
   "cell_type": "markdown",
   "metadata": {},
   "source": [
    "##### Довольно плавное распределение и всего лишь 7 пропусков. Заполним пропуски модой"
   ]
  },
  {
   "cell_type": "code",
   "execution_count": 384,
   "metadata": {},
   "outputs": [
    {
     "name": "stdout",
     "output_type": "stream",
     "text": [
      "89 nan  ->  3.0\n",
      "92 nan  ->  3.0\n",
      "200 nan  ->  3.0\n",
      "202 nan  ->  3.0\n",
      "221 nan  ->  3.0\n",
      "241 nan  ->  3.0\n",
      "322 nan  ->  3.0\n"
     ]
    }
   ],
   "source": [
    "mode_change(df, 'goout', 'goout')"
   ]
  },
  {
   "cell_type": "markdown",
   "metadata": {},
   "source": [
    "### 4.2.9. 'health' - текущее состояние здоровья (от 1 - очень плохо до 5 - очень хорошо)"
   ]
  },
  {
   "cell_type": "code",
   "execution_count": 385,
   "metadata": {},
   "outputs": [
    {
     "data": {
      "text/plain": [
       "5.0    136\n",
       "3.0     87\n",
       "4.0     59\n",
       "1.0     47\n",
       "2.0     42\n",
       "NaN     15\n",
       "Name: health, dtype: int64"
      ]
     },
     "execution_count": 385,
     "metadata": {},
     "output_type": "execute_result"
    }
   ],
   "source": [
    "df.health.value_counts(dropna = False)"
   ]
  },
  {
   "cell_type": "code",
   "execution_count": 386,
   "metadata": {},
   "outputs": [
    {
     "data": {
      "text/plain": [
       "<matplotlib.axes._subplots.AxesSubplot at 0x21f88d59548>"
      ]
     },
     "execution_count": 386,
     "metadata": {},
     "output_type": "execute_result"
    },
    {
     "data": {
      "image/png": "[encoded data removed]",
      "text/plain": [
       "<Figure size 432x288 with 1 Axes>"
      ]
     },
     "metadata": {
      "needs_background": "light"
     },
     "output_type": "display_data"
    }
   ],
   "source": [
    "df.goout.hist()"
   ]
  },
  {
   "cell_type": "markdown",
   "metadata": {},
   "source": [
    "##### Имеем 15 пропусков. Заполнить эти пропуски не представляется возможным. Cтоит рассмотреть заполнение пропусков случайными значениями в исходной пропорции."
   ]
  },
  {
   "cell_type": "markdown",
   "metadata": {},
   "source": [
    "### 4.2.10. 'sex'  - пол ученика ('F' - женский, 'M' - мужской)"
   ]
  },
  {
   "cell_type": "code",
   "execution_count": 387,
   "metadata": {},
   "outputs": [
    {
     "data": {
      "text/plain": [
       "F    202\n",
       "M    184\n",
       "Name: sex, dtype: int64"
      ]
     },
     "execution_count": 387,
     "metadata": {},
     "output_type": "execute_result"
    }
   ],
   "source": [
    "df.sex.value_counts(dropna = False)"
   ]
  },
  {
   "cell_type": "code",
   "execution_count": 388,
   "metadata": {},
   "outputs": [
    {
     "data": {
      "text/plain": [
       "<matplotlib.axes._subplots.AxesSubplot at 0x21f824619c8>"
      ]
     },
     "execution_count": 388,
     "metadata": {},
     "output_type": "execute_result"
    },
    {
     "data": {
      "image/png": "[encoded data removed]",
      "text/plain": [
       "<Figure size 432x288 with 1 Axes>"
      ]
     },
     "metadata": {
      "needs_background": "light"
     },
     "output_type": "display_data"
    }
   ],
   "source": [
    "df.sex.hist(bins = 3)"
   ]
  },
  {
   "cell_type": "markdown",
   "metadata": {},
   "source": [
    "##### Пропусков нет. Заменим F на '0', а M на '1'"
   ]
  },
  {
   "cell_type": "code",
   "execution_count": 389,
   "metadata": {},
   "outputs": [],
   "source": [
    "change_this('sex', 'F', 0)"
   ]
  },
  {
   "cell_type": "code",
   "execution_count": 390,
   "metadata": {},
   "outputs": [],
   "source": [
    "change_this('sex', 'M', 1)"
   ]
  },
  {
   "cell_type": "code",
   "execution_count": 391,
   "metadata": {},
   "outputs": [
    {
     "data": {
      "text/plain": [
       "0    202\n",
       "1    184\n",
       "Name: sex, dtype: int64"
      ]
     },
     "execution_count": 391,
     "metadata": {},
     "output_type": "execute_result"
    }
   ],
   "source": [
    "df.sex.value_counts(dropna = False)"
   ]
  },
  {
   "cell_type": "markdown",
   "metadata": {},
   "source": [
    "### 4.2.11. 'romantic' - в романтических отношениях (yes или no)"
   ]
  },
  {
   "cell_type": "code",
   "execution_count": 392,
   "metadata": {},
   "outputs": [
    {
     "data": {
      "text/plain": [
       "no     233\n",
       "yes    122\n",
       "NaN     31\n",
       "Name: romantic, dtype: int64"
      ]
     },
     "execution_count": 392,
     "metadata": {},
     "output_type": "execute_result"
    }
   ],
   "source": [
    "df.romantic.value_counts(dropna = False)"
   ]
  },
  {
   "cell_type": "markdown",
   "metadata": {},
   "source": [
    "##### Заменим 'yes' на 1, а 'no' на 0 "
   ]
  },
  {
   "cell_type": "code",
   "execution_count": 393,
   "metadata": {},
   "outputs": [],
   "source": [
    "change_this('romantic', 'yes', 1)"
   ]
  },
  {
   "cell_type": "code",
   "execution_count": 394,
   "metadata": {},
   "outputs": [],
   "source": [
    "change_this('romantic', 'no', 0)"
   ]
  },
  {
   "cell_type": "code",
   "execution_count": 395,
   "metadata": {},
   "outputs": [
    {
     "data": {
      "text/plain": [
       "0.0    233\n",
       "1.0    122\n",
       "NaN     31\n",
       "Name: romantic, dtype: int64"
      ]
     },
     "execution_count": 395,
     "metadata": {},
     "output_type": "execute_result"
    }
   ],
   "source": [
    "df.romantic.value_counts(dropna = False)"
   ]
  },
  {
   "cell_type": "markdown",
   "metadata": {},
   "source": [
    "##### Имеем 31 пропусков. Заполнить эти пропуски не представляется возможным. Cтоит рассмотреть заполнение пропусков случайными значениями в исходной пропорции."
   ]
  },
  {
   "cell_type": "markdown",
   "metadata": {},
   "source": [
    "### 4.2.12. 'school' - аббревиатура школы, в которой учится ученик"
   ]
  },
  {
   "cell_type": "code",
   "execution_count": 396,
   "metadata": {},
   "outputs": [
    {
     "data": {
      "text/plain": [
       "GP    342\n",
       "MS     44\n",
       "Name: school, dtype: int64"
      ]
     },
     "execution_count": 396,
     "metadata": {},
     "output_type": "execute_result"
    }
   ],
   "source": [
    "df.school.value_counts(dropna = False)"
   ]
  },
  {
   "cell_type": "code",
   "execution_count": 397,
   "metadata": {},
   "outputs": [],
   "source": [
    "change_this('school', 'GP', 1)\n",
    "change_this('school', 'MS', 0)"
   ]
  },
  {
   "cell_type": "markdown",
   "metadata": {},
   "source": [
    "##### Пропусков нет. Заменим на 0 и 1"
   ]
  },
  {
   "cell_type": "code",
   "execution_count": 398,
   "metadata": {},
   "outputs": [
    {
     "data": {
      "text/plain": [
       "1    342\n",
       "0     44\n",
       "Name: school, dtype: int64"
      ]
     },
     "execution_count": 398,
     "metadata": {},
     "output_type": "execute_result"
    }
   ],
   "source": [
    "df.school.value_counts(dropna = False)"
   ]
  },
  {
   "cell_type": "markdown",
   "metadata": {},
   "source": [
    "### 4.2.13. 'higher' - хочет получить высшее образование (yes или no)"
   ]
  },
  {
   "cell_type": "code",
   "execution_count": 399,
   "metadata": {},
   "outputs": [
    {
     "data": {
      "text/plain": [
       "yes    348\n",
       "NaN     20\n",
       "no      18\n",
       "Name: higher, dtype: int64"
      ]
     },
     "execution_count": 399,
     "metadata": {},
     "output_type": "execute_result"
    }
   ],
   "source": [
    "df.higher.value_counts(dropna = False)"
   ]
  },
  {
   "cell_type": "markdown",
   "metadata": {},
   "source": [
    "##### Заменим 'yes' на 1, а 'no' на 0 "
   ]
  },
  {
   "cell_type": "code",
   "execution_count": 400,
   "metadata": {},
   "outputs": [],
   "source": [
    "change_this('higher', 'yes', 1)\n",
    "change_this('higher', 'no', 0)"
   ]
  },
  {
   "cell_type": "code",
   "execution_count": 401,
   "metadata": {},
   "outputs": [
    {
     "data": {
      "text/plain": [
       "1.0    348\n",
       "NaN     20\n",
       "0.0     18\n",
       "Name: higher, dtype: int64"
      ]
     },
     "execution_count": 401,
     "metadata": {},
     "output_type": "execute_result"
    }
   ],
   "source": [
    "df.higher.value_counts(dropna = False)"
   ]
  },
  {
   "cell_type": "markdown",
   "metadata": {},
   "source": [
    "###### Имеем 18 пропусков. Заполнить эти пропуски не представляется возможным. Cтоит рассмотреть заполнение пропусков случайными значениями в исходной пропорции."
   ]
  },
  {
   "cell_type": "markdown",
   "metadata": {},
   "source": [
    "### 4.2.14. 'schoolsup' - дополнительная образовательная поддержка (yes или no)"
   ]
  },
  {
   "cell_type": "code",
   "execution_count": 402,
   "metadata": {},
   "outputs": [],
   "source": [
    "col = 'schoolsup'"
   ]
  },
  {
   "cell_type": "code",
   "execution_count": 403,
   "metadata": {
    "scrolled": true
   },
   "outputs": [
    {
     "data": {
      "text/plain": [
       "no     329\n",
       "yes     48\n",
       "NaN      9\n",
       "Name: schoolsup, dtype: int64"
      ]
     },
     "execution_count": 403,
     "metadata": {},
     "output_type": "execute_result"
    }
   ],
   "source": [
    "df[col].value_counts(dropna = False)"
   ]
  },
  {
   "cell_type": "code",
   "execution_count": 404,
   "metadata": {},
   "outputs": [
    {
     "data": {
      "text/plain": [
       "'12.7%'"
      ]
     },
     "execution_count": 404,
     "metadata": {},
     "output_type": "execute_result"
    }
   ],
   "source": [
    "percent(48,(329+48))"
   ]
  },
  {
   "cell_type": "code",
   "execution_count": 405,
   "metadata": {},
   "outputs": [],
   "source": [
    "##### Заменим 'yes' на 1, а 'no' на 0\n",
    "change_this(col, 'yes', 1)\n",
    "change_this(col, 'no', 0)"
   ]
  },
  {
   "cell_type": "code",
   "execution_count": 406,
   "metadata": {},
   "outputs": [
    {
     "data": {
      "text/plain": [
       "46.25"
      ]
     },
     "execution_count": 406,
     "metadata": {},
     "output_type": "execute_result"
    }
   ],
   "source": [
    "df[df[col] == 1].score.mean()"
   ]
  },
  {
   "cell_type": "code",
   "execution_count": 407,
   "metadata": {},
   "outputs": [
    {
     "data": {
      "text/plain": [
       "53.17629179331307"
      ]
     },
     "execution_count": 407,
     "metadata": {},
     "output_type": "execute_result"
    }
   ],
   "source": [
    "df[df[col] == 0].score.mean()"
   ]
  },
  {
   "cell_type": "code",
   "execution_count": 408,
   "metadata": {},
   "outputs": [
    {
     "data": {
      "text/plain": [
       "'11.1%'"
      ]
     },
     "execution_count": 408,
     "metadata": {},
     "output_type": "execute_result"
    }
   ],
   "source": [
    "percent(df[(df[col].isnull()) & (df['score'] < 30)].score.count(),9)"
   ]
  },
  {
   "cell_type": "markdown",
   "metadata": {},
   "source": [
    "#### Заменим пропуски примерно в исходной пропорции следующим образом: ученики у которых менее 30 баллов за экзамен имееют доп. поддержку, остальные нет."
   ]
  },
  {
   "cell_type": "markdown",
   "metadata": {},
   "source": [
    "##### Видимо дополнительной образовательной поддержкой пользуются те у кого трудности в обучении"
   ]
  },
  {
   "cell_type": "code",
   "execution_count": 409,
   "metadata": {},
   "outputs": [
    {
     "data": {
      "text/html": [
       "<div>\n",
       "<style scoped>\n",
       "    .dataframe tbody tr th:only-of-type {\n",
       "        vertical-align: middle;\n",
       "    }\n",
       "\n",
       "    .dataframe tbody tr th {\n",
       "        vertical-align: top;\n",
       "    }\n",
       "\n",
       "    .dataframe thead th {\n",
       "        text-align: right;\n",
       "    }\n",
       "</style>\n",
       "<table border=\"1\" class=\"dataframe\">\n",
       "  <thead>\n",
       "    <tr style=\"text-align: right;\">\n",
       "      <th></th>\n",
       "      <th>schoolsup</th>\n",
       "      <th>score</th>\n",
       "    </tr>\n",
       "  </thead>\n",
       "  <tbody>\n",
       "    <tr>\n",
       "      <td>27</td>\n",
       "      <td>NaN</td>\n",
       "      <td>75.0</td>\n",
       "    </tr>\n",
       "    <tr>\n",
       "      <td>35</td>\n",
       "      <td>NaN</td>\n",
       "      <td>30.0</td>\n",
       "    </tr>\n",
       "    <tr>\n",
       "      <td>79</td>\n",
       "      <td>NaN</td>\n",
       "      <td>25.0</td>\n",
       "    </tr>\n",
       "    <tr>\n",
       "      <td>151</td>\n",
       "      <td>NaN</td>\n",
       "      <td>70.0</td>\n",
       "    </tr>\n",
       "    <tr>\n",
       "      <td>211</td>\n",
       "      <td>NaN</td>\n",
       "      <td>65.0</td>\n",
       "    </tr>\n",
       "    <tr>\n",
       "      <td>274</td>\n",
       "      <td>NaN</td>\n",
       "      <td>50.0</td>\n",
       "    </tr>\n",
       "    <tr>\n",
       "      <td>321</td>\n",
       "      <td>NaN</td>\n",
       "      <td>45.0</td>\n",
       "    </tr>\n",
       "    <tr>\n",
       "      <td>392</td>\n",
       "      <td>NaN</td>\n",
       "      <td>35.0</td>\n",
       "    </tr>\n",
       "    <tr>\n",
       "      <td>394</td>\n",
       "      <td>NaN</td>\n",
       "      <td>45.0</td>\n",
       "    </tr>\n",
       "  </tbody>\n",
       "</table>\n",
       "</div>"
      ],
      "text/plain": [
       "     schoolsup  score\n",
       "27         NaN   75.0\n",
       "35         NaN   30.0\n",
       "79         NaN   25.0\n",
       "151        NaN   70.0\n",
       "211        NaN   65.0\n",
       "274        NaN   50.0\n",
       "321        NaN   45.0\n",
       "392        NaN   35.0\n",
       "394        NaN   45.0"
      ]
     },
     "execution_count": 409,
     "metadata": {},
     "output_type": "execute_result"
    }
   ],
   "source": [
    "df[[col,'score']][df[col].isnull()]"
   ]
  },
  {
   "cell_type": "code",
   "execution_count": 410,
   "metadata": {},
   "outputs": [],
   "source": [
    "change_this(col, 'yes', 1)\n",
    "change_this(col, 'no', 0)"
   ]
  },
  {
   "cell_type": "code",
   "execution_count": 411,
   "metadata": {},
   "outputs": [
    {
     "data": {
      "text/plain": [
       "79    25.0\n",
       "Name: score, dtype: float64"
      ]
     },
     "execution_count": 411,
     "metadata": {},
     "output_type": "execute_result"
    }
   ],
   "source": [
    "df[(df[col].isnull()) & (df['score'] < 30)].score"
   ]
  },
  {
   "cell_type": "code",
   "execution_count": 412,
   "metadata": {},
   "outputs": [],
   "source": [
    "df.loc[79, col] = 1"
   ]
  },
  {
   "cell_type": "code",
   "execution_count": 413,
   "metadata": {},
   "outputs": [],
   "source": [
    "ind = df[(df[col].isnull()) & (df['score'] >= 30)].score.index"
   ]
  },
  {
   "cell_type": "code",
   "execution_count": 414,
   "metadata": {},
   "outputs": [],
   "source": [
    "for i in ind:\n",
    "    df.loc[i, col] = 0"
   ]
  },
  {
   "cell_type": "code",
   "execution_count": 415,
   "metadata": {},
   "outputs": [
    {
     "data": {
      "text/plain": [
       "0.0    337\n",
       "1.0     49\n",
       "Name: schoolsup, dtype: int64"
      ]
     },
     "execution_count": 415,
     "metadata": {},
     "output_type": "execute_result"
    }
   ],
   "source": [
    "df[col].value_counts(dropna = False)"
   ]
  },
  {
   "cell_type": "code",
   "execution_count": 416,
   "metadata": {},
   "outputs": [
    {
     "data": {
      "text/plain": [
       "'12.7%'"
      ]
     },
     "execution_count": 416,
     "metadata": {},
     "output_type": "execute_result"
    }
   ],
   "source": [
    "percent(49,(337+49))"
   ]
  },
  {
   "cell_type": "markdown",
   "metadata": {},
   "source": [
    "### 4.2.15. 'guardian' - опекун ('mother' - мать, 'father' - отец, 'other' - другое)"
   ]
  },
  {
   "cell_type": "code",
   "execution_count": 417,
   "metadata": {},
   "outputs": [],
   "source": [
    "col = 'guardian'"
   ]
  },
  {
   "cell_type": "code",
   "execution_count": 418,
   "metadata": {},
   "outputs": [
    {
     "data": {
      "text/plain": [
       "mother    246\n",
       "father     86\n",
       "NaN        30\n",
       "other      24\n",
       "Name: guardian, dtype: int64"
      ]
     },
     "execution_count": 418,
     "metadata": {},
     "output_type": "execute_result"
    }
   ],
   "source": [
    "df[col].value_counts(dropna = False)"
   ]
  },
  {
   "cell_type": "code",
   "execution_count": 419,
   "metadata": {},
   "outputs": [
    {
     "data": {
      "text/plain": [
       "<matplotlib.axes._subplots.AxesSubplot at 0x21f88e647c8>"
      ]
     },
     "execution_count": 419,
     "metadata": {},
     "output_type": "execute_result"
    },
    {
     "data": {
      "image/png": "[encoded data removed]",
      "text/plain": [
       "<Figure size 432x288 with 1 Axes>"
      ]
     },
     "metadata": {
      "needs_background": "light"
     },
     "output_type": "display_data"
    }
   ],
   "source": [
    "df[col].hist()"
   ]
  },
  {
   "cell_type": "markdown",
   "metadata": {},
   "source": [
    "##### Имеем 30 пропусков. Заполнить эти пропуски не представляется возможным. Cтоит рассмотреть заполнение пропусков случайными значениями в исходной пропорции"
   ]
  },
  {
   "cell_type": "markdown",
   "metadata": {},
   "source": [
    "### 4.2.15. 'Mjob' - работа матери ('teacher' - учитель, 'health' - сфера здравоохранения, 'services' - гос служба, 'at_home' - не работает, 'other' - другое)"
   ]
  },
  {
   "cell_type": "code",
   "execution_count": 420,
   "metadata": {},
   "outputs": [],
   "source": [
    "col = 'Mjob'"
   ]
  },
  {
   "cell_type": "code",
   "execution_count": 421,
   "metadata": {},
   "outputs": [
    {
     "data": {
      "text/plain": [
       "other       126\n",
       "services     96\n",
       "at_home      58\n",
       "teacher      55\n",
       "health       32\n",
       "NaN          19\n",
       "Name: Mjob, dtype: int64"
      ]
     },
     "execution_count": 421,
     "metadata": {},
     "output_type": "execute_result"
    }
   ],
   "source": [
    "df[col].value_counts(dropna = False)"
   ]
  },
  {
   "cell_type": "code",
   "execution_count": 422,
   "metadata": {},
   "outputs": [
    {
     "data": {
      "text/plain": [
       "<matplotlib.axes._subplots.AxesSubplot at 0x21f88e88608>"
      ]
     },
     "execution_count": 422,
     "metadata": {},
     "output_type": "execute_result"
    },
    {
     "data": {
      "image/png": "[encoded data removed]",
      "text/plain": [
       "<Figure size 432x288 with 1 Axes>"
      ]
     },
     "metadata": {
      "needs_background": "light"
     },
     "output_type": "display_data"
    }
   ],
   "source": [
    "df[col].hist()"
   ]
  },
  {
   "cell_type": "markdown",
   "metadata": {},
   "source": [
    "##### Имеем 19 пропусков. Заполним пропуски в зависимости от образования (на моды)."
   ]
  },
  {
   "cell_type": "code",
   "execution_count": 423,
   "metadata": {},
   "outputs": [
    {
     "name": "stdout",
     "output_type": "stream",
     "text": [
      "29 None  ->  teacher\n",
      "54 None  ->  services\n",
      "59 None  ->  teacher\n",
      "88 None  ->  other\n",
      "104 None  ->  services\n",
      "128 None  ->  other\n",
      "145 None  ->  at_home\n",
      "156 None  ->  at_home\n",
      "166 None  ->  other\n",
      "174 None  ->  services\n",
      "177 None  ->  services\n",
      "219 None  ->  other\n",
      "224 None  ->  teacher\n",
      "260 None  ->  teacher\n",
      "265 None  ->  services\n",
      "268 None  ->  teacher\n",
      "277 None  ->  teacher\n",
      "291 None  ->  teacher\n",
      "337 None  ->  services\n"
     ]
    }
   ],
   "source": [
    "mode_change(df, col, 'Medu')"
   ]
  },
  {
   "cell_type": "code",
   "execution_count": 424,
   "metadata": {},
   "outputs": [
    {
     "data": {
      "text/plain": [
       "<matplotlib.axes._subplots.AxesSubplot at 0x21f88f3d588>"
      ]
     },
     "execution_count": 424,
     "metadata": {},
     "output_type": "execute_result"
    },
    {
     "data": {
      "image/png": "[encoded data removed]",
      "text/plain": [
       "<Figure size 432x288 with 1 Axes>"
      ]
     },
     "metadata": {
      "needs_background": "light"
     },
     "output_type": "display_data"
    }
   ],
   "source": [
    "df[col].hist()"
   ]
  },
  {
   "cell_type": "markdown",
   "metadata": {},
   "source": [
    "##### Качественно график не изменился. Отлично"
   ]
  },
  {
   "cell_type": "markdown",
   "metadata": {},
   "source": [
    "### 4.2.15. 'Fjob' - работа отца ('teacher' - учитель, 'health' - сфера здравоохранения, 'services' - гос служба, 'at_home' - не работает, 'other' - другое)"
   ]
  },
  {
   "cell_type": "code",
   "execution_count": 425,
   "metadata": {},
   "outputs": [],
   "source": [
    "col = 'Fjob'"
   ]
  },
  {
   "cell_type": "code",
   "execution_count": 426,
   "metadata": {},
   "outputs": [
    {
     "data": {
      "text/plain": [
       "other       194\n",
       "services     97\n",
       "NaN          36\n",
       "teacher      28\n",
       "at_home      16\n",
       "health       15\n",
       "Name: Fjob, dtype: int64"
      ]
     },
     "execution_count": 426,
     "metadata": {},
     "output_type": "execute_result"
    }
   ],
   "source": [
    "df[col].value_counts(dropna = False)"
   ]
  },
  {
   "cell_type": "code",
   "execution_count": 427,
   "metadata": {},
   "outputs": [
    {
     "data": {
      "text/plain": [
       "<matplotlib.axes._subplots.AxesSubplot at 0x21f88f6e888>"
      ]
     },
     "execution_count": 427,
     "metadata": {},
     "output_type": "execute_result"
    },
    {
     "data": {
      "image/png": "[encoded data removed]",
      "text/plain": [
       "<Figure size 432x288 with 1 Axes>"
      ]
     },
     "metadata": {
      "needs_background": "light"
     },
     "output_type": "display_data"
    }
   ],
   "source": [
    "df[col].hist()"
   ]
  },
  {
   "cell_type": "markdown",
   "metadata": {},
   "source": [
    "##### Имеем 36 пропусков. Заполним пропуски в зависимости от образования (на моды)."
   ]
  },
  {
   "cell_type": "code",
   "execution_count": 428,
   "metadata": {},
   "outputs": [
    {
     "name": "stdout",
     "output_type": "stream",
     "text": [
      "3 None  ->  other\n",
      "17 None  ->  other\n",
      "22 None  ->  other\n",
      "26 None  ->  other\n",
      "31 None  ->  other\n",
      "44 None  ->  other\n",
      "47 None  ->  other\n",
      "52 None  ->  other\n",
      "59 None  ->  other\n",
      "68 None  ->  other\n",
      "107 None  ->  other\n",
      "118 None  ->  other\n",
      "120 None  ->  other\n",
      "135 None  ->  other\n",
      "151 None  ->  other\n",
      "152 None  ->  other\n",
      "160 None  ->  other\n",
      "161 None  ->  other\n",
      "169 None  ->  other\n",
      "182 None  ->  other\n",
      "216 None  ->  other\n",
      "229 None  ->  other\n",
      "250 None  ->  other\n",
      "266 None  ->  other\n",
      "294 None  ->  other\n",
      "303 None  ->  other\n",
      "309 None  ->  other\n",
      "316 None  ->  other\n",
      "336 None  ->  other\n",
      "341 None  ->  other\n",
      "345 None  ->  other\n",
      "363 None  ->  other\n",
      "365 None  ->  other\n",
      "373 None  ->  other\n",
      "374 None  ->  other\n",
      "384 None  ->  other\n"
     ]
    }
   ],
   "source": [
    "mode_change(df, col, 'Fedu')"
   ]
  },
  {
   "cell_type": "code",
   "execution_count": 429,
   "metadata": {},
   "outputs": [
    {
     "data": {
      "text/plain": [
       "<matplotlib.axes._subplots.AxesSubplot at 0x21f89011e48>"
      ]
     },
     "execution_count": 429,
     "metadata": {},
     "output_type": "execute_result"
    },
    {
     "data": {
      "image/png": "[encoded data removed]",
      "text/plain": [
       "<Figure size 432x288 with 1 Axes>"
      ]
     },
     "metadata": {
      "needs_background": "light"
     },
     "output_type": "display_data"
    }
   ],
   "source": [
    "df[col].hist()"
   ]
  },
  {
   "cell_type": "markdown",
   "metadata": {},
   "source": [
    "##### Качественно график не изменился. Отлично"
   ]
  },
  {
   "cell_type": "markdown",
   "metadata": {},
   "source": [
    "### 4.2.16. 'address' - тип адреса ученика ('U' - городской, 'R' - за городом)"
   ]
  },
  {
   "cell_type": "code",
   "execution_count": 461,
   "metadata": {},
   "outputs": [],
   "source": [
    "col = 'address'"
   ]
  },
  {
   "cell_type": "code",
   "execution_count": 431,
   "metadata": {
    "scrolled": true
   },
   "outputs": [
    {
     "data": {
      "text/plain": [
       "U      289\n",
       "R       82\n",
       "NaN     15\n",
       "Name: address, dtype: int64"
      ]
     },
     "execution_count": 431,
     "metadata": {},
     "output_type": "execute_result"
    }
   ],
   "source": [
    "df[col].value_counts(dropna = False)"
   ]
  },
  {
   "cell_type": "code",
   "execution_count": 432,
   "metadata": {},
   "outputs": [
    {
     "data": {
      "text/plain": [
       "'22.1%'"
      ]
     },
     "execution_count": 432,
     "metadata": {},
     "output_type": "execute_result"
    }
   ],
   "source": [
    "percent(82,82+289)"
   ]
  },
  {
   "cell_type": "code",
   "execution_count": 433,
   "metadata": {},
   "outputs": [
    {
     "data": {
      "text/plain": [
       "<matplotlib.axes._subplots.AxesSubplot at 0x21f83afc8c8>"
      ]
     },
     "execution_count": 433,
     "metadata": {},
     "output_type": "execute_result"
    },
    {
     "data": {
      "image/png": "[encoded data removed]",
      "text/plain": [
       "<Figure size 432x288 with 1 Axes>"
      ]
     },
     "metadata": {
      "needs_background": "light"
     },
     "output_type": "display_data"
    }
   ],
   "source": [
    "df[col].hist(bins = 3)"
   ]
  },
  {
   "cell_type": "code",
   "execution_count": 434,
   "metadata": {
    "scrolled": true
   },
   "outputs": [
    {
     "data": {
      "text/plain": [
       "<matplotlib.axes._subplots.AxesSubplot at 0x21f890e0dc8>"
      ]
     },
     "execution_count": 434,
     "metadata": {},
     "output_type": "execute_result"
    },
    {
     "data": {
      "image/png": "[encoded data removed]",
      "text/plain": [
       "<Figure size 432x288 with 1 Axes>"
      ]
     },
     "metadata": {
      "needs_background": "light"
     },
     "output_type": "display_data"
    }
   ],
   "source": [
    "df[[col, 'traveltime']][df[col] == 'U'].traveltime.hist()"
   ]
  },
  {
   "cell_type": "code",
   "execution_count": 435,
   "metadata": {},
   "outputs": [
    {
     "data": {
      "text/plain": [
       "1.3321033210332103"
      ]
     },
     "execution_count": 435,
     "metadata": {},
     "output_type": "execute_result"
    }
   ],
   "source": [
    "df[[col, 'traveltime']][df[col] == 'U'].traveltime.mean()"
   ]
  },
  {
   "cell_type": "code",
   "execution_count": 436,
   "metadata": {
    "scrolled": true
   },
   "outputs": [
    {
     "data": {
      "text/plain": [
       "<matplotlib.axes._subplots.AxesSubplot at 0x21f891424c8>"
      ]
     },
     "execution_count": 436,
     "metadata": {},
     "output_type": "execute_result"
    },
    {
     "data": {
      "image/png": "[encoded data removed]",
      "text/plain": [
       "<Figure size 432x288 with 1 Axes>"
      ]
     },
     "metadata": {
      "needs_background": "light"
     },
     "output_type": "display_data"
    }
   ],
   "source": [
    "df[[col, 'traveltime']][df[col] == 'R'].traveltime.hist()"
   ]
  },
  {
   "cell_type": "code",
   "execution_count": 437,
   "metadata": {},
   "outputs": [
    {
     "data": {
      "text/plain": [
       "1.8133333333333332"
      ]
     },
     "execution_count": 437,
     "metadata": {},
     "output_type": "execute_result"
    }
   ],
   "source": [
    "df[[col, 'traveltime']][df[col] == 'R'].traveltime.mean()"
   ]
  },
  {
   "cell_type": "markdown",
   "metadata": {},
   "source": [
    "##### Характеры распределений времени у школьников живущих в городе и за городом примерно похожи. Но ученики в городе в среднем добираются до школы быстрее."
   ]
  },
  {
   "cell_type": "code",
   "execution_count": 447,
   "metadata": {
    "scrolled": true
   },
   "outputs": [
    {
     "data": {
      "text/plain": [
       "<matplotlib.axes._subplots.AxesSubplot at 0x21f8a3198c8>"
      ]
     },
     "execution_count": 447,
     "metadata": {},
     "output_type": "execute_result"
    },
    {
     "data": {
      "image/png": "[encoded data removed]",
      "text/plain": [
       "<Figure size 432x288 with 1 Axes>"
      ]
     },
     "metadata": {
      "needs_background": "light"
     },
     "output_type": "display_data"
    }
   ],
   "source": [
    "df[df['school'] == 1][col].hist()"
   ]
  },
  {
   "cell_type": "code",
   "execution_count": 448,
   "metadata": {},
   "outputs": [
    {
     "data": {
      "text/plain": [
       "<matplotlib.axes._subplots.AxesSubplot at 0x21f8a368e88>"
      ]
     },
     "execution_count": 448,
     "metadata": {},
     "output_type": "execute_result"
    },
    {
     "data": {
      "image/png": "[encoded data removed]",
      "text/plain": [
       "<Figure size 432x288 with 1 Axes>"
      ]
     },
     "metadata": {
      "needs_background": "light"
     },
     "output_type": "display_data"
    }
   ],
   "source": [
    "df[df['school'] == 0][col].hist()"
   ]
  },
  {
   "cell_type": "markdown",
   "metadata": {},
   "source": [
    "##### Почти все ученики школы 'GP' (1) живут в городе. Заменим пропуски среди учеников этой школы на U. "
   ]
  },
  {
   "cell_type": "code",
   "execution_count": 440,
   "metadata": {},
   "outputs": [
    {
     "data": {
      "text/html": [
       "<div>\n",
       "<style scoped>\n",
       "    .dataframe tbody tr th:only-of-type {\n",
       "        vertical-align: middle;\n",
       "    }\n",
       "\n",
       "    .dataframe tbody tr th {\n",
       "        vertical-align: top;\n",
       "    }\n",
       "\n",
       "    .dataframe thead th {\n",
       "        text-align: right;\n",
       "    }\n",
       "</style>\n",
       "<table border=\"1\" class=\"dataframe\">\n",
       "  <thead>\n",
       "    <tr style=\"text-align: right;\">\n",
       "      <th></th>\n",
       "      <th>address</th>\n",
       "      <th>school</th>\n",
       "    </tr>\n",
       "  </thead>\n",
       "  <tbody>\n",
       "    <tr>\n",
       "      <td>6</td>\n",
       "      <td>None</td>\n",
       "      <td>1</td>\n",
       "    </tr>\n",
       "    <tr>\n",
       "      <td>52</td>\n",
       "      <td>None</td>\n",
       "      <td>1</td>\n",
       "    </tr>\n",
       "    <tr>\n",
       "      <td>75</td>\n",
       "      <td>None</td>\n",
       "      <td>1</td>\n",
       "    </tr>\n",
       "    <tr>\n",
       "      <td>92</td>\n",
       "      <td>None</td>\n",
       "      <td>1</td>\n",
       "    </tr>\n",
       "    <tr>\n",
       "      <td>96</td>\n",
       "      <td>None</td>\n",
       "      <td>1</td>\n",
       "    </tr>\n",
       "    <tr>\n",
       "      <td>159</td>\n",
       "      <td>None</td>\n",
       "      <td>1</td>\n",
       "    </tr>\n",
       "    <tr>\n",
       "      <td>168</td>\n",
       "      <td>None</td>\n",
       "      <td>1</td>\n",
       "    </tr>\n",
       "    <tr>\n",
       "      <td>241</td>\n",
       "      <td>None</td>\n",
       "      <td>1</td>\n",
       "    </tr>\n",
       "    <tr>\n",
       "      <td>254</td>\n",
       "      <td>None</td>\n",
       "      <td>1</td>\n",
       "    </tr>\n",
       "    <tr>\n",
       "      <td>292</td>\n",
       "      <td>None</td>\n",
       "      <td>1</td>\n",
       "    </tr>\n",
       "    <tr>\n",
       "      <td>348</td>\n",
       "      <td>None</td>\n",
       "      <td>1</td>\n",
       "    </tr>\n",
       "  </tbody>\n",
       "</table>\n",
       "</div>"
      ],
      "text/plain": [
       "    address  school\n",
       "6      None       1\n",
       "52     None       1\n",
       "75     None       1\n",
       "92     None       1\n",
       "96     None       1\n",
       "159    None       1\n",
       "168    None       1\n",
       "241    None       1\n",
       "254    None       1\n",
       "292    None       1\n",
       "348    None       1"
      ]
     },
     "execution_count": 440,
     "metadata": {},
     "output_type": "execute_result"
    }
   ],
   "source": [
    "df[(df['address'].isnull())&(df['school'] == 1)][['address', 'school']]"
   ]
  },
  {
   "cell_type": "code",
   "execution_count": 441,
   "metadata": {},
   "outputs": [],
   "source": [
    "def spec_change(df, A, a, B, b):\n",
    "       \n",
    "    #разбираемся с пропусками в А, где в B пропусков нет\n",
    "    index = [x[0] for x in df[(df[A].isnull())&(df[B] == b)].iterrows()]\n",
    "         \n",
    "    for i in index:\n",
    "        print(i, df.loc[i, A],' -> ', a)\n",
    "        df.loc[i, A] = a\n"
   ]
  },
  {
   "cell_type": "code",
   "execution_count": 449,
   "metadata": {},
   "outputs": [
    {
     "name": "stdout",
     "output_type": "stream",
     "text": [
      "6 None  ->  U\n",
      "52 None  ->  U\n",
      "75 None  ->  U\n",
      "92 None  ->  U\n",
      "96 None  ->  U\n",
      "159 None  ->  U\n",
      "168 None  ->  U\n",
      "241 None  ->  U\n",
      "254 None  ->  U\n",
      "292 None  ->  U\n",
      "348 None  ->  U\n"
     ]
    }
   ],
   "source": [
    "spec_change(df, 'address', 'U', 'school', 1)"
   ]
  },
  {
   "cell_type": "code",
   "execution_count": 450,
   "metadata": {},
   "outputs": [
    {
     "data": {
      "text/plain": [
       "U      300\n",
       "R       82\n",
       "NaN      4\n",
       "Name: address, dtype: int64"
      ]
     },
     "execution_count": 450,
     "metadata": {},
     "output_type": "execute_result"
    }
   ],
   "source": [
    "df[col].value_counts(dropna = False)"
   ]
  },
  {
   "cell_type": "markdown",
   "metadata": {},
   "source": [
    "##### Остальные 4 ученика учаться в другой школе. Посмотрим на их данные"
   ]
  },
  {
   "cell_type": "code",
   "execution_count": 451,
   "metadata": {},
   "outputs": [
    {
     "data": {
      "text/html": [
       "<div>\n",
       "<style scoped>\n",
       "    .dataframe tbody tr th:only-of-type {\n",
       "        vertical-align: middle;\n",
       "    }\n",
       "\n",
       "    .dataframe tbody tr th {\n",
       "        vertical-align: top;\n",
       "    }\n",
       "\n",
       "    .dataframe thead th {\n",
       "        text-align: right;\n",
       "    }\n",
       "</style>\n",
       "<table border=\"1\" class=\"dataframe\">\n",
       "  <thead>\n",
       "    <tr style=\"text-align: right;\">\n",
       "      <th></th>\n",
       "      <th>address</th>\n",
       "      <th>traveltime</th>\n",
       "    </tr>\n",
       "  </thead>\n",
       "  <tbody>\n",
       "    <tr>\n",
       "      <td>354</td>\n",
       "      <td>None</td>\n",
       "      <td>2.0</td>\n",
       "    </tr>\n",
       "    <tr>\n",
       "      <td>359</td>\n",
       "      <td>None</td>\n",
       "      <td>2.0</td>\n",
       "    </tr>\n",
       "    <tr>\n",
       "      <td>372</td>\n",
       "      <td>None</td>\n",
       "      <td>NaN</td>\n",
       "    </tr>\n",
       "    <tr>\n",
       "      <td>376</td>\n",
       "      <td>None</td>\n",
       "      <td>2.0</td>\n",
       "    </tr>\n",
       "  </tbody>\n",
       "</table>\n",
       "</div>"
      ],
      "text/plain": [
       "    address  traveltime\n",
       "354    None         2.0\n",
       "359    None         2.0\n",
       "372    None         NaN\n",
       "376    None         2.0"
      ]
     },
     "execution_count": 451,
     "metadata": {},
     "output_type": "execute_result"
    }
   ],
   "source": [
    "df[df[col].isnull()][[col, 'traveltime']]"
   ]
  },
  {
   "cell_type": "markdown",
   "metadata": {},
   "source": [
    "#### Заменим два значения на U и два на R"
   ]
  },
  {
   "cell_type": "code",
   "execution_count": 456,
   "metadata": {},
   "outputs": [],
   "source": [
    "df.loc[354, 'address'] = 'U'\n",
    "df.loc[359, 'address'] = 'U'\n",
    "df.loc[372, 'address'] = 'R'\n",
    "df.loc[376, 'address'] = 'R'"
   ]
  },
  {
   "cell_type": "code",
   "execution_count": 458,
   "metadata": {
    "scrolled": false
   },
   "outputs": [
    {
     "data": {
      "text/plain": [
       "U    302\n",
       "R     84\n",
       "Name: address, dtype: int64"
      ]
     },
     "execution_count": 458,
     "metadata": {},
     "output_type": "execute_result"
    }
   ],
   "source": [
    "df[col].value_counts(dropna = False)"
   ]
  },
  {
   "cell_type": "code",
   "execution_count": 462,
   "metadata": {},
   "outputs": [],
   "source": [
    "change_this(col, 'U', 1)\n",
    "change_this(col, 'R', 0)"
   ]
  },
  {
   "cell_type": "code",
   "execution_count": 463,
   "metadata": {},
   "outputs": [
    {
     "data": {
      "text/plain": [
       "1    302\n",
       "0     84\n",
       "Name: address, dtype: int64"
      ]
     },
     "execution_count": 463,
     "metadata": {},
     "output_type": "execute_result"
    }
   ],
   "source": [
    "df[col].value_counts(dropna = False)"
   ]
  },
  {
   "cell_type": "markdown",
   "metadata": {},
   "source": [
    "### 4.2.17. 'internet' - наличие интернета дома (yes или no)"
   ]
  },
  {
   "cell_type": "code",
   "execution_count": 464,
   "metadata": {},
   "outputs": [],
   "source": [
    "col = 'internet'"
   ]
  },
  {
   "cell_type": "code",
   "execution_count": 465,
   "metadata": {},
   "outputs": [
    {
     "data": {
      "text/plain": [
       "yes    298\n",
       "no      54\n",
       "NaN     34\n",
       "Name: internet, dtype: int64"
      ]
     },
     "execution_count": 465,
     "metadata": {},
     "output_type": "execute_result"
    }
   ],
   "source": [
    "df[col].value_counts(dropna = False)"
   ]
  },
  {
   "cell_type": "code",
   "execution_count": 466,
   "metadata": {},
   "outputs": [],
   "source": [
    "change_this(col, 'yes', 1)\n",
    "change_this(col, 'no', 0)"
   ]
  },
  {
   "cell_type": "code",
   "execution_count": 468,
   "metadata": {},
   "outputs": [
    {
     "data": {
      "text/plain": [
       "<matplotlib.axes._subplots.AxesSubplot at 0x21f8a3f37c8>"
      ]
     },
     "execution_count": 468,
     "metadata": {},
     "output_type": "execute_result"
    },
    {
     "data": {
      "image/png": "[encoded data removed]",
      "text/plain": [
       "<Figure size 432x288 with 1 Axes>"
      ]
     },
     "metadata": {
      "needs_background": "light"
     },
     "output_type": "display_data"
    }
   ],
   "source": [
    "df[df.address == 1].internet.hist()"
   ]
  },
  {
   "cell_type": "code",
   "execution_count": 469,
   "metadata": {},
   "outputs": [
    {
     "data": {
      "text/plain": [
       "<matplotlib.axes._subplots.AxesSubplot at 0x21f8a361d88>"
      ]
     },
     "execution_count": 469,
     "metadata": {},
     "output_type": "execute_result"
    },
    {
     "data": {
      "image/png": "[encoded data removed]",
      "text/plain": [
       "<Figure size 432x288 with 1 Axes>"
      ]
     },
     "metadata": {
      "needs_background": "light"
     },
     "output_type": "display_data"
    }
   ],
   "source": [
    "df[df.address == 0].internet.hist()"
   ]
  },
  {
   "cell_type": "markdown",
   "metadata": {},
   "source": [
    "##### У проживающих в городе есть интернет у подавляющего болшиства. Можем заменить пропуски городских на 1"
   ]
  },
  {
   "cell_type": "code",
   "execution_count": 470,
   "metadata": {},
   "outputs": [
    {
     "name": "stdout",
     "output_type": "stream",
     "text": [
      "0 nan  ->  1\n",
      "12 nan  ->  1\n",
      "52 nan  ->  1\n",
      "65 nan  ->  1\n",
      "80 nan  ->  1\n",
      "86 nan  ->  1\n",
      "98 nan  ->  1\n",
      "110 nan  ->  1\n",
      "115 nan  ->  1\n",
      "117 nan  ->  1\n",
      "125 nan  ->  1\n",
      "132 nan  ->  1\n",
      "133 nan  ->  1\n",
      "141 nan  ->  1\n",
      "162 nan  ->  1\n",
      "185 nan  ->  1\n",
      "191 nan  ->  1\n",
      "194 nan  ->  1\n",
      "198 nan  ->  1\n",
      "215 nan  ->  1\n",
      "239 nan  ->  1\n",
      "251 nan  ->  1\n",
      "257 nan  ->  1\n",
      "258 nan  ->  1\n",
      "259 nan  ->  1\n",
      "333 nan  ->  1\n",
      "340 nan  ->  1\n",
      "389 nan  ->  1\n"
     ]
    }
   ],
   "source": [
    "spec_change(df, 'internet', '1', 'address', 1)"
   ]
  },
  {
   "cell_type": "code",
   "execution_count": 471,
   "metadata": {},
   "outputs": [
    {
     "data": {
      "text/plain": [
       "1.0    298\n",
       "0.0     54\n",
       "1       28\n",
       "NaN      6\n",
       "Name: internet, dtype: int64"
      ]
     },
     "execution_count": 471,
     "metadata": {},
     "output_type": "execute_result"
    }
   ],
   "source": [
    "df[col].value_counts(dropna = False)"
   ]
  },
  {
   "cell_type": "code",
   "execution_count": 473,
   "metadata": {},
   "outputs": [
    {
     "data": {
      "text/html": [
       "<div>\n",
       "<style scoped>\n",
       "    .dataframe tbody tr th:only-of-type {\n",
       "        vertical-align: middle;\n",
       "    }\n",
       "\n",
       "    .dataframe tbody tr th {\n",
       "        vertical-align: top;\n",
       "    }\n",
       "\n",
       "    .dataframe thead th {\n",
       "        text-align: right;\n",
       "    }\n",
       "</style>\n",
       "<table border=\"1\" class=\"dataframe\">\n",
       "  <thead>\n",
       "    <tr style=\"text-align: right;\">\n",
       "      <th></th>\n",
       "      <th>internet</th>\n",
       "      <th>address</th>\n",
       "      <th>score</th>\n",
       "    </tr>\n",
       "  </thead>\n",
       "  <tbody>\n",
       "    <tr>\n",
       "      <td>118</td>\n",
       "      <td>NaN</td>\n",
       "      <td>0</td>\n",
       "      <td>40.0</td>\n",
       "    </tr>\n",
       "    <tr>\n",
       "      <td>155</td>\n",
       "      <td>NaN</td>\n",
       "      <td>0</td>\n",
       "      <td>40.0</td>\n",
       "    </tr>\n",
       "    <tr>\n",
       "      <td>273</td>\n",
       "      <td>NaN</td>\n",
       "      <td>0</td>\n",
       "      <td>70.0</td>\n",
       "    </tr>\n",
       "    <tr>\n",
       "      <td>308</td>\n",
       "      <td>NaN</td>\n",
       "      <td>0</td>\n",
       "      <td>60.0</td>\n",
       "    </tr>\n",
       "    <tr>\n",
       "      <td>384</td>\n",
       "      <td>NaN</td>\n",
       "      <td>0</td>\n",
       "      <td>25.0</td>\n",
       "    </tr>\n",
       "    <tr>\n",
       "      <td>385</td>\n",
       "      <td>NaN</td>\n",
       "      <td>0</td>\n",
       "      <td>50.0</td>\n",
       "    </tr>\n",
       "  </tbody>\n",
       "</table>\n",
       "</div>"
      ],
      "text/plain": [
       "    internet  address  score\n",
       "118      NaN        0   40.0\n",
       "155      NaN        0   40.0\n",
       "273      NaN        0   70.0\n",
       "308      NaN        0   60.0\n",
       "384      NaN        0   25.0\n",
       "385      NaN        0   50.0"
      ]
     },
     "execution_count": 473,
     "metadata": {},
     "output_type": "execute_result"
    }
   ],
   "source": [
    "df[df[col].isnull()][[col, 'address', 'score']]"
   ]
  },
  {
   "cell_type": "markdown",
   "metadata": {},
   "source": [
    "##### Заменим 2 значение на отсутсвтие интернета и 4 за его наличие"
   ]
  },
  {
   "cell_type": "code",
   "execution_count": 474,
   "metadata": {},
   "outputs": [],
   "source": [
    "df.loc[118, 'internet'] = 0\n",
    "df.loc[155, 'internet'] = 1\n",
    "df.loc[273, 'internet'] = 1\n",
    "df.loc[308, 'internet'] = 1\n",
    "df.loc[384, 'internet'] = 0\n",
    "df.loc[385, 'internet'] = 1"
   ]
  },
  {
   "cell_type": "code",
   "execution_count": 476,
   "metadata": {},
   "outputs": [
    {
     "data": {
      "text/html": [
       "<div>\n",
       "<style scoped>\n",
       "    .dataframe tbody tr th:only-of-type {\n",
       "        vertical-align: middle;\n",
       "    }\n",
       "\n",
       "    .dataframe tbody tr th {\n",
       "        vertical-align: top;\n",
       "    }\n",
       "\n",
       "    .dataframe thead th {\n",
       "        text-align: right;\n",
       "    }\n",
       "</style>\n",
       "<table border=\"1\" class=\"dataframe\">\n",
       "  <thead>\n",
       "    <tr style=\"text-align: right;\">\n",
       "      <th></th>\n",
       "      <th>internet</th>\n",
       "      <th>address</th>\n",
       "      <th>score</th>\n",
       "    </tr>\n",
       "  </thead>\n",
       "  <tbody>\n",
       "  </tbody>\n",
       "</table>\n",
       "</div>"
      ],
      "text/plain": [
       "Empty DataFrame\n",
       "Columns: [internet, address, score]\n",
       "Index: []"
      ]
     },
     "execution_count": 476,
     "metadata": {},
     "output_type": "execute_result"
    }
   ],
   "source": [
    "df[df[col].isnull()][[col, 'address', 'score']]"
   ]
  },
  {
   "cell_type": "markdown",
   "metadata": {},
   "source": [
    "### 4.2.18. 'famsup' - семейная образовательная поддержка (yes или no)"
   ]
  },
  {
   "cell_type": "code",
   "execution_count": 477,
   "metadata": {},
   "outputs": [
    {
     "data": {
      "text/plain": [
       "yes    215\n",
       "no     135\n",
       "NaN     36\n",
       "Name: famsup, dtype: int64"
      ]
     },
     "execution_count": 477,
     "metadata": {},
     "output_type": "execute_result"
    }
   ],
   "source": [
    "col = 'famsup'\n",
    "df[col].value_counts(dropna = False)"
   ]
  },
  {
   "cell_type": "code",
   "execution_count": 478,
   "metadata": {},
   "outputs": [],
   "source": [
    "change_this(col, 'yes', 1)\n",
    "change_this(col, 'no', 0)"
   ]
  },
  {
   "cell_type": "markdown",
   "metadata": {},
   "source": [
    "##### Довольно много пропусков. Пока оставим без аполнения"
   ]
  },
  {
   "cell_type": "markdown",
   "metadata": {},
   "source": [
    "### 4.2.18. 'activities' - дополнительные внеучебные занятия (yes или no)"
   ]
  },
  {
   "cell_type": "code",
   "execution_count": 479,
   "metadata": {},
   "outputs": [
    {
     "data": {
      "text/plain": [
       "yes    192\n",
       "no     180\n",
       "NaN     14\n",
       "Name: activities, dtype: int64"
      ]
     },
     "execution_count": 479,
     "metadata": {},
     "output_type": "execute_result"
    }
   ],
   "source": [
    "col = 'activities'\n",
    "df[col].value_counts(dropna = False)"
   ]
  },
  {
   "cell_type": "code",
   "execution_count": 480,
   "metadata": {},
   "outputs": [],
   "source": [
    "change_this(col, 'yes', 1)\n",
    "change_this(col, 'no', 0)"
   ]
  },
  {
   "cell_type": "markdown",
   "metadata": {},
   "source": [
    "##### Здесь не так много пропусков. Предполагаю, что в данном случае пропуски это скрыйты 'no'. Выполним замену."
   ]
  },
  {
   "cell_type": "code",
   "execution_count": 481,
   "metadata": {},
   "outputs": [],
   "source": [
    "df[col] = df[col].apply(lambda x: 0 if pd.isnull(x)      \n",
    "                                  else x                          \n",
    "                        )"
   ]
  },
  {
   "cell_type": "code",
   "execution_count": 482,
   "metadata": {},
   "outputs": [
    {
     "data": {
      "text/plain": [
       "0.0    194\n",
       "1.0    192\n",
       "Name: activities, dtype: int64"
      ]
     },
     "execution_count": 482,
     "metadata": {},
     "output_type": "execute_result"
    }
   ],
   "source": [
    "df[col].value_counts(dropna = False)"
   ]
  },
  {
   "cell_type": "markdown",
   "metadata": {},
   "source": [
    "### 4.2.19. 'reason' - причина выбора школы ('home' - близость к дому, 'reputation' - репутация школы, 'course' - образовательная программа, 'other' - другое)"
   ]
  },
  {
   "cell_type": "code",
   "execution_count": 483,
   "metadata": {},
   "outputs": [
    {
     "data": {
      "text/plain": [
       "course        134\n",
       "reputation    102\n",
       "home          100\n",
       "other          33\n",
       "NaN            17\n",
       "Name: reason, dtype: int64"
      ]
     },
     "execution_count": 483,
     "metadata": {},
     "output_type": "execute_result"
    }
   ],
   "source": [
    "col = 'reason'\n",
    "df[col].value_counts(dropna = False)"
   ]
  },
  {
   "cell_type": "code",
   "execution_count": 484,
   "metadata": {},
   "outputs": [
    {
     "data": {
      "text/plain": [
       "<matplotlib.axes._subplots.AxesSubplot at 0x21f8a50a148>"
      ]
     },
     "execution_count": 484,
     "metadata": {},
     "output_type": "execute_result"
    },
    {
     "data": {
      "image/png": "[encoded data removed]",
      "text/plain": [
       "<Figure size 432x288 with 1 Axes>"
      ]
     },
     "metadata": {
      "needs_background": "light"
     },
     "output_type": "display_data"
    }
   ],
   "source": [
    "df[col].hist()"
   ]
  },
  {
   "cell_type": "markdown",
   "metadata": {},
   "source": [
    "##### Имеем 17 пропусков. Заполнить эти пропуски не представляется возможным. Cтоит рассмотреть заполнение пропусков случайными значениями в исходной пропорции"
   ]
  },
  {
   "cell_type": "markdown",
   "metadata": {},
   "source": [
    "### 4.2.20. 'paid' - дополнительные платные занятия по математике (yes или no)"
   ]
  },
  {
   "cell_type": "code",
   "execution_count": 486,
   "metadata": {},
   "outputs": [
    {
     "data": {
      "text/plain": [
       "no     195\n",
       "yes    152\n",
       "NaN     39\n",
       "Name: paid, dtype: int64"
      ]
     },
     "execution_count": 486,
     "metadata": {},
     "output_type": "execute_result"
    }
   ],
   "source": [
    "col = 'paid'\n",
    "df[col].value_counts(dropna = False)"
   ]
  },
  {
   "cell_type": "code",
   "execution_count": 487,
   "metadata": {},
   "outputs": [
    {
     "data": {
      "text/plain": [
       "<matplotlib.axes._subplots.AxesSubplot at 0x21f8a520548>"
      ]
     },
     "execution_count": 487,
     "metadata": {},
     "output_type": "execute_result"
    },
    {
     "data": {
      "image/png": "[encoded data removed]",
      "text/plain": [
       "<Figure size 432x288 with 1 Axes>"
      ]
     },
     "metadata": {
      "needs_background": "light"
     },
     "output_type": "display_data"
    }
   ],
   "source": [
    "df[col].hist()"
   ]
  },
  {
   "cell_type": "code",
   "execution_count": 488,
   "metadata": {},
   "outputs": [],
   "source": [
    "change_this(col, 'yes', 1)\n",
    "change_this(col, 'no', 0)"
   ]
  },
  {
   "cell_type": "markdown",
   "metadata": {},
   "source": [
    "##### Имеем 39 пропусков. Заполнить эти пропуски не представляется возможным. Cтоит рассмотреть заполнение пропусков случайными значениями в исходной пропорции"
   ]
  },
  {
   "cell_type": "markdown",
   "metadata": {},
   "source": [
    "### 4.2.21. 'nursery' - посещал детский сад (yes или no)"
   ]
  },
  {
   "cell_type": "code",
   "execution_count": 489,
   "metadata": {},
   "outputs": [
    {
     "data": {
      "text/plain": [
       "yes    295\n",
       "no      76\n",
       "NaN     15\n",
       "Name: nursery, dtype: int64"
      ]
     },
     "execution_count": 489,
     "metadata": {},
     "output_type": "execute_result"
    }
   ],
   "source": [
    "col = 'nursery'\n",
    "df[col].value_counts(dropna = False)"
   ]
  },
  {
   "cell_type": "code",
   "execution_count": 490,
   "metadata": {},
   "outputs": [],
   "source": [
    "change_this(col, 'yes', 1)\n",
    "change_this(col, 'no', 0)"
   ]
  },
  {
   "cell_type": "markdown",
   "metadata": {},
   "source": [
    "##### Имеем 15 пропусков. Заполнить эти пропуски не представляется возможным. Cтоит рассмотреть заполнение пропусков случайными значениями в исходной пропорции"
   ]
  },
  {
   "cell_type": "markdown",
   "metadata": {},
   "source": [
    "### 4.2.22. 'Pstatus' - статус совместного жилья родителей ('T' - живут вместе 'A' - раздельно)"
   ]
  },
  {
   "cell_type": "code",
   "execution_count": 491,
   "metadata": {},
   "outputs": [
    {
     "data": {
      "text/plain": [
       "T      307\n",
       "NaN     45\n",
       "A       34\n",
       "Name: Pstatus, dtype: int64"
      ]
     },
     "execution_count": 491,
     "metadata": {},
     "output_type": "execute_result"
    }
   ],
   "source": [
    "col = 'Pstatus'\n",
    "df[col].value_counts(dropna = False)"
   ]
  },
  {
   "cell_type": "code",
   "execution_count": 492,
   "metadata": {},
   "outputs": [],
   "source": [
    "change_this(col, 'T', 1)\n",
    "change_this(col, 'A', 0)"
   ]
  },
  {
   "cell_type": "markdown",
   "metadata": {},
   "source": [
    "##### Имеем 45 пропусков. Заполнить эти пропуски не представляется возможным. Cтоит рассмотреть заполнение пропусков случайными значениями в исходной пропорции"
   ]
  },
  {
   "cell_type": "markdown",
   "metadata": {},
   "source": [
    "# 5. Анализ корреляций и тест Стьюдента."
   ]
  },
  {
   "cell_type": "markdown",
   "metadata": {},
   "source": [
    "##### После первичной обработки данных от выбросов, мусора и частичного заполнения выполним повторно проверки зависимостей."
   ]
  },
  {
   "cell_type": "code",
   "execution_count": 494,
   "metadata": {},
   "outputs": [
    {
     "data": {
      "text/html": [
       "<style  type=\"text/css\" >\n",
       "    #T_fe821e26_9524_11ea_91bf_4ccc6af43691row0_col0 {\n",
       "            background-color:  #b40426;\n",
       "            color:  #f1f1f1;\n",
       "        }    #T_fe821e26_9524_11ea_91bf_4ccc6af43691row0_col1 {\n",
       "            background-color:  #90b2fe;\n",
       "            color:  #000000;\n",
       "        }    #T_fe821e26_9524_11ea_91bf_4ccc6af43691row0_col2 {\n",
       "            background-color:  #3b4cc0;\n",
       "            color:  #f1f1f1;\n",
       "        }    #T_fe821e26_9524_11ea_91bf_4ccc6af43691row0_col3 {\n",
       "            background-color:  #d2dbe8;\n",
       "            color:  #000000;\n",
       "        }    #T_fe821e26_9524_11ea_91bf_4ccc6af43691row0_col4 {\n",
       "            background-color:  #6485ec;\n",
       "            color:  #000000;\n",
       "        }    #T_fe821e26_9524_11ea_91bf_4ccc6af43691row0_col5 {\n",
       "            background-color:  #455cce;\n",
       "            color:  #f1f1f1;\n",
       "        }    #T_fe821e26_9524_11ea_91bf_4ccc6af43691row0_col6 {\n",
       "            background-color:  #9dbdff;\n",
       "            color:  #000000;\n",
       "        }    #T_fe821e26_9524_11ea_91bf_4ccc6af43691row0_col7 {\n",
       "            background-color:  #92b4fe;\n",
       "            color:  #000000;\n",
       "        }    #T_fe821e26_9524_11ea_91bf_4ccc6af43691row0_col8 {\n",
       "            background-color:  #4257c9;\n",
       "            color:  #f1f1f1;\n",
       "        }    #T_fe821e26_9524_11ea_91bf_4ccc6af43691row0_col9 {\n",
       "            background-color:  #a1c0ff;\n",
       "            color:  #000000;\n",
       "        }    #T_fe821e26_9524_11ea_91bf_4ccc6af43691row0_col10 {\n",
       "            background-color:  #86a9fc;\n",
       "            color:  #000000;\n",
       "        }    #T_fe821e26_9524_11ea_91bf_4ccc6af43691row0_col11 {\n",
       "            background-color:  #a3c2fe;\n",
       "            color:  #000000;\n",
       "        }    #T_fe821e26_9524_11ea_91bf_4ccc6af43691row0_col12 {\n",
       "            background-color:  #9ebeff;\n",
       "            color:  #000000;\n",
       "        }    #T_fe821e26_9524_11ea_91bf_4ccc6af43691row0_col13 {\n",
       "            background-color:  #779af7;\n",
       "            color:  #000000;\n",
       "        }    #T_fe821e26_9524_11ea_91bf_4ccc6af43691row0_col14 {\n",
       "            background-color:  #6e90f2;\n",
       "            color:  #000000;\n",
       "        }    #T_fe821e26_9524_11ea_91bf_4ccc6af43691row0_col15 {\n",
       "            background-color:  #7da0f9;\n",
       "            color:  #000000;\n",
       "        }    #T_fe821e26_9524_11ea_91bf_4ccc6af43691row0_col16 {\n",
       "            background-color:  #92b4fe;\n",
       "            color:  #000000;\n",
       "        }    #T_fe821e26_9524_11ea_91bf_4ccc6af43691row0_col17 {\n",
       "            background-color:  #4b64d5;\n",
       "            color:  #f1f1f1;\n",
       "        }    #T_fe821e26_9524_11ea_91bf_4ccc6af43691row0_col18 {\n",
       "            background-color:  #5f7fe8;\n",
       "            color:  #000000;\n",
       "        }    #T_fe821e26_9524_11ea_91bf_4ccc6af43691row0_col19 {\n",
       "            background-color:  #5673e0;\n",
       "            color:  #000000;\n",
       "        }    #T_fe821e26_9524_11ea_91bf_4ccc6af43691row0_col20 {\n",
       "            background-color:  #6282ea;\n",
       "            color:  #000000;\n",
       "        }    #T_fe821e26_9524_11ea_91bf_4ccc6af43691row0_col21 {\n",
       "            background-color:  #5b7ae5;\n",
       "            color:  #000000;\n",
       "        }    #T_fe821e26_9524_11ea_91bf_4ccc6af43691row0_col22 {\n",
       "            background-color:  #799cf8;\n",
       "            color:  #000000;\n",
       "        }    #T_fe821e26_9524_11ea_91bf_4ccc6af43691row0_col23 {\n",
       "            background-color:  #98b9ff;\n",
       "            color:  #000000;\n",
       "        }    #T_fe821e26_9524_11ea_91bf_4ccc6af43691row1_col0 {\n",
       "            background-color:  #9dbdff;\n",
       "            color:  #000000;\n",
       "        }    #T_fe821e26_9524_11ea_91bf_4ccc6af43691row1_col1 {\n",
       "            background-color:  #b40426;\n",
       "            color:  #f1f1f1;\n",
       "        }    #T_fe821e26_9524_11ea_91bf_4ccc6af43691row1_col2 {\n",
       "            background-color:  #8badfd;\n",
       "            color:  #000000;\n",
       "        }    #T_fe821e26_9524_11ea_91bf_4ccc6af43691row1_col3 {\n",
       "            background-color:  #86a9fc;\n",
       "            color:  #000000;\n",
       "        }    #T_fe821e26_9524_11ea_91bf_4ccc6af43691row1_col4 {\n",
       "            background-color:  #3c4ec2;\n",
       "            color:  #f1f1f1;\n",
       "        }    #T_fe821e26_9524_11ea_91bf_4ccc6af43691row1_col5 {\n",
       "            background-color:  #6c8ff1;\n",
       "            color:  #000000;\n",
       "        }    #T_fe821e26_9524_11ea_91bf_4ccc6af43691row1_col6 {\n",
       "            background-color:  #90b2fe;\n",
       "            color:  #000000;\n",
       "        }    #T_fe821e26_9524_11ea_91bf_4ccc6af43691row1_col7 {\n",
       "            background-color:  #8caffe;\n",
       "            color:  #000000;\n",
       "        }    #T_fe821e26_9524_11ea_91bf_4ccc6af43691row1_col8 {\n",
       "            background-color:  #90b2fe;\n",
       "            color:  #000000;\n",
       "        }    #T_fe821e26_9524_11ea_91bf_4ccc6af43691row1_col9 {\n",
       "            background-color:  #3b4cc0;\n",
       "            color:  #f1f1f1;\n",
       "        }    #T_fe821e26_9524_11ea_91bf_4ccc6af43691row1_col10 {\n",
       "            background-color:  #92b4fe;\n",
       "            color:  #000000;\n",
       "        }    #T_fe821e26_9524_11ea_91bf_4ccc6af43691row1_col11 {\n",
       "            background-color:  #5977e3;\n",
       "            color:  #000000;\n",
       "        }    #T_fe821e26_9524_11ea_91bf_4ccc6af43691row1_col12 {\n",
       "            background-color:  #3d50c3;\n",
       "            color:  #f1f1f1;\n",
       "        }    #T_fe821e26_9524_11ea_91bf_4ccc6af43691row1_col13 {\n",
       "            background-color:  #4f69d9;\n",
       "            color:  #000000;\n",
       "        }    #T_fe821e26_9524_11ea_91bf_4ccc6af43691row1_col14 {\n",
       "            background-color:  #7295f4;\n",
       "            color:  #000000;\n",
       "        }    #T_fe821e26_9524_11ea_91bf_4ccc6af43691row1_col15 {\n",
       "            background-color:  #5a78e4;\n",
       "            color:  #000000;\n",
       "        }    #T_fe821e26_9524_11ea_91bf_4ccc6af43691row1_col16 {\n",
       "            background-color:  #5977e3;\n",
       "            color:  #000000;\n",
       "        }    #T_fe821e26_9524_11ea_91bf_4ccc6af43691row1_col17 {\n",
       "            background-color:  #3c4ec2;\n",
       "            color:  #f1f1f1;\n",
       "        }    #T_fe821e26_9524_11ea_91bf_4ccc6af43691row1_col18 {\n",
       "            background-color:  #5a78e4;\n",
       "            color:  #000000;\n",
       "        }    #T_fe821e26_9524_11ea_91bf_4ccc6af43691row1_col19 {\n",
       "            background-color:  #a1c0ff;\n",
       "            color:  #000000;\n",
       "        }    #T_fe821e26_9524_11ea_91bf_4ccc6af43691row1_col20 {\n",
       "            background-color:  #7597f6;\n",
       "            color:  #000000;\n",
       "        }    #T_fe821e26_9524_11ea_91bf_4ccc6af43691row1_col21 {\n",
       "            background-color:  #80a3fa;\n",
       "            color:  #000000;\n",
       "        }    #T_fe821e26_9524_11ea_91bf_4ccc6af43691row1_col22 {\n",
       "            background-color:  #485fd1;\n",
       "            color:  #f1f1f1;\n",
       "        }    #T_fe821e26_9524_11ea_91bf_4ccc6af43691row1_col23 {\n",
       "            background-color:  #a9c6fd;\n",
       "            color:  #000000;\n",
       "        }    #T_fe821e26_9524_11ea_91bf_4ccc6af43691row2_col0 {\n",
       "            background-color:  #3b4cc0;\n",
       "            color:  #f1f1f1;\n",
       "        }    #T_fe821e26_9524_11ea_91bf_4ccc6af43691row2_col1 {\n",
       "            background-color:  #7da0f9;\n",
       "            color:  #000000;\n",
       "        }    #T_fe821e26_9524_11ea_91bf_4ccc6af43691row2_col2 {\n",
       "            background-color:  #b40426;\n",
       "            color:  #f1f1f1;\n",
       "        }    #T_fe821e26_9524_11ea_91bf_4ccc6af43691row2_col3 {\n",
       "            background-color:  #5673e0;\n",
       "            color:  #000000;\n",
       "        }    #T_fe821e26_9524_11ea_91bf_4ccc6af43691row2_col4 {\n",
       "            background-color:  #4e68d8;\n",
       "            color:  #000000;\n",
       "        }    #T_fe821e26_9524_11ea_91bf_4ccc6af43691row2_col5 {\n",
       "            background-color:  #6c8ff1;\n",
       "            color:  #000000;\n",
       "        }    #T_fe821e26_9524_11ea_91bf_4ccc6af43691row2_col6 {\n",
       "            background-color:  #516ddb;\n",
       "            color:  #000000;\n",
       "        }    #T_fe821e26_9524_11ea_91bf_4ccc6af43691row2_col7 {\n",
       "            background-color:  #536edd;\n",
       "            color:  #000000;\n",
       "        }    #T_fe821e26_9524_11ea_91bf_4ccc6af43691row2_col8 {\n",
       "            background-color:  #97b8ff;\n",
       "            color:  #000000;\n",
       "        }    #T_fe821e26_9524_11ea_91bf_4ccc6af43691row2_col9 {\n",
       "            background-color:  #82a6fb;\n",
       "            color:  #000000;\n",
       "        }    #T_fe821e26_9524_11ea_91bf_4ccc6af43691row2_col10 {\n",
       "            background-color:  #bfd3f6;\n",
       "            color:  #000000;\n",
       "        }    #T_fe821e26_9524_11ea_91bf_4ccc6af43691row2_col11 {\n",
       "            background-color:  #3b4cc0;\n",
       "            color:  #f1f1f1;\n",
       "        }    #T_fe821e26_9524_11ea_91bf_4ccc6af43691row2_col12 {\n",
       "            background-color:  #3b4cc0;\n",
       "            color:  #f1f1f1;\n",
       "        }    #T_fe821e26_9524_11ea_91bf_4ccc6af43691row2_col13 {\n",
       "            background-color:  #6384eb;\n",
       "            color:  #000000;\n",
       "        }    #T_fe821e26_9524_11ea_91bf_4ccc6af43691row2_col14 {\n",
       "            background-color:  #3c4ec2;\n",
       "            color:  #f1f1f1;\n",
       "        }    #T_fe821e26_9524_11ea_91bf_4ccc6af43691row2_col15 {\n",
       "            background-color:  #3e51c5;\n",
       "            color:  #f1f1f1;\n",
       "        }    #T_fe821e26_9524_11ea_91bf_4ccc6af43691row2_col16 {\n",
       "            background-color:  #4f69d9;\n",
       "            color:  #000000;\n",
       "        }    #T_fe821e26_9524_11ea_91bf_4ccc6af43691row2_col17 {\n",
       "            background-color:  #90b2fe;\n",
       "            color:  #000000;\n",
       "        }    #T_fe821e26_9524_11ea_91bf_4ccc6af43691row2_col18 {\n",
       "            background-color:  #5d7ce6;\n",
       "            color:  #000000;\n",
       "        }    #T_fe821e26_9524_11ea_91bf_4ccc6af43691row2_col19 {\n",
       "            background-color:  #5e7de7;\n",
       "            color:  #000000;\n",
       "        }    #T_fe821e26_9524_11ea_91bf_4ccc6af43691row2_col20 {\n",
       "            background-color:  #81a4fb;\n",
       "            color:  #000000;\n",
       "        }    #T_fe821e26_9524_11ea_91bf_4ccc6af43691row2_col21 {\n",
       "            background-color:  #3d50c3;\n",
       "            color:  #f1f1f1;\n",
       "        }    #T_fe821e26_9524_11ea_91bf_4ccc6af43691row2_col22 {\n",
       "            background-color:  #8badfd;\n",
       "            color:  #000000;\n",
       "        }    #T_fe821e26_9524_11ea_91bf_4ccc6af43691row2_col23 {\n",
       "            background-color:  #6687ed;\n",
       "            color:  #000000;\n",
       "        }    #T_fe821e26_9524_11ea_91bf_4ccc6af43691row3_col0 {\n",
       "            background-color:  #dadce0;\n",
       "            color:  #000000;\n",
       "        }    #T_fe821e26_9524_11ea_91bf_4ccc6af43691row3_col1 {\n",
       "            background-color:  #8badfd;\n",
       "            color:  #000000;\n",
       "        }    #T_fe821e26_9524_11ea_91bf_4ccc6af43691row3_col2 {\n",
       "            background-color:  #688aef;\n",
       "            color:  #000000;\n",
       "        }    #T_fe821e26_9524_11ea_91bf_4ccc6af43691row3_col3 {\n",
       "            background-color:  #b40426;\n",
       "            color:  #f1f1f1;\n",
       "        }    #T_fe821e26_9524_11ea_91bf_4ccc6af43691row3_col4 {\n",
       "            background-color:  #4257c9;\n",
       "            color:  #f1f1f1;\n",
       "        }    #T_fe821e26_9524_11ea_91bf_4ccc6af43691row3_col5 {\n",
       "            background-color:  #485fd1;\n",
       "            color:  #f1f1f1;\n",
       "        }    #T_fe821e26_9524_11ea_91bf_4ccc6af43691row3_col6 {\n",
       "            background-color:  #a5c3fe;\n",
       "            color:  #000000;\n",
       "        }    #T_fe821e26_9524_11ea_91bf_4ccc6af43691row3_col7 {\n",
       "            background-color:  #93b5fe;\n",
       "            color:  #000000;\n",
       "        }    #T_fe821e26_9524_11ea_91bf_4ccc6af43691row3_col8 {\n",
       "            background-color:  #3b4cc0;\n",
       "            color:  #f1f1f1;\n",
       "        }    #T_fe821e26_9524_11ea_91bf_4ccc6af43691row3_col9 {\n",
       "            background-color:  #779af7;\n",
       "            color:  #000000;\n",
       "        }    #T_fe821e26_9524_11ea_91bf_4ccc6af43691row3_col10 {\n",
       "            background-color:  #7093f3;\n",
       "            color:  #000000;\n",
       "        }    #T_fe821e26_9524_11ea_91bf_4ccc6af43691row3_col11 {\n",
       "            background-color:  #85a8fc;\n",
       "            color:  #000000;\n",
       "        }    #T_fe821e26_9524_11ea_91bf_4ccc6af43691row3_col12 {\n",
       "            background-color:  #6f92f3;\n",
       "            color:  #000000;\n",
       "        }    #T_fe821e26_9524_11ea_91bf_4ccc6af43691row3_col13 {\n",
       "            background-color:  #7b9ff9;\n",
       "            color:  #000000;\n",
       "        }    #T_fe821e26_9524_11ea_91bf_4ccc6af43691row3_col14 {\n",
       "            background-color:  #3e51c5;\n",
       "            color:  #f1f1f1;\n",
       "        }    #T_fe821e26_9524_11ea_91bf_4ccc6af43691row3_col15 {\n",
       "            background-color:  #6788ee;\n",
       "            color:  #000000;\n",
       "        }    #T_fe821e26_9524_11ea_91bf_4ccc6af43691row3_col16 {\n",
       "            background-color:  #8fb1fe;\n",
       "            color:  #000000;\n",
       "        }    #T_fe821e26_9524_11ea_91bf_4ccc6af43691row3_col17 {\n",
       "            background-color:  #5e7de7;\n",
       "            color:  #000000;\n",
       "        }    #T_fe821e26_9524_11ea_91bf_4ccc6af43691row3_col18 {\n",
       "            background-color:  #4a63d3;\n",
       "            color:  #f1f1f1;\n",
       "        }    #T_fe821e26_9524_11ea_91bf_4ccc6af43691row3_col19 {\n",
       "            background-color:  #6788ee;\n",
       "            color:  #000000;\n",
       "        }    #T_fe821e26_9524_11ea_91bf_4ccc6af43691row3_col20 {\n",
       "            background-color:  #6e90f2;\n",
       "            color:  #000000;\n",
       "        }    #T_fe821e26_9524_11ea_91bf_4ccc6af43691row3_col21 {\n",
       "            background-color:  #485fd1;\n",
       "            color:  #f1f1f1;\n",
       "        }    #T_fe821e26_9524_11ea_91bf_4ccc6af43691row3_col22 {\n",
       "            background-color:  #5e7de7;\n",
       "            color:  #000000;\n",
       "        }    #T_fe821e26_9524_11ea_91bf_4ccc6af43691row3_col23 {\n",
       "            background-color:  #aac7fd;\n",
       "            color:  #000000;\n",
       "        }    #T_fe821e26_9524_11ea_91bf_4ccc6af43691row4_col0 {\n",
       "            background-color:  #a1c0ff;\n",
       "            color:  #000000;\n",
       "        }    #T_fe821e26_9524_11ea_91bf_4ccc6af43691row4_col1 {\n",
       "            background-color:  #6f92f3;\n",
       "            color:  #000000;\n",
       "        }    #T_fe821e26_9524_11ea_91bf_4ccc6af43691row4_col2 {\n",
       "            background-color:  #8db0fe;\n",
       "            color:  #000000;\n",
       "        }    #T_fe821e26_9524_11ea_91bf_4ccc6af43691row4_col3 {\n",
       "            background-color:  #6f92f3;\n",
       "            color:  #000000;\n",
       "        }    #T_fe821e26_9524_11ea_91bf_4ccc6af43691row4_col4 {\n",
       "            background-color:  #b40426;\n",
       "            color:  #f1f1f1;\n",
       "        }    #T_fe821e26_9524_11ea_91bf_4ccc6af43691row4_col5 {\n",
       "            background-color:  #7396f5;\n",
       "            color:  #000000;\n",
       "        }    #T_fe821e26_9524_11ea_91bf_4ccc6af43691row4_col6 {\n",
       "            background-color:  #8caffe;\n",
       "            color:  #000000;\n",
       "        }    #T_fe821e26_9524_11ea_91bf_4ccc6af43691row4_col7 {\n",
       "            background-color:  #9dbdff;\n",
       "            color:  #000000;\n",
       "        }    #T_fe821e26_9524_11ea_91bf_4ccc6af43691row4_col8 {\n",
       "            background-color:  #7597f6;\n",
       "            color:  #000000;\n",
       "        }    #T_fe821e26_9524_11ea_91bf_4ccc6af43691row4_col9 {\n",
       "            background-color:  #9ebeff;\n",
       "            color:  #000000;\n",
       "        }    #T_fe821e26_9524_11ea_91bf_4ccc6af43691row4_col10 {\n",
       "            background-color:  #8caffe;\n",
       "            color:  #000000;\n",
       "        }    #T_fe821e26_9524_11ea_91bf_4ccc6af43691row4_col11 {\n",
       "            background-color:  #84a7fc;\n",
       "            color:  #000000;\n",
       "        }    #T_fe821e26_9524_11ea_91bf_4ccc6af43691row4_col12 {\n",
       "            background-color:  #8db0fe;\n",
       "            color:  #000000;\n",
       "        }    #T_fe821e26_9524_11ea_91bf_4ccc6af43691row4_col13 {\n",
       "            background-color:  #89acfd;\n",
       "            color:  #000000;\n",
       "        }    #T_fe821e26_9524_11ea_91bf_4ccc6af43691row4_col14 {\n",
       "            background-color:  #5b7ae5;\n",
       "            color:  #000000;\n",
       "        }    #T_fe821e26_9524_11ea_91bf_4ccc6af43691row4_col15 {\n",
       "            background-color:  #3e51c5;\n",
       "            color:  #f1f1f1;\n",
       "        }    #T_fe821e26_9524_11ea_91bf_4ccc6af43691row4_col16 {\n",
       "            background-color:  #90b2fe;\n",
       "            color:  #000000;\n",
       "        }    #T_fe821e26_9524_11ea_91bf_4ccc6af43691row4_col17 {\n",
       "            background-color:  #5b7ae5;\n",
       "            color:  #000000;\n",
       "        }    #T_fe821e26_9524_11ea_91bf_4ccc6af43691row4_col18 {\n",
       "            background-color:  #5673e0;\n",
       "            color:  #000000;\n",
       "        }    #T_fe821e26_9524_11ea_91bf_4ccc6af43691row4_col19 {\n",
       "            background-color:  #5673e0;\n",
       "            color:  #000000;\n",
       "        }    #T_fe821e26_9524_11ea_91bf_4ccc6af43691row4_col20 {\n",
       "            background-color:  #5572df;\n",
       "            color:  #000000;\n",
       "        }    #T_fe821e26_9524_11ea_91bf_4ccc6af43691row4_col21 {\n",
       "            background-color:  #6180e9;\n",
       "            color:  #000000;\n",
       "        }    #T_fe821e26_9524_11ea_91bf_4ccc6af43691row4_col22 {\n",
       "            background-color:  #536edd;\n",
       "            color:  #000000;\n",
       "        }    #T_fe821e26_9524_11ea_91bf_4ccc6af43691row4_col23 {\n",
       "            background-color:  #7b9ff9;\n",
       "            color:  #000000;\n",
       "        }    #T_fe821e26_9524_11ea_91bf_4ccc6af43691row5_col0 {\n",
       "            background-color:  #7b9ff9;\n",
       "            color:  #000000;\n",
       "        }    #T_fe821e26_9524_11ea_91bf_4ccc6af43691row5_col1 {\n",
       "            background-color:  #93b5fe;\n",
       "            color:  #000000;\n",
       "        }    #T_fe821e26_9524_11ea_91bf_4ccc6af43691row5_col2 {\n",
       "            background-color:  #9ebeff;\n",
       "            color:  #000000;\n",
       "        }    #T_fe821e26_9524_11ea_91bf_4ccc6af43691row5_col3 {\n",
       "            background-color:  #6b8df0;\n",
       "            color:  #000000;\n",
       "        }    #T_fe821e26_9524_11ea_91bf_4ccc6af43691row5_col4 {\n",
       "            background-color:  #6a8bef;\n",
       "            color:  #000000;\n",
       "        }    #T_fe821e26_9524_11ea_91bf_4ccc6af43691row5_col5 {\n",
       "            background-color:  #b40426;\n",
       "            color:  #f1f1f1;\n",
       "        }    #T_fe821e26_9524_11ea_91bf_4ccc6af43691row5_col6 {\n",
       "            background-color:  #5470de;\n",
       "            color:  #000000;\n",
       "        }    #T_fe821e26_9524_11ea_91bf_4ccc6af43691row5_col7 {\n",
       "            background-color:  #5a78e4;\n",
       "            color:  #000000;\n",
       "        }    #T_fe821e26_9524_11ea_91bf_4ccc6af43691row5_col8 {\n",
       "            background-color:  #9abbff;\n",
       "            color:  #000000;\n",
       "        }    #T_fe821e26_9524_11ea_91bf_4ccc6af43691row5_col9 {\n",
       "            background-color:  #89acfd;\n",
       "            color:  #000000;\n",
       "        }    #T_fe821e26_9524_11ea_91bf_4ccc6af43691row5_col10 {\n",
       "            background-color:  #94b6ff;\n",
       "            color:  #000000;\n",
       "        }    #T_fe821e26_9524_11ea_91bf_4ccc6af43691row5_col11 {\n",
       "            background-color:  #6f92f3;\n",
       "            color:  #000000;\n",
       "        }    #T_fe821e26_9524_11ea_91bf_4ccc6af43691row5_col12 {\n",
       "            background-color:  #6180e9;\n",
       "            color:  #000000;\n",
       "        }    #T_fe821e26_9524_11ea_91bf_4ccc6af43691row5_col13 {\n",
       "            background-color:  #7b9ff9;\n",
       "            color:  #000000;\n",
       "        }    #T_fe821e26_9524_11ea_91bf_4ccc6af43691row5_col14 {\n",
       "            background-color:  #6e90f2;\n",
       "            color:  #000000;\n",
       "        }    #T_fe821e26_9524_11ea_91bf_4ccc6af43691row5_col15 {\n",
       "            background-color:  #4257c9;\n",
       "            color:  #f1f1f1;\n",
       "        }    #T_fe821e26_9524_11ea_91bf_4ccc6af43691row5_col16 {\n",
       "            background-color:  #7396f5;\n",
       "            color:  #000000;\n",
       "        }    #T_fe821e26_9524_11ea_91bf_4ccc6af43691row5_col17 {\n",
       "            background-color:  #5470de;\n",
       "            color:  #000000;\n",
       "        }    #T_fe821e26_9524_11ea_91bf_4ccc6af43691row5_col18 {\n",
       "            background-color:  #5673e0;\n",
       "            color:  #000000;\n",
       "        }    #T_fe821e26_9524_11ea_91bf_4ccc6af43691row5_col19 {\n",
       "            background-color:  #6c8ff1;\n",
       "            color:  #000000;\n",
       "        }    #T_fe821e26_9524_11ea_91bf_4ccc6af43691row5_col20 {\n",
       "            background-color:  #6485ec;\n",
       "            color:  #000000;\n",
       "        }    #T_fe821e26_9524_11ea_91bf_4ccc6af43691row5_col21 {\n",
       "            background-color:  #5875e1;\n",
       "            color:  #000000;\n",
       "        }    #T_fe821e26_9524_11ea_91bf_4ccc6af43691row5_col22 {\n",
       "            background-color:  #3b4cc0;\n",
       "            color:  #f1f1f1;\n",
       "        }    #T_fe821e26_9524_11ea_91bf_4ccc6af43691row5_col23 {\n",
       "            background-color:  #80a3fa;\n",
       "            color:  #000000;\n",
       "        }    #T_fe821e26_9524_11ea_91bf_4ccc6af43691row6_col0 {\n",
       "            background-color:  #b3cdfb;\n",
       "            color:  #000000;\n",
       "        }    #T_fe821e26_9524_11ea_91bf_4ccc6af43691row6_col1 {\n",
       "            background-color:  #9ebeff;\n",
       "            color:  #000000;\n",
       "        }    #T_fe821e26_9524_11ea_91bf_4ccc6af43691row6_col2 {\n",
       "            background-color:  #6e90f2;\n",
       "            color:  #000000;\n",
       "        }    #T_fe821e26_9524_11ea_91bf_4ccc6af43691row6_col3 {\n",
       "            background-color:  #aec9fc;\n",
       "            color:  #000000;\n",
       "        }    #T_fe821e26_9524_11ea_91bf_4ccc6af43691row6_col4 {\n",
       "            background-color:  #6a8bef;\n",
       "            color:  #000000;\n",
       "        }    #T_fe821e26_9524_11ea_91bf_4ccc6af43691row6_col5 {\n",
       "            background-color:  #3b4cc0;\n",
       "            color:  #f1f1f1;\n",
       "        }    #T_fe821e26_9524_11ea_91bf_4ccc6af43691row6_col6 {\n",
       "            background-color:  #b40426;\n",
       "            color:  #f1f1f1;\n",
       "        }    #T_fe821e26_9524_11ea_91bf_4ccc6af43691row6_col7 {\n",
       "            background-color:  #f6a586;\n",
       "            color:  #000000;\n",
       "        }    #T_fe821e26_9524_11ea_91bf_4ccc6af43691row6_col8 {\n",
       "            background-color:  #5673e0;\n",
       "            color:  #000000;\n",
       "        }    #T_fe821e26_9524_11ea_91bf_4ccc6af43691row6_col9 {\n",
       "            background-color:  #9dbdff;\n",
       "            color:  #000000;\n",
       "        }    #T_fe821e26_9524_11ea_91bf_4ccc6af43691row6_col10 {\n",
       "            background-color:  #506bda;\n",
       "            color:  #000000;\n",
       "        }    #T_fe821e26_9524_11ea_91bf_4ccc6af43691row6_col11 {\n",
       "            background-color:  #7699f6;\n",
       "            color:  #000000;\n",
       "        }    #T_fe821e26_9524_11ea_91bf_4ccc6af43691row6_col12 {\n",
       "            background-color:  #a3c2fe;\n",
       "            color:  #000000;\n",
       "        }    #T_fe821e26_9524_11ea_91bf_4ccc6af43691row6_col13 {\n",
       "            background-color:  #a1c0ff;\n",
       "            color:  #000000;\n",
       "        }    #T_fe821e26_9524_11ea_91bf_4ccc6af43691row6_col14 {\n",
       "            background-color:  #7093f3;\n",
       "            color:  #000000;\n",
       "        }    #T_fe821e26_9524_11ea_91bf_4ccc6af43691row6_col15 {\n",
       "            background-color:  #93b5fe;\n",
       "            color:  #000000;\n",
       "        }    #T_fe821e26_9524_11ea_91bf_4ccc6af43691row6_col16 {\n",
       "            background-color:  #bad0f8;\n",
       "            color:  #000000;\n",
       "        }    #T_fe821e26_9524_11ea_91bf_4ccc6af43691row6_col17 {\n",
       "            background-color:  #6485ec;\n",
       "            color:  #000000;\n",
       "        }    #T_fe821e26_9524_11ea_91bf_4ccc6af43691row6_col18 {\n",
       "            background-color:  #4c66d6;\n",
       "            color:  #000000;\n",
       "        }    #T_fe821e26_9524_11ea_91bf_4ccc6af43691row6_col19 {\n",
       "            background-color:  #6788ee;\n",
       "            color:  #000000;\n",
       "        }    #T_fe821e26_9524_11ea_91bf_4ccc6af43691row6_col20 {\n",
       "            background-color:  #7093f3;\n",
       "            color:  #000000;\n",
       "        }    #T_fe821e26_9524_11ea_91bf_4ccc6af43691row6_col21 {\n",
       "            background-color:  #455cce;\n",
       "            color:  #f1f1f1;\n",
       "        }    #T_fe821e26_9524_11ea_91bf_4ccc6af43691row6_col22 {\n",
       "            background-color:  #7a9df8;\n",
       "            color:  #000000;\n",
       "        }    #T_fe821e26_9524_11ea_91bf_4ccc6af43691row6_col23 {\n",
       "            background-color:  #c5d6f2;\n",
       "            color:  #000000;\n",
       "        }    #T_fe821e26_9524_11ea_91bf_4ccc6af43691row7_col0 {\n",
       "            background-color:  #a6c4fe;\n",
       "            color:  #000000;\n",
       "        }    #T_fe821e26_9524_11ea_91bf_4ccc6af43691row7_col1 {\n",
       "            background-color:  #96b7ff;\n",
       "            color:  #000000;\n",
       "        }    #T_fe821e26_9524_11ea_91bf_4ccc6af43691row7_col2 {\n",
       "            background-color:  #6b8df0;\n",
       "            color:  #000000;\n",
       "        }    #T_fe821e26_9524_11ea_91bf_4ccc6af43691row7_col3 {\n",
       "            background-color:  #98b9ff;\n",
       "            color:  #000000;\n",
       "        }    #T_fe821e26_9524_11ea_91bf_4ccc6af43691row7_col4 {\n",
       "            background-color:  #799cf8;\n",
       "            color:  #000000;\n",
       "        }    #T_fe821e26_9524_11ea_91bf_4ccc6af43691row7_col5 {\n",
       "            background-color:  #3c4ec2;\n",
       "            color:  #f1f1f1;\n",
       "        }    #T_fe821e26_9524_11ea_91bf_4ccc6af43691row7_col6 {\n",
       "            background-color:  #f7a688;\n",
       "            color:  #000000;\n",
       "        }    #T_fe821e26_9524_11ea_91bf_4ccc6af43691row7_col7 {\n",
       "            background-color:  #b40426;\n",
       "            color:  #f1f1f1;\n",
       "        }    #T_fe821e26_9524_11ea_91bf_4ccc6af43691row7_col8 {\n",
       "            background-color:  #6180e9;\n",
       "            color:  #000000;\n",
       "        }    #T_fe821e26_9524_11ea_91bf_4ccc6af43691row7_col9 {\n",
       "            background-color:  #89acfd;\n",
       "            color:  #000000;\n",
       "        }    #T_fe821e26_9524_11ea_91bf_4ccc6af43691row7_col10 {\n",
       "            background-color:  #4c66d6;\n",
       "            color:  #000000;\n",
       "        }    #T_fe821e26_9524_11ea_91bf_4ccc6af43691row7_col11 {\n",
       "            background-color:  #8caffe;\n",
       "            color:  #000000;\n",
       "        }    #T_fe821e26_9524_11ea_91bf_4ccc6af43691row7_col12 {\n",
       "            background-color:  #a7c5fe;\n",
       "            color:  #000000;\n",
       "        }    #T_fe821e26_9524_11ea_91bf_4ccc6af43691row7_col13 {\n",
       "            background-color:  #8caffe;\n",
       "            color:  #000000;\n",
       "        }    #T_fe821e26_9524_11ea_91bf_4ccc6af43691row7_col14 {\n",
       "            background-color:  #6f92f3;\n",
       "            color:  #000000;\n",
       "        }    #T_fe821e26_9524_11ea_91bf_4ccc6af43691row7_col15 {\n",
       "            background-color:  #8caffe;\n",
       "            color:  #000000;\n",
       "        }    #T_fe821e26_9524_11ea_91bf_4ccc6af43691row7_col16 {\n",
       "            background-color:  #b9d0f9;\n",
       "            color:  #000000;\n",
       "        }    #T_fe821e26_9524_11ea_91bf_4ccc6af43691row7_col17 {\n",
       "            background-color:  #5f7fe8;\n",
       "            color:  #000000;\n",
       "        }    #T_fe821e26_9524_11ea_91bf_4ccc6af43691row7_col18 {\n",
       "            background-color:  #4c66d6;\n",
       "            color:  #000000;\n",
       "        }    #T_fe821e26_9524_11ea_91bf_4ccc6af43691row7_col19 {\n",
       "            background-color:  #5d7ce6;\n",
       "            color:  #000000;\n",
       "        }    #T_fe821e26_9524_11ea_91bf_4ccc6af43691row7_col20 {\n",
       "            background-color:  #6e90f2;\n",
       "            color:  #000000;\n",
       "        }    #T_fe821e26_9524_11ea_91bf_4ccc6af43691row7_col21 {\n",
       "            background-color:  #5d7ce6;\n",
       "            color:  #000000;\n",
       "        }    #T_fe821e26_9524_11ea_91bf_4ccc6af43691row7_col22 {\n",
       "            background-color:  #6c8ff1;\n",
       "            color:  #000000;\n",
       "        }    #T_fe821e26_9524_11ea_91bf_4ccc6af43691row7_col23 {\n",
       "            background-color:  #b1cbfc;\n",
       "            color:  #000000;\n",
       "        }    #T_fe821e26_9524_11ea_91bf_4ccc6af43691row8_col0 {\n",
       "            background-color:  #5572df;\n",
       "            color:  #000000;\n",
       "        }    #T_fe821e26_9524_11ea_91bf_4ccc6af43691row8_col1 {\n",
       "            background-color:  #94b6ff;\n",
       "            color:  #000000;\n",
       "        }    #T_fe821e26_9524_11ea_91bf_4ccc6af43691row8_col2 {\n",
       "            background-color:  #a7c5fe;\n",
       "            color:  #000000;\n",
       "        }    #T_fe821e26_9524_11ea_91bf_4ccc6af43691row8_col3 {\n",
       "            background-color:  #3b4cc0;\n",
       "            color:  #f1f1f1;\n",
       "        }    #T_fe821e26_9524_11ea_91bf_4ccc6af43691row8_col4 {\n",
       "            background-color:  #465ecf;\n",
       "            color:  #f1f1f1;\n",
       "        }    #T_fe821e26_9524_11ea_91bf_4ccc6af43691row8_col5 {\n",
       "            background-color:  #799cf8;\n",
       "            color:  #000000;\n",
       "        }    #T_fe821e26_9524_11ea_91bf_4ccc6af43691row8_col6 {\n",
       "            background-color:  #4b64d5;\n",
       "            color:  #f1f1f1;\n",
       "        }    #T_fe821e26_9524_11ea_91bf_4ccc6af43691row8_col7 {\n",
       "            background-color:  #5a78e4;\n",
       "            color:  #000000;\n",
       "        }    #T_fe821e26_9524_11ea_91bf_4ccc6af43691row8_col8 {\n",
       "            background-color:  #b40426;\n",
       "            color:  #f1f1f1;\n",
       "        }    #T_fe821e26_9524_11ea_91bf_4ccc6af43691row8_col9 {\n",
       "            background-color:  #6b8df0;\n",
       "            color:  #000000;\n",
       "        }    #T_fe821e26_9524_11ea_91bf_4ccc6af43691row8_col10 {\n",
       "            background-color:  #9abbff;\n",
       "            color:  #000000;\n",
       "        }    #T_fe821e26_9524_11ea_91bf_4ccc6af43691row8_col11 {\n",
       "            background-color:  #7b9ff9;\n",
       "            color:  #000000;\n",
       "        }    #T_fe821e26_9524_11ea_91bf_4ccc6af43691row8_col12 {\n",
       "            background-color:  #6384eb;\n",
       "            color:  #000000;\n",
       "        }    #T_fe821e26_9524_11ea_91bf_4ccc6af43691row8_col13 {\n",
       "            background-color:  #6384eb;\n",
       "            color:  #000000;\n",
       "        }    #T_fe821e26_9524_11ea_91bf_4ccc6af43691row8_col14 {\n",
       "            background-color:  #516ddb;\n",
       "            color:  #000000;\n",
       "        }    #T_fe821e26_9524_11ea_91bf_4ccc6af43691row8_col15 {\n",
       "            background-color:  #4e68d8;\n",
       "            color:  #000000;\n",
       "        }    #T_fe821e26_9524_11ea_91bf_4ccc6af43691row8_col16 {\n",
       "            background-color:  #7295f4;\n",
       "            color:  #000000;\n",
       "        }    #T_fe821e26_9524_11ea_91bf_4ccc6af43691row8_col17 {\n",
       "            background-color:  #6485ec;\n",
       "            color:  #000000;\n",
       "        }    #T_fe821e26_9524_11ea_91bf_4ccc6af43691row8_col18 {\n",
       "            background-color:  #445acc;\n",
       "            color:  #f1f1f1;\n",
       "        }    #T_fe821e26_9524_11ea_91bf_4ccc6af43691row8_col19 {\n",
       "            background-color:  #5673e0;\n",
       "            color:  #000000;\n",
       "        }    #T_fe821e26_9524_11ea_91bf_4ccc6af43691row8_col20 {\n",
       "            background-color:  #6788ee;\n",
       "            color:  #000000;\n",
       "        }    #T_fe821e26_9524_11ea_91bf_4ccc6af43691row8_col21 {\n",
       "            background-color:  #4e68d8;\n",
       "            color:  #000000;\n",
       "        }    #T_fe821e26_9524_11ea_91bf_4ccc6af43691row8_col22 {\n",
       "            background-color:  #506bda;\n",
       "            color:  #000000;\n",
       "        }    #T_fe821e26_9524_11ea_91bf_4ccc6af43691row8_col23 {\n",
       "            background-color:  #7b9ff9;\n",
       "            color:  #000000;\n",
       "        }    #T_fe821e26_9524_11ea_91bf_4ccc6af43691row9_col0 {\n",
       "            background-color:  #abc8fd;\n",
       "            color:  #000000;\n",
       "        }    #T_fe821e26_9524_11ea_91bf_4ccc6af43691row9_col1 {\n",
       "            background-color:  #3b4cc0;\n",
       "            color:  #f1f1f1;\n",
       "        }    #T_fe821e26_9524_11ea_91bf_4ccc6af43691row9_col2 {\n",
       "            background-color:  #8fb1fe;\n",
       "            color:  #000000;\n",
       "        }    #T_fe821e26_9524_11ea_91bf_4ccc6af43691row9_col3 {\n",
       "            background-color:  #7295f4;\n",
       "            color:  #000000;\n",
       "        }    #T_fe821e26_9524_11ea_91bf_4ccc6af43691row9_col4 {\n",
       "            background-color:  #6f92f3;\n",
       "            color:  #000000;\n",
       "        }    #T_fe821e26_9524_11ea_91bf_4ccc6af43691row9_col5 {\n",
       "            background-color:  #6180e9;\n",
       "            color:  #000000;\n",
       "        }    #T_fe821e26_9524_11ea_91bf_4ccc6af43691row9_col6 {\n",
       "            background-color:  #8fb1fe;\n",
       "            color:  #000000;\n",
       "        }    #T_fe821e26_9524_11ea_91bf_4ccc6af43691row9_col7 {\n",
       "            background-color:  #80a3fa;\n",
       "            color:  #000000;\n",
       "        }    #T_fe821e26_9524_11ea_91bf_4ccc6af43691row9_col8 {\n",
       "            background-color:  #6687ed;\n",
       "            color:  #000000;\n",
       "        }    #T_fe821e26_9524_11ea_91bf_4ccc6af43691row9_col9 {\n",
       "            background-color:  #b40426;\n",
       "            color:  #f1f1f1;\n",
       "        }    #T_fe821e26_9524_11ea_91bf_4ccc6af43691row9_col10 {\n",
       "            background-color:  #6180e9;\n",
       "            color:  #000000;\n",
       "        }    #T_fe821e26_9524_11ea_91bf_4ccc6af43691row9_col11 {\n",
       "            background-color:  #88abfd;\n",
       "            color:  #000000;\n",
       "        }    #T_fe821e26_9524_11ea_91bf_4ccc6af43691row9_col12 {\n",
       "            background-color:  #8caffe;\n",
       "            color:  #000000;\n",
       "        }    #T_fe821e26_9524_11ea_91bf_4ccc6af43691row9_col13 {\n",
       "            background-color:  #a7c5fe;\n",
       "            color:  #000000;\n",
       "        }    #T_fe821e26_9524_11ea_91bf_4ccc6af43691row9_col14 {\n",
       "            background-color:  #7597f6;\n",
       "            color:  #000000;\n",
       "        }    #T_fe821e26_9524_11ea_91bf_4ccc6af43691row9_col15 {\n",
       "            background-color:  #7597f6;\n",
       "            color:  #000000;\n",
       "        }    #T_fe821e26_9524_11ea_91bf_4ccc6af43691row9_col16 {\n",
       "            background-color:  #b6cefa;\n",
       "            color:  #000000;\n",
       "        }    #T_fe821e26_9524_11ea_91bf_4ccc6af43691row9_col17 {\n",
       "            background-color:  #6f92f3;\n",
       "            color:  #000000;\n",
       "        }    #T_fe821e26_9524_11ea_91bf_4ccc6af43691row9_col18 {\n",
       "            background-color:  #5a78e4;\n",
       "            color:  #000000;\n",
       "        }    #T_fe821e26_9524_11ea_91bf_4ccc6af43691row9_col19 {\n",
       "            background-color:  #3b4cc0;\n",
       "            color:  #f1f1f1;\n",
       "        }    #T_fe821e26_9524_11ea_91bf_4ccc6af43691row9_col20 {\n",
       "            background-color:  #4c66d6;\n",
       "            color:  #000000;\n",
       "        }    #T_fe821e26_9524_11ea_91bf_4ccc6af43691row9_col21 {\n",
       "            background-color:  #3c4ec2;\n",
       "            color:  #f1f1f1;\n",
       "        }    #T_fe821e26_9524_11ea_91bf_4ccc6af43691row9_col22 {\n",
       "            background-color:  #455cce;\n",
       "            color:  #f1f1f1;\n",
       "        }    #T_fe821e26_9524_11ea_91bf_4ccc6af43691row9_col23 {\n",
       "            background-color:  #abc8fd;\n",
       "            color:  #000000;\n",
       "        }    #T_fe821e26_9524_11ea_91bf_4ccc6af43691row10_col0 {\n",
       "            background-color:  #8caffe;\n",
       "            color:  #000000;\n",
       "        }    #T_fe821e26_9524_11ea_91bf_4ccc6af43691row10_col1 {\n",
       "            background-color:  #8badfd;\n",
       "            color:  #000000;\n",
       "        }    #T_fe821e26_9524_11ea_91bf_4ccc6af43691row10_col2 {\n",
       "            background-color:  #c4d5f3;\n",
       "            color:  #000000;\n",
       "        }    #T_fe821e26_9524_11ea_91bf_4ccc6af43691row10_col3 {\n",
       "            background-color:  #6485ec;\n",
       "            color:  #000000;\n",
       "        }    #T_fe821e26_9524_11ea_91bf_4ccc6af43691row10_col4 {\n",
       "            background-color:  #5470de;\n",
       "            color:  #000000;\n",
       "        }    #T_fe821e26_9524_11ea_91bf_4ccc6af43691row10_col5 {\n",
       "            background-color:  #6687ed;\n",
       "            color:  #000000;\n",
       "        }    #T_fe821e26_9524_11ea_91bf_4ccc6af43691row10_col6 {\n",
       "            background-color:  #3b4cc0;\n",
       "            color:  #f1f1f1;\n",
       "        }    #T_fe821e26_9524_11ea_91bf_4ccc6af43691row10_col7 {\n",
       "            background-color:  #3b4cc0;\n",
       "            color:  #f1f1f1;\n",
       "        }    #T_fe821e26_9524_11ea_91bf_4ccc6af43691row10_col8 {\n",
       "            background-color:  #90b2fe;\n",
       "            color:  #000000;\n",
       "        }    #T_fe821e26_9524_11ea_91bf_4ccc6af43691row10_col9 {\n",
       "            background-color:  #5a78e4;\n",
       "            color:  #000000;\n",
       "        }    #T_fe821e26_9524_11ea_91bf_4ccc6af43691row10_col10 {\n",
       "            background-color:  #b40426;\n",
       "            color:  #f1f1f1;\n",
       "        }    #T_fe821e26_9524_11ea_91bf_4ccc6af43691row10_col11 {\n",
       "            background-color:  #82a6fb;\n",
       "            color:  #000000;\n",
       "        }    #T_fe821e26_9524_11ea_91bf_4ccc6af43691row10_col12 {\n",
       "            background-color:  #4e68d8;\n",
       "            color:  #000000;\n",
       "        }    #T_fe821e26_9524_11ea_91bf_4ccc6af43691row10_col13 {\n",
       "            background-color:  #3b4cc0;\n",
       "            color:  #f1f1f1;\n",
       "        }    #T_fe821e26_9524_11ea_91bf_4ccc6af43691row10_col14 {\n",
       "            background-color:  #3b4cc0;\n",
       "            color:  #f1f1f1;\n",
       "        }    #T_fe821e26_9524_11ea_91bf_4ccc6af43691row10_col15 {\n",
       "            background-color:  #3b4cc0;\n",
       "            color:  #f1f1f1;\n",
       "        }    #T_fe821e26_9524_11ea_91bf_4ccc6af43691row10_col16 {\n",
       "            background-color:  #3b4cc0;\n",
       "            color:  #f1f1f1;\n",
       "        }    #T_fe821e26_9524_11ea_91bf_4ccc6af43691row10_col17 {\n",
       "            background-color:  #82a6fb;\n",
       "            color:  #000000;\n",
       "        }    #T_fe821e26_9524_11ea_91bf_4ccc6af43691row10_col18 {\n",
       "            background-color:  #4358cb;\n",
       "            color:  #f1f1f1;\n",
       "        }    #T_fe821e26_9524_11ea_91bf_4ccc6af43691row10_col19 {\n",
       "            background-color:  #7396f5;\n",
       "            color:  #000000;\n",
       "        }    #T_fe821e26_9524_11ea_91bf_4ccc6af43691row10_col20 {\n",
       "            background-color:  #799cf8;\n",
       "            color:  #000000;\n",
       "        }    #T_fe821e26_9524_11ea_91bf_4ccc6af43691row10_col21 {\n",
       "            background-color:  #6c8ff1;\n",
       "            color:  #000000;\n",
       "        }    #T_fe821e26_9524_11ea_91bf_4ccc6af43691row10_col22 {\n",
       "            background-color:  #7093f3;\n",
       "            color:  #000000;\n",
       "        }    #T_fe821e26_9524_11ea_91bf_4ccc6af43691row10_col23 {\n",
       "            background-color:  #3b4cc0;\n",
       "            color:  #f1f1f1;\n",
       "        }    #T_fe821e26_9524_11ea_91bf_4ccc6af43691row11_col0 {\n",
       "            background-color:  #b6cefa;\n",
       "            color:  #000000;\n",
       "        }    #T_fe821e26_9524_11ea_91bf_4ccc6af43691row11_col1 {\n",
       "            background-color:  #6485ec;\n",
       "            color:  #000000;\n",
       "        }    #T_fe821e26_9524_11ea_91bf_4ccc6af43691row11_col2 {\n",
       "            background-color:  #536edd;\n",
       "            color:  #000000;\n",
       "        }    #T_fe821e26_9524_11ea_91bf_4ccc6af43691row11_col3 {\n",
       "            background-color:  #8badfd;\n",
       "            color:  #000000;\n",
       "        }    #T_fe821e26_9524_11ea_91bf_4ccc6af43691row11_col4 {\n",
       "            background-color:  #5d7ce6;\n",
       "            color:  #000000;\n",
       "        }    #T_fe821e26_9524_11ea_91bf_4ccc6af43691row11_col5 {\n",
       "            background-color:  #516ddb;\n",
       "            color:  #000000;\n",
       "        }    #T_fe821e26_9524_11ea_91bf_4ccc6af43691row11_col6 {\n",
       "            background-color:  #7295f4;\n",
       "            color:  #000000;\n",
       "        }    #T_fe821e26_9524_11ea_91bf_4ccc6af43691row11_col7 {\n",
       "            background-color:  #8caffe;\n",
       "            color:  #000000;\n",
       "        }    #T_fe821e26_9524_11ea_91bf_4ccc6af43691row11_col8 {\n",
       "            background-color:  #81a4fb;\n",
       "            color:  #000000;\n",
       "        }    #T_fe821e26_9524_11ea_91bf_4ccc6af43691row11_col9 {\n",
       "            background-color:  #92b4fe;\n",
       "            color:  #000000;\n",
       "        }    #T_fe821e26_9524_11ea_91bf_4ccc6af43691row11_col10 {\n",
       "            background-color:  #93b5fe;\n",
       "            color:  #000000;\n",
       "        }    #T_fe821e26_9524_11ea_91bf_4ccc6af43691row11_col11 {\n",
       "            background-color:  #b40426;\n",
       "            color:  #f1f1f1;\n",
       "        }    #T_fe821e26_9524_11ea_91bf_4ccc6af43691row11_col12 {\n",
       "            background-color:  #84a7fc;\n",
       "            color:  #000000;\n",
       "        }    #T_fe821e26_9524_11ea_91bf_4ccc6af43691row11_col13 {\n",
       "            background-color:  #6788ee;\n",
       "            color:  #000000;\n",
       "        }    #T_fe821e26_9524_11ea_91bf_4ccc6af43691row11_col14 {\n",
       "            background-color:  #536edd;\n",
       "            color:  #000000;\n",
       "        }    #T_fe821e26_9524_11ea_91bf_4ccc6af43691row11_col15 {\n",
       "            background-color:  #6384eb;\n",
       "            color:  #000000;\n",
       "        }    #T_fe821e26_9524_11ea_91bf_4ccc6af43691row11_col16 {\n",
       "            background-color:  #94b6ff;\n",
       "            color:  #000000;\n",
       "        }    #T_fe821e26_9524_11ea_91bf_4ccc6af43691row11_col17 {\n",
       "            background-color:  #4f69d9;\n",
       "            color:  #000000;\n",
       "        }    #T_fe821e26_9524_11ea_91bf_4ccc6af43691row11_col18 {\n",
       "            background-color:  #4b64d5;\n",
       "            color:  #f1f1f1;\n",
       "        }    #T_fe821e26_9524_11ea_91bf_4ccc6af43691row11_col19 {\n",
       "            background-color:  #4f69d9;\n",
       "            color:  #000000;\n",
       "        }    #T_fe821e26_9524_11ea_91bf_4ccc6af43691row11_col20 {\n",
       "            background-color:  #5470de;\n",
       "            color:  #000000;\n",
       "        }    #T_fe821e26_9524_11ea_91bf_4ccc6af43691row11_col21 {\n",
       "            background-color:  #4961d2;\n",
       "            color:  #f1f1f1;\n",
       "        }    #T_fe821e26_9524_11ea_91bf_4ccc6af43691row11_col22 {\n",
       "            background-color:  #688aef;\n",
       "            color:  #000000;\n",
       "        }    #T_fe821e26_9524_11ea_91bf_4ccc6af43691row11_col23 {\n",
       "            background-color:  #7295f4;\n",
       "            color:  #000000;\n",
       "        }    #T_fe821e26_9524_11ea_91bf_4ccc6af43691row12_col0 {\n",
       "            background-color:  #c1d4f4;\n",
       "            color:  #000000;\n",
       "        }    #T_fe821e26_9524_11ea_91bf_4ccc6af43691row12_col1 {\n",
       "            background-color:  #5e7de7;\n",
       "            color:  #000000;\n",
       "        }    #T_fe821e26_9524_11ea_91bf_4ccc6af43691row12_col2 {\n",
       "            background-color:  #6a8bef;\n",
       "            color:  #000000;\n",
       "        }    #T_fe821e26_9524_11ea_91bf_4ccc6af43691row12_col3 {\n",
       "            background-color:  #8badfd;\n",
       "            color:  #000000;\n",
       "        }    #T_fe821e26_9524_11ea_91bf_4ccc6af43691row12_col4 {\n",
       "            background-color:  #7da0f9;\n",
       "            color:  #000000;\n",
       "        }    #T_fe821e26_9524_11ea_91bf_4ccc6af43691row12_col5 {\n",
       "            background-color:  #5977e3;\n",
       "            color:  #000000;\n",
       "        }    #T_fe821e26_9524_11ea_91bf_4ccc6af43691row12_col6 {\n",
       "            background-color:  #b2ccfb;\n",
       "            color:  #000000;\n",
       "        }    #T_fe821e26_9524_11ea_91bf_4ccc6af43691row12_col7 {\n",
       "            background-color:  #b9d0f9;\n",
       "            color:  #000000;\n",
       "        }    #T_fe821e26_9524_11ea_91bf_4ccc6af43691row12_col8 {\n",
       "            background-color:  #80a3fa;\n",
       "            color:  #000000;\n",
       "        }    #T_fe821e26_9524_11ea_91bf_4ccc6af43691row12_col9 {\n",
       "            background-color:  #a9c6fd;\n",
       "            color:  #000000;\n",
       "        }    #T_fe821e26_9524_11ea_91bf_4ccc6af43691row12_col10 {\n",
       "            background-color:  #7699f6;\n",
       "            color:  #000000;\n",
       "        }    #T_fe821e26_9524_11ea_91bf_4ccc6af43691row12_col11 {\n",
       "            background-color:  #98b9ff;\n",
       "            color:  #000000;\n",
       "        }    #T_fe821e26_9524_11ea_91bf_4ccc6af43691row12_col12 {\n",
       "            background-color:  #b40426;\n",
       "            color:  #f1f1f1;\n",
       "        }    #T_fe821e26_9524_11ea_91bf_4ccc6af43691row12_col13 {\n",
       "            background-color:  #c5d6f2;\n",
       "            color:  #000000;\n",
       "        }    #T_fe821e26_9524_11ea_91bf_4ccc6af43691row12_col14 {\n",
       "            background-color:  #506bda;\n",
       "            color:  #000000;\n",
       "        }    #T_fe821e26_9524_11ea_91bf_4ccc6af43691row12_col15 {\n",
       "            background-color:  #6b8df0;\n",
       "            color:  #000000;\n",
       "        }    #T_fe821e26_9524_11ea_91bf_4ccc6af43691row12_col16 {\n",
       "            background-color:  #a7c5fe;\n",
       "            color:  #000000;\n",
       "        }    #T_fe821e26_9524_11ea_91bf_4ccc6af43691row12_col17 {\n",
       "            background-color:  #6384eb;\n",
       "            color:  #000000;\n",
       "        }    #T_fe821e26_9524_11ea_91bf_4ccc6af43691row12_col18 {\n",
       "            background-color:  #4c66d6;\n",
       "            color:  #000000;\n",
       "        }    #T_fe821e26_9524_11ea_91bf_4ccc6af43691row12_col19 {\n",
       "            background-color:  #5b7ae5;\n",
       "            color:  #000000;\n",
       "        }    #T_fe821e26_9524_11ea_91bf_4ccc6af43691row12_col20 {\n",
       "            background-color:  #4f69d9;\n",
       "            color:  #000000;\n",
       "        }    #T_fe821e26_9524_11ea_91bf_4ccc6af43691row12_col21 {\n",
       "            background-color:  #5977e3;\n",
       "            color:  #000000;\n",
       "        }    #T_fe821e26_9524_11ea_91bf_4ccc6af43691row12_col22 {\n",
       "            background-color:  #6c8ff1;\n",
       "            color:  #000000;\n",
       "        }    #T_fe821e26_9524_11ea_91bf_4ccc6af43691row12_col23 {\n",
       "            background-color:  #8caffe;\n",
       "            color:  #000000;\n",
       "        }    #T_fe821e26_9524_11ea_91bf_4ccc6af43691row13_col0 {\n",
       "            background-color:  #9dbdff;\n",
       "            color:  #000000;\n",
       "        }    #T_fe821e26_9524_11ea_91bf_4ccc6af43691row13_col1 {\n",
       "            background-color:  #6a8bef;\n",
       "            color:  #000000;\n",
       "        }    #T_fe821e26_9524_11ea_91bf_4ccc6af43691row13_col2 {\n",
       "            background-color:  #8badfd;\n",
       "            color:  #000000;\n",
       "        }    #T_fe821e26_9524_11ea_91bf_4ccc6af43691row13_col3 {\n",
       "            background-color:  #90b2fe;\n",
       "            color:  #000000;\n",
       "        }    #T_fe821e26_9524_11ea_91bf_4ccc6af43691row13_col4 {\n",
       "            background-color:  #7295f4;\n",
       "            color:  #000000;\n",
       "        }    #T_fe821e26_9524_11ea_91bf_4ccc6af43691row13_col5 {\n",
       "            background-color:  #6c8ff1;\n",
       "            color:  #000000;\n",
       "        }    #T_fe821e26_9524_11ea_91bf_4ccc6af43691row13_col6 {\n",
       "            background-color:  #aac7fd;\n",
       "            color:  #000000;\n",
       "        }    #T_fe821e26_9524_11ea_91bf_4ccc6af43691row13_col7 {\n",
       "            background-color:  #9abbff;\n",
       "            color:  #000000;\n",
       "        }    #T_fe821e26_9524_11ea_91bf_4ccc6af43691row13_col8 {\n",
       "            background-color:  #799cf8;\n",
       "            color:  #000000;\n",
       "        }    #T_fe821e26_9524_11ea_91bf_4ccc6af43691row13_col9 {\n",
       "            background-color:  #bbd1f8;\n",
       "            color:  #000000;\n",
       "        }    #T_fe821e26_9524_11ea_91bf_4ccc6af43691row13_col10 {\n",
       "            background-color:  #5b7ae5;\n",
       "            color:  #000000;\n",
       "        }    #T_fe821e26_9524_11ea_91bf_4ccc6af43691row13_col11 {\n",
       "            background-color:  #7699f6;\n",
       "            color:  #000000;\n",
       "        }    #T_fe821e26_9524_11ea_91bf_4ccc6af43691row13_col12 {\n",
       "            background-color:  #c0d4f5;\n",
       "            color:  #000000;\n",
       "        }    #T_fe821e26_9524_11ea_91bf_4ccc6af43691row13_col13 {\n",
       "            background-color:  #b40426;\n",
       "            color:  #f1f1f1;\n",
       "        }    #T_fe821e26_9524_11ea_91bf_4ccc6af43691row13_col14 {\n",
       "            background-color:  #5875e1;\n",
       "            color:  #000000;\n",
       "        }    #T_fe821e26_9524_11ea_91bf_4ccc6af43691row13_col15 {\n",
       "            background-color:  #7ea1fa;\n",
       "            color:  #000000;\n",
       "        }    #T_fe821e26_9524_11ea_91bf_4ccc6af43691row13_col16 {\n",
       "            background-color:  #bad0f8;\n",
       "            color:  #000000;\n",
       "        }    #T_fe821e26_9524_11ea_91bf_4ccc6af43691row13_col17 {\n",
       "            background-color:  #6e90f2;\n",
       "            color:  #000000;\n",
       "        }    #T_fe821e26_9524_11ea_91bf_4ccc6af43691row13_col18 {\n",
       "            background-color:  #4a63d3;\n",
       "            color:  #f1f1f1;\n",
       "        }    #T_fe821e26_9524_11ea_91bf_4ccc6af43691row13_col19 {\n",
       "            background-color:  #485fd1;\n",
       "            color:  #f1f1f1;\n",
       "        }    #T_fe821e26_9524_11ea_91bf_4ccc6af43691row13_col20 {\n",
       "            background-color:  #6180e9;\n",
       "            color:  #000000;\n",
       "        }    #T_fe821e26_9524_11ea_91bf_4ccc6af43691row13_col21 {\n",
       "            background-color:  #3b4cc0;\n",
       "            color:  #f1f1f1;\n",
       "        }    #T_fe821e26_9524_11ea_91bf_4ccc6af43691row13_col22 {\n",
       "            background-color:  #5d7ce6;\n",
       "            color:  #000000;\n",
       "        }    #T_fe821e26_9524_11ea_91bf_4ccc6af43691row13_col23 {\n",
       "            background-color:  #a9c6fd;\n",
       "            color:  #000000;\n",
       "        }    #T_fe821e26_9524_11ea_91bf_4ccc6af43691row14_col0 {\n",
       "            background-color:  #abc8fd;\n",
       "            color:  #000000;\n",
       "        }    #T_fe821e26_9524_11ea_91bf_4ccc6af43691row14_col1 {\n",
       "            background-color:  #a5c3fe;\n",
       "            color:  #000000;\n",
       "        }    #T_fe821e26_9524_11ea_91bf_4ccc6af43691row14_col2 {\n",
       "            background-color:  #81a4fb;\n",
       "            color:  #000000;\n",
       "        }    #T_fe821e26_9524_11ea_91bf_4ccc6af43691row14_col3 {\n",
       "            background-color:  #7093f3;\n",
       "            color:  #000000;\n",
       "        }    #T_fe821e26_9524_11ea_91bf_4ccc6af43691row14_col4 {\n",
       "            background-color:  #6180e9;\n",
       "            color:  #000000;\n",
       "        }    #T_fe821e26_9524_11ea_91bf_4ccc6af43691row14_col5 {\n",
       "            background-color:  #7b9ff9;\n",
       "            color:  #000000;\n",
       "        }    #T_fe821e26_9524_11ea_91bf_4ccc6af43691row14_col6 {\n",
       "            background-color:  #96b7ff;\n",
       "            color:  #000000;\n",
       "        }    #T_fe821e26_9524_11ea_91bf_4ccc6af43691row14_col7 {\n",
       "            background-color:  #9abbff;\n",
       "            color:  #000000;\n",
       "        }    #T_fe821e26_9524_11ea_91bf_4ccc6af43691row14_col8 {\n",
       "            background-color:  #84a7fc;\n",
       "            color:  #000000;\n",
       "        }    #T_fe821e26_9524_11ea_91bf_4ccc6af43691row14_col9 {\n",
       "            background-color:  #a6c4fe;\n",
       "            color:  #000000;\n",
       "        }    #T_fe821e26_9524_11ea_91bf_4ccc6af43691row14_col10 {\n",
       "            background-color:  #799cf8;\n",
       "            color:  #000000;\n",
       "        }    #T_fe821e26_9524_11ea_91bf_4ccc6af43691row14_col11 {\n",
       "            background-color:  #80a3fa;\n",
       "            color:  #000000;\n",
       "        }    #T_fe821e26_9524_11ea_91bf_4ccc6af43691row14_col12 {\n",
       "            background-color:  #6788ee;\n",
       "            color:  #000000;\n",
       "        }    #T_fe821e26_9524_11ea_91bf_4ccc6af43691row14_col13 {\n",
       "            background-color:  #7597f6;\n",
       "            color:  #000000;\n",
       "        }    #T_fe821e26_9524_11ea_91bf_4ccc6af43691row14_col14 {\n",
       "            background-color:  #b40426;\n",
       "            color:  #f1f1f1;\n",
       "        }    #T_fe821e26_9524_11ea_91bf_4ccc6af43691row14_col15 {\n",
       "            background-color:  #506bda;\n",
       "            color:  #000000;\n",
       "        }    #T_fe821e26_9524_11ea_91bf_4ccc6af43691row14_col16 {\n",
       "            background-color:  #a2c1ff;\n",
       "            color:  #000000;\n",
       "        }    #T_fe821e26_9524_11ea_91bf_4ccc6af43691row14_col17 {\n",
       "            background-color:  #5b7ae5;\n",
       "            color:  #000000;\n",
       "        }    #T_fe821e26_9524_11ea_91bf_4ccc6af43691row14_col18 {\n",
       "            background-color:  #6180e9;\n",
       "            color:  #000000;\n",
       "        }    #T_fe821e26_9524_11ea_91bf_4ccc6af43691row14_col19 {\n",
       "            background-color:  #7699f6;\n",
       "            color:  #000000;\n",
       "        }    #T_fe821e26_9524_11ea_91bf_4ccc6af43691row14_col20 {\n",
       "            background-color:  #6b8df0;\n",
       "            color:  #000000;\n",
       "        }    #T_fe821e26_9524_11ea_91bf_4ccc6af43691row14_col21 {\n",
       "            background-color:  #5e7de7;\n",
       "            color:  #000000;\n",
       "        }    #T_fe821e26_9524_11ea_91bf_4ccc6af43691row14_col22 {\n",
       "            background-color:  #5a78e4;\n",
       "            color:  #000000;\n",
       "        }    #T_fe821e26_9524_11ea_91bf_4ccc6af43691row14_col23 {\n",
       "            background-color:  #93b5fe;\n",
       "            color:  #000000;\n",
       "        }    #T_fe821e26_9524_11ea_91bf_4ccc6af43691row15_col0 {\n",
       "            background-color:  #b2ccfb;\n",
       "            color:  #000000;\n",
       "        }    #T_fe821e26_9524_11ea_91bf_4ccc6af43691row15_col1 {\n",
       "            background-color:  #88abfd;\n",
       "            color:  #000000;\n",
       "        }    #T_fe821e26_9524_11ea_91bf_4ccc6af43691row15_col2 {\n",
       "            background-color:  #7b9ff9;\n",
       "            color:  #000000;\n",
       "        }    #T_fe821e26_9524_11ea_91bf_4ccc6af43691row15_col3 {\n",
       "            background-color:  #8fb1fe;\n",
       "            color:  #000000;\n",
       "        }    #T_fe821e26_9524_11ea_91bf_4ccc6af43691row15_col4 {\n",
       "            background-color:  #3b4cc0;\n",
       "            color:  #f1f1f1;\n",
       "        }    #T_fe821e26_9524_11ea_91bf_4ccc6af43691row15_col5 {\n",
       "            background-color:  #4961d2;\n",
       "            color:  #f1f1f1;\n",
       "        }    #T_fe821e26_9524_11ea_91bf_4ccc6af43691row15_col6 {\n",
       "            background-color:  #adc9fd;\n",
       "            color:  #000000;\n",
       "        }    #T_fe821e26_9524_11ea_91bf_4ccc6af43691row15_col7 {\n",
       "            background-color:  #abc8fd;\n",
       "            color:  #000000;\n",
       "        }    #T_fe821e26_9524_11ea_91bf_4ccc6af43691row15_col8 {\n",
       "            background-color:  #779af7;\n",
       "            color:  #000000;\n",
       "        }    #T_fe821e26_9524_11ea_91bf_4ccc6af43691row15_col9 {\n",
       "            background-color:  #9fbfff;\n",
       "            color:  #000000;\n",
       "        }    #T_fe821e26_9524_11ea_91bf_4ccc6af43691row15_col10 {\n",
       "            background-color:  #7093f3;\n",
       "            color:  #000000;\n",
       "        }    #T_fe821e26_9524_11ea_91bf_4ccc6af43691row15_col11 {\n",
       "            background-color:  #86a9fc;\n",
       "            color:  #000000;\n",
       "        }    #T_fe821e26_9524_11ea_91bf_4ccc6af43691row15_col12 {\n",
       "            background-color:  #779af7;\n",
       "            color:  #000000;\n",
       "        }    #T_fe821e26_9524_11ea_91bf_4ccc6af43691row15_col13 {\n",
       "            background-color:  #92b4fe;\n",
       "            color:  #000000;\n",
       "        }    #T_fe821e26_9524_11ea_91bf_4ccc6af43691row15_col14 {\n",
       "            background-color:  #485fd1;\n",
       "            color:  #f1f1f1;\n",
       "        }    #T_fe821e26_9524_11ea_91bf_4ccc6af43691row15_col15 {\n",
       "            background-color:  #b40426;\n",
       "            color:  #f1f1f1;\n",
       "        }    #T_fe821e26_9524_11ea_91bf_4ccc6af43691row15_col16 {\n",
       "            background-color:  #93b5fe;\n",
       "            color:  #000000;\n",
       "        }    #T_fe821e26_9524_11ea_91bf_4ccc6af43691row15_col17 {\n",
       "            background-color:  #6b8df0;\n",
       "            color:  #000000;\n",
       "        }    #T_fe821e26_9524_11ea_91bf_4ccc6af43691row15_col18 {\n",
       "            background-color:  #465ecf;\n",
       "            color:  #f1f1f1;\n",
       "        }    #T_fe821e26_9524_11ea_91bf_4ccc6af43691row15_col19 {\n",
       "            background-color:  #506bda;\n",
       "            color:  #000000;\n",
       "        }    #T_fe821e26_9524_11ea_91bf_4ccc6af43691row15_col20 {\n",
       "            background-color:  #5875e1;\n",
       "            color:  #000000;\n",
       "        }    #T_fe821e26_9524_11ea_91bf_4ccc6af43691row15_col21 {\n",
       "            background-color:  #4c66d6;\n",
       "            color:  #000000;\n",
       "        }    #T_fe821e26_9524_11ea_91bf_4ccc6af43691row15_col22 {\n",
       "            background-color:  #6c8ff1;\n",
       "            color:  #000000;\n",
       "        }    #T_fe821e26_9524_11ea_91bf_4ccc6af43691row15_col23 {\n",
       "            background-color:  #9bbcff;\n",
       "            color:  #000000;\n",
       "        }    #T_fe821e26_9524_11ea_91bf_4ccc6af43691row16_col0 {\n",
       "            background-color:  #9ebeff;\n",
       "            color:  #000000;\n",
       "        }    #T_fe821e26_9524_11ea_91bf_4ccc6af43691row16_col1 {\n",
       "            background-color:  #5a78e4;\n",
       "            color:  #000000;\n",
       "        }    #T_fe821e26_9524_11ea_91bf_4ccc6af43691row16_col2 {\n",
       "            background-color:  #5e7de7;\n",
       "            color:  #000000;\n",
       "        }    #T_fe821e26_9524_11ea_91bf_4ccc6af43691row16_col3 {\n",
       "            background-color:  #8badfd;\n",
       "            color:  #000000;\n",
       "        }    #T_fe821e26_9524_11ea_91bf_4ccc6af43691row16_col4 {\n",
       "            background-color:  #5f7fe8;\n",
       "            color:  #000000;\n",
       "        }    #T_fe821e26_9524_11ea_91bf_4ccc6af43691row16_col5 {\n",
       "            background-color:  #4b64d5;\n",
       "            color:  #f1f1f1;\n",
       "        }    #T_fe821e26_9524_11ea_91bf_4ccc6af43691row16_col6 {\n",
       "            background-color:  #afcafc;\n",
       "            color:  #000000;\n",
       "        }    #T_fe821e26_9524_11ea_91bf_4ccc6af43691row16_col7 {\n",
       "            background-color:  #b1cbfc;\n",
       "            color:  #000000;\n",
       "        }    #T_fe821e26_9524_11ea_91bf_4ccc6af43691row16_col8 {\n",
       "            background-color:  #6e90f2;\n",
       "            color:  #000000;\n",
       "        }    #T_fe821e26_9524_11ea_91bf_4ccc6af43691row16_col9 {\n",
       "            background-color:  #b6cefa;\n",
       "            color:  #000000;\n",
       "        }    #T_fe821e26_9524_11ea_91bf_4ccc6af43691row16_col10 {\n",
       "            background-color:  #4257c9;\n",
       "            color:  #f1f1f1;\n",
       "        }    #T_fe821e26_9524_11ea_91bf_4ccc6af43691row16_col11 {\n",
       "            background-color:  #8badfd;\n",
       "            color:  #000000;\n",
       "        }    #T_fe821e26_9524_11ea_91bf_4ccc6af43691row16_col12 {\n",
       "            background-color:  #8caffe;\n",
       "            color:  #000000;\n",
       "        }    #T_fe821e26_9524_11ea_91bf_4ccc6af43691row16_col13 {\n",
       "            background-color:  #a6c4fe;\n",
       "            color:  #000000;\n",
       "        }    #T_fe821e26_9524_11ea_91bf_4ccc6af43691row16_col14 {\n",
       "            background-color:  #6f92f3;\n",
       "            color:  #000000;\n",
       "        }    #T_fe821e26_9524_11ea_91bf_4ccc6af43691row16_col15 {\n",
       "            background-color:  #6788ee;\n",
       "            color:  #000000;\n",
       "        }    #T_fe821e26_9524_11ea_91bf_4ccc6af43691row16_col16 {\n",
       "            background-color:  #b40426;\n",
       "            color:  #f1f1f1;\n",
       "        }    #T_fe821e26_9524_11ea_91bf_4ccc6af43691row16_col17 {\n",
       "            background-color:  #4055c8;\n",
       "            color:  #f1f1f1;\n",
       "        }    #T_fe821e26_9524_11ea_91bf_4ccc6af43691row16_col18 {\n",
       "            background-color:  #536edd;\n",
       "            color:  #000000;\n",
       "        }    #T_fe821e26_9524_11ea_91bf_4ccc6af43691row16_col19 {\n",
       "            background-color:  #455cce;\n",
       "            color:  #f1f1f1;\n",
       "        }    #T_fe821e26_9524_11ea_91bf_4ccc6af43691row16_col20 {\n",
       "            background-color:  #4f69d9;\n",
       "            color:  #000000;\n",
       "        }    #T_fe821e26_9524_11ea_91bf_4ccc6af43691row16_col21 {\n",
       "            background-color:  #5977e3;\n",
       "            color:  #000000;\n",
       "        }    #T_fe821e26_9524_11ea_91bf_4ccc6af43691row16_col22 {\n",
       "            background-color:  #6788ee;\n",
       "            color:  #000000;\n",
       "        }    #T_fe821e26_9524_11ea_91bf_4ccc6af43691row16_col23 {\n",
       "            background-color:  #bed2f6;\n",
       "            color:  #000000;\n",
       "        }    #T_fe821e26_9524_11ea_91bf_4ccc6af43691row17_col0 {\n",
       "            background-color:  #81a4fb;\n",
       "            color:  #000000;\n",
       "        }    #T_fe821e26_9524_11ea_91bf_4ccc6af43691row17_col1 {\n",
       "            background-color:  #6485ec;\n",
       "            color:  #000000;\n",
       "        }    #T_fe821e26_9524_11ea_91bf_4ccc6af43691row17_col2 {\n",
       "            background-color:  #bbd1f8;\n",
       "            color:  #000000;\n",
       "        }    #T_fe821e26_9524_11ea_91bf_4ccc6af43691row17_col3 {\n",
       "            background-color:  #81a4fb;\n",
       "            color:  #000000;\n",
       "        }    #T_fe821e26_9524_11ea_91bf_4ccc6af43691row17_col4 {\n",
       "            background-color:  #506bda;\n",
       "            color:  #000000;\n",
       "        }    #T_fe821e26_9524_11ea_91bf_4ccc6af43691row17_col5 {\n",
       "            background-color:  #536edd;\n",
       "            color:  #000000;\n",
       "        }    #T_fe821e26_9524_11ea_91bf_4ccc6af43691row17_col6 {\n",
       "            background-color:  #7da0f9;\n",
       "            color:  #000000;\n",
       "        }    #T_fe821e26_9524_11ea_91bf_4ccc6af43691row17_col7 {\n",
       "            background-color:  #7b9ff9;\n",
       "            color:  #000000;\n",
       "        }    #T_fe821e26_9524_11ea_91bf_4ccc6af43691row17_col8 {\n",
       "            background-color:  #88abfd;\n",
       "            color:  #000000;\n",
       "        }    #T_fe821e26_9524_11ea_91bf_4ccc6af43691row17_col9 {\n",
       "            background-color:  #96b7ff;\n",
       "            color:  #000000;\n",
       "        }    #T_fe821e26_9524_11ea_91bf_4ccc6af43691row17_col10 {\n",
       "            background-color:  #abc8fd;\n",
       "            color:  #000000;\n",
       "        }    #T_fe821e26_9524_11ea_91bf_4ccc6af43691row17_col11 {\n",
       "            background-color:  #6b8df0;\n",
       "            color:  #000000;\n",
       "        }    #T_fe821e26_9524_11ea_91bf_4ccc6af43691row17_col12 {\n",
       "            background-color:  #6a8bef;\n",
       "            color:  #000000;\n",
       "        }    #T_fe821e26_9524_11ea_91bf_4ccc6af43691row17_col13 {\n",
       "            background-color:  #7b9ff9;\n",
       "            color:  #000000;\n",
       "        }    #T_fe821e26_9524_11ea_91bf_4ccc6af43691row17_col14 {\n",
       "            background-color:  #4b64d5;\n",
       "            color:  #f1f1f1;\n",
       "        }    #T_fe821e26_9524_11ea_91bf_4ccc6af43691row17_col15 {\n",
       "            background-color:  #6384eb;\n",
       "            color:  #000000;\n",
       "        }    #T_fe821e26_9524_11ea_91bf_4ccc6af43691row17_col16 {\n",
       "            background-color:  #6788ee;\n",
       "            color:  #000000;\n",
       "        }    #T_fe821e26_9524_11ea_91bf_4ccc6af43691row17_col17 {\n",
       "            background-color:  #b40426;\n",
       "            color:  #f1f1f1;\n",
       "        }    #T_fe821e26_9524_11ea_91bf_4ccc6af43691row17_col18 {\n",
       "            background-color:  #3b4cc0;\n",
       "            color:  #f1f1f1;\n",
       "        }    #T_fe821e26_9524_11ea_91bf_4ccc6af43691row17_col19 {\n",
       "            background-color:  #5572df;\n",
       "            color:  #000000;\n",
       "        }    #T_fe821e26_9524_11ea_91bf_4ccc6af43691row17_col20 {\n",
       "            background-color:  #6282ea;\n",
       "            color:  #000000;\n",
       "        }    #T_fe821e26_9524_11ea_91bf_4ccc6af43691row17_col21 {\n",
       "            background-color:  #5572df;\n",
       "            color:  #000000;\n",
       "        }    #T_fe821e26_9524_11ea_91bf_4ccc6af43691row17_col22 {\n",
       "            background-color:  #81a4fb;\n",
       "            color:  #000000;\n",
       "        }    #T_fe821e26_9524_11ea_91bf_4ccc6af43691row17_col23 {\n",
       "            background-color:  #6a8bef;\n",
       "            color:  #000000;\n",
       "        }    #T_fe821e26_9524_11ea_91bf_4ccc6af43691row18_col0 {\n",
       "            background-color:  #a2c1ff;\n",
       "            color:  #000000;\n",
       "        }    #T_fe821e26_9524_11ea_91bf_4ccc6af43691row18_col1 {\n",
       "            background-color:  #92b4fe;\n",
       "            color:  #000000;\n",
       "        }    #T_fe821e26_9524_11ea_91bf_4ccc6af43691row18_col2 {\n",
       "            background-color:  #9fbfff;\n",
       "            color:  #000000;\n",
       "        }    #T_fe821e26_9524_11ea_91bf_4ccc6af43691row18_col3 {\n",
       "            background-color:  #80a3fa;\n",
       "            color:  #000000;\n",
       "        }    #T_fe821e26_9524_11ea_91bf_4ccc6af43691row18_col4 {\n",
       "            background-color:  #5d7ce6;\n",
       "            color:  #000000;\n",
       "        }    #T_fe821e26_9524_11ea_91bf_4ccc6af43691row18_col5 {\n",
       "            background-color:  #6788ee;\n",
       "            color:  #000000;\n",
       "        }    #T_fe821e26_9524_11ea_91bf_4ccc6af43691row18_col6 {\n",
       "            background-color:  #779af7;\n",
       "            color:  #000000;\n",
       "        }    #T_fe821e26_9524_11ea_91bf_4ccc6af43691row18_col7 {\n",
       "            background-color:  #7a9df8;\n",
       "            color:  #000000;\n",
       "        }    #T_fe821e26_9524_11ea_91bf_4ccc6af43691row18_col8 {\n",
       "            background-color:  #799cf8;\n",
       "            color:  #000000;\n",
       "        }    #T_fe821e26_9524_11ea_91bf_4ccc6af43691row18_col9 {\n",
       "            background-color:  #92b4fe;\n",
       "            color:  #000000;\n",
       "        }    #T_fe821e26_9524_11ea_91bf_4ccc6af43691row18_col10 {\n",
       "            background-color:  #82a6fb;\n",
       "            color:  #000000;\n",
       "        }    #T_fe821e26_9524_11ea_91bf_4ccc6af43691row18_col11 {\n",
       "            background-color:  #7a9df8;\n",
       "            color:  #000000;\n",
       "        }    #T_fe821e26_9524_11ea_91bf_4ccc6af43691row18_col12 {\n",
       "            background-color:  #6485ec;\n",
       "            color:  #000000;\n",
       "        }    #T_fe821e26_9524_11ea_91bf_4ccc6af43691row18_col13 {\n",
       "            background-color:  #6a8bef;\n",
       "            color:  #000000;\n",
       "        }    #T_fe821e26_9524_11ea_91bf_4ccc6af43691row18_col14 {\n",
       "            background-color:  #6384eb;\n",
       "            color:  #000000;\n",
       "        }    #T_fe821e26_9524_11ea_91bf_4ccc6af43691row18_col15 {\n",
       "            background-color:  #506bda;\n",
       "            color:  #000000;\n",
       "        }    #T_fe821e26_9524_11ea_91bf_4ccc6af43691row18_col16 {\n",
       "            background-color:  #89acfd;\n",
       "            color:  #000000;\n",
       "        }    #T_fe821e26_9524_11ea_91bf_4ccc6af43691row18_col17 {\n",
       "            background-color:  #4c66d6;\n",
       "            color:  #000000;\n",
       "        }    #T_fe821e26_9524_11ea_91bf_4ccc6af43691row18_col18 {\n",
       "            background-color:  #b40426;\n",
       "            color:  #f1f1f1;\n",
       "        }    #T_fe821e26_9524_11ea_91bf_4ccc6af43691row18_col19 {\n",
       "            background-color:  #8fb1fe;\n",
       "            color:  #000000;\n",
       "        }    #T_fe821e26_9524_11ea_91bf_4ccc6af43691row18_col20 {\n",
       "            background-color:  #6e90f2;\n",
       "            color:  #000000;\n",
       "        }    #T_fe821e26_9524_11ea_91bf_4ccc6af43691row18_col21 {\n",
       "            background-color:  #6c8ff1;\n",
       "            color:  #000000;\n",
       "        }    #T_fe821e26_9524_11ea_91bf_4ccc6af43691row18_col22 {\n",
       "            background-color:  #4c66d6;\n",
       "            color:  #000000;\n",
       "        }    #T_fe821e26_9524_11ea_91bf_4ccc6af43691row18_col23 {\n",
       "            background-color:  #9fbfff;\n",
       "            color:  #000000;\n",
       "        }    #T_fe821e26_9524_11ea_91bf_4ccc6af43691row19_col0 {\n",
       "            background-color:  #8fb1fe;\n",
       "            color:  #000000;\n",
       "        }    #T_fe821e26_9524_11ea_91bf_4ccc6af43691row19_col1 {\n",
       "            background-color:  #c1d4f4;\n",
       "            color:  #000000;\n",
       "        }    #T_fe821e26_9524_11ea_91bf_4ccc6af43691row19_col2 {\n",
       "            background-color:  #96b7ff;\n",
       "            color:  #000000;\n",
       "        }    #T_fe821e26_9524_11ea_91bf_4ccc6af43691row19_col3 {\n",
       "            background-color:  #8caffe;\n",
       "            color:  #000000;\n",
       "        }    #T_fe821e26_9524_11ea_91bf_4ccc6af43691row19_col4 {\n",
       "            background-color:  #4f69d9;\n",
       "            color:  #000000;\n",
       "        }    #T_fe821e26_9524_11ea_91bf_4ccc6af43691row19_col5 {\n",
       "            background-color:  #6f92f3;\n",
       "            color:  #000000;\n",
       "        }    #T_fe821e26_9524_11ea_91bf_4ccc6af43691row19_col6 {\n",
       "            background-color:  #84a7fc;\n",
       "            color:  #000000;\n",
       "        }    #T_fe821e26_9524_11ea_91bf_4ccc6af43691row19_col7 {\n",
       "            background-color:  #7da0f9;\n",
       "            color:  #000000;\n",
       "        }    #T_fe821e26_9524_11ea_91bf_4ccc6af43691row19_col8 {\n",
       "            background-color:  #7da0f9;\n",
       "            color:  #000000;\n",
       "        }    #T_fe821e26_9524_11ea_91bf_4ccc6af43691row19_col9 {\n",
       "            background-color:  #6687ed;\n",
       "            color:  #000000;\n",
       "        }    #T_fe821e26_9524_11ea_91bf_4ccc6af43691row19_col10 {\n",
       "            background-color:  #a1c0ff;\n",
       "            color:  #000000;\n",
       "        }    #T_fe821e26_9524_11ea_91bf_4ccc6af43691row19_col11 {\n",
       "            background-color:  #6f92f3;\n",
       "            color:  #000000;\n",
       "        }    #T_fe821e26_9524_11ea_91bf_4ccc6af43691row19_col12 {\n",
       "            background-color:  #6687ed;\n",
       "            color:  #000000;\n",
       "        }    #T_fe821e26_9524_11ea_91bf_4ccc6af43691row19_col13 {\n",
       "            background-color:  #5977e3;\n",
       "            color:  #000000;\n",
       "        }    #T_fe821e26_9524_11ea_91bf_4ccc6af43691row19_col14 {\n",
       "            background-color:  #6a8bef;\n",
       "            color:  #000000;\n",
       "        }    #T_fe821e26_9524_11ea_91bf_4ccc6af43691row19_col15 {\n",
       "            background-color:  #4c66d6;\n",
       "            color:  #000000;\n",
       "        }    #T_fe821e26_9524_11ea_91bf_4ccc6af43691row19_col16 {\n",
       "            background-color:  #7093f3;\n",
       "            color:  #000000;\n",
       "        }    #T_fe821e26_9524_11ea_91bf_4ccc6af43691row19_col17 {\n",
       "            background-color:  #5977e3;\n",
       "            color:  #000000;\n",
       "        }    #T_fe821e26_9524_11ea_91bf_4ccc6af43691row19_col18 {\n",
       "            background-color:  #82a6fb;\n",
       "            color:  #000000;\n",
       "        }    #T_fe821e26_9524_11ea_91bf_4ccc6af43691row19_col19 {\n",
       "            background-color:  #b40426;\n",
       "            color:  #f1f1f1;\n",
       "        }    #T_fe821e26_9524_11ea_91bf_4ccc6af43691row19_col20 {\n",
       "            background-color:  #b3cdfb;\n",
       "            color:  #000000;\n",
       "        }    #T_fe821e26_9524_11ea_91bf_4ccc6af43691row19_col21 {\n",
       "            background-color:  #6788ee;\n",
       "            color:  #000000;\n",
       "        }    #T_fe821e26_9524_11ea_91bf_4ccc6af43691row19_col22 {\n",
       "            background-color:  #536edd;\n",
       "            color:  #000000;\n",
       "        }    #T_fe821e26_9524_11ea_91bf_4ccc6af43691row19_col23 {\n",
       "            background-color:  #93b5fe;\n",
       "            color:  #000000;\n",
       "        }    #T_fe821e26_9524_11ea_91bf_4ccc6af43691row20_col0 {\n",
       "            background-color:  #98b9ff;\n",
       "            color:  #000000;\n",
       "        }    #T_fe821e26_9524_11ea_91bf_4ccc6af43691row20_col1 {\n",
       "            background-color:  #9ebeff;\n",
       "            color:  #000000;\n",
       "        }    #T_fe821e26_9524_11ea_91bf_4ccc6af43691row20_col2 {\n",
       "            background-color:  #b2ccfb;\n",
       "            color:  #000000;\n",
       "        }    #T_fe821e26_9524_11ea_91bf_4ccc6af43691row20_col3 {\n",
       "            background-color:  #93b5fe;\n",
       "            color:  #000000;\n",
       "        }    #T_fe821e26_9524_11ea_91bf_4ccc6af43691row20_col4 {\n",
       "            background-color:  #4f69d9;\n",
       "            color:  #000000;\n",
       "        }    #T_fe821e26_9524_11ea_91bf_4ccc6af43691row20_col5 {\n",
       "            background-color:  #6788ee;\n",
       "            color:  #000000;\n",
       "        }    #T_fe821e26_9524_11ea_91bf_4ccc6af43691row20_col6 {\n",
       "            background-color:  #8caffe;\n",
       "            color:  #000000;\n",
       "        }    #T_fe821e26_9524_11ea_91bf_4ccc6af43691row20_col7 {\n",
       "            background-color:  #8db0fe;\n",
       "            color:  #000000;\n",
       "        }    #T_fe821e26_9524_11ea_91bf_4ccc6af43691row20_col8 {\n",
       "            background-color:  #8caffe;\n",
       "            color:  #000000;\n",
       "        }    #T_fe821e26_9524_11ea_91bf_4ccc6af43691row20_col9 {\n",
       "            background-color:  #799cf8;\n",
       "            color:  #000000;\n",
       "        }    #T_fe821e26_9524_11ea_91bf_4ccc6af43691row20_col10 {\n",
       "            background-color:  #a6c4fe;\n",
       "            color:  #000000;\n",
       "        }    #T_fe821e26_9524_11ea_91bf_4ccc6af43691row20_col11 {\n",
       "            background-color:  #7597f6;\n",
       "            color:  #000000;\n",
       "        }    #T_fe821e26_9524_11ea_91bf_4ccc6af43691row20_col12 {\n",
       "            background-color:  #5977e3;\n",
       "            color:  #000000;\n",
       "        }    #T_fe821e26_9524_11ea_91bf_4ccc6af43691row20_col13 {\n",
       "            background-color:  #7295f4;\n",
       "            color:  #000000;\n",
       "        }    #T_fe821e26_9524_11ea_91bf_4ccc6af43691row20_col14 {\n",
       "            background-color:  #5f7fe8;\n",
       "            color:  #000000;\n",
       "        }    #T_fe821e26_9524_11ea_91bf_4ccc6af43691row20_col15 {\n",
       "            background-color:  #5572df;\n",
       "            color:  #000000;\n",
       "        }    #T_fe821e26_9524_11ea_91bf_4ccc6af43691row20_col16 {\n",
       "            background-color:  #799cf8;\n",
       "            color:  #000000;\n",
       "        }    #T_fe821e26_9524_11ea_91bf_4ccc6af43691row20_col17 {\n",
       "            background-color:  #6687ed;\n",
       "            color:  #000000;\n",
       "        }    #T_fe821e26_9524_11ea_91bf_4ccc6af43691row20_col18 {\n",
       "            background-color:  #6180e9;\n",
       "            color:  #000000;\n",
       "        }    #T_fe821e26_9524_11ea_91bf_4ccc6af43691row20_col19 {\n",
       "            background-color:  #b3cdfb;\n",
       "            color:  #000000;\n",
       "        }    #T_fe821e26_9524_11ea_91bf_4ccc6af43691row20_col20 {\n",
       "            background-color:  #b40426;\n",
       "            color:  #f1f1f1;\n",
       "        }    #T_fe821e26_9524_11ea_91bf_4ccc6af43691row20_col21 {\n",
       "            background-color:  #4e68d8;\n",
       "            color:  #000000;\n",
       "        }    #T_fe821e26_9524_11ea_91bf_4ccc6af43691row20_col22 {\n",
       "            background-color:  #7295f4;\n",
       "            color:  #000000;\n",
       "        }    #T_fe821e26_9524_11ea_91bf_4ccc6af43691row20_col23 {\n",
       "            background-color:  #6e90f2;\n",
       "            color:  #000000;\n",
       "        }    #T_fe821e26_9524_11ea_91bf_4ccc6af43691row21_col0 {\n",
       "            background-color:  #9bbcff;\n",
       "            color:  #000000;\n",
       "        }    #T_fe821e26_9524_11ea_91bf_4ccc6af43691row21_col1 {\n",
       "            background-color:  #aec9fc;\n",
       "            color:  #000000;\n",
       "        }    #T_fe821e26_9524_11ea_91bf_4ccc6af43691row21_col2 {\n",
       "            background-color:  #80a3fa;\n",
       "            color:  #000000;\n",
       "        }    #T_fe821e26_9524_11ea_91bf_4ccc6af43691row21_col3 {\n",
       "            background-color:  #799cf8;\n",
       "            color:  #000000;\n",
       "        }    #T_fe821e26_9524_11ea_91bf_4ccc6af43691row21_col4 {\n",
       "            background-color:  #6384eb;\n",
       "            color:  #000000;\n",
       "        }    #T_fe821e26_9524_11ea_91bf_4ccc6af43691row21_col5 {\n",
       "            background-color:  #6485ec;\n",
       "            color:  #000000;\n",
       "        }    #T_fe821e26_9524_11ea_91bf_4ccc6af43691row21_col6 {\n",
       "            background-color:  #6c8ff1;\n",
       "            color:  #000000;\n",
       "        }    #T_fe821e26_9524_11ea_91bf_4ccc6af43691row21_col7 {\n",
       "            background-color:  #86a9fc;\n",
       "            color:  #000000;\n",
       "        }    #T_fe821e26_9524_11ea_91bf_4ccc6af43691row21_col8 {\n",
       "            background-color:  #7ea1fa;\n",
       "            color:  #000000;\n",
       "        }    #T_fe821e26_9524_11ea_91bf_4ccc6af43691row21_col9 {\n",
       "            background-color:  #7295f4;\n",
       "            color:  #000000;\n",
       "        }    #T_fe821e26_9524_11ea_91bf_4ccc6af43691row21_col10 {\n",
       "            background-color:  #a3c2fe;\n",
       "            color:  #000000;\n",
       "        }    #T_fe821e26_9524_11ea_91bf_4ccc6af43691row21_col11 {\n",
       "            background-color:  #7396f5;\n",
       "            color:  #000000;\n",
       "        }    #T_fe821e26_9524_11ea_91bf_4ccc6af43691row21_col12 {\n",
       "            background-color:  #6e90f2;\n",
       "            color:  #000000;\n",
       "        }    #T_fe821e26_9524_11ea_91bf_4ccc6af43691row21_col13 {\n",
       "            background-color:  #5673e0;\n",
       "            color:  #000000;\n",
       "        }    #T_fe821e26_9524_11ea_91bf_4ccc6af43691row21_col14 {\n",
       "            background-color:  #5b7ae5;\n",
       "            color:  #000000;\n",
       "        }    #T_fe821e26_9524_11ea_91bf_4ccc6af43691row21_col15 {\n",
       "            background-color:  #5470de;\n",
       "            color:  #000000;\n",
       "        }    #T_fe821e26_9524_11ea_91bf_4ccc6af43691row21_col16 {\n",
       "            background-color:  #8caffe;\n",
       "            color:  #000000;\n",
       "        }    #T_fe821e26_9524_11ea_91bf_4ccc6af43691row21_col17 {\n",
       "            background-color:  #6384eb;\n",
       "            color:  #000000;\n",
       "        }    #T_fe821e26_9524_11ea_91bf_4ccc6af43691row21_col18 {\n",
       "            background-color:  #688aef;\n",
       "            color:  #000000;\n",
       "        }    #T_fe821e26_9524_11ea_91bf_4ccc6af43691row21_col19 {\n",
       "            background-color:  #7093f3;\n",
       "            color:  #000000;\n",
       "        }    #T_fe821e26_9524_11ea_91bf_4ccc6af43691row21_col20 {\n",
       "            background-color:  #5875e1;\n",
       "            color:  #000000;\n",
       "        }    #T_fe821e26_9524_11ea_91bf_4ccc6af43691row21_col21 {\n",
       "            background-color:  #b40426;\n",
       "            color:  #f1f1f1;\n",
       "        }    #T_fe821e26_9524_11ea_91bf_4ccc6af43691row21_col22 {\n",
       "            background-color:  #4c66d6;\n",
       "            color:  #000000;\n",
       "        }    #T_fe821e26_9524_11ea_91bf_4ccc6af43691row21_col23 {\n",
       "            background-color:  #7b9ff9;\n",
       "            color:  #000000;\n",
       "        }    #T_fe821e26_9524_11ea_91bf_4ccc6af43691row22_col0 {\n",
       "            background-color:  #aec9fc;\n",
       "            color:  #000000;\n",
       "        }    #T_fe821e26_9524_11ea_91bf_4ccc6af43691row22_col1 {\n",
       "            background-color:  #7699f6;\n",
       "            color:  #000000;\n",
       "        }    #T_fe821e26_9524_11ea_91bf_4ccc6af43691row22_col2 {\n",
       "            background-color:  #bcd2f7;\n",
       "            color:  #000000;\n",
       "        }    #T_fe821e26_9524_11ea_91bf_4ccc6af43691row22_col3 {\n",
       "            background-color:  #88abfd;\n",
       "            color:  #000000;\n",
       "        }    #T_fe821e26_9524_11ea_91bf_4ccc6af43691row22_col4 {\n",
       "            background-color:  #4f69d9;\n",
       "            color:  #000000;\n",
       "        }    #T_fe821e26_9524_11ea_91bf_4ccc6af43691row22_col5 {\n",
       "            background-color:  #4055c8;\n",
       "            color:  #f1f1f1;\n",
       "        }    #T_fe821e26_9524_11ea_91bf_4ccc6af43691row22_col6 {\n",
       "            background-color:  #97b8ff;\n",
       "            color:  #000000;\n",
       "        }    #T_fe821e26_9524_11ea_91bf_4ccc6af43691row22_col7 {\n",
       "            background-color:  #8fb1fe;\n",
       "            color:  #000000;\n",
       "        }    #T_fe821e26_9524_11ea_91bf_4ccc6af43691row22_col8 {\n",
       "            background-color:  #7a9df8;\n",
       "            color:  #000000;\n",
       "        }    #T_fe821e26_9524_11ea_91bf_4ccc6af43691row22_col9 {\n",
       "            background-color:  #7597f6;\n",
       "            color:  #000000;\n",
       "        }    #T_fe821e26_9524_11ea_91bf_4ccc6af43691row22_col10 {\n",
       "            background-color:  #a2c1ff;\n",
       "            color:  #000000;\n",
       "        }    #T_fe821e26_9524_11ea_91bf_4ccc6af43691row22_col11 {\n",
       "            background-color:  #8badfd;\n",
       "            color:  #000000;\n",
       "        }    #T_fe821e26_9524_11ea_91bf_4ccc6af43691row22_col12 {\n",
       "            background-color:  #799cf8;\n",
       "            color:  #000000;\n",
       "        }    #T_fe821e26_9524_11ea_91bf_4ccc6af43691row22_col13 {\n",
       "            background-color:  #7093f3;\n",
       "            color:  #000000;\n",
       "        }    #T_fe821e26_9524_11ea_91bf_4ccc6af43691row22_col14 {\n",
       "            background-color:  #516ddb;\n",
       "            color:  #000000;\n",
       "        }    #T_fe821e26_9524_11ea_91bf_4ccc6af43691row22_col15 {\n",
       "            background-color:  #6c8ff1;\n",
       "            color:  #000000;\n",
       "        }    #T_fe821e26_9524_11ea_91bf_4ccc6af43691row22_col16 {\n",
       "            background-color:  #94b6ff;\n",
       "            color:  #000000;\n",
       "        }    #T_fe821e26_9524_11ea_91bf_4ccc6af43691row22_col17 {\n",
       "            background-color:  #88abfd;\n",
       "            color:  #000000;\n",
       "        }    #T_fe821e26_9524_11ea_91bf_4ccc6af43691row22_col18 {\n",
       "            background-color:  #4257c9;\n",
       "            color:  #f1f1f1;\n",
       "        }    #T_fe821e26_9524_11ea_91bf_4ccc6af43691row22_col19 {\n",
       "            background-color:  #5673e0;\n",
       "            color:  #000000;\n",
       "        }    #T_fe821e26_9524_11ea_91bf_4ccc6af43691row22_col20 {\n",
       "            background-color:  #7597f6;\n",
       "            color:  #000000;\n",
       "        }    #T_fe821e26_9524_11ea_91bf_4ccc6af43691row22_col21 {\n",
       "            background-color:  #455cce;\n",
       "            color:  #f1f1f1;\n",
       "        }    #T_fe821e26_9524_11ea_91bf_4ccc6af43691row22_col22 {\n",
       "            background-color:  #b40426;\n",
       "            color:  #f1f1f1;\n",
       "        }    #T_fe821e26_9524_11ea_91bf_4ccc6af43691row22_col23 {\n",
       "            background-color:  #97b8ff;\n",
       "            color:  #000000;\n",
       "        }    #T_fe821e26_9524_11ea_91bf_4ccc6af43691row23_col0 {\n",
       "            background-color:  #9ebeff;\n",
       "            color:  #000000;\n",
       "        }    #T_fe821e26_9524_11ea_91bf_4ccc6af43691row23_col1 {\n",
       "            background-color:  #a3c2fe;\n",
       "            color:  #000000;\n",
       "        }    #T_fe821e26_9524_11ea_91bf_4ccc6af43691row23_col2 {\n",
       "            background-color:  #6c8ff1;\n",
       "            color:  #000000;\n",
       "        }    #T_fe821e26_9524_11ea_91bf_4ccc6af43691row23_col3 {\n",
       "            background-color:  #a1c0ff;\n",
       "            color:  #000000;\n",
       "        }    #T_fe821e26_9524_11ea_91bf_4ccc6af43691row23_col4 {\n",
       "            background-color:  #4257c9;\n",
       "            color:  #f1f1f1;\n",
       "        }    #T_fe821e26_9524_11ea_91bf_4ccc6af43691row23_col5 {\n",
       "            background-color:  #506bda;\n",
       "            color:  #000000;\n",
       "        }    #T_fe821e26_9524_11ea_91bf_4ccc6af43691row23_col6 {\n",
       "            background-color:  #b6cefa;\n",
       "            color:  #000000;\n",
       "        }    #T_fe821e26_9524_11ea_91bf_4ccc6af43691row23_col7 {\n",
       "            background-color:  #a3c2fe;\n",
       "            color:  #000000;\n",
       "        }    #T_fe821e26_9524_11ea_91bf_4ccc6af43691row23_col8 {\n",
       "            background-color:  #7093f3;\n",
       "            color:  #000000;\n",
       "        }    #T_fe821e26_9524_11ea_91bf_4ccc6af43691row23_col9 {\n",
       "            background-color:  #a6c4fe;\n",
       "            color:  #000000;\n",
       "        }    #T_fe821e26_9524_11ea_91bf_4ccc6af43691row23_col10 {\n",
       "            background-color:  #3b4cc0;\n",
       "            color:  #f1f1f1;\n",
       "        }    #T_fe821e26_9524_11ea_91bf_4ccc6af43691row23_col11 {\n",
       "            background-color:  #5f7fe8;\n",
       "            color:  #000000;\n",
       "        }    #T_fe821e26_9524_11ea_91bf_4ccc6af43691row23_col12 {\n",
       "            background-color:  #6485ec;\n",
       "            color:  #000000;\n",
       "        }    #T_fe821e26_9524_11ea_91bf_4ccc6af43691row23_col13 {\n",
       "            background-color:  #8caffe;\n",
       "            color:  #000000;\n",
       "        }    #T_fe821e26_9524_11ea_91bf_4ccc6af43691row23_col14 {\n",
       "            background-color:  #5673e0;\n",
       "            color:  #000000;\n",
       "        }    #T_fe821e26_9524_11ea_91bf_4ccc6af43691row23_col15 {\n",
       "            background-color:  #6788ee;\n",
       "            color:  #000000;\n",
       "        }    #T_fe821e26_9524_11ea_91bf_4ccc6af43691row23_col16 {\n",
       "            background-color:  #b9d0f9;\n",
       "            color:  #000000;\n",
       "        }    #T_fe821e26_9524_11ea_91bf_4ccc6af43691row23_col17 {\n",
       "            background-color:  #3b4cc0;\n",
       "            color:  #f1f1f1;\n",
       "        }    #T_fe821e26_9524_11ea_91bf_4ccc6af43691row23_col18 {\n",
       "            background-color:  #6282ea;\n",
       "            color:  #000000;\n",
       "        }    #T_fe821e26_9524_11ea_91bf_4ccc6af43691row23_col19 {\n",
       "            background-color:  #6282ea;\n",
       "            color:  #000000;\n",
       "        }    #T_fe821e26_9524_11ea_91bf_4ccc6af43691row23_col20 {\n",
       "            background-color:  #3b4cc0;\n",
       "            color:  #f1f1f1;\n",
       "        }    #T_fe821e26_9524_11ea_91bf_4ccc6af43691row23_col21 {\n",
       "            background-color:  #3e51c5;\n",
       "            color:  #f1f1f1;\n",
       "        }    #T_fe821e26_9524_11ea_91bf_4ccc6af43691row23_col22 {\n",
       "            background-color:  #6384eb;\n",
       "            color:  #000000;\n",
       "        }    #T_fe821e26_9524_11ea_91bf_4ccc6af43691row23_col23 {\n",
       "            background-color:  #b40426;\n",
       "            color:  #f1f1f1;\n",
       "        }</style><table id=\"T_fe821e26_9524_11ea_91bf_4ccc6af43691\" ><thead>    <tr>        <th class=\"blank level0\" ></th>        <th class=\"col_heading level0 col0\" >school</th>        <th class=\"col_heading level0 col1\" >sex</th>        <th class=\"col_heading level0 col2\" >age</th>        <th class=\"col_heading level0 col3\" >address</th>        <th class=\"col_heading level0 col4\" >famsize</th>        <th class=\"col_heading level0 col5\" >Pstatus</th>        <th class=\"col_heading level0 col6\" >Medu</th>        <th class=\"col_heading level0 col7\" >Fedu</th>        <th class=\"col_heading level0 col8\" >traveltime</th>        <th class=\"col_heading level0 col9\" >studytime</th>        <th class=\"col_heading level0 col10\" >failures</th>        <th class=\"col_heading level0 col11\" >schoolsup</th>        <th class=\"col_heading level0 col12\" >famsup</th>        <th class=\"col_heading level0 col13\" >paid</th>        <th class=\"col_heading level0 col14\" >activities</th>        <th class=\"col_heading level0 col15\" >nursery</th>        <th class=\"col_heading level0 col16\" >higher</th>        <th class=\"col_heading level0 col17\" >romantic</th>        <th class=\"col_heading level0 col18\" >famrel</th>        <th class=\"col_heading level0 col19\" >freetime</th>        <th class=\"col_heading level0 col20\" >goout</th>        <th class=\"col_heading level0 col21\" >health</th>        <th class=\"col_heading level0 col22\" >absences</th>        <th class=\"col_heading level0 col23\" >score</th>    </tr></thead><tbody>\n",
       "                <tr>\n",
       "                        <th id=\"T_fe821e26_9524_11ea_91bf_4ccc6af43691level0_row0\" class=\"row_heading level0 row0\" >school</th>\n",
       "                        <td id=\"T_fe821e26_9524_11ea_91bf_4ccc6af43691row0_col0\" class=\"data row0 col0\" >1</td>\n",
       "                        <td id=\"T_fe821e26_9524_11ea_91bf_4ccc6af43691row0_col1\" class=\"data row0 col1\" >0.0322204</td>\n",
       "                        <td id=\"T_fe821e26_9524_11ea_91bf_4ccc6af43691row0_col2\" class=\"data row0 col2\" >-0.368991</td>\n",
       "                        <td id=\"T_fe821e26_9524_11ea_91bf_4ccc6af43691row0_col3\" class=\"data row0 col3\" >0.304738</td>\n",
       "                        <td id=\"T_fe821e26_9524_11ea_91bf_4ccc6af43691row0_col4\" class=\"data row0 col4\" >0.0493758</td>\n",
       "                        <td id=\"T_fe821e26_9524_11ea_91bf_4ccc6af43691row0_col5\" class=\"data row0 col5\" >-0.0949425</td>\n",
       "                        <td id=\"T_fe821e26_9524_11ea_91bf_4ccc6af43691row0_col6\" class=\"data row0 col6\" >0.124875</td>\n",
       "                        <td id=\"T_fe821e26_9524_11ea_91bf_4ccc6af43691row0_col7\" class=\"data row0 col7\" >0.0717625</td>\n",
       "                        <td id=\"T_fe821e26_9524_11ea_91bf_4ccc6af43691row0_col8\" class=\"data row0 col8\" >-0.250318</td>\n",
       "                        <td id=\"T_fe821e26_9524_11ea_91bf_4ccc6af43691row0_col9\" class=\"data row0 col9\" >0.092932</td>\n",
       "                        <td id=\"T_fe821e26_9524_11ea_91bf_4ccc6af43691row0_col10\" class=\"data row0 col10\" >-0.0293185</td>\n",
       "                        <td id=\"T_fe821e26_9524_11ea_91bf_4ccc6af43691row0_col11\" class=\"data row0 col11\" >0.136772</td>\n",
       "                        <td id=\"T_fe821e26_9524_11ea_91bf_4ccc6af43691row0_col12\" class=\"data row0 col12\" >0.186212</td>\n",
       "                        <td id=\"T_fe821e26_9524_11ea_91bf_4ccc6af43691row0_col13\" class=\"data row0 col13\" >0.0352628</td>\n",
       "                        <td id=\"T_fe821e26_9524_11ea_91bf_4ccc6af43691row0_col14\" class=\"data row0 col14\" >0.095966</td>\n",
       "                        <td id=\"T_fe821e26_9524_11ea_91bf_4ccc6af43691row0_col15\" class=\"data row0 col15\" >0.119311</td>\n",
       "                        <td id=\"T_fe821e26_9524_11ea_91bf_4ccc6af43691row0_col16\" class=\"data row0 col16\" >0.0394042</td>\n",
       "                        <td id=\"T_fe821e26_9524_11ea_91bf_4ccc6af43691row0_col17\" class=\"data row0 col17\" >-0.0725563</td>\n",
       "                        <td id=\"T_fe821e26_9524_11ea_91bf_4ccc6af43691row0_col18\" class=\"data row0 col18\" >0.0544622</td>\n",
       "                        <td id=\"T_fe821e26_9524_11ea_91bf_4ccc6af43691row0_col19\" class=\"data row0 col19\" >-0.0193385</td>\n",
       "                        <td id=\"T_fe821e26_9524_11ea_91bf_4ccc6af43691row0_col20\" class=\"data row0 col20\" >0.0181629</td>\n",
       "                        <td id=\"T_fe821e26_9524_11ea_91bf_4ccc6af43691row0_col21\" class=\"data row0 col21\" >0.0304587</td>\n",
       "                        <td id=\"T_fe821e26_9524_11ea_91bf_4ccc6af43691row0_col22\" class=\"data row0 col22\" >0.103681</td>\n",
       "                        <td id=\"T_fe821e26_9524_11ea_91bf_4ccc6af43691row0_col23\" class=\"data row0 col23\" >0.0417922</td>\n",
       "            </tr>\n",
       "            <tr>\n",
       "                        <th id=\"T_fe821e26_9524_11ea_91bf_4ccc6af43691level0_row1\" class=\"row_heading level0 row1\" >sex</th>\n",
       "                        <td id=\"T_fe821e26_9524_11ea_91bf_4ccc6af43691row1_col0\" class=\"data row1 col0\" >0.0322204</td>\n",
       "                        <td id=\"T_fe821e26_9524_11ea_91bf_4ccc6af43691row1_col1\" class=\"data row1 col1\" >1</td>\n",
       "                        <td id=\"T_fe821e26_9524_11ea_91bf_4ccc6af43691row1_col2\" class=\"data row1 col2\" >-0.0373181</td>\n",
       "                        <td id=\"T_fe821e26_9524_11ea_91bf_4ccc6af43691row1_col3\" class=\"data row1 col3\" >0.0130918</td>\n",
       "                        <td id=\"T_fe821e26_9524_11ea_91bf_4ccc6af43691row1_col4\" class=\"data row1 col4\" >-0.0905065</td>\n",
       "                        <td id=\"T_fe821e26_9524_11ea_91bf_4ccc6af43691row1_col5\" class=\"data row1 col5\" >0.0441315</td>\n",
       "                        <td id=\"T_fe821e26_9524_11ea_91bf_4ccc6af43691row1_col6\" class=\"data row1 col6\" >0.0849654</td>\n",
       "                        <td id=\"T_fe821e26_9524_11ea_91bf_4ccc6af43691row1_col7\" class=\"data row1 col7\" >0.0523745</td>\n",
       "                        <td id=\"T_fe821e26_9524_11ea_91bf_4ccc6af43691row1_col8\" class=\"data row1 col8\" >0.0487982</td>\n",
       "                        <td id=\"T_fe821e26_9524_11ea_91bf_4ccc6af43691row1_col9\" class=\"data row1 col9\" >-0.306099</td>\n",
       "                        <td id=\"T_fe821e26_9524_11ea_91bf_4ccc6af43691row1_col10\" class=\"data row1 col10\" >0.0128159</td>\n",
       "                        <td id=\"T_fe821e26_9524_11ea_91bf_4ccc6af43691row1_col11\" class=\"data row1 col11\" >-0.130217</td>\n",
       "                        <td id=\"T_fe821e26_9524_11ea_91bf_4ccc6af43691row1_col12\" class=\"data row1 col12\" >-0.153155</td>\n",
       "                        <td id=\"T_fe821e26_9524_11ea_91bf_4ccc6af43691row1_col13\" class=\"data row1 col13\" >-0.109406</td>\n",
       "                        <td id=\"T_fe821e26_9524_11ea_91bf_4ccc6af43691row1_col14\" class=\"data row1 col14\" >0.108686</td>\n",
       "                        <td id=\"T_fe821e26_9524_11ea_91bf_4ccc6af43691row1_col15\" class=\"data row1 col15\" >0.00345992</td>\n",
       "                        <td id=\"T_fe821e26_9524_11ea_91bf_4ccc6af43691row1_col16\" class=\"data row1 col16\" >-0.169515</td>\n",
       "                        <td id=\"T_fe821e26_9524_11ea_91bf_4ccc6af43691row1_col17\" class=\"data row1 col17\" >-0.13133</td>\n",
       "                        <td id=\"T_fe821e26_9524_11ea_91bf_4ccc6af43691row1_col18\" class=\"data row1 col18\" >0.0390629</td>\n",
       "                        <td id=\"T_fe821e26_9524_11ea_91bf_4ccc6af43691row1_col19\" class=\"data row1 col19\" >0.220881</td>\n",
       "                        <td id=\"T_fe821e26_9524_11ea_91bf_4ccc6af43691row1_col20\" class=\"data row1 col20\" >0.0822691</td>\n",
       "                        <td id=\"T_fe821e26_9524_11ea_91bf_4ccc6af43691row1_col21\" class=\"data row1 col21\" >0.146294</td>\n",
       "                        <td id=\"T_fe821e26_9524_11ea_91bf_4ccc6af43691row1_col22\" class=\"data row1 col22\" >-0.0618924</td>\n",
       "                        <td id=\"T_fe821e26_9524_11ea_91bf_4ccc6af43691row1_col23\" class=\"data row1 col23\" >0.103558</td>\n",
       "            </tr>\n",
       "            <tr>\n",
       "                        <th id=\"T_fe821e26_9524_11ea_91bf_4ccc6af43691level0_row2\" class=\"row_heading level0 row2\" >age</th>\n",
       "                        <td id=\"T_fe821e26_9524_11ea_91bf_4ccc6af43691row2_col0\" class=\"data row2 col0\" >-0.368991</td>\n",
       "                        <td id=\"T_fe821e26_9524_11ea_91bf_4ccc6af43691row2_col1\" class=\"data row2 col1\" >-0.0373181</td>\n",
       "                        <td id=\"T_fe821e26_9524_11ea_91bf_4ccc6af43691row2_col2\" class=\"data row2 col2\" >1</td>\n",
       "                        <td id=\"T_fe821e26_9524_11ea_91bf_4ccc6af43691row2_col3\" class=\"data row2 col3\" >-0.166509</td>\n",
       "                        <td id=\"T_fe821e26_9524_11ea_91bf_4ccc6af43691row2_col4\" class=\"data row2 col4\" >-0.0257053</td>\n",
       "                        <td id=\"T_fe821e26_9524_11ea_91bf_4ccc6af43691row2_col5\" class=\"data row2 col5\" >0.0424022</td>\n",
       "                        <td id=\"T_fe821e26_9524_11ea_91bf_4ccc6af43691row2_col6\" class=\"data row2 col6\" >-0.146</td>\n",
       "                        <td id=\"T_fe821e26_9524_11ea_91bf_4ccc6af43691row2_col7\" class=\"data row2 col7\" >-0.157204</td>\n",
       "                        <td id=\"T_fe821e26_9524_11ea_91bf_4ccc6af43691row2_col8\" class=\"data row2 col8\" >0.0754372</td>\n",
       "                        <td id=\"T_fe821e26_9524_11ea_91bf_4ccc6af43691row2_col9\" class=\"data row2 col9\" >-0.0178618</td>\n",
       "                        <td id=\"T_fe821e26_9524_11ea_91bf_4ccc6af43691row2_col10\" class=\"data row2 col10\" >0.194331</td>\n",
       "                        <td id=\"T_fe821e26_9524_11ea_91bf_4ccc6af43691row2_col11\" class=\"data row2 col11\" >-0.25726</td>\n",
       "                        <td id=\"T_fe821e26_9524_11ea_91bf_4ccc6af43691row2_col12\" class=\"data row2 col12\" >-0.162736</td>\n",
       "                        <td id=\"T_fe821e26_9524_11ea_91bf_4ccc6af43691row2_col13\" class=\"data row2 col13\" >-0.0365024</td>\n",
       "                        <td id=\"T_fe821e26_9524_11ea_91bf_4ccc6af43691row2_col14\" class=\"data row2 col14\" >-0.0715618</td>\n",
       "                        <td id=\"T_fe821e26_9524_11ea_91bf_4ccc6af43691row2_col15\" class=\"data row2 col15\" >-0.0958685</td>\n",
       "                        <td id=\"T_fe821e26_9524_11ea_91bf_4ccc6af43691row2_col16\" class=\"data row2 col16\" >-0.212679</td>\n",
       "                        <td id=\"T_fe821e26_9524_11ea_91bf_4ccc6af43691row2_col17\" class=\"data row2 col17\" >0.158357</td>\n",
       "                        <td id=\"T_fe821e26_9524_11ea_91bf_4ccc6af43691row2_col18\" class=\"data row2 col18\" >0.0479938</td>\n",
       "                        <td id=\"T_fe821e26_9524_11ea_91bf_4ccc6af43691row2_col19\" class=\"data row2 col19\" >0.00768428</td>\n",
       "                        <td id=\"T_fe821e26_9524_11ea_91bf_4ccc6af43691row2_col20\" class=\"data row2 col20\" >0.120589</td>\n",
       "                        <td id=\"T_fe821e26_9524_11ea_91bf_4ccc6af43691row2_col21\" class=\"data row2 col21\" >-0.0749186</td>\n",
       "                        <td id=\"T_fe821e26_9524_11ea_91bf_4ccc6af43691row2_col22\" class=\"data row2 col22\" >0.161288</td>\n",
       "                        <td id=\"T_fe821e26_9524_11ea_91bf_4ccc6af43691row2_col23\" class=\"data row2 col23\" >-0.152866</td>\n",
       "            </tr>\n",
       "            <tr>\n",
       "                        <th id=\"T_fe821e26_9524_11ea_91bf_4ccc6af43691level0_row3\" class=\"row_heading level0 row3\" >address</th>\n",
       "                        <td id=\"T_fe821e26_9524_11ea_91bf_4ccc6af43691row3_col0\" class=\"data row3 col0\" >0.304738</td>\n",
       "                        <td id=\"T_fe821e26_9524_11ea_91bf_4ccc6af43691row3_col1\" class=\"data row3 col1\" >0.0130918</td>\n",
       "                        <td id=\"T_fe821e26_9524_11ea_91bf_4ccc6af43691row3_col2\" class=\"data row3 col2\" >-0.166509</td>\n",
       "                        <td id=\"T_fe821e26_9524_11ea_91bf_4ccc6af43691row3_col3\" class=\"data row3 col3\" >1</td>\n",
       "                        <td id=\"T_fe821e26_9524_11ea_91bf_4ccc6af43691row3_col4\" class=\"data row3 col4\" >-0.0704475</td>\n",
       "                        <td id=\"T_fe821e26_9524_11ea_91bf_4ccc6af43691row3_col5\" class=\"data row3 col5\" >-0.0860878</td>\n",
       "                        <td id=\"T_fe821e26_9524_11ea_91bf_4ccc6af43691row3_col6\" class=\"data row3 col6\" >0.157497</td>\n",
       "                        <td id=\"T_fe821e26_9524_11ea_91bf_4ccc6af43691row3_col7\" class=\"data row3 col7\" >0.0804503</td>\n",
       "                        <td id=\"T_fe821e26_9524_11ea_91bf_4ccc6af43691row3_col8\" class=\"data row3 col8\" >-0.284613</td>\n",
       "                        <td id=\"T_fe821e26_9524_11ea_91bf_4ccc6af43691row3_col9\" class=\"data row3 col9\" >-0.0593238</td>\n",
       "                        <td id=\"T_fe821e26_9524_11ea_91bf_4ccc6af43691row3_col10\" class=\"data row3 col10\" >-0.10914</td>\n",
       "                        <td id=\"T_fe821e26_9524_11ea_91bf_4ccc6af43691row3_col11\" class=\"data row3 col11\" >0.0313674</td>\n",
       "                        <td id=\"T_fe821e26_9524_11ea_91bf_4ccc6af43691row3_col12\" class=\"data row3 col12\" >0.0299535</td>\n",
       "                        <td id=\"T_fe821e26_9524_11ea_91bf_4ccc6af43691row3_col13\" class=\"data row3 col13\" >0.0484264</td>\n",
       "                        <td id=\"T_fe821e26_9524_11ea_91bf_4ccc6af43691row3_col14\" class=\"data row3 col14\" >-0.0655186</td>\n",
       "                        <td id=\"T_fe821e26_9524_11ea_91bf_4ccc6af43691row3_col15\" class=\"data row3 col15\" >0.0459508</td>\n",
       "                        <td id=\"T_fe821e26_9524_11ea_91bf_4ccc6af43691row3_col16\" class=\"data row3 col16\" >0.0309351</td>\n",
       "                        <td id=\"T_fe821e26_9524_11ea_91bf_4ccc6af43691row3_col17\" class=\"data row3 col17\" >-0.00774297</td>\n",
       "                        <td id=\"T_fe821e26_9524_11ea_91bf_4ccc6af43691row3_col18\" class=\"data row3 col18\" >-0.0128145</td>\n",
       "                        <td id=\"T_fe821e26_9524_11ea_91bf_4ccc6af43691row3_col19\" class=\"data row3 col19\" >0.0354324</td>\n",
       "                        <td id=\"T_fe821e26_9524_11ea_91bf_4ccc6af43691row3_col20\" class=\"data row3 col20\" >0.0599859</td>\n",
       "                        <td id=\"T_fe821e26_9524_11ea_91bf_4ccc6af43691row3_col21\" class=\"data row3 col21\" >-0.0345288</td>\n",
       "                        <td id=\"T_fe821e26_9524_11ea_91bf_4ccc6af43691row3_col22\" class=\"data row3 col22\" >0.017117</td>\n",
       "                        <td id=\"T_fe821e26_9524_11ea_91bf_4ccc6af43691row3_col23\" class=\"data row3 col23\" >0.111273</td>\n",
       "            </tr>\n",
       "            <tr>\n",
       "                        <th id=\"T_fe821e26_9524_11ea_91bf_4ccc6af43691level0_row4\" class=\"row_heading level0 row4\" >famsize</th>\n",
       "                        <td id=\"T_fe821e26_9524_11ea_91bf_4ccc6af43691row4_col0\" class=\"data row4 col0\" >0.0493758</td>\n",
       "                        <td id=\"T_fe821e26_9524_11ea_91bf_4ccc6af43691row4_col1\" class=\"data row4 col1\" >-0.0905065</td>\n",
       "                        <td id=\"T_fe821e26_9524_11ea_91bf_4ccc6af43691row4_col2\" class=\"data row4 col2\" >-0.0257053</td>\n",
       "                        <td id=\"T_fe821e26_9524_11ea_91bf_4ccc6af43691row4_col3\" class=\"data row4 col3\" >-0.0704475</td>\n",
       "                        <td id=\"T_fe821e26_9524_11ea_91bf_4ccc6af43691row4_col4\" class=\"data row4 col4\" >1</td>\n",
       "                        <td id=\"T_fe821e26_9524_11ea_91bf_4ccc6af43691row4_col5\" class=\"data row4 col5\" >0.0683797</td>\n",
       "                        <td id=\"T_fe821e26_9524_11ea_91bf_4ccc6af43691row4_col6\" class=\"data row4 col6\" >0.0675212</td>\n",
       "                        <td id=\"T_fe821e26_9524_11ea_91bf_4ccc6af43691row4_col7\" class=\"data row4 col7\" >0.115579</td>\n",
       "                        <td id=\"T_fe821e26_9524_11ea_91bf_4ccc6af43691row4_col8\" class=\"data row4 col8\" >-0.0501995</td>\n",
       "                        <td id=\"T_fe821e26_9524_11ea_91bf_4ccc6af43691row4_col9\" class=\"data row4 col9\" >0.0845687</td>\n",
       "                        <td id=\"T_fe821e26_9524_11ea_91bf_4ccc6af43691row4_col10\" class=\"data row4 col10\" >-0.00448837</td>\n",
       "                        <td id=\"T_fe821e26_9524_11ea_91bf_4ccc6af43691row4_col11\" class=\"data row4 col11\" >0.0237333</td>\n",
       "                        <td id=\"T_fe821e26_9524_11ea_91bf_4ccc6af43691row4_col12\" class=\"data row4 col12\" >0.128719</td>\n",
       "                        <td id=\"T_fe821e26_9524_11ea_91bf_4ccc6af43691row4_col13\" class=\"data row4 col13\" >0.0948739</td>\n",
       "                        <td id=\"T_fe821e26_9524_11ea_91bf_4ccc6af43691row4_col14\" class=\"data row4 col14\" >0.0362372</td>\n",
       "                        <td id=\"T_fe821e26_9524_11ea_91bf_4ccc6af43691row4_col15\" class=\"data row4 col15\" >-0.0970905</td>\n",
       "                        <td id=\"T_fe821e26_9524_11ea_91bf_4ccc6af43691row4_col16\" class=\"data row4 col16\" >0.0348466</td>\n",
       "                        <td id=\"T_fe821e26_9524_11ea_91bf_4ccc6af43691row4_col17\" class=\"data row4 col17\" >-0.0173856</td>\n",
       "                        <td id=\"T_fe821e26_9524_11ea_91bf_4ccc6af43691row4_col18\" class=\"data row4 col18\" >0.0267349</td>\n",
       "                        <td id=\"T_fe821e26_9524_11ea_91bf_4ccc6af43691row4_col19\" class=\"data row4 col19\" >-0.0215525</td>\n",
       "                        <td id=\"T_fe821e26_9524_11ea_91bf_4ccc6af43691row4_col20\" class=\"data row4 col20\" >-0.0240726</td>\n",
       "                        <td id=\"T_fe821e26_9524_11ea_91bf_4ccc6af43691row4_col21\" class=\"data row4 col21\" >0.0478122</td>\n",
       "                        <td id=\"T_fe821e26_9524_11ea_91bf_4ccc6af43691row4_col22\" class=\"data row4 col22\" >-0.0224093</td>\n",
       "                        <td id=\"T_fe821e26_9524_11ea_91bf_4ccc6af43691row4_col23\" class=\"data row4 col23\" >-0.0671955</td>\n",
       "            </tr>\n",
       "            <tr>\n",
       "                        <th id=\"T_fe821e26_9524_11ea_91bf_4ccc6af43691level0_row5\" class=\"row_heading level0 row5\" >Pstatus</th>\n",
       "                        <td id=\"T_fe821e26_9524_11ea_91bf_4ccc6af43691row5_col0\" class=\"data row5 col0\" >-0.0949425</td>\n",
       "                        <td id=\"T_fe821e26_9524_11ea_91bf_4ccc6af43691row5_col1\" class=\"data row5 col1\" >0.0441315</td>\n",
       "                        <td id=\"T_fe821e26_9524_11ea_91bf_4ccc6af43691row5_col2\" class=\"data row5 col2\" >0.0424022</td>\n",
       "                        <td id=\"T_fe821e26_9524_11ea_91bf_4ccc6af43691row5_col3\" class=\"data row5 col3\" >-0.0860878</td>\n",
       "                        <td id=\"T_fe821e26_9524_11ea_91bf_4ccc6af43691row5_col4\" class=\"data row5 col4\" >0.0683797</td>\n",
       "                        <td id=\"T_fe821e26_9524_11ea_91bf_4ccc6af43691row5_col5\" class=\"data row5 col5\" >1</td>\n",
       "                        <td id=\"T_fe821e26_9524_11ea_91bf_4ccc6af43691row5_col6\" class=\"data row5 col6\" >-0.135498</td>\n",
       "                        <td id=\"T_fe821e26_9524_11ea_91bf_4ccc6af43691row5_col7\" class=\"data row5 col7\" >-0.126884</td>\n",
       "                        <td id=\"T_fe821e26_9524_11ea_91bf_4ccc6af43691row5_col8\" class=\"data row5 col8\" >0.0857045</td>\n",
       "                        <td id=\"T_fe821e26_9524_11ea_91bf_4ccc6af43691row5_col9\" class=\"data row5 col9\" >0.00590223</td>\n",
       "                        <td id=\"T_fe821e26_9524_11ea_91bf_4ccc6af43691row5_col10\" class=\"data row5 col10\" >0.0239702</td>\n",
       "                        <td id=\"T_fe821e26_9524_11ea_91bf_4ccc6af43691row5_col11\" class=\"data row5 col11\" >-0.0504966</td>\n",
       "                        <td id=\"T_fe821e26_9524_11ea_91bf_4ccc6af43691row5_col12\" class=\"data row5 col12\" >-0.0202142</td>\n",
       "                        <td id=\"T_fe821e26_9524_11ea_91bf_4ccc6af43691row5_col13\" class=\"data row5 col13\" >0.0463513</td>\n",
       "                        <td id=\"T_fe821e26_9524_11ea_91bf_4ccc6af43691row5_col14\" class=\"data row5 col14\" >0.0949553</td>\n",
       "                        <td id=\"T_fe821e26_9524_11ea_91bf_4ccc6af43691row5_col15\" class=\"data row5 col15\" >-0.0812392</td>\n",
       "                        <td id=\"T_fe821e26_9524_11ea_91bf_4ccc6af43691row5_col16\" class=\"data row5 col16\" >-0.0726952</td>\n",
       "                        <td id=\"T_fe821e26_9524_11ea_91bf_4ccc6af43691row5_col17\" class=\"data row5 col17\" >-0.0424309</td>\n",
       "                        <td id=\"T_fe821e26_9524_11ea_91bf_4ccc6af43691row5_col18\" class=\"data row5 col18\" >0.0281735</td>\n",
       "                        <td id=\"T_fe821e26_9524_11ea_91bf_4ccc6af43691row5_col19\" class=\"data row5 col19\" >0.0522749</td>\n",
       "                        <td id=\"T_fe821e26_9524_11ea_91bf_4ccc6af43691row5_col20\" class=\"data row5 col20\" >0.0284462</td>\n",
       "                        <td id=\"T_fe821e26_9524_11ea_91bf_4ccc6af43691row5_col21\" class=\"data row5 col21\" >0.0176845</td>\n",
       "                        <td id=\"T_fe821e26_9524_11ea_91bf_4ccc6af43691row5_col22\" class=\"data row5 col22\" >-0.110767</td>\n",
       "                        <td id=\"T_fe821e26_9524_11ea_91bf_4ccc6af43691row5_col23\" class=\"data row5 col23\" >-0.0541887</td>\n",
       "            </tr>\n",
       "            <tr>\n",
       "                        <th id=\"T_fe821e26_9524_11ea_91bf_4ccc6af43691level0_row6\" class=\"row_heading level0 row6\" >Medu</th>\n",
       "                        <td id=\"T_fe821e26_9524_11ea_91bf_4ccc6af43691row6_col0\" class=\"data row6 col0\" >0.124875</td>\n",
       "                        <td id=\"T_fe821e26_9524_11ea_91bf_4ccc6af43691row6_col1\" class=\"data row6 col1\" >0.0849654</td>\n",
       "                        <td id=\"T_fe821e26_9524_11ea_91bf_4ccc6af43691row6_col2\" class=\"data row6 col2\" >-0.146</td>\n",
       "                        <td id=\"T_fe821e26_9524_11ea_91bf_4ccc6af43691row6_col3\" class=\"data row6 col3\" >0.157497</td>\n",
       "                        <td id=\"T_fe821e26_9524_11ea_91bf_4ccc6af43691row6_col4\" class=\"data row6 col4\" >0.0675212</td>\n",
       "                        <td id=\"T_fe821e26_9524_11ea_91bf_4ccc6af43691row6_col5\" class=\"data row6 col5\" >-0.135498</td>\n",
       "                        <td id=\"T_fe821e26_9524_11ea_91bf_4ccc6af43691row6_col6\" class=\"data row6 col6\" >1</td>\n",
       "                        <td id=\"T_fe821e26_9524_11ea_91bf_4ccc6af43691row6_col7\" class=\"data row6 col7\" >0.647106</td>\n",
       "                        <td id=\"T_fe821e26_9524_11ea_91bf_4ccc6af43691row6_col8\" class=\"data row6 col8\" >-0.166724</td>\n",
       "                        <td id=\"T_fe821e26_9524_11ea_91bf_4ccc6af43691row6_col9\" class=\"data row6 col9\" >0.0795989</td>\n",
       "                        <td id=\"T_fe821e26_9524_11ea_91bf_4ccc6af43691row6_col10\" class=\"data row6 col10\" >-0.239084</td>\n",
       "                        <td id=\"T_fe821e26_9524_11ea_91bf_4ccc6af43691row6_col11\" class=\"data row6 col11\" >-0.0254574</td>\n",
       "                        <td id=\"T_fe821e26_9524_11ea_91bf_4ccc6af43691row6_col12\" class=\"data row6 col12\" >0.203945</td>\n",
       "                        <td id=\"T_fe821e26_9524_11ea_91bf_4ccc6af43691row6_col13\" class=\"data row6 col13\" >0.175372</td>\n",
       "                        <td id=\"T_fe821e26_9524_11ea_91bf_4ccc6af43691row6_col14\" class=\"data row6 col14\" >0.1032</td>\n",
       "                        <td id=\"T_fe821e26_9524_11ea_91bf_4ccc6af43691row6_col15\" class=\"data row6 col15\" >0.185136</td>\n",
       "                        <td id=\"T_fe821e26_9524_11ea_91bf_4ccc6af43691row6_col16\" class=\"data row6 col16\" >0.193987</td>\n",
       "                        <td id=\"T_fe821e26_9524_11ea_91bf_4ccc6af43691row6_col17\" class=\"data row6 col17\" >0.0136402</td>\n",
       "                        <td id=\"T_fe821e26_9524_11ea_91bf_4ccc6af43691row6_col18\" class=\"data row6 col18\" >-0.00584242</td>\n",
       "                        <td id=\"T_fe821e26_9524_11ea_91bf_4ccc6af43691row6_col19\" class=\"data row6 col19\" >0.0384949</td>\n",
       "                        <td id=\"T_fe821e26_9524_11ea_91bf_4ccc6af43691row6_col20\" class=\"data row6 col20\" >0.0693109</td>\n",
       "                        <td id=\"T_fe821e26_9524_11ea_91bf_4ccc6af43691row6_col21\" class=\"data row6 col21\" >-0.044021</td>\n",
       "                        <td id=\"T_fe821e26_9524_11ea_91bf_4ccc6af43691row6_col22\" class=\"data row6 col22\" >0.10895</td>\n",
       "                        <td id=\"T_fe821e26_9524_11ea_91bf_4ccc6af43691row6_col23\" class=\"data row6 col23\" >0.220311</td>\n",
       "            </tr>\n",
       "            <tr>\n",
       "                        <th id=\"T_fe821e26_9524_11ea_91bf_4ccc6af43691level0_row7\" class=\"row_heading level0 row7\" >Fedu</th>\n",
       "                        <td id=\"T_fe821e26_9524_11ea_91bf_4ccc6af43691row7_col0\" class=\"data row7 col0\" >0.0717625</td>\n",
       "                        <td id=\"T_fe821e26_9524_11ea_91bf_4ccc6af43691row7_col1\" class=\"data row7 col1\" >0.0523745</td>\n",
       "                        <td id=\"T_fe821e26_9524_11ea_91bf_4ccc6af43691row7_col2\" class=\"data row7 col2\" >-0.157204</td>\n",
       "                        <td id=\"T_fe821e26_9524_11ea_91bf_4ccc6af43691row7_col3\" class=\"data row7 col3\" >0.0804503</td>\n",
       "                        <td id=\"T_fe821e26_9524_11ea_91bf_4ccc6af43691row7_col4\" class=\"data row7 col4\" >0.115579</td>\n",
       "                        <td id=\"T_fe821e26_9524_11ea_91bf_4ccc6af43691row7_col5\" class=\"data row7 col5\" >-0.126884</td>\n",
       "                        <td id=\"T_fe821e26_9524_11ea_91bf_4ccc6af43691row7_col6\" class=\"data row7 col6\" >0.647106</td>\n",
       "                        <td id=\"T_fe821e26_9524_11ea_91bf_4ccc6af43691row7_col7\" class=\"data row7 col7\" >1</td>\n",
       "                        <td id=\"T_fe821e26_9524_11ea_91bf_4ccc6af43691row7_col8\" class=\"data row7 col8\" >-0.128635</td>\n",
       "                        <td id=\"T_fe821e26_9524_11ea_91bf_4ccc6af43691row7_col9\" class=\"data row7 col9\" >0.00891456</td>\n",
       "                        <td id=\"T_fe821e26_9524_11ea_91bf_4ccc6af43691row7_col10\" class=\"data row7 col10\" >-0.257594</td>\n",
       "                        <td id=\"T_fe821e26_9524_11ea_91bf_4ccc6af43691row7_col11\" class=\"data row7 col11\" >0.0539705</td>\n",
       "                        <td id=\"T_fe821e26_9524_11ea_91bf_4ccc6af43691row7_col12\" class=\"data row7 col12\" >0.216723</td>\n",
       "                        <td id=\"T_fe821e26_9524_11ea_91bf_4ccc6af43691row7_col13\" class=\"data row7 col13\" >0.103291</td>\n",
       "                        <td id=\"T_fe821e26_9524_11ea_91bf_4ccc6af43691row7_col14\" class=\"data row7 col14\" >0.102205</td>\n",
       "                        <td id=\"T_fe821e26_9524_11ea_91bf_4ccc6af43691row7_col15\" class=\"data row7 col15\" >0.165109</td>\n",
       "                        <td id=\"T_fe821e26_9524_11ea_91bf_4ccc6af43691row7_col16\" class=\"data row7 col16\" >0.189394</td>\n",
       "                        <td id=\"T_fe821e26_9524_11ea_91bf_4ccc6af43691row7_col17\" class=\"data row7 col17\" >-0.00375529</td>\n",
       "                        <td id=\"T_fe821e26_9524_11ea_91bf_4ccc6af43691row7_col18\" class=\"data row7 col18\" >-0.00729218</td>\n",
       "                        <td id=\"T_fe821e26_9524_11ea_91bf_4ccc6af43691row7_col19\" class=\"data row7 col19\" >0.00105902</td>\n",
       "                        <td id=\"T_fe821e26_9524_11ea_91bf_4ccc6af43691row7_col20\" class=\"data row7 col20\" >0.0608438</td>\n",
       "                        <td id=\"T_fe821e26_9524_11ea_91bf_4ccc6af43691row7_col21\" class=\"data row7 col21\" >0.0342538</td>\n",
       "                        <td id=\"T_fe821e26_9524_11ea_91bf_4ccc6af43691row7_col22\" class=\"data row7 col22\" >0.0661419</td>\n",
       "                        <td id=\"T_fe821e26_9524_11ea_91bf_4ccc6af43691row7_col23\" class=\"data row7 col23\" >0.136716</td>\n",
       "            </tr>\n",
       "            <tr>\n",
       "                        <th id=\"T_fe821e26_9524_11ea_91bf_4ccc6af43691level0_row8\" class=\"row_heading level0 row8\" >traveltime</th>\n",
       "                        <td id=\"T_fe821e26_9524_11ea_91bf_4ccc6af43691row8_col0\" class=\"data row8 col0\" >-0.250318</td>\n",
       "                        <td id=\"T_fe821e26_9524_11ea_91bf_4ccc6af43691row8_col1\" class=\"data row8 col1\" >0.0487982</td>\n",
       "                        <td id=\"T_fe821e26_9524_11ea_91bf_4ccc6af43691row8_col2\" class=\"data row8 col2\" >0.0754372</td>\n",
       "                        <td id=\"T_fe821e26_9524_11ea_91bf_4ccc6af43691row8_col3\" class=\"data row8 col3\" >-0.284613</td>\n",
       "                        <td id=\"T_fe821e26_9524_11ea_91bf_4ccc6af43691row8_col4\" class=\"data row8 col4\" >-0.0501995</td>\n",
       "                        <td id=\"T_fe821e26_9524_11ea_91bf_4ccc6af43691row8_col5\" class=\"data row8 col5\" >0.0857045</td>\n",
       "                        <td id=\"T_fe821e26_9524_11ea_91bf_4ccc6af43691row8_col6\" class=\"data row8 col6\" >-0.166724</td>\n",
       "                        <td id=\"T_fe821e26_9524_11ea_91bf_4ccc6af43691row8_col7\" class=\"data row8 col7\" >-0.128635</td>\n",
       "                        <td id=\"T_fe821e26_9524_11ea_91bf_4ccc6af43691row8_col8\" class=\"data row8 col8\" >1</td>\n",
       "                        <td id=\"T_fe821e26_9524_11ea_91bf_4ccc6af43691row8_col9\" class=\"data row8 col9\" >-0.105018</td>\n",
       "                        <td id=\"T_fe821e26_9524_11ea_91bf_4ccc6af43691row8_col10\" class=\"data row8 col10\" >0.0479894</td>\n",
       "                        <td id=\"T_fe821e26_9524_11ea_91bf_4ccc6af43691row8_col11\" class=\"data row8 col11\" >-0.00573278</td>\n",
       "                        <td id=\"T_fe821e26_9524_11ea_91bf_4ccc6af43691row8_col12\" class=\"data row8 col12\" >-0.0118503</td>\n",
       "                        <td id=\"T_fe821e26_9524_11ea_91bf_4ccc6af43691row8_col13\" class=\"data row8 col13\" >-0.0372119</td>\n",
       "                        <td id=\"T_fe821e26_9524_11ea_91bf_4ccc6af43691row8_col14\" class=\"data row8 col14\" >0.00351192</td>\n",
       "                        <td id=\"T_fe821e26_9524_11ea_91bf_4ccc6af43691row8_col15\" class=\"data row8 col15\" >-0.039702</td>\n",
       "                        <td id=\"T_fe821e26_9524_11ea_91bf_4ccc6af43691row8_col16\" class=\"data row8 col16\" >-0.0761233</td>\n",
       "                        <td id=\"T_fe821e26_9524_11ea_91bf_4ccc6af43691row8_col17\" class=\"data row8 col17\" >0.0164762</td>\n",
       "                        <td id=\"T_fe821e26_9524_11ea_91bf_4ccc6af43691row8_col18\" class=\"data row8 col18\" >-0.0346315</td>\n",
       "                        <td id=\"T_fe821e26_9524_11ea_91bf_4ccc6af43691row8_col19\" class=\"data row8 col19\" >-0.0191964</td>\n",
       "                        <td id=\"T_fe821e26_9524_11ea_91bf_4ccc6af43691row8_col20\" class=\"data row8 col20\" >0.0365153</td>\n",
       "                        <td id=\"T_fe821e26_9524_11ea_91bf_4ccc6af43691row8_col21\" class=\"data row8 col21\" >-0.0142792</td>\n",
       "                        <td id=\"T_fe821e26_9524_11ea_91bf_4ccc6af43691row8_col22\" class=\"data row8 col22\" >-0.0289041</td>\n",
       "                        <td id=\"T_fe821e26_9524_11ea_91bf_4ccc6af43691row8_col23\" class=\"data row8 col23\" >-0.0682259</td>\n",
       "            </tr>\n",
       "            <tr>\n",
       "                        <th id=\"T_fe821e26_9524_11ea_91bf_4ccc6af43691level0_row9\" class=\"row_heading level0 row9\" >studytime</th>\n",
       "                        <td id=\"T_fe821e26_9524_11ea_91bf_4ccc6af43691row9_col0\" class=\"data row9 col0\" >0.092932</td>\n",
       "                        <td id=\"T_fe821e26_9524_11ea_91bf_4ccc6af43691row9_col1\" class=\"data row9 col1\" >-0.306099</td>\n",
       "                        <td id=\"T_fe821e26_9524_11ea_91bf_4ccc6af43691row9_col2\" class=\"data row9 col2\" >-0.0178618</td>\n",
       "                        <td id=\"T_fe821e26_9524_11ea_91bf_4ccc6af43691row9_col3\" class=\"data row9 col3\" >-0.0593238</td>\n",
       "                        <td id=\"T_fe821e26_9524_11ea_91bf_4ccc6af43691row9_col4\" class=\"data row9 col4\" >0.0845687</td>\n",
       "                        <td id=\"T_fe821e26_9524_11ea_91bf_4ccc6af43691row9_col5\" class=\"data row9 col5\" >0.00590223</td>\n",
       "                        <td id=\"T_fe821e26_9524_11ea_91bf_4ccc6af43691row9_col6\" class=\"data row9 col6\" >0.0795989</td>\n",
       "                        <td id=\"T_fe821e26_9524_11ea_91bf_4ccc6af43691row9_col7\" class=\"data row9 col7\" >0.00891456</td>\n",
       "                        <td id=\"T_fe821e26_9524_11ea_91bf_4ccc6af43691row9_col8\" class=\"data row9 col8\" >-0.105018</td>\n",
       "                        <td id=\"T_fe821e26_9524_11ea_91bf_4ccc6af43691row9_col9\" class=\"data row9 col9\" >1</td>\n",
       "                        <td id=\"T_fe821e26_9524_11ea_91bf_4ccc6af43691row9_col10\" class=\"data row9 col10\" >-0.17056</td>\n",
       "                        <td id=\"T_fe821e26_9524_11ea_91bf_4ccc6af43691row9_col11\" class=\"data row9 col11\" >0.0390399</td>\n",
       "                        <td id=\"T_fe821e26_9524_11ea_91bf_4ccc6af43691row9_col12\" class=\"data row9 col12\" >0.127318</td>\n",
       "                        <td id=\"T_fe821e26_9524_11ea_91bf_4ccc6af43691row9_col13\" class=\"data row9 col13\" >0.197357</td>\n",
       "                        <td id=\"T_fe821e26_9524_11ea_91bf_4ccc6af43691row9_col14\" class=\"data row9 col14\" >0.117179</td>\n",
       "                        <td id=\"T_fe821e26_9524_11ea_91bf_4ccc6af43691row9_col15\" class=\"data row9 col15\" >0.0901018</td>\n",
       "                        <td id=\"T_fe821e26_9524_11ea_91bf_4ccc6af43691row9_col16\" class=\"data row9 col16\" >0.178047</td>\n",
       "                        <td id=\"T_fe821e26_9524_11ea_91bf_4ccc6af43691row9_col17\" class=\"data row9 col17\" >0.0510701</td>\n",
       "                        <td id=\"T_fe821e26_9524_11ea_91bf_4ccc6af43691row9_col18\" class=\"data row9 col18\" >0.0395478</td>\n",
       "                        <td id=\"T_fe821e26_9524_11ea_91bf_4ccc6af43691row9_col19\" class=\"data row9 col19\" >-0.123483</td>\n",
       "                        <td id=\"T_fe821e26_9524_11ea_91bf_4ccc6af43691row9_col20\" class=\"data row9 col20\" >-0.0544377</td>\n",
       "                        <td id=\"T_fe821e26_9524_11ea_91bf_4ccc6af43691row9_col21\" class=\"data row9 col21\" >-0.0786437</td>\n",
       "                        <td id=\"T_fe821e26_9524_11ea_91bf_4ccc6af43691row9_col22\" class=\"data row9 col22\" >-0.0675136</td>\n",
       "                        <td id=\"T_fe821e26_9524_11ea_91bf_4ccc6af43691row9_col23\" class=\"data row9 col23\" >0.114717</td>\n",
       "            </tr>\n",
       "            <tr>\n",
       "                        <th id=\"T_fe821e26_9524_11ea_91bf_4ccc6af43691level0_row10\" class=\"row_heading level0 row10\" >failures</th>\n",
       "                        <td id=\"T_fe821e26_9524_11ea_91bf_4ccc6af43691row10_col0\" class=\"data row10 col0\" >-0.0293185</td>\n",
       "                        <td id=\"T_fe821e26_9524_11ea_91bf_4ccc6af43691row10_col1\" class=\"data row10 col1\" >0.0128159</td>\n",
       "                        <td id=\"T_fe821e26_9524_11ea_91bf_4ccc6af43691row10_col2\" class=\"data row10 col2\" >0.194331</td>\n",
       "                        <td id=\"T_fe821e26_9524_11ea_91bf_4ccc6af43691row10_col3\" class=\"data row10 col3\" >-0.10914</td>\n",
       "                        <td id=\"T_fe821e26_9524_11ea_91bf_4ccc6af43691row10_col4\" class=\"data row10 col4\" >-0.00448837</td>\n",
       "                        <td id=\"T_fe821e26_9524_11ea_91bf_4ccc6af43691row10_col5\" class=\"data row10 col5\" >0.0239702</td>\n",
       "                        <td id=\"T_fe821e26_9524_11ea_91bf_4ccc6af43691row10_col6\" class=\"data row10 col6\" >-0.239084</td>\n",
       "                        <td id=\"T_fe821e26_9524_11ea_91bf_4ccc6af43691row10_col7\" class=\"data row10 col7\" >-0.257594</td>\n",
       "                        <td id=\"T_fe821e26_9524_11ea_91bf_4ccc6af43691row10_col8\" class=\"data row10 col8\" >0.0479894</td>\n",
       "                        <td id=\"T_fe821e26_9524_11ea_91bf_4ccc6af43691row10_col9\" class=\"data row10 col9\" >-0.17056</td>\n",
       "                        <td id=\"T_fe821e26_9524_11ea_91bf_4ccc6af43691row10_col10\" class=\"data row10 col10\" >1</td>\n",
       "                        <td id=\"T_fe821e26_9524_11ea_91bf_4ccc6af43691row10_col11\" class=\"data row10 col11\" >0.0221855</td>\n",
       "                        <td id=\"T_fe821e26_9524_11ea_91bf_4ccc6af43691row10_col12\" class=\"data row10 col12\" >-0.0889787</td>\n",
       "                        <td id=\"T_fe821e26_9524_11ea_91bf_4ccc6af43691row10_col13\" class=\"data row10 col13\" >-0.192394</td>\n",
       "                        <td id=\"T_fe821e26_9524_11ea_91bf_4ccc6af43691row10_col14\" class=\"data row10 col14\" >-0.0781763</td>\n",
       "                        <td id=\"T_fe821e26_9524_11ea_91bf_4ccc6af43691row10_col15\" class=\"data row10 col15\" >-0.110389</td>\n",
       "                        <td id=\"T_fe821e26_9524_11ea_91bf_4ccc6af43691row10_col16\" class=\"data row10 col16\" >-0.301476</td>\n",
       "                        <td id=\"T_fe821e26_9524_11ea_91bf_4ccc6af43691row10_col17\" class=\"data row10 col17\" >0.114665</td>\n",
       "                        <td id=\"T_fe821e26_9524_11ea_91bf_4ccc6af43691row10_col18\" class=\"data row10 col18\" >-0.0399391</td>\n",
       "                        <td id=\"T_fe821e26_9524_11ea_91bf_4ccc6af43691row10_col19\" class=\"data row10 col19\" >0.0751</td>\n",
       "                        <td id=\"T_fe821e26_9524_11ea_91bf_4ccc6af43691row10_col20\" class=\"data row10 col20\" >0.0934949</td>\n",
       "                        <td id=\"T_fe821e26_9524_11ea_91bf_4ccc6af43691row10_col21\" class=\"data row10 col21\" >0.0845532</td>\n",
       "                        <td id=\"T_fe821e26_9524_11ea_91bf_4ccc6af43691row10_col22\" class=\"data row10 col22\" >0.0772573</td>\n",
       "                        <td id=\"T_fe821e26_9524_11ea_91bf_4ccc6af43691row10_col23\" class=\"data row10 col23\" >-0.337613</td>\n",
       "            </tr>\n",
       "            <tr>\n",
       "                        <th id=\"T_fe821e26_9524_11ea_91bf_4ccc6af43691level0_row11\" class=\"row_heading level0 row11\" >schoolsup</th>\n",
       "                        <td id=\"T_fe821e26_9524_11ea_91bf_4ccc6af43691row11_col0\" class=\"data row11 col0\" >0.136772</td>\n",
       "                        <td id=\"T_fe821e26_9524_11ea_91bf_4ccc6af43691row11_col1\" class=\"data row11 col1\" >-0.130217</td>\n",
       "                        <td id=\"T_fe821e26_9524_11ea_91bf_4ccc6af43691row11_col2\" class=\"data row11 col2\" >-0.25726</td>\n",
       "                        <td id=\"T_fe821e26_9524_11ea_91bf_4ccc6af43691row11_col3\" class=\"data row11 col3\" >0.0313674</td>\n",
       "                        <td id=\"T_fe821e26_9524_11ea_91bf_4ccc6af43691row11_col4\" class=\"data row11 col4\" >0.0237333</td>\n",
       "                        <td id=\"T_fe821e26_9524_11ea_91bf_4ccc6af43691row11_col5\" class=\"data row11 col5\" >-0.0504966</td>\n",
       "                        <td id=\"T_fe821e26_9524_11ea_91bf_4ccc6af43691row11_col6\" class=\"data row11 col6\" >-0.0254574</td>\n",
       "                        <td id=\"T_fe821e26_9524_11ea_91bf_4ccc6af43691row11_col7\" class=\"data row11 col7\" >0.0539705</td>\n",
       "                        <td id=\"T_fe821e26_9524_11ea_91bf_4ccc6af43691row11_col8\" class=\"data row11 col8\" >-0.00573278</td>\n",
       "                        <td id=\"T_fe821e26_9524_11ea_91bf_4ccc6af43691row11_col9\" class=\"data row11 col9\" >0.0390399</td>\n",
       "                        <td id=\"T_fe821e26_9524_11ea_91bf_4ccc6af43691row11_col10\" class=\"data row11 col10\" >0.0221855</td>\n",
       "                        <td id=\"T_fe821e26_9524_11ea_91bf_4ccc6af43691row11_col11\" class=\"data row11 col11\" >1</td>\n",
       "                        <td id=\"T_fe821e26_9524_11ea_91bf_4ccc6af43691row11_col12\" class=\"data row11 col12\" >0.0998751</td>\n",
       "                        <td id=\"T_fe821e26_9524_11ea_91bf_4ccc6af43691row11_col13\" class=\"data row11 col13\" >-0.0222349</td>\n",
       "                        <td id=\"T_fe821e26_9524_11ea_91bf_4ccc6af43691row11_col14\" class=\"data row11 col14\" >0.00975778</td>\n",
       "                        <td id=\"T_fe821e26_9524_11ea_91bf_4ccc6af43691row11_col15\" class=\"data row11 col15\" >0.0364728</td>\n",
       "                        <td id=\"T_fe821e26_9524_11ea_91bf_4ccc6af43691row11_col16\" class=\"data row11 col16\" >0.0509295</td>\n",
       "                        <td id=\"T_fe821e26_9524_11ea_91bf_4ccc6af43691row11_col17\" class=\"data row11 col17\" >-0.0617675</td>\n",
       "                        <td id=\"T_fe821e26_9524_11ea_91bf_4ccc6af43691row11_col18\" class=\"data row11 col18\" >-0.0109716</td>\n",
       "                        <td id=\"T_fe821e26_9524_11ea_91bf_4ccc6af43691row11_col19\" class=\"data row11 col19\" >-0.0462554</td>\n",
       "                        <td id=\"T_fe821e26_9524_11ea_91bf_4ccc6af43691row11_col20\" class=\"data row11 col20\" >-0.0280097</td>\n",
       "                        <td id=\"T_fe821e26_9524_11ea_91bf_4ccc6af43691row11_col21\" class=\"data row11 col21\" >-0.0326492</td>\n",
       "                        <td id=\"T_fe821e26_9524_11ea_91bf_4ccc6af43691row11_col22\" class=\"data row11 col22\" >0.0499323</td>\n",
       "                        <td id=\"T_fe821e26_9524_11ea_91bf_4ccc6af43691row11_col23\" class=\"data row11 col23\" >-0.106492</td>\n",
       "            </tr>\n",
       "            <tr>\n",
       "                        <th id=\"T_fe821e26_9524_11ea_91bf_4ccc6af43691level0_row12\" class=\"row_heading level0 row12\" >famsup</th>\n",
       "                        <td id=\"T_fe821e26_9524_11ea_91bf_4ccc6af43691row12_col0\" class=\"data row12 col0\" >0.186212</td>\n",
       "                        <td id=\"T_fe821e26_9524_11ea_91bf_4ccc6af43691row12_col1\" class=\"data row12 col1\" >-0.153155</td>\n",
       "                        <td id=\"T_fe821e26_9524_11ea_91bf_4ccc6af43691row12_col2\" class=\"data row12 col2\" >-0.162736</td>\n",
       "                        <td id=\"T_fe821e26_9524_11ea_91bf_4ccc6af43691row12_col3\" class=\"data row12 col3\" >0.0299535</td>\n",
       "                        <td id=\"T_fe821e26_9524_11ea_91bf_4ccc6af43691row12_col4\" class=\"data row12 col4\" >0.128719</td>\n",
       "                        <td id=\"T_fe821e26_9524_11ea_91bf_4ccc6af43691row12_col5\" class=\"data row12 col5\" >-0.0202142</td>\n",
       "                        <td id=\"T_fe821e26_9524_11ea_91bf_4ccc6af43691row12_col6\" class=\"data row12 col6\" >0.203945</td>\n",
       "                        <td id=\"T_fe821e26_9524_11ea_91bf_4ccc6af43691row12_col7\" class=\"data row12 col7\" >0.216723</td>\n",
       "                        <td id=\"T_fe821e26_9524_11ea_91bf_4ccc6af43691row12_col8\" class=\"data row12 col8\" >-0.0118503</td>\n",
       "                        <td id=\"T_fe821e26_9524_11ea_91bf_4ccc6af43691row12_col9\" class=\"data row12 col9\" >0.127318</td>\n",
       "                        <td id=\"T_fe821e26_9524_11ea_91bf_4ccc6af43691row12_col10\" class=\"data row12 col10\" >-0.0889787</td>\n",
       "                        <td id=\"T_fe821e26_9524_11ea_91bf_4ccc6af43691row12_col11\" class=\"data row12 col11\" >0.0998751</td>\n",
       "                        <td id=\"T_fe821e26_9524_11ea_91bf_4ccc6af43691row12_col12\" class=\"data row12 col12\" >1</td>\n",
       "                        <td id=\"T_fe821e26_9524_11ea_91bf_4ccc6af43691row12_col13\" class=\"data row12 col13\" >0.302218</td>\n",
       "                        <td id=\"T_fe821e26_9524_11ea_91bf_4ccc6af43691row12_col14\" class=\"data row12 col14\" >0.00134166</td>\n",
       "                        <td id=\"T_fe821e26_9524_11ea_91bf_4ccc6af43691row12_col15\" class=\"data row12 col15\" >0.0595567</td>\n",
       "                        <td id=\"T_fe821e26_9524_11ea_91bf_4ccc6af43691row12_col16\" class=\"data row12 col16\" >0.125249</td>\n",
       "                        <td id=\"T_fe821e26_9524_11ea_91bf_4ccc6af43691row12_col17\" class=\"data row12 col17\" >0.0116807</td>\n",
       "                        <td id=\"T_fe821e26_9524_11ea_91bf_4ccc6af43691row12_col18\" class=\"data row12 col18\" >-0.00581314</td>\n",
       "                        <td id=\"T_fe821e26_9524_11ea_91bf_4ccc6af43691row12_col19\" class=\"data row12 col19\" >-0.00191058</td>\n",
       "                        <td id=\"T_fe821e26_9524_11ea_91bf_4ccc6af43691row12_col20\" class=\"data row12 col20\" >-0.0471179</td>\n",
       "                        <td id=\"T_fe821e26_9524_11ea_91bf_4ccc6af43691row12_col21\" class=\"data row12 col21\" >0.0244883</td>\n",
       "                        <td id=\"T_fe821e26_9524_11ea_91bf_4ccc6af43691row12_col22\" class=\"data row12 col22\" >0.0639076</td>\n",
       "                        <td id=\"T_fe821e26_9524_11ea_91bf_4ccc6af43691row12_col23\" class=\"data row12 col23\" >-0.00688291</td>\n",
       "            </tr>\n",
       "            <tr>\n",
       "                        <th id=\"T_fe821e26_9524_11ea_91bf_4ccc6af43691level0_row13\" class=\"row_heading level0 row13\" >paid</th>\n",
       "                        <td id=\"T_fe821e26_9524_11ea_91bf_4ccc6af43691row13_col0\" class=\"data row13 col0\" >0.0352628</td>\n",
       "                        <td id=\"T_fe821e26_9524_11ea_91bf_4ccc6af43691row13_col1\" class=\"data row13 col1\" >-0.109406</td>\n",
       "                        <td id=\"T_fe821e26_9524_11ea_91bf_4ccc6af43691row13_col2\" class=\"data row13 col2\" >-0.0365024</td>\n",
       "                        <td id=\"T_fe821e26_9524_11ea_91bf_4ccc6af43691row13_col3\" class=\"data row13 col3\" >0.0484264</td>\n",
       "                        <td id=\"T_fe821e26_9524_11ea_91bf_4ccc6af43691row13_col4\" class=\"data row13 col4\" >0.0948739</td>\n",
       "                        <td id=\"T_fe821e26_9524_11ea_91bf_4ccc6af43691row13_col5\" class=\"data row13 col5\" >0.0463513</td>\n",
       "                        <td id=\"T_fe821e26_9524_11ea_91bf_4ccc6af43691row13_col6\" class=\"data row13 col6\" >0.175372</td>\n",
       "                        <td id=\"T_fe821e26_9524_11ea_91bf_4ccc6af43691row13_col7\" class=\"data row13 col7\" >0.103291</td>\n",
       "                        <td id=\"T_fe821e26_9524_11ea_91bf_4ccc6af43691row13_col8\" class=\"data row13 col8\" >-0.0372119</td>\n",
       "                        <td id=\"T_fe821e26_9524_11ea_91bf_4ccc6af43691row13_col9\" class=\"data row13 col9\" >0.197357</td>\n",
       "                        <td id=\"T_fe821e26_9524_11ea_91bf_4ccc6af43691row13_col10\" class=\"data row13 col10\" >-0.192394</td>\n",
       "                        <td id=\"T_fe821e26_9524_11ea_91bf_4ccc6af43691row13_col11\" class=\"data row13 col11\" >-0.0222349</td>\n",
       "                        <td id=\"T_fe821e26_9524_11ea_91bf_4ccc6af43691row13_col12\" class=\"data row13 col12\" >0.302218</td>\n",
       "                        <td id=\"T_fe821e26_9524_11ea_91bf_4ccc6af43691row13_col13\" class=\"data row13 col13\" >1</td>\n",
       "                        <td id=\"T_fe821e26_9524_11ea_91bf_4ccc6af43691row13_col14\" class=\"data row13 col14\" >0.0243411</td>\n",
       "                        <td id=\"T_fe821e26_9524_11ea_91bf_4ccc6af43691row13_col15\" class=\"data row13 col15\" >0.120552</td>\n",
       "                        <td id=\"T_fe821e26_9524_11ea_91bf_4ccc6af43691row13_col16\" class=\"data row13 col16\" >0.193663</td>\n",
       "                        <td id=\"T_fe821e26_9524_11ea_91bf_4ccc6af43691row13_col17\" class=\"data row13 col17\" >0.0467187</td>\n",
       "                        <td id=\"T_fe821e26_9524_11ea_91bf_4ccc6af43691row13_col18\" class=\"data row13 col18\" >-0.0146603</td>\n",
       "                        <td id=\"T_fe821e26_9524_11ea_91bf_4ccc6af43691row13_col19\" class=\"data row13 col19\" >-0.0736981</td>\n",
       "                        <td id=\"T_fe821e26_9524_11ea_91bf_4ccc6af43691row13_col20\" class=\"data row13 col20\" >0.0165944</td>\n",
       "                        <td id=\"T_fe821e26_9524_11ea_91bf_4ccc6af43691row13_col21\" class=\"data row13 col21\" >-0.0850419</td>\n",
       "                        <td id=\"T_fe821e26_9524_11ea_91bf_4ccc6af43691row13_col22\" class=\"data row13 col22\" >0.0115977</td>\n",
       "                        <td id=\"T_fe821e26_9524_11ea_91bf_4ccc6af43691row13_col23\" class=\"data row13 col23\" >0.104427</td>\n",
       "            </tr>\n",
       "            <tr>\n",
       "                        <th id=\"T_fe821e26_9524_11ea_91bf_4ccc6af43691level0_row14\" class=\"row_heading level0 row14\" >activities</th>\n",
       "                        <td id=\"T_fe821e26_9524_11ea_91bf_4ccc6af43691row14_col0\" class=\"data row14 col0\" >0.095966</td>\n",
       "                        <td id=\"T_fe821e26_9524_11ea_91bf_4ccc6af43691row14_col1\" class=\"data row14 col1\" >0.108686</td>\n",
       "                        <td id=\"T_fe821e26_9524_11ea_91bf_4ccc6af43691row14_col2\" class=\"data row14 col2\" >-0.0715618</td>\n",
       "                        <td id=\"T_fe821e26_9524_11ea_91bf_4ccc6af43691row14_col3\" class=\"data row14 col3\" >-0.0655186</td>\n",
       "                        <td id=\"T_fe821e26_9524_11ea_91bf_4ccc6af43691row14_col4\" class=\"data row14 col4\" >0.0362372</td>\n",
       "                        <td id=\"T_fe821e26_9524_11ea_91bf_4ccc6af43691row14_col5\" class=\"data row14 col5\" >0.0949553</td>\n",
       "                        <td id=\"T_fe821e26_9524_11ea_91bf_4ccc6af43691row14_col6\" class=\"data row14 col6\" >0.1032</td>\n",
       "                        <td id=\"T_fe821e26_9524_11ea_91bf_4ccc6af43691row14_col7\" class=\"data row14 col7\" >0.102205</td>\n",
       "                        <td id=\"T_fe821e26_9524_11ea_91bf_4ccc6af43691row14_col8\" class=\"data row14 col8\" >0.00351192</td>\n",
       "                        <td id=\"T_fe821e26_9524_11ea_91bf_4ccc6af43691row14_col9\" class=\"data row14 col9\" >0.117179</td>\n",
       "                        <td id=\"T_fe821e26_9524_11ea_91bf_4ccc6af43691row14_col10\" class=\"data row14 col10\" >-0.0781763</td>\n",
       "                        <td id=\"T_fe821e26_9524_11ea_91bf_4ccc6af43691row14_col11\" class=\"data row14 col11\" >0.00975778</td>\n",
       "                        <td id=\"T_fe821e26_9524_11ea_91bf_4ccc6af43691row14_col12\" class=\"data row14 col12\" >0.00134166</td>\n",
       "                        <td id=\"T_fe821e26_9524_11ea_91bf_4ccc6af43691row14_col13\" class=\"data row14 col13\" >0.0243411</td>\n",
       "                        <td id=\"T_fe821e26_9524_11ea_91bf_4ccc6af43691row14_col14\" class=\"data row14 col14\" >1</td>\n",
       "                        <td id=\"T_fe821e26_9524_11ea_91bf_4ccc6af43691row14_col15\" class=\"data row14 col15\" >-0.0280824</td>\n",
       "                        <td id=\"T_fe821e26_9524_11ea_91bf_4ccc6af43691row14_col16\" class=\"data row14 col16\" >0.102324</td>\n",
       "                        <td id=\"T_fe821e26_9524_11ea_91bf_4ccc6af43691row14_col17\" class=\"data row14 col17\" >-0.0176104</td>\n",
       "                        <td id=\"T_fe821e26_9524_11ea_91bf_4ccc6af43691row14_col18\" class=\"data row14 col18\" >0.0612414</td>\n",
       "                        <td id=\"T_fe821e26_9524_11ea_91bf_4ccc6af43691row14_col19\" class=\"data row14 col19\" >0.0836166</td>\n",
       "                        <td id=\"T_fe821e26_9524_11ea_91bf_4ccc6af43691row14_col20\" class=\"data row14 col20\" >0.0500422</td>\n",
       "                        <td id=\"T_fe821e26_9524_11ea_91bf_4ccc6af43691row14_col21\" class=\"data row14 col21\" >0.0397295</td>\n",
       "                        <td id=\"T_fe821e26_9524_11ea_91bf_4ccc6af43691row14_col22\" class=\"data row14 col22\" >0.00281262</td>\n",
       "                        <td id=\"T_fe821e26_9524_11ea_91bf_4ccc6af43691row14_col23\" class=\"data row14 col23\" >0.0202887</td>\n",
       "            </tr>\n",
       "            <tr>\n",
       "                        <th id=\"T_fe821e26_9524_11ea_91bf_4ccc6af43691level0_row15\" class=\"row_heading level0 row15\" >nursery</th>\n",
       "                        <td id=\"T_fe821e26_9524_11ea_91bf_4ccc6af43691row15_col0\" class=\"data row15 col0\" >0.119311</td>\n",
       "                        <td id=\"T_fe821e26_9524_11ea_91bf_4ccc6af43691row15_col1\" class=\"data row15 col1\" >0.00345992</td>\n",
       "                        <td id=\"T_fe821e26_9524_11ea_91bf_4ccc6af43691row15_col2\" class=\"data row15 col2\" >-0.0958685</td>\n",
       "                        <td id=\"T_fe821e26_9524_11ea_91bf_4ccc6af43691row15_col3\" class=\"data row15 col3\" >0.0459508</td>\n",
       "                        <td id=\"T_fe821e26_9524_11ea_91bf_4ccc6af43691row15_col4\" class=\"data row15 col4\" >-0.0970905</td>\n",
       "                        <td id=\"T_fe821e26_9524_11ea_91bf_4ccc6af43691row15_col5\" class=\"data row15 col5\" >-0.0812392</td>\n",
       "                        <td id=\"T_fe821e26_9524_11ea_91bf_4ccc6af43691row15_col6\" class=\"data row15 col6\" >0.185136</td>\n",
       "                        <td id=\"T_fe821e26_9524_11ea_91bf_4ccc6af43691row15_col7\" class=\"data row15 col7\" >0.165109</td>\n",
       "                        <td id=\"T_fe821e26_9524_11ea_91bf_4ccc6af43691row15_col8\" class=\"data row15 col8\" >-0.039702</td>\n",
       "                        <td id=\"T_fe821e26_9524_11ea_91bf_4ccc6af43691row15_col9\" class=\"data row15 col9\" >0.0901018</td>\n",
       "                        <td id=\"T_fe821e26_9524_11ea_91bf_4ccc6af43691row15_col10\" class=\"data row15 col10\" >-0.110389</td>\n",
       "                        <td id=\"T_fe821e26_9524_11ea_91bf_4ccc6af43691row15_col11\" class=\"data row15 col11\" >0.0364728</td>\n",
       "                        <td id=\"T_fe821e26_9524_11ea_91bf_4ccc6af43691row15_col12\" class=\"data row15 col12\" >0.0595567</td>\n",
       "                        <td id=\"T_fe821e26_9524_11ea_91bf_4ccc6af43691row15_col13\" class=\"data row15 col13\" >0.120552</td>\n",
       "                        <td id=\"T_fe821e26_9524_11ea_91bf_4ccc6af43691row15_col14\" class=\"data row15 col14\" >-0.0280824</td>\n",
       "                        <td id=\"T_fe821e26_9524_11ea_91bf_4ccc6af43691row15_col15\" class=\"data row15 col15\" >1</td>\n",
       "                        <td id=\"T_fe821e26_9524_11ea_91bf_4ccc6af43691row15_col16\" class=\"data row15 col16\" >0.0475018</td>\n",
       "                        <td id=\"T_fe821e26_9524_11ea_91bf_4ccc6af43691row15_col17\" class=\"data row15 col17\" >0.0370472</td>\n",
       "                        <td id=\"T_fe821e26_9524_11ea_91bf_4ccc6af43691row15_col18\" class=\"data row15 col18\" >-0.029323</td>\n",
       "                        <td id=\"T_fe821e26_9524_11ea_91bf_4ccc6af43691row15_col19\" class=\"data row15 col19\" >-0.0421741</td>\n",
       "                        <td id=\"T_fe821e26_9524_11ea_91bf_4ccc6af43691row15_col20\" class=\"data row15 col20\" >-0.0146082</td>\n",
       "                        <td id=\"T_fe821e26_9524_11ea_91bf_4ccc6af43691row15_col21\" class=\"data row15 col21\" >-0.0180353</td>\n",
       "                        <td id=\"T_fe821e26_9524_11ea_91bf_4ccc6af43691row15_col22\" class=\"data row15 col22\" >0.066788</td>\n",
       "                        <td id=\"T_fe821e26_9524_11ea_91bf_4ccc6af43691row15_col23\" class=\"data row15 col23\" >0.0500878</td>\n",
       "            </tr>\n",
       "            <tr>\n",
       "                        <th id=\"T_fe821e26_9524_11ea_91bf_4ccc6af43691level0_row16\" class=\"row_heading level0 row16\" >higher</th>\n",
       "                        <td id=\"T_fe821e26_9524_11ea_91bf_4ccc6af43691row16_col0\" class=\"data row16 col0\" >0.0394042</td>\n",
       "                        <td id=\"T_fe821e26_9524_11ea_91bf_4ccc6af43691row16_col1\" class=\"data row16 col1\" >-0.169515</td>\n",
       "                        <td id=\"T_fe821e26_9524_11ea_91bf_4ccc6af43691row16_col2\" class=\"data row16 col2\" >-0.212679</td>\n",
       "                        <td id=\"T_fe821e26_9524_11ea_91bf_4ccc6af43691row16_col3\" class=\"data row16 col3\" >0.0309351</td>\n",
       "                        <td id=\"T_fe821e26_9524_11ea_91bf_4ccc6af43691row16_col4\" class=\"data row16 col4\" >0.0348466</td>\n",
       "                        <td id=\"T_fe821e26_9524_11ea_91bf_4ccc6af43691row16_col5\" class=\"data row16 col5\" >-0.0726952</td>\n",
       "                        <td id=\"T_fe821e26_9524_11ea_91bf_4ccc6af43691row16_col6\" class=\"data row16 col6\" >0.193987</td>\n",
       "                        <td id=\"T_fe821e26_9524_11ea_91bf_4ccc6af43691row16_col7\" class=\"data row16 col7\" >0.189394</td>\n",
       "                        <td id=\"T_fe821e26_9524_11ea_91bf_4ccc6af43691row16_col8\" class=\"data row16 col8\" >-0.0761233</td>\n",
       "                        <td id=\"T_fe821e26_9524_11ea_91bf_4ccc6af43691row16_col9\" class=\"data row16 col9\" >0.178047</td>\n",
       "                        <td id=\"T_fe821e26_9524_11ea_91bf_4ccc6af43691row16_col10\" class=\"data row16 col10\" >-0.301476</td>\n",
       "                        <td id=\"T_fe821e26_9524_11ea_91bf_4ccc6af43691row16_col11\" class=\"data row16 col11\" >0.0509295</td>\n",
       "                        <td id=\"T_fe821e26_9524_11ea_91bf_4ccc6af43691row16_col12\" class=\"data row16 col12\" >0.125249</td>\n",
       "                        <td id=\"T_fe821e26_9524_11ea_91bf_4ccc6af43691row16_col13\" class=\"data row16 col13\" >0.193663</td>\n",
       "                        <td id=\"T_fe821e26_9524_11ea_91bf_4ccc6af43691row16_col14\" class=\"data row16 col14\" >0.102324</td>\n",
       "                        <td id=\"T_fe821e26_9524_11ea_91bf_4ccc6af43691row16_col15\" class=\"data row16 col15\" >0.0475018</td>\n",
       "                        <td id=\"T_fe821e26_9524_11ea_91bf_4ccc6af43691row16_col16\" class=\"data row16 col16\" >1</td>\n",
       "                        <td id=\"T_fe821e26_9524_11ea_91bf_4ccc6af43691row16_col17\" class=\"data row16 col17\" >-0.116306</td>\n",
       "                        <td id=\"T_fe821e26_9524_11ea_91bf_4ccc6af43691row16_col18\" class=\"data row16 col18\" >0.0125677</td>\n",
       "                        <td id=\"T_fe821e26_9524_11ea_91bf_4ccc6af43691row16_col19\" class=\"data row16 col19\" >-0.0804147</td>\n",
       "                        <td id=\"T_fe821e26_9524_11ea_91bf_4ccc6af43691row16_col20\" class=\"data row16 col20\" >-0.0486036</td>\n",
       "                        <td id=\"T_fe821e26_9524_11ea_91bf_4ccc6af43691row16_col21\" class=\"data row16 col21\" >0.0213026</td>\n",
       "                        <td id=\"T_fe821e26_9524_11ea_91bf_4ccc6af43691row16_col22\" class=\"data row16 col22\" >0.0493178</td>\n",
       "                        <td id=\"T_fe821e26_9524_11ea_91bf_4ccc6af43691row16_col23\" class=\"data row16 col23\" >0.186613</td>\n",
       "            </tr>\n",
       "            <tr>\n",
       "                        <th id=\"T_fe821e26_9524_11ea_91bf_4ccc6af43691level0_row17\" class=\"row_heading level0 row17\" >romantic</th>\n",
       "                        <td id=\"T_fe821e26_9524_11ea_91bf_4ccc6af43691row17_col0\" class=\"data row17 col0\" >-0.0725563</td>\n",
       "                        <td id=\"T_fe821e26_9524_11ea_91bf_4ccc6af43691row17_col1\" class=\"data row17 col1\" >-0.13133</td>\n",
       "                        <td id=\"T_fe821e26_9524_11ea_91bf_4ccc6af43691row17_col2\" class=\"data row17 col2\" >0.158357</td>\n",
       "                        <td id=\"T_fe821e26_9524_11ea_91bf_4ccc6af43691row17_col3\" class=\"data row17 col3\" >-0.00774297</td>\n",
       "                        <td id=\"T_fe821e26_9524_11ea_91bf_4ccc6af43691row17_col4\" class=\"data row17 col4\" >-0.0173856</td>\n",
       "                        <td id=\"T_fe821e26_9524_11ea_91bf_4ccc6af43691row17_col5\" class=\"data row17 col5\" >-0.0424309</td>\n",
       "                        <td id=\"T_fe821e26_9524_11ea_91bf_4ccc6af43691row17_col6\" class=\"data row17 col6\" >0.0136402</td>\n",
       "                        <td id=\"T_fe821e26_9524_11ea_91bf_4ccc6af43691row17_col7\" class=\"data row17 col7\" >-0.00375529</td>\n",
       "                        <td id=\"T_fe821e26_9524_11ea_91bf_4ccc6af43691row17_col8\" class=\"data row17 col8\" >0.0164762</td>\n",
       "                        <td id=\"T_fe821e26_9524_11ea_91bf_4ccc6af43691row17_col9\" class=\"data row17 col9\" >0.0510701</td>\n",
       "                        <td id=\"T_fe821e26_9524_11ea_91bf_4ccc6af43691row17_col10\" class=\"data row17 col10\" >0.114665</td>\n",
       "                        <td id=\"T_fe821e26_9524_11ea_91bf_4ccc6af43691row17_col11\" class=\"data row17 col11\" >-0.0617675</td>\n",
       "                        <td id=\"T_fe821e26_9524_11ea_91bf_4ccc6af43691row17_col12\" class=\"data row17 col12\" >0.0116807</td>\n",
       "                        <td id=\"T_fe821e26_9524_11ea_91bf_4ccc6af43691row17_col13\" class=\"data row17 col13\" >0.0467187</td>\n",
       "                        <td id=\"T_fe821e26_9524_11ea_91bf_4ccc6af43691row17_col14\" class=\"data row17 col14\" >-0.0176104</td>\n",
       "                        <td id=\"T_fe821e26_9524_11ea_91bf_4ccc6af43691row17_col15\" class=\"data row17 col15\" >0.0370472</td>\n",
       "                        <td id=\"T_fe821e26_9524_11ea_91bf_4ccc6af43691row17_col16\" class=\"data row17 col16\" >-0.116306</td>\n",
       "                        <td id=\"T_fe821e26_9524_11ea_91bf_4ccc6af43691row17_col17\" class=\"data row17 col17\" >1</td>\n",
       "                        <td id=\"T_fe821e26_9524_11ea_91bf_4ccc6af43691row17_col18\" class=\"data row17 col18\" >-0.0713725</td>\n",
       "                        <td id=\"T_fe821e26_9524_11ea_91bf_4ccc6af43691row17_col19\" class=\"data row17 col19\" >-0.0253942</td>\n",
       "                        <td id=\"T_fe821e26_9524_11ea_91bf_4ccc6af43691row17_col20\" class=\"data row17 col20\" >0.0195404</td>\n",
       "                        <td id=\"T_fe821e26_9524_11ea_91bf_4ccc6af43691row17_col21\" class=\"data row17 col21\" >0.00997557</td>\n",
       "                        <td id=\"T_fe821e26_9524_11ea_91bf_4ccc6af43691row17_col22\" class=\"data row17 col22\" >0.131835</td>\n",
       "                        <td id=\"T_fe821e26_9524_11ea_91bf_4ccc6af43691row17_col23\" class=\"data row17 col23\" >-0.138886</td>\n",
       "            </tr>\n",
       "            <tr>\n",
       "                        <th id=\"T_fe821e26_9524_11ea_91bf_4ccc6af43691level0_row18\" class=\"row_heading level0 row18\" >famrel</th>\n",
       "                        <td id=\"T_fe821e26_9524_11ea_91bf_4ccc6af43691row18_col0\" class=\"data row18 col0\" >0.0544622</td>\n",
       "                        <td id=\"T_fe821e26_9524_11ea_91bf_4ccc6af43691row18_col1\" class=\"data row18 col1\" >0.0390629</td>\n",
       "                        <td id=\"T_fe821e26_9524_11ea_91bf_4ccc6af43691row18_col2\" class=\"data row18 col2\" >0.0479938</td>\n",
       "                        <td id=\"T_fe821e26_9524_11ea_91bf_4ccc6af43691row18_col3\" class=\"data row18 col3\" >-0.0128145</td>\n",
       "                        <td id=\"T_fe821e26_9524_11ea_91bf_4ccc6af43691row18_col4\" class=\"data row18 col4\" >0.0267349</td>\n",
       "                        <td id=\"T_fe821e26_9524_11ea_91bf_4ccc6af43691row18_col5\" class=\"data row18 col5\" >0.0281735</td>\n",
       "                        <td id=\"T_fe821e26_9524_11ea_91bf_4ccc6af43691row18_col6\" class=\"data row18 col6\" >-0.00584242</td>\n",
       "                        <td id=\"T_fe821e26_9524_11ea_91bf_4ccc6af43691row18_col7\" class=\"data row18 col7\" >-0.00729218</td>\n",
       "                        <td id=\"T_fe821e26_9524_11ea_91bf_4ccc6af43691row18_col8\" class=\"data row18 col8\" >-0.0346315</td>\n",
       "                        <td id=\"T_fe821e26_9524_11ea_91bf_4ccc6af43691row18_col9\" class=\"data row18 col9\" >0.0395478</td>\n",
       "                        <td id=\"T_fe821e26_9524_11ea_91bf_4ccc6af43691row18_col10\" class=\"data row18 col10\" >-0.0399391</td>\n",
       "                        <td id=\"T_fe821e26_9524_11ea_91bf_4ccc6af43691row18_col11\" class=\"data row18 col11\" >-0.0109716</td>\n",
       "                        <td id=\"T_fe821e26_9524_11ea_91bf_4ccc6af43691row18_col12\" class=\"data row18 col12\" >-0.00581314</td>\n",
       "                        <td id=\"T_fe821e26_9524_11ea_91bf_4ccc6af43691row18_col13\" class=\"data row18 col13\" >-0.0146603</td>\n",
       "                        <td id=\"T_fe821e26_9524_11ea_91bf_4ccc6af43691row18_col14\" class=\"data row18 col14\" >0.0612414</td>\n",
       "                        <td id=\"T_fe821e26_9524_11ea_91bf_4ccc6af43691row18_col15\" class=\"data row18 col15\" >-0.029323</td>\n",
       "                        <td id=\"T_fe821e26_9524_11ea_91bf_4ccc6af43691row18_col16\" class=\"data row18 col16\" >0.0125677</td>\n",
       "                        <td id=\"T_fe821e26_9524_11ea_91bf_4ccc6af43691row18_col17\" class=\"data row18 col17\" >-0.0713725</td>\n",
       "                        <td id=\"T_fe821e26_9524_11ea_91bf_4ccc6af43691row18_col18\" class=\"data row18 col18\" >1</td>\n",
       "                        <td id=\"T_fe821e26_9524_11ea_91bf_4ccc6af43691row18_col19\" class=\"data row18 col19\" >0.165085</td>\n",
       "                        <td id=\"T_fe821e26_9524_11ea_91bf_4ccc6af43691row18_col20\" class=\"data row18 col20\" >0.0595011</td>\n",
       "                        <td id=\"T_fe821e26_9524_11ea_91bf_4ccc6af43691row18_col21\" class=\"data row18 col21\" >0.0864473</td>\n",
       "                        <td id=\"T_fe821e26_9524_11ea_91bf_4ccc6af43691row18_col22\" class=\"data row18 col22\" >-0.0452024</td>\n",
       "                        <td id=\"T_fe821e26_9524_11ea_91bf_4ccc6af43691row18_col23\" class=\"data row18 col23\" >0.0655465</td>\n",
       "            </tr>\n",
       "            <tr>\n",
       "                        <th id=\"T_fe821e26_9524_11ea_91bf_4ccc6af43691level0_row19\" class=\"row_heading level0 row19\" >freetime</th>\n",
       "                        <td id=\"T_fe821e26_9524_11ea_91bf_4ccc6af43691row19_col0\" class=\"data row19 col0\" >-0.0193385</td>\n",
       "                        <td id=\"T_fe821e26_9524_11ea_91bf_4ccc6af43691row19_col1\" class=\"data row19 col1\" >0.220881</td>\n",
       "                        <td id=\"T_fe821e26_9524_11ea_91bf_4ccc6af43691row19_col2\" class=\"data row19 col2\" >0.00768428</td>\n",
       "                        <td id=\"T_fe821e26_9524_11ea_91bf_4ccc6af43691row19_col3\" class=\"data row19 col3\" >0.0354324</td>\n",
       "                        <td id=\"T_fe821e26_9524_11ea_91bf_4ccc6af43691row19_col4\" class=\"data row19 col4\" >-0.0215525</td>\n",
       "                        <td id=\"T_fe821e26_9524_11ea_91bf_4ccc6af43691row19_col5\" class=\"data row19 col5\" >0.0522749</td>\n",
       "                        <td id=\"T_fe821e26_9524_11ea_91bf_4ccc6af43691row19_col6\" class=\"data row19 col6\" >0.0384949</td>\n",
       "                        <td id=\"T_fe821e26_9524_11ea_91bf_4ccc6af43691row19_col7\" class=\"data row19 col7\" >0.00105902</td>\n",
       "                        <td id=\"T_fe821e26_9524_11ea_91bf_4ccc6af43691row19_col8\" class=\"data row19 col8\" >-0.0191964</td>\n",
       "                        <td id=\"T_fe821e26_9524_11ea_91bf_4ccc6af43691row19_col9\" class=\"data row19 col9\" >-0.123483</td>\n",
       "                        <td id=\"T_fe821e26_9524_11ea_91bf_4ccc6af43691row19_col10\" class=\"data row19 col10\" >0.0751</td>\n",
       "                        <td id=\"T_fe821e26_9524_11ea_91bf_4ccc6af43691row19_col11\" class=\"data row19 col11\" >-0.0462554</td>\n",
       "                        <td id=\"T_fe821e26_9524_11ea_91bf_4ccc6af43691row19_col12\" class=\"data row19 col12\" >-0.00191058</td>\n",
       "                        <td id=\"T_fe821e26_9524_11ea_91bf_4ccc6af43691row19_col13\" class=\"data row19 col13\" >-0.0736981</td>\n",
       "                        <td id=\"T_fe821e26_9524_11ea_91bf_4ccc6af43691row19_col14\" class=\"data row19 col14\" >0.0836166</td>\n",
       "                        <td id=\"T_fe821e26_9524_11ea_91bf_4ccc6af43691row19_col15\" class=\"data row19 col15\" >-0.0421741</td>\n",
       "                        <td id=\"T_fe821e26_9524_11ea_91bf_4ccc6af43691row19_col16\" class=\"data row19 col16\" >-0.0804147</td>\n",
       "                        <td id=\"T_fe821e26_9524_11ea_91bf_4ccc6af43691row19_col17\" class=\"data row19 col17\" >-0.0253942</td>\n",
       "                        <td id=\"T_fe821e26_9524_11ea_91bf_4ccc6af43691row19_col18\" class=\"data row19 col18\" >0.165085</td>\n",
       "                        <td id=\"T_fe821e26_9524_11ea_91bf_4ccc6af43691row19_col19\" class=\"data row19 col19\" >1</td>\n",
       "                        <td id=\"T_fe821e26_9524_11ea_91bf_4ccc6af43691row19_col20\" class=\"data row19 col20\" >0.284479</td>\n",
       "                        <td id=\"T_fe821e26_9524_11ea_91bf_4ccc6af43691row19_col21\" class=\"data row19 col21\" >0.0683625</td>\n",
       "                        <td id=\"T_fe821e26_9524_11ea_91bf_4ccc6af43691row19_col22\" class=\"data row19 col22\" >-0.0224421</td>\n",
       "                        <td id=\"T_fe821e26_9524_11ea_91bf_4ccc6af43691row19_col23\" class=\"data row19 col23\" >0.0181916</td>\n",
       "            </tr>\n",
       "            <tr>\n",
       "                        <th id=\"T_fe821e26_9524_11ea_91bf_4ccc6af43691level0_row20\" class=\"row_heading level0 row20\" >goout</th>\n",
       "                        <td id=\"T_fe821e26_9524_11ea_91bf_4ccc6af43691row20_col0\" class=\"data row20 col0\" >0.0181629</td>\n",
       "                        <td id=\"T_fe821e26_9524_11ea_91bf_4ccc6af43691row20_col1\" class=\"data row20 col1\" >0.0822691</td>\n",
       "                        <td id=\"T_fe821e26_9524_11ea_91bf_4ccc6af43691row20_col2\" class=\"data row20 col2\" >0.120589</td>\n",
       "                        <td id=\"T_fe821e26_9524_11ea_91bf_4ccc6af43691row20_col3\" class=\"data row20 col3\" >0.0599859</td>\n",
       "                        <td id=\"T_fe821e26_9524_11ea_91bf_4ccc6af43691row20_col4\" class=\"data row20 col4\" >-0.0240726</td>\n",
       "                        <td id=\"T_fe821e26_9524_11ea_91bf_4ccc6af43691row20_col5\" class=\"data row20 col5\" >0.0284462</td>\n",
       "                        <td id=\"T_fe821e26_9524_11ea_91bf_4ccc6af43691row20_col6\" class=\"data row20 col6\" >0.0693109</td>\n",
       "                        <td id=\"T_fe821e26_9524_11ea_91bf_4ccc6af43691row20_col7\" class=\"data row20 col7\" >0.0608438</td>\n",
       "                        <td id=\"T_fe821e26_9524_11ea_91bf_4ccc6af43691row20_col8\" class=\"data row20 col8\" >0.0365153</td>\n",
       "                        <td id=\"T_fe821e26_9524_11ea_91bf_4ccc6af43691row20_col9\" class=\"data row20 col9\" >-0.0544377</td>\n",
       "                        <td id=\"T_fe821e26_9524_11ea_91bf_4ccc6af43691row20_col10\" class=\"data row20 col10\" >0.0934949</td>\n",
       "                        <td id=\"T_fe821e26_9524_11ea_91bf_4ccc6af43691row20_col11\" class=\"data row20 col11\" >-0.0280097</td>\n",
       "                        <td id=\"T_fe821e26_9524_11ea_91bf_4ccc6af43691row20_col12\" class=\"data row20 col12\" >-0.0471179</td>\n",
       "                        <td id=\"T_fe821e26_9524_11ea_91bf_4ccc6af43691row20_col13\" class=\"data row20 col13\" >0.0165944</td>\n",
       "                        <td id=\"T_fe821e26_9524_11ea_91bf_4ccc6af43691row20_col14\" class=\"data row20 col14\" >0.0500422</td>\n",
       "                        <td id=\"T_fe821e26_9524_11ea_91bf_4ccc6af43691row20_col15\" class=\"data row20 col15\" >-0.0146082</td>\n",
       "                        <td id=\"T_fe821e26_9524_11ea_91bf_4ccc6af43691row20_col16\" class=\"data row20 col16\" >-0.0486036</td>\n",
       "                        <td id=\"T_fe821e26_9524_11ea_91bf_4ccc6af43691row20_col17\" class=\"data row20 col17\" >0.0195404</td>\n",
       "                        <td id=\"T_fe821e26_9524_11ea_91bf_4ccc6af43691row20_col18\" class=\"data row20 col18\" >0.0595011</td>\n",
       "                        <td id=\"T_fe821e26_9524_11ea_91bf_4ccc6af43691row20_col19\" class=\"data row20 col19\" >0.284479</td>\n",
       "                        <td id=\"T_fe821e26_9524_11ea_91bf_4ccc6af43691row20_col20\" class=\"data row20 col20\" >1</td>\n",
       "                        <td id=\"T_fe821e26_9524_11ea_91bf_4ccc6af43691row20_col21\" class=\"data row20 col21\" >-0.0148779</td>\n",
       "                        <td id=\"T_fe821e26_9524_11ea_91bf_4ccc6af43691row20_col22\" class=\"data row20 col22\" >0.0813145</td>\n",
       "                        <td id=\"T_fe821e26_9524_11ea_91bf_4ccc6af43691row20_col23\" class=\"data row20 col23\" >-0.123243</td>\n",
       "            </tr>\n",
       "            <tr>\n",
       "                        <th id=\"T_fe821e26_9524_11ea_91bf_4ccc6af43691level0_row21\" class=\"row_heading level0 row21\" >health</th>\n",
       "                        <td id=\"T_fe821e26_9524_11ea_91bf_4ccc6af43691row21_col0\" class=\"data row21 col0\" >0.0304587</td>\n",
       "                        <td id=\"T_fe821e26_9524_11ea_91bf_4ccc6af43691row21_col1\" class=\"data row21 col1\" >0.146294</td>\n",
       "                        <td id=\"T_fe821e26_9524_11ea_91bf_4ccc6af43691row21_col2\" class=\"data row21 col2\" >-0.0749186</td>\n",
       "                        <td id=\"T_fe821e26_9524_11ea_91bf_4ccc6af43691row21_col3\" class=\"data row21 col3\" >-0.0345288</td>\n",
       "                        <td id=\"T_fe821e26_9524_11ea_91bf_4ccc6af43691row21_col4\" class=\"data row21 col4\" >0.0478122</td>\n",
       "                        <td id=\"T_fe821e26_9524_11ea_91bf_4ccc6af43691row21_col5\" class=\"data row21 col5\" >0.0176845</td>\n",
       "                        <td id=\"T_fe821e26_9524_11ea_91bf_4ccc6af43691row21_col6\" class=\"data row21 col6\" >-0.044021</td>\n",
       "                        <td id=\"T_fe821e26_9524_11ea_91bf_4ccc6af43691row21_col7\" class=\"data row21 col7\" >0.0342538</td>\n",
       "                        <td id=\"T_fe821e26_9524_11ea_91bf_4ccc6af43691row21_col8\" class=\"data row21 col8\" >-0.0142792</td>\n",
       "                        <td id=\"T_fe821e26_9524_11ea_91bf_4ccc6af43691row21_col9\" class=\"data row21 col9\" >-0.0786437</td>\n",
       "                        <td id=\"T_fe821e26_9524_11ea_91bf_4ccc6af43691row21_col10\" class=\"data row21 col10\" >0.0845532</td>\n",
       "                        <td id=\"T_fe821e26_9524_11ea_91bf_4ccc6af43691row21_col11\" class=\"data row21 col11\" >-0.0326492</td>\n",
       "                        <td id=\"T_fe821e26_9524_11ea_91bf_4ccc6af43691row21_col12\" class=\"data row21 col12\" >0.0244883</td>\n",
       "                        <td id=\"T_fe821e26_9524_11ea_91bf_4ccc6af43691row21_col13\" class=\"data row21 col13\" >-0.0850419</td>\n",
       "                        <td id=\"T_fe821e26_9524_11ea_91bf_4ccc6af43691row21_col14\" class=\"data row21 col14\" >0.0397295</td>\n",
       "                        <td id=\"T_fe821e26_9524_11ea_91bf_4ccc6af43691row21_col15\" class=\"data row21 col15\" >-0.0180353</td>\n",
       "                        <td id=\"T_fe821e26_9524_11ea_91bf_4ccc6af43691row21_col16\" class=\"data row21 col16\" >0.0213026</td>\n",
       "                        <td id=\"T_fe821e26_9524_11ea_91bf_4ccc6af43691row21_col17\" class=\"data row21 col17\" >0.00997557</td>\n",
       "                        <td id=\"T_fe821e26_9524_11ea_91bf_4ccc6af43691row21_col18\" class=\"data row21 col18\" >0.0864473</td>\n",
       "                        <td id=\"T_fe821e26_9524_11ea_91bf_4ccc6af43691row21_col19\" class=\"data row21 col19\" >0.0683625</td>\n",
       "                        <td id=\"T_fe821e26_9524_11ea_91bf_4ccc6af43691row21_col20\" class=\"data row21 col20\" >-0.0148779</td>\n",
       "                        <td id=\"T_fe821e26_9524_11ea_91bf_4ccc6af43691row21_col21\" class=\"data row21 col21\" >1</td>\n",
       "                        <td id=\"T_fe821e26_9524_11ea_91bf_4ccc6af43691row21_col22\" class=\"data row21 col22\" >-0.0439808</td>\n",
       "                        <td id=\"T_fe821e26_9524_11ea_91bf_4ccc6af43691row21_col23\" class=\"data row21 col23\" >-0.0681391</td>\n",
       "            </tr>\n",
       "            <tr>\n",
       "                        <th id=\"T_fe821e26_9524_11ea_91bf_4ccc6af43691level0_row22\" class=\"row_heading level0 row22\" >absences</th>\n",
       "                        <td id=\"T_fe821e26_9524_11ea_91bf_4ccc6af43691row22_col0\" class=\"data row22 col0\" >0.103681</td>\n",
       "                        <td id=\"T_fe821e26_9524_11ea_91bf_4ccc6af43691row22_col1\" class=\"data row22 col1\" >-0.0618924</td>\n",
       "                        <td id=\"T_fe821e26_9524_11ea_91bf_4ccc6af43691row22_col2\" class=\"data row22 col2\" >0.161288</td>\n",
       "                        <td id=\"T_fe821e26_9524_11ea_91bf_4ccc6af43691row22_col3\" class=\"data row22 col3\" >0.017117</td>\n",
       "                        <td id=\"T_fe821e26_9524_11ea_91bf_4ccc6af43691row22_col4\" class=\"data row22 col4\" >-0.0224093</td>\n",
       "                        <td id=\"T_fe821e26_9524_11ea_91bf_4ccc6af43691row22_col5\" class=\"data row22 col5\" >-0.110767</td>\n",
       "                        <td id=\"T_fe821e26_9524_11ea_91bf_4ccc6af43691row22_col6\" class=\"data row22 col6\" >0.10895</td>\n",
       "                        <td id=\"T_fe821e26_9524_11ea_91bf_4ccc6af43691row22_col7\" class=\"data row22 col7\" >0.0661419</td>\n",
       "                        <td id=\"T_fe821e26_9524_11ea_91bf_4ccc6af43691row22_col8\" class=\"data row22 col8\" >-0.0289041</td>\n",
       "                        <td id=\"T_fe821e26_9524_11ea_91bf_4ccc6af43691row22_col9\" class=\"data row22 col9\" >-0.0675136</td>\n",
       "                        <td id=\"T_fe821e26_9524_11ea_91bf_4ccc6af43691row22_col10\" class=\"data row22 col10\" >0.0772573</td>\n",
       "                        <td id=\"T_fe821e26_9524_11ea_91bf_4ccc6af43691row22_col11\" class=\"data row22 col11\" >0.0499323</td>\n",
       "                        <td id=\"T_fe821e26_9524_11ea_91bf_4ccc6af43691row22_col12\" class=\"data row22 col12\" >0.0639076</td>\n",
       "                        <td id=\"T_fe821e26_9524_11ea_91bf_4ccc6af43691row22_col13\" class=\"data row22 col13\" >0.0115977</td>\n",
       "                        <td id=\"T_fe821e26_9524_11ea_91bf_4ccc6af43691row22_col14\" class=\"data row22 col14\" >0.00281262</td>\n",
       "                        <td id=\"T_fe821e26_9524_11ea_91bf_4ccc6af43691row22_col15\" class=\"data row22 col15\" >0.066788</td>\n",
       "                        <td id=\"T_fe821e26_9524_11ea_91bf_4ccc6af43691row22_col16\" class=\"data row22 col16\" >0.0493178</td>\n",
       "                        <td id=\"T_fe821e26_9524_11ea_91bf_4ccc6af43691row22_col17\" class=\"data row22 col17\" >0.131835</td>\n",
       "                        <td id=\"T_fe821e26_9524_11ea_91bf_4ccc6af43691row22_col18\" class=\"data row22 col18\" >-0.0452024</td>\n",
       "                        <td id=\"T_fe821e26_9524_11ea_91bf_4ccc6af43691row22_col19\" class=\"data row22 col19\" >-0.0224421</td>\n",
       "                        <td id=\"T_fe821e26_9524_11ea_91bf_4ccc6af43691row22_col20\" class=\"data row22 col20\" >0.0813145</td>\n",
       "                        <td id=\"T_fe821e26_9524_11ea_91bf_4ccc6af43691row22_col21\" class=\"data row22 col21\" >-0.0439808</td>\n",
       "                        <td id=\"T_fe821e26_9524_11ea_91bf_4ccc6af43691row22_col22\" class=\"data row22 col22\" >1</td>\n",
       "                        <td id=\"T_fe821e26_9524_11ea_91bf_4ccc6af43691row22_col23\" class=\"data row22 col23\" >0.0343015</td>\n",
       "            </tr>\n",
       "            <tr>\n",
       "                        <th id=\"T_fe821e26_9524_11ea_91bf_4ccc6af43691level0_row23\" class=\"row_heading level0 row23\" >score</th>\n",
       "                        <td id=\"T_fe821e26_9524_11ea_91bf_4ccc6af43691row23_col0\" class=\"data row23 col0\" >0.0417922</td>\n",
       "                        <td id=\"T_fe821e26_9524_11ea_91bf_4ccc6af43691row23_col1\" class=\"data row23 col1\" >0.103558</td>\n",
       "                        <td id=\"T_fe821e26_9524_11ea_91bf_4ccc6af43691row23_col2\" class=\"data row23 col2\" >-0.152866</td>\n",
       "                        <td id=\"T_fe821e26_9524_11ea_91bf_4ccc6af43691row23_col3\" class=\"data row23 col3\" >0.111273</td>\n",
       "                        <td id=\"T_fe821e26_9524_11ea_91bf_4ccc6af43691row23_col4\" class=\"data row23 col4\" >-0.0671955</td>\n",
       "                        <td id=\"T_fe821e26_9524_11ea_91bf_4ccc6af43691row23_col5\" class=\"data row23 col5\" >-0.0541887</td>\n",
       "                        <td id=\"T_fe821e26_9524_11ea_91bf_4ccc6af43691row23_col6\" class=\"data row23 col6\" >0.220311</td>\n",
       "                        <td id=\"T_fe821e26_9524_11ea_91bf_4ccc6af43691row23_col7\" class=\"data row23 col7\" >0.136716</td>\n",
       "                        <td id=\"T_fe821e26_9524_11ea_91bf_4ccc6af43691row23_col8\" class=\"data row23 col8\" >-0.0682259</td>\n",
       "                        <td id=\"T_fe821e26_9524_11ea_91bf_4ccc6af43691row23_col9\" class=\"data row23 col9\" >0.114717</td>\n",
       "                        <td id=\"T_fe821e26_9524_11ea_91bf_4ccc6af43691row23_col10\" class=\"data row23 col10\" >-0.337613</td>\n",
       "                        <td id=\"T_fe821e26_9524_11ea_91bf_4ccc6af43691row23_col11\" class=\"data row23 col11\" >-0.106492</td>\n",
       "                        <td id=\"T_fe821e26_9524_11ea_91bf_4ccc6af43691row23_col12\" class=\"data row23 col12\" >-0.00688291</td>\n",
       "                        <td id=\"T_fe821e26_9524_11ea_91bf_4ccc6af43691row23_col13\" class=\"data row23 col13\" >0.104427</td>\n",
       "                        <td id=\"T_fe821e26_9524_11ea_91bf_4ccc6af43691row23_col14\" class=\"data row23 col14\" >0.0202887</td>\n",
       "                        <td id=\"T_fe821e26_9524_11ea_91bf_4ccc6af43691row23_col15\" class=\"data row23 col15\" >0.0500878</td>\n",
       "                        <td id=\"T_fe821e26_9524_11ea_91bf_4ccc6af43691row23_col16\" class=\"data row23 col16\" >0.186613</td>\n",
       "                        <td id=\"T_fe821e26_9524_11ea_91bf_4ccc6af43691row23_col17\" class=\"data row23 col17\" >-0.138886</td>\n",
       "                        <td id=\"T_fe821e26_9524_11ea_91bf_4ccc6af43691row23_col18\" class=\"data row23 col18\" >0.0655465</td>\n",
       "                        <td id=\"T_fe821e26_9524_11ea_91bf_4ccc6af43691row23_col19\" class=\"data row23 col19\" >0.0181916</td>\n",
       "                        <td id=\"T_fe821e26_9524_11ea_91bf_4ccc6af43691row23_col20\" class=\"data row23 col20\" >-0.123243</td>\n",
       "                        <td id=\"T_fe821e26_9524_11ea_91bf_4ccc6af43691row23_col21\" class=\"data row23 col21\" >-0.0681391</td>\n",
       "                        <td id=\"T_fe821e26_9524_11ea_91bf_4ccc6af43691row23_col22\" class=\"data row23 col22\" >0.0343015</td>\n",
       "                        <td id=\"T_fe821e26_9524_11ea_91bf_4ccc6af43691row23_col23\" class=\"data row23 col23\" >1</td>\n",
       "            </tr>\n",
       "    </tbody></table>"
      ],
      "text/plain": [
       "<pandas.io.formats.style.Styler at 0x21f88869448>"
      ]
     },
     "execution_count": 494,
     "metadata": {},
     "output_type": "execute_result"
    }
   ],
   "source": [
    "corr = df.corr()\n",
    "corr.style.background_gradient(cmap='coolwarm')"
   ]
  },
  {
   "cell_type": "markdown",
   "metadata": {},
   "source": [
    "##### Судя по матрице корреляций, значительная корреляция есть только между параметрами Fedu и Medu. Возможно следует заменить эти два столбца на какой-то третий столбец, основанный на этих данных. Или удалить один из этих столбцов."
   ]
  },
  {
   "cell_type": "code",
   "execution_count": 498,
   "metadata": {},
   "outputs": [
    {
     "name": "stdout",
     "output_type": "stream",
     "text": [
      "Походу столбец  score  взаимосвязан со столбцом  sex\n",
      "Походу столбец  score  взаимосвязан со столбцом  romantic\n",
      "Походу столбец  score  взаимосвязан со столбцом  higher\n",
      "Походу столбец  score  взаимосвязан со столбцом  address\n",
      "Походу столбец  score  взаимосвязан со столбцом  Medu\n",
      "Походу столбец  score  взаимосвязан со столбцом  Fedu\n",
      "Походу столбец  score  взаимосвязан со столбцом  schoolsup\n",
      "Походу столбец  score  взаимосвязан со столбцом  Mjob\n"
     ]
    }
   ],
   "source": [
    "for col in nonn_columns:\n",
    "    get_stat_dif(col, 'score')"
   ]
  },
  {
   "cell_type": "code",
   "execution_count": 497,
   "metadata": {},
   "outputs": [
    {
     "name": "stdout",
     "output_type": "stream",
     "text": [
      "Походу столбец  score  взаимосвязан со столбцом  sex\n",
      "Походу столбец  score  взаимосвязан со столбцом  address\n",
      "Походу столбец  score  взаимосвязан со столбцом  Medu\n",
      "Походу столбец  score  взаимосвязан со столбцом  Fedu\n",
      "Походу столбец  score  взаимосвязан со столбцом  Mjob\n",
      "Походу столбец  score  взаимосвязан со столбцом  failures\n",
      "Походу столбец  score  взаимосвязан со столбцом  schoolsup\n",
      "Походу столбец  score  взаимосвязан со столбцом  higher\n",
      "Походу столбец  score  взаимосвязан со столбцом  romantic\n",
      "Походу столбец  score  взаимосвязан со столбцом  score\n"
     ]
    }
   ],
   "source": [
    "for col in all_columns:\n",
    "    get_stat_dif(col, 'score')"
   ]
  },
  {
   "cell_type": "markdown",
   "metadata": {},
   "source": [
    "##### Следует принять для нашей модели за основу параметры из данных столбцов, полученных по тесту Стьюдента, а также все колличественные параметры."
   ]
  },
  {
   "cell_type": "markdown",
   "metadata": {},
   "source": [
    "##### Дата редактирования: 13.05.2020"
   ]
  }
 ],
 "metadata": {
  "kernelspec": {
   "display_name": "Python 3",
   "language": "python",
   "name": "python3"
  },
  "language_info": {
   "codemirror_mode": {
    "name": "ipython",
    "version": 3
   },
   "file_extension": ".py",
   "mimetype": "text/x-python",
   "name": "python",
   "nbconvert_exporter": "python",
   "pygments_lexer": "ipython3",
   "version": "3.7.4"
  }
 },
 "nbformat": 4,
 "nbformat_minor": 2
}
